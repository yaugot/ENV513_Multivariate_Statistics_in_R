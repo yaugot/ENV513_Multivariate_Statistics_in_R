{
 "cells": [
  {
   "cell_type": "markdown",
   "id": "f9089d38-89bc-4c8b-8694-a5aac6cc0256",
   "metadata": {},
   "source": [
    "# Script 2 - Transformation & Association metrics"
   ]
  },
  {
   "cell_type": "markdown",
   "id": "c09a25df-7f1e-41b2-aa51-52913073a87f",
   "metadata": {},
   "source": [
    "<div style=\"padding: 20px; border:4px solid green; font-size: 20px;\">\n",
    "  <img src=\"images/DataTransformation_illustration.png\" alt=\"Data Transformation\" style=\"max-width: 100%; height: auto;\" />\n",
    "</div>\n"
   ]
  },
  {
   "cell_type": "markdown",
   "id": "98ded819-eadf-4248-91e4-3b7d49fe8c6b",
   "metadata": {
    "execution": {
     "iopub.execute_input": "2025-06-20T12:58:36.983843Z",
     "iopub.status.busy": "2025-06-20T12:58:36.978714Z",
     "iopub.status.idle": "2025-06-20T12:58:37.006594Z",
     "shell.execute_reply": "2025-06-20T12:58:37.004205Z"
    }
   },
   "source": [
    "# Librairies "
   ]
  },
  {
   "cell_type": "code",
   "execution_count": 5,
   "id": "6e9d7b4c-c0ea-4154-9b02-fef3a3035dd5",
   "metadata": {
    "execution": {
     "iopub.execute_input": "2025-09-17T05:45:22.466551Z",
     "iopub.status.busy": "2025-09-17T05:45:22.465512Z",
     "iopub.status.idle": "2025-09-17T05:45:23.159654Z",
     "shell.execute_reply": "2025-09-17T05:45:23.158650Z"
    },
    "scrolled": true
   },
   "outputs": [
    {
     "name": "stderr",
     "output_type": "stream",
     "text": [
      "Loading required package: permute\n",
      "\n",
      "\n",
      "Attaching package: ‘gplots’\n",
      "\n",
      "\n",
      "The following object is masked from ‘package:stats’:\n",
      "\n",
      "    lowess\n",
      "\n",
      "\n",
      "Loading required package: cluster\n",
      "\n",
      "Registered S3 method overwritten by 'gclus':\n",
      "  method         from \n",
      "  reorder.hclust vegan\n",
      "\n"
     ]
    }
   ],
   "source": [
    "library(vegan)\n",
    "library(gplots)\n",
    "library(gclus)"
   ]
  },
  {
   "cell_type": "markdown",
   "id": "30b9e5ce-2b0a-4c0a-af02-514f0d481bc8",
   "metadata": {
    "execution": {
     "iopub.execute_input": "2025-06-20T07:58:29.395941Z",
     "iopub.status.busy": "2025-06-20T07:58:29.389266Z",
     "iopub.status.idle": "2025-06-20T07:58:29.423467Z",
     "shell.execute_reply": "2025-06-20T07:58:29.420382Z"
    }
   },
   "source": [
    "# Loading data"
   ]
  },
  {
   "cell_type": "markdown",
   "id": "966182a2-8e39-43d4-b2d1-1b71f55673e6",
   "metadata": {},
   "source": [
    "<div style=\"padding: 10px; border:1px solid green; font-size: 10px;\">\n",
    "  <span style=\"font-size: 15px;\"> <i>Load the Doubs fish dataset</i> </span><br/>\n",
    "</div>"
   ]
  },
  {
   "cell_type": "code",
   "execution_count": 120,
   "id": "d22a09ee-5cd0-4843-8270-43d5d821e777",
   "metadata": {
    "execution": {
     "iopub.execute_input": "2025-09-16T13:51:41.535186Z",
     "iopub.status.busy": "2025-09-16T13:51:41.533685Z",
     "iopub.status.idle": "2025-09-16T13:51:41.551681Z",
     "shell.execute_reply": "2025-09-16T13:51:41.549791Z"
    }
   },
   "outputs": [],
   "source": [
    "load(\"Doubs.RData\")"
   ]
  },
  {
   "cell_type": "markdown",
   "id": "ccb9115d-85f7-401a-8c30-ade909bbf220",
   "metadata": {
    "execution": {
     "iopub.execute_input": "2025-06-21T10:04:46.688651Z",
     "iopub.status.busy": "2025-06-21T10:04:46.684201Z",
     "iopub.status.idle": "2025-06-21T10:04:46.715628Z",
     "shell.execute_reply": "2025-06-21T10:04:46.712675Z"
    }
   },
   "source": [
    "# Coldiss function"
   ]
  },
  {
   "cell_type": "markdown",
   "id": "e0f8b793-2aae-4716-8e2d-19c5263f65bb",
   "metadata": {},
   "source": [
    "<div style=\"padding: 20px; border:4px solid green; font-size: 20px;\">\n",
    "  <span style=\"font-size: 20px;\"> <i><code>coldiss()</code> is a custom made function to display a dissimilarity matrix. Execute the code in the cell below to define the new function.\n",
    " </i> </span><br/>\n",
    "</div>"
   ]
  },
  {
   "cell_type": "markdown",
   "id": "57e8ce89-cdcd-4083-8b7d-fea535c48648",
   "metadata": {},
   "source": [
    "<div style=\"padding: 15px; border: 3px solid #ff9800; border-radius: 8px; background: #fff3e0; width: 380px; font-family: Arial, sans-serif; font-size: 16px; margin-top: 20px;\">\n",
    "\n",
    "  <strong>coldiss</strong><br/>\n",
    "  <span style=\"font-style: italic; color: #ef6c00; font-size: 14px;\">\n",
    "    Dissimilarity Matrix Visualization<br/>\n",
    "    <small>Colors and plots a dissimilarity matrix side-by-side, with and without ordering to highlight structure.</small>\n",
    "  </span>\n",
    "  \n",
    "</div>\n"
   ]
  },
  {
   "cell_type": "code",
   "execution_count": 121,
   "id": "3dd7d586-386d-4616-b7ad-59706e5cbe82",
   "metadata": {
    "execution": {
     "iopub.execute_input": "2025-09-16T13:51:41.555817Z",
     "iopub.status.busy": "2025-09-16T13:51:41.554645Z",
     "iopub.status.idle": "2025-09-16T13:51:41.570731Z",
     "shell.execute_reply": "2025-09-16T13:51:41.569268Z"
    }
   },
   "outputs": [],
   "source": [
    "# coldiss()\n",
    "# Color plots of a dissimilarity matrix, without and with ordering\n",
    "#\n",
    "# License: GPL-2\n",
    "# Author:  Francois Gillet\n",
    "#          23 August 2012 - rev. 07 June 2016\n",
    "\n",
    "\"coldiss\" <- function(D,\n",
    "                      nc = 4,\n",
    "                      byrank = TRUE,\n",
    "                      diag = FALSE) {\n",
    "  require(gclus)\n",
    "  \n",
    "  D <- as.dist(as.matrix(D))\n",
    "  \n",
    "  if (max(D) > 1)\n",
    "    D <- D / max(D)\n",
    "  \n",
    "  if (byrank) {\n",
    "    spe.color <- dmat.color(1 - D, cm.colors(nc))\n",
    "  }\n",
    "  else {\n",
    "    spe.color <- dmat.color(1 - D, byrank = FALSE, cm.colors(nc))\n",
    "  }\n",
    "  \n",
    "  spe.o <- order.single(1 - D)\n",
    "  speo.color <- spe.color[spe.o, spe.o]\n",
    "  \n",
    "  op <- par(mfrow = c(1, 2), pty = \"s\")\n",
    "  \n",
    "  if (diag) {\n",
    "    plotcolors(\n",
    "      spe.color,\n",
    "      rlabels = attributes(D)$Labels,\n",
    "      main = \"Dissimilarity Matrix\",\n",
    "      dlabels = attributes(D)$Labels\n",
    "    )\n",
    "    plotcolors(\n",
    "      speo.color,\n",
    "      rlabels = attributes(D)$Labels[spe.o],\n",
    "      main = \"Ordered Dissimilarity Matrix\",\n",
    "      dlabels = attributes(D)$Labels[spe.o]\n",
    "    )\n",
    "  }\n",
    "  else {\n",
    "    plotcolors(spe.color, rlabels = attributes(D)$Labels,\n",
    "               main = \"Dissimilarity Matrix\")\n",
    "    plotcolors(speo.color,\n",
    "               rlabels = attributes(D)$Labels[spe.o],\n",
    "               main = \"Ordered Dissimilarity Matrix\")\n",
    "  }\n",
    "  \n",
    "  par(op)\n",
    "}\n",
    "\n",
    "# Usage:\n",
    "# coldiss(D = dissimilarity.matrix, nc = 4, byrank = TRUE, diag = FALSE)\n",
    "# If D is not a dissimilarity matrix (max(D) > 1), then D is divided by max(D)\n",
    "# nc \t\t\t\t\t\t\tnumber of colours (classes)\n",
    "# byrank = TRUE\t\tequal-sized classes\n",
    "# byrank = FALSE\tequal-length intervals\n",
    "# diag = TRUE\t\t\tprint object labels also on the diagonal\n",
    "\n",
    "# Example:\n",
    "# coldiss(spe.dj, nc = 9, byrank = FALSE, diag = TRUE)"
   ]
  },
  {
   "cell_type": "markdown",
   "id": "30506c61-b54a-4fdf-a604-a4be9077c342",
   "metadata": {},
   "source": [
    "<div style=\"padding: 20px; border:4px solid green; font-size: 20px;\">\n",
    "  <span style=\"font-size: 20px;\"> <i>Additional useful function to display dissimilarity matrices. Execute the code in the cell below for:  <code>image.real</code>,<code>panel.hist</code>,<code>panel.cor</code>\n",
    " </i> </span><br/>\n",
    "</div>"
   ]
  },
  {
   "cell_type": "markdown",
   "id": "73effbdc-d295-4df8-ada5-875f5b17fa28",
   "metadata": {},
   "source": [
    "<div style=\"display: flex; gap: 20px; font-family: Arial, sans-serif; font-size: 16px; margin-top: 20px;\">\n",
    "\n",
    "  <div style=\"padding: 15px; border: 3px solid #4CAF50; border-radius: 8px; background: #e8f5e9; width: 180px; text-align: center;\">\n",
    "    <strong>image.real</strong><br/>\n",
    "    <span style=\"font-style: italic; color: #2e7d32; font-size: 14px;\">\n",
    "      Visualization<br/>\n",
    "      <small>Displays a matrix as an image with customized axes and colors.</small>\n",
    "    </span>\n",
    "  </div>\n",
    "\n",
    "  <div style=\"padding: 15px; border: 3px solid #2196F3; border-radius: 8px; background: #e3f2fd; width: 180px; text-align: center;\">\n",
    "    <strong>panel.hist</strong><br/>\n",
    "    <span style=\"font-style: italic; color: #1565c0; font-size: 14px;\">\n",
    "      Histogram<br/>\n",
    "      <small>Shows a normalized histogram on the diagonal panels of a pairs plot.</small>\n",
    "    </span>\n",
    "  </div>\n",
    "\n",
    "  <div style=\"padding: 15px; border: 3px solid #f44336; border-radius: 8px; background: #ffebee; width: 180px; text-align: center;\">\n",
    "    <strong>panel.cor</strong><br/>\n",
    "    <span style=\"font-style: italic; color: #b71c1c; font-size: 14px;\">\n",
    "      Correlation<br/>\n",
    "      <small>Displays the correlation coefficient between two variables in a pairs plot.</small>\n",
    "    </span>\n",
    "  </div>\n",
    "\n",
    "</div>\n"
   ]
  },
  {
   "cell_type": "markdown",
   "id": "5b9f37e7-8255-4034-9510-e51136f4a7bf",
   "metadata": {},
   "source": [
    "# Useful functions -> *image.real(), panel.hist(), panel.color()*"
   ]
  },
  {
   "cell_type": "code",
   "execution_count": 122,
   "id": "f8a05157-92f0-41c2-acd1-f293054d82fd",
   "metadata": {
    "execution": {
     "iopub.execute_input": "2025-09-16T13:51:41.573741Z",
     "iopub.status.busy": "2025-09-16T13:51:41.572640Z",
     "iopub.status.idle": "2025-09-16T13:51:41.586674Z",
     "shell.execute_reply": "2025-09-16T13:51:41.585150Z"
    }
   },
   "outputs": [],
   "source": [
    "# modification of image() to include row and column axis labels\n",
    "image.real <- function(mat) { \n",
    "  mat <- t(mat)[,nrow(mat):1]\n",
    "  image(mat, axes = FALSE, col = hcl.colors(15, palette=\"viridis\"))\n",
    "  axis(1, at = seq(0, 1, length = nrow(mat)), labels = rownames(mat), las=2)\n",
    "  axis(2, at = seq(0, 1, length = ncol(mat)), labels = colnames(mat))\n",
    "  box() \n",
    "}\n",
    "\n",
    "\n",
    "# Function to display a histogram on the diagonal panels of a pairs plot\n",
    "panel.hist <- function(x, ...)\n",
    "{\n",
    "  usr <- par(\"usr\"); on.exit(par(usr))\n",
    "  par(usr = c(usr[1:2], 0, 1.5) )\n",
    "  h <- hist(x, plot = FALSE)\n",
    "  breaks <- h$breaks; nB <- length(breaks)\n",
    "  y <- h$counts; y <- y / max(y)\n",
    "  rect(breaks[-nB], 0, breaks[-1], y, col = \"cyan\", ...)\n",
    "}\n",
    "\n",
    "#  Function to display the correlation coefficient in the upper panels of a pairs plot\n",
    "panel.cor <- function(x, y, digits = 2, prefix = \"\", cex.cor, ...)\n",
    "{\n",
    "  usr <- par(\"usr\"); on.exit(par(usr))\n",
    "  par(usr = c(0, 1, 0, 1))\n",
    "  r <- abs(cor(x, y))\n",
    "  txt <- format(c(r, 0.123456789), digits = digits)[1]\n",
    "  txt <- paste0(prefix, txt)\n",
    "  if (missing(cex.cor)) cex.cor <- 0.8 / strwidth(txt)\n",
    "  text(0.5, 0.5, txt, cex = cex.cor * r)\n",
    "}\n"
   ]
  },
  {
   "cell_type": "markdown",
   "id": "44feed8f-1b3b-4602-a395-35a19ee50e77",
   "metadata": {},
   "source": [
    "# 0 Simulate Data -> *rnorm(), runif(), gl(), data.frame()*"
   ]
  },
  {
   "cell_type": "markdown",
   "id": "27d92ad7-4d01-430b-94a0-c060e60f5778",
   "metadata": {},
   "source": [
    "<div style=\"padding: 20px; border:4px solid green; font-size: 20px;\">\n",
    "  <span style=\"font-size: 20px;\"> <i> Sometimes it is useful to generate data with certain characteristics (e.g. for testing code).\n",
    " </i> </span><br/>\n",
    "</div>"
   ]
  },
  {
   "cell_type": "markdown",
   "id": "8a6f5377-4aff-42dd-848f-35dd0bb57a22",
   "metadata": {
    "execution": {
     "iopub.execute_input": "2025-06-30T19:00:29.696713Z",
     "iopub.status.busy": "2025-06-30T19:00:29.691228Z",
     "iopub.status.idle": "2025-06-30T19:00:29.727392Z",
     "shell.execute_reply": "2025-06-30T19:00:29.724770Z"
    }
   },
   "source": [
    "<div style=\"display: flex; align-items: center; gap: 20px; border: 3px solid green; padding: 10px;\">\n",
    "  <div style=\"flex: 1; max-width: 75%;\">\n",
    "    <h2>0.1 Generate <code>n</code> random values from a normal (Gaussian) distribution <br>\n",
    "        -> <i>rnorm(<code>n</code>, <code>mean</code>,<code>sd</code>)</i></h2>\n",
    "    <ul>\n",
    "      <li><strong>n</strong> → Number of values to generate</li>\n",
    "      <li><strong>mean</strong> → Mean (center μ ) of the distribution</li>\n",
    "      <li><strong>sd</strong> → Standard deviation (spread σ) of the distribution</li>\n",
    "    </ul>\n",
    "  </div>\n",
    "  <div style=\"flex: 1; max-width: 31%; border: 2px solid green; padding: 2px;\"> \n",
    "    <img src=\"images/gaussian distribution.png\" alt=\"rnorm function illustration\" style=\"max-width: 100%; height: auto;\">\n",
    "  </div>\n",
    "</div>\n"
   ]
  },
  {
   "cell_type": "markdown",
   "id": "1b2ff09c-1b41-4823-825e-f8efac4b91f5",
   "metadata": {},
   "source": [
    "*Source : Normal Distribution Calculator, Inch Calculator, https://www.inchcalculator.com/normal-distribution-calculator/*"
   ]
  },
  {
   "cell_type": "code",
   "execution_count": 123,
   "id": "7bf4e7aa-a4dc-485c-82ad-7f795d2df866",
   "metadata": {
    "execution": {
     "iopub.execute_input": "2025-09-16T13:51:41.589694Z",
     "iopub.status.busy": "2025-09-16T13:51:41.588503Z",
     "iopub.status.idle": "2025-09-16T13:51:41.676173Z",
     "shell.execute_reply": "2025-09-16T13:51:41.674328Z"
    }
   },
   "outputs": [
    {
     "name": "stdout",
     "output_type": "stream",
     "text": [
      "Mean of g1 :"
     ]
    },
    {
     "data": {
      "text/html": [
       "0.000809164626441386"
      ],
      "text/latex": [
       "0.000809164626441386"
      ],
      "text/markdown": [
       "0.000809164626441386"
      ],
      "text/plain": [
       "[1] 0.0008091646"
      ]
     },
     "metadata": {},
     "output_type": "display_data"
    },
    {
     "name": "stdout",
     "output_type": "stream",
     "text": [
      "Standard deviation of g1:"
     ]
    },
    {
     "data": {
      "text/html": [
       "0.999719209156534"
      ],
      "text/latex": [
       "0.999719209156534"
      ],
      "text/markdown": [
       "0.999719209156534"
      ],
      "text/plain": [
       "[1] 0.9997192"
      ]
     },
     "metadata": {},
     "output_type": "display_data"
    },
    {
     "data": {
      "image/png": "[encoded data removed]",
      "text/plain": [
       "Plot with title “g1 ~ N(0,1)”"
      ]
     },
     "metadata": {
      "image/png": {
       "height": 420,
       "width": 420
      }
     },
     "output_type": "display_data"
    }
   ],
   "source": [
    "# Generate 300000 random values from a standard normal distribution (mean = 0, sd = 1)\n",
    "g1 <- rnorm(300000, mean = 0, sd = 1)\n",
    "\n",
    "cat(\"Mean of g1 :\")\n",
    "mean(g1)\n",
    "cat(\"Standard deviation of g1:\")\n",
    "sd(g1)\n",
    "\n",
    "# Set plot size in Jupyter Notebook (7 x 5 inches)\n",
    "options(repr.plot.width = 7, repr.plot.height = 7)\n",
    "\n",
    "# Visualize the distribution\n",
    "hist(g1, main = \"g1 ~ N(0,1)\", col = \"lightblue\", border = \"white\")"
   ]
  },
  {
   "cell_type": "markdown",
   "id": "caf3372a-dc26-4d72-82d6-94b08f31c1e2",
   "metadata": {},
   "source": [
    "<div style=\"display: flex; align-items: center; gap: 20px; border: 3px solid green; padding: 10px;\">\n",
    "  <div style=\"flex: 1; max-width: 75%;\">\n",
    "    <h2>0.2 Generate <code>n</code> random values from a uniform distribution <br>\n",
    "        → <i>runif(<code>n</code>, <code>min</code>, <code>max</code>)</i></h2>\n",
    "    <ul>\n",
    "      <li><strong>n</strong> → Number of values to generate</li>\n",
    "      <li><strong>min</strong> → Minimum value of the range</li>\n",
    "      <li><strong>max</strong> → Maximum value of the range</li>\n",
    "    </ul>\n",
    "  </div>\n",
    "  <div style=\"flex: 1; max-width: 31%; border: 2px solid green; padding: 8px; margin-left: 40px;\"> \n",
    "    <img src=\"images/uniform_desnity_distribution.png\" alt=\"rnorm function illustration\" style=\"max-width: 100%; height: auto;\">\n",
    "  </div>\n",
    "</div>\n"
   ]
  },
  {
   "cell_type": "markdown",
   "id": "c5a8a0df-fed0-46ab-b194-757e67f1dffb",
   "metadata": {},
   "source": [
    "*Source: Continuous Uniform Distribution — Wikipedia, https://en.wikipedia.org/wiki/Continuous_uniform_distribution*"
   ]
  },
  {
   "cell_type": "code",
   "execution_count": 124,
   "id": "656e07ff-1251-4219-92c4-e973046ca9a3",
   "metadata": {
    "execution": {
     "iopub.execute_input": "2025-09-16T13:51:41.679093Z",
     "iopub.status.busy": "2025-09-16T13:51:41.678085Z",
     "iopub.status.idle": "2025-09-16T13:51:41.718484Z",
     "shell.execute_reply": "2025-09-16T13:51:41.717209Z"
    }
   },
   "outputs": [
    {
     "data": {
      "text/html": [
       "<style>\n",
       ".list-inline {list-style: none; margin:0; padding: 0}\n",
       ".list-inline>li {display: inline-block}\n",
       ".list-inline>li:not(:last-child)::after {content: \"\\00b7\"; padding: 0 .5ex}\n",
       "</style>\n",
       "<ol class=list-inline><li>4.20956927235238</li><li>1.80297526763752</li><li>2.50891188741662</li><li>3.78992918063886</li><li>4.75489524193108</li><li>4.40025238669477</li></ol>\n"
      ],
      "text/latex": [
       "\\begin{enumerate*}\n",
       "\\item 4.20956927235238\n",
       "\\item 1.80297526763752\n",
       "\\item 2.50891188741662\n",
       "\\item 3.78992918063886\n",
       "\\item 4.75489524193108\n",
       "\\item 4.40025238669477\n",
       "\\end{enumerate*}\n"
      ],
      "text/markdown": [
       "1. 4.20956927235238\n",
       "2. 1.80297526763752\n",
       "3. 2.50891188741662\n",
       "4. 3.78992918063886\n",
       "5. 4.75489524193108\n",
       "6. 4.40025238669477\n",
       "\n",
       "\n"
      ],
      "text/plain": [
       "[1] 4.209569 1.802975 2.508912 3.789929 4.754895 4.400252"
      ]
     },
     "metadata": {},
     "output_type": "display_data"
    }
   ],
   "source": [
    "# Generate 3000000 random values from a uniform distribution between 0 and 5\n",
    "g2 <- runif(3000000, min = 0, max = 5)\n",
    "head(g2)"
   ]
  },
  {
   "cell_type": "code",
   "execution_count": 125,
   "id": "1c82024c-6fc7-41a4-a94d-e092aa9f79a2",
   "metadata": {
    "execution": {
     "iopub.execute_input": "2025-09-16T13:51:41.721123Z",
     "iopub.status.busy": "2025-09-16T13:51:41.720227Z",
     "iopub.status.idle": "2025-09-16T13:51:42.129720Z",
     "shell.execute_reply": "2025-09-16T13:51:42.128209Z"
    }
   },
   "outputs": [
    {
     "data": {
      "image/png": "[encoded data removed]",
      "text/plain": [
       "Plot with title “Histogram of g2 (Density)”"
      ]
     },
     "metadata": {
      "image/png": {
       "height": 420,
       "width": 840
      }
     },
     "output_type": "display_data"
    }
   ],
   "source": [
    "par(mfrow = c(1, 2))\n",
    "\n",
    "# Set plot size in Jupyter Notebook (14 x 7 inches)\n",
    "options(repr.plot.width = 14, repr.plot.height = 7)\n",
    "\n",
    "# Plot a histogram showing frequencies of the generated values\n",
    "hist(g2, main = \"Histogram of g2 (Frequency)\", col = \"pink\", border = \"white\")\n",
    "\n",
    "# Plot a histogram showing the density of the generated values\n",
    "hist(g2, probability = TRUE, main = \"Histogram of g2 (Density)\", col = \"lightgreen\", border = \"white\")"
   ]
  },
  {
   "cell_type": "markdown",
   "id": "78f01ba8-fea0-49ac-a217-511a38d191d2",
   "metadata": {},
   "source": [
    "<div style=\"padding: 10px; border:1px solid red; font-size: 18px;\">\n",
    "  <span style=\"text-decoration:underline; font-weight: bold; font-size: 22px;\">Task</span><br/>\n",
    "  Use the help function to understand the difference between frequency and density in histograms.<br/>\n",
    "  </div>"
   ]
  },
  {
   "cell_type": "markdown",
   "id": "7756dab9-e8e8-4ae7-a4ae-e9a5c6f15570",
   "metadata": {},
   "source": [
    "## 0.3 Create a factor with repeated levels -> *gl(`n`, `k`, `length`, `labels`)*\n",
    "\n",
    "**gl** : *Creates a factor with repeated levels*\n",
    "- **n** → *Number of levels (distinct groups)*  \n",
    "- **k** → *Number of repetitions per level*  \n",
    "- **length** → *Total number of values*  \n",
    "- **labels** → *Names of the levels (e.g., \"A\", \"B\")* "
   ]
  },
  {
   "cell_type": "code",
   "execution_count": 126,
   "id": "8183fca2-d01e-41cf-a6e4-ac69f64ff284",
   "metadata": {
    "execution": {
     "iopub.execute_input": "2025-09-16T13:51:42.133386Z",
     "iopub.status.busy": "2025-09-16T13:51:42.132302Z",
     "iopub.status.idle": "2025-09-16T13:51:42.149719Z",
     "shell.execute_reply": "2025-09-16T13:51:42.148468Z"
    }
   },
   "outputs": [
    {
     "name": "stdout",
     "output_type": "stream",
     "text": [
      " [1] A A A A A A A A A A B B B B B B B B B B C C C C C C C C C C\n",
      "Levels: A B C\n",
      " [1] D D D D D E E E E E D D D D D E E E E E D D D D D E E E E E\n",
      "Levels: D E\n"
     ]
    }
   ],
   "source": [
    "# Generate a factor variable with 3 levels (A, B, C), each repeated 10 times (total length 30)\n",
    "g3 <- gl(3, 10, labels = c(\"A\", \"B\", \"C\"))\n",
    "\n",
    "# Generate a factor variable with 2 levels (D, E), each repeated 5 times, total length 30\n",
    "g4 <- gl(2, 5, 30, labels = c(\"D\", \"E\"))\n",
    "\n",
    "print(g3)\n",
    "print(g4)"
   ]
  },
  {
   "cell_type": "markdown",
   "id": "8ea94058-08cf-401b-8b01-803a5e7fdc80",
   "metadata": {},
   "source": [
    "## 0.4 Create a data frame -> *data.frame(...)*\n",
    "\n",
    "**data.frame** : *Creates a data frame from vectors (`vector1`.. `vectorn`)*\n",
    "\n",
    "**df<-data.frame(`colname1` = `vector1`,\n",
    "            `col2` = `vector2`,\n",
    "            .....,\n",
    "            `coln` = `vectorn`\n",
    "            )**"
   ]
  },
  {
   "cell_type": "code",
   "execution_count": 127,
   "id": "f74db7ed-ceac-4c81-96ec-cb366d8db916",
   "metadata": {
    "execution": {
     "iopub.execute_input": "2025-09-16T13:51:42.152494Z",
     "iopub.status.busy": "2025-09-16T13:51:42.151492Z",
     "iopub.status.idle": "2025-09-16T13:51:42.184231Z",
     "shell.execute_reply": "2025-09-16T13:51:42.182751Z"
    }
   },
   "outputs": [
    {
     "data": {
      "text/html": [
       "<table class=\"dataframe\">\n",
       "<caption>A data.frame: 6 × 4</caption>\n",
       "<thead>\n",
       "\t<tr><th></th><th scope=col>g1</th><th scope=col>g2</th><th scope=col>g3</th><th scope=col>g4</th></tr>\n",
       "\t<tr><th></th><th scope=col>&lt;dbl&gt;</th><th scope=col>&lt;dbl&gt;</th><th scope=col>&lt;fct&gt;</th><th scope=col>&lt;fct&gt;</th></tr>\n",
       "</thead>\n",
       "<tbody>\n",
       "\t<tr><th scope=row>1</th><td>-0.50316543</td><td>4.209569</td><td>A</td><td>D</td></tr>\n",
       "\t<tr><th scope=row>2</th><td>-0.87134771</td><td>1.802975</td><td>A</td><td>D</td></tr>\n",
       "\t<tr><th scope=row>3</th><td> 1.85557345</td><td>2.508912</td><td>A</td><td>D</td></tr>\n",
       "\t<tr><th scope=row>4</th><td> 1.45996158</td><td>3.789929</td><td>A</td><td>D</td></tr>\n",
       "\t<tr><th scope=row>5</th><td> 0.01258818</td><td>4.754895</td><td>A</td><td>D</td></tr>\n",
       "\t<tr><th scope=row>6</th><td> 0.82845327</td><td>4.400252</td><td>A</td><td>E</td></tr>\n",
       "</tbody>\n",
       "</table>\n"
      ],
      "text/latex": [
       "A data.frame: 6 × 4\n",
       "\\begin{tabular}{r|llll}\n",
       "  & g1 & g2 & g3 & g4\\\\\n",
       "  & <dbl> & <dbl> & <fct> & <fct>\\\\\n",
       "\\hline\n",
       "\t1 & -0.50316543 & 4.209569 & A & D\\\\\n",
       "\t2 & -0.87134771 & 1.802975 & A & D\\\\\n",
       "\t3 &  1.85557345 & 2.508912 & A & D\\\\\n",
       "\t4 &  1.45996158 & 3.789929 & A & D\\\\\n",
       "\t5 &  0.01258818 & 4.754895 & A & D\\\\\n",
       "\t6 &  0.82845327 & 4.400252 & A & E\\\\\n",
       "\\end{tabular}\n"
      ],
      "text/markdown": [
       "\n",
       "A data.frame: 6 × 4\n",
       "\n",
       "| <!--/--> | g1 &lt;dbl&gt; | g2 &lt;dbl&gt; | g3 &lt;fct&gt; | g4 &lt;fct&gt; |\n",
       "|---|---|---|---|---|\n",
       "| 1 | -0.50316543 | 4.209569 | A | D |\n",
       "| 2 | -0.87134771 | 1.802975 | A | D |\n",
       "| 3 |  1.85557345 | 2.508912 | A | D |\n",
       "| 4 |  1.45996158 | 3.789929 | A | D |\n",
       "| 5 |  0.01258818 | 4.754895 | A | D |\n",
       "| 6 |  0.82845327 | 4.400252 | A | E |\n",
       "\n"
      ],
      "text/plain": [
       "  g1          g2       g3 g4\n",
       "1 -0.50316543 4.209569 A  D \n",
       "2 -0.87134771 1.802975 A  D \n",
       "3  1.85557345 2.508912 A  D \n",
       "4  1.45996158 3.789929 A  D \n",
       "5  0.01258818 4.754895 A  D \n",
       "6  0.82845327 4.400252 A  E "
      ]
     },
     "metadata": {},
     "output_type": "display_data"
    }
   ],
   "source": [
    "# Create a data frame named dat combining the vectors g1, g2, g3, and g4 as columns\n",
    "dat <- data.frame(g1, g2, g3, g4)\n",
    "head(dat)"
   ]
  },
  {
   "cell_type": "markdown",
   "id": "5ac04cb2-6c6d-4335-9e28-240e4a75287a",
   "metadata": {},
   "source": [
    "# Question 1"
   ]
  },
  {
   "cell_type": "markdown",
   "id": "4ce10278-927b-4dfb-808d-fdb6de79764b",
   "metadata": {},
   "source": [
    "<div style=\"padding: 10px; border:1px solid red; font-size: 18px;\">\n",
    "  <span style=\"text-decoration:underline; font-weight: bold; font-size: 22px;\">Question 1</span><br/>\n",
    "  What  is the correct output when compiling the follwong line of code ?<br/>\n",
    "  <pre style=\"font-size: 20px; margin: 5px 0;\"><code>g <- rnorm(30, mean = 15, sd = 100)</code></pre>\n",
    "    <form>\n",
    "    <label><input type=\"radio\" name=\"q6\" value=\"log_altitude\"> Standard deviation = 100, mean = 30</label><br/>\n",
    "    <label><input type=\"radio\" name=\"q6\" value=\"sqrt_altitude\"> Standard deviation = 30, mean = 100</label><br/>\n",
    "    <label><input type=\"radio\" name=\"q6\" value=\"normalize_both\"> Standard deviation = 100, mean = 15</label><br/>\n",
    "    <label><input type=\"radio\" name=\"q6\" value=\"power_temperature\"> Standard deviation = 30, mean = 15</label>\n",
    "  </form>\n",
    "        <p style=\"text-align: right; margin-bottom: 0px; font-style: italic;\">\n",
    "    You can check your answer by clicking on the \"Answer\" below.\n",
    "  </p>\n",
    "</div>\n",
    "\n",
    "\n",
    "\n",
    "\n",
    "  \n",
    "<details style=\"font-size: 18px;\">\n",
    "  <summary style=\"font-size: 20px; font-weight: bold; text-decoration: underline;\">Answer</summary>\n",
    "  <div style=\"padding: 10px; border:1px solid blue; font-size: 20px;\">\n",
    "    <form>\n",
    "    <label><input type=\"radio\" name=\"q6\" value=\"log_altitude\"> Standard deviation = 100, mean = 30</label><br/>\n",
    "    <label><input type=\"radio\" name=\"q6\" value=\"sqrt_altitude\"> Standard deviation = 30, mean = 100</label><br/>\n",
    "    <label><input type=\"radio\" name=\"q6\" value=\"normalize_both\"><span style=\"color:blue;\"> Standard deviation = 100, mean = 15</span></label><br/>\n",
    "    <label><input type=\"radio\" name=\"q6\" value=\"power_temperature\"> Standard deviation = 30, mean = 15</label>\n",
    "  </form>\n",
    "  </div>\n",
    "</details>\n"
   ]
  },
  {
   "cell_type": "markdown",
   "id": "09169686-e6b0-446e-a8a6-12c57ba4b89b",
   "metadata": {},
   "source": [
    "# Question 2"
   ]
  },
  {
   "cell_type": "markdown",
   "id": "0a24b2ba-0ede-4bd2-b4ac-102b9eea3590",
   "metadata": {
    "execution": {
     "iopub.execute_input": "2025-07-04T12:57:29.244152Z",
     "iopub.status.busy": "2025-07-04T12:57:29.236979Z",
     "iopub.status.idle": "2025-07-04T12:57:29.304572Z",
     "shell.execute_reply": "2025-07-04T12:57:29.300971Z"
    }
   },
   "source": [
    "<div style=\"padding: 10px; border:1px solid red; font-size: 18px;\">\n",
    "  <span style=\"text-decoration:underline; font-weight: bold; font-size: 22px;\">Question 2</span><br/>\n",
    "  What is the mean and the standard deviation of the following distribution ?<br/>\n",
    "  \n",
    "  <!-- Replace code block by image -->\n",
    "  <div style=\"text-align: center; margin: 10px 0;\">\n",
    "    <img src=\"images/uniform distribution.png\" alt=\"Gaussian distribution code\" style=\"max-width: 80%; height: auto;\">\n",
    "  </div>\n",
    "    \n",
    "  <p style=\"text-align: right; margin-bottom: 0px; font-style: italic;\">\n",
    "    You can check your answer by clicking on the \"Answer\" below.\n",
    "  </p>\n",
    "</div>\n",
    "\n",
    "<details style=\"font-size: 18px;\">\n",
    "  <summary style=\"font-size: 20px; font-weight: bold; text-decoration: underline;\">Answer</summary>\n",
    "  <div style=\"padding: 10px; border:1px solid blue; font-size: 20px;\">\n",
    "    <code>Standard deviation = 5</code>.<br/>\n",
    "    <code>Mean = 15</code>.\n",
    "  </div>\n",
    "</details>\n"
   ]
  },
  {
   "cell_type": "markdown",
   "id": "ce1c269c-034c-4c5c-b14b-41f54cd47fc6",
   "metadata": {},
   "source": [
    "# Question 3"
   ]
  },
  {
   "cell_type": "markdown",
   "id": "5fc08313-5cc6-4e2e-bdf1-5fd3829f791f",
   "metadata": {},
   "source": [
    "<div style=\"padding: 10px; border:1px solid red; font-size: 18px;\">\n",
    "  <span style=\"text-decoration:underline; font-weight: bold; font-size: 22px;\">Question 3</span><br/>\n",
    "  What should be the value of \"?\" in this probability density function of a uniform distribution?<br/><br/>\n",
    "  \n",
    "  <!-- Replace code block by image -->\n",
    "  <div style=\"text-align: center; margin: 10px 0;\">\n",
    "    <img src=\"images/Script2_question3.png\" alt=\"Gaussian distribution code\" style=\"max-width: 60%; height: auto;\">\n",
    "  </div>\n",
    "    <form>\n",
    "    <label><input type=\"radio\" name=\"q6\" value=\"log_altitude\"> 1/(b-a) = 1/4 </label><br/>\n",
    "    <label><input type=\"radio\" name=\"q6\" value=\"sqrt_altitude\"> 1/(b-a) = 1/6</label><br/>\n",
    "    <label><input type=\"radio\" name=\"q6\" value=\"normalize_both\"> 1/(b-a) = 1/2</label><br/>\n",
    "    <label><input type=\"radio\" name=\"q6\" value=\"power_temperature\"> 1/(b-a) = 1/8</label>\n",
    "  </form>\n",
    "        <p style=\"text-align: right; margin-bottom: 0px; font-style: italic;\">\n",
    "    You can check your answer by clicking on the \"Answer\" below.\n",
    "  </p>\n",
    "</div>\n",
    "</div>\n",
    "\n",
    "\n",
    "\n",
    "\n",
    "\n",
    "\n",
    "  \n",
    "<details style=\"font-size: 18px;\">\n",
    "  <summary style=\"font-size: 20px; font-weight: bold; text-decoration: underline;\">Answer</summary>\n",
    "  <div style=\"padding: 10px; border:1px solid blue; font-size: 20px;\">\n",
    "    <form>\n",
    "    <label><input type=\"radio\" name=\"q6\" value=\"normalize_both\"><span style=\"color:blue;\">1/(b-a) = 1/4</label><br/>\n",
    "    <label><input type=\"radio\" name=\"q6\" value=\"sqrt_altitude\"> 1/(b-a) = 1/6</label><br/>\n",
    "    <label><input type=\"radio\" name=\"q6\" value=\"sqrt_altitude\"> 1/(b-a) = 1/2</span></label><br/>\n",
    "    <label><input type=\"radio\" name=\"q6\" value=\"power_temperature\"> 1/(b-a) = 1/8</label>\n",
    "  </form>\n",
    "  </div>\n",
    "</details>\n"
   ]
  },
  {
   "cell_type": "markdown",
   "id": "f42b53b8-3db1-44cc-b2a6-82d18301e16e",
   "metadata": {},
   "source": [
    "# Question 4"
   ]
  },
  {
   "cell_type": "markdown",
   "id": "c7907f44-f9ef-4bd0-8418-1d20e16caa5e",
   "metadata": {},
   "source": [
    "<div style=\"padding: 10px; border:1px solid red; font-size: 18px;\">\n",
    "  <span style=\"text-decoration:underline; font-weight: bold; font-size: 22px;\">Question 4</span><br/>\n",
    "  Create a factor vector of length 20 with two levels: <code>\"Fish 1\"</code> and <code>\"Fish 2\"</code>.<br/>\n",
    "  The values should repeat the sequence: <code>4 4 4 4 4</code> for each fish.<br/>\n",
    "  For example, the vector should look like:<br/>\n",
    "  <code>\"Fish 1\" \"Fish 1\" \"Fish 1\" \"Fish 1\" \"Fish 2\" \"Fish 2\" \"Fish 2\" \"Fish 2\" \"Fish1\" ...</code><br/>\n",
    "  (total length = 20)\n",
    "</div>\n"
   ]
  },
  {
   "cell_type": "code",
   "execution_count": 128,
   "id": "29a4d625-c9d1-46df-91d6-badee1f4cf86",
   "metadata": {
    "execution": {
     "iopub.execute_input": "2025-09-16T13:51:42.187238Z",
     "iopub.status.busy": "2025-09-16T13:51:42.186234Z",
     "iopub.status.idle": "2025-09-16T13:51:42.288756Z",
     "shell.execute_reply": "2025-09-16T13:51:42.194739Z"
    }
   },
   "outputs": [
    {
     "ename": "ERROR",
     "evalue": "Error in parse(text = input): <text>:5:14: unexpected input\n4: # and the levels are labeled as \"Fish 1\", \"Fish 2\"\n5: g <- gl(n = __\n                ^\n",
     "output_type": "error",
     "traceback": [
      "Error in parse(text = input): <text>:5:14: unexpected input\n4: # and the levels are labeled as \"Fish 1\", \"Fish 2\"\n5: g <- gl(n = __\n                ^\nTraceback:\n"
     ]
    }
   ],
   "source": [
    "# Generate a factor variable with 2 levels (n=),\n",
    "# each level repeated 4 times consecutively(k=),\n",
    "# total length of the factor is 20(length=),\n",
    "# and the levels are labeled as \"Fish 1\", \"Fish 2\"\n",
    "g <- gl(n = ___, k = ___, length = ___, labels = c(\"____\",\"____\"))\n",
    "g\n"
   ]
  },
  {
   "cell_type": "markdown",
   "id": "87ac8364-c017-4614-94e4-b0f1262a159b",
   "metadata": {},
   "source": [
    "\n",
    "<details style=\"font-size: 18px;\">\n",
    "  <summary style=\"font-size: 20px; font-weight: bold; text-decoration: underline;\">Answer</summary>\n",
    "  <div style=\"padding: 10px; border:1px solid blue; font-size: 20px;\">\n",
    "    <code> g <- gl(<span style=\"color:blue;\">n = 2 </span>, <span style=\"color:blue;\">k=4</span>, <span style=\"color:blue;\">length=20</span>, <span style=\"color:blue;\">labels = c(\"Fish 1 \",\"Fish 2\")</span> ) </code><br/>\n",
    "  </div>\n",
    "</details>\n"
   ]
  },
  {
   "cell_type": "markdown",
   "id": "40ff71e1-54e1-4cb8-a393-b276e8cf643c",
   "metadata": {},
   "source": [
    "# Question 5"
   ]
  },
  {
   "cell_type": "markdown",
   "id": "6234b44b-7b0f-44d9-a7f5-4f8d0cbba49f",
   "metadata": {},
   "source": [
    "<div style=\"padding: 10px; border:1px solid red; font-size: 18px;\">\n",
    "  <span style=\"text-decoration:underline; font-weight: bold; font-size: 22px;\">Question 5</span><br/>\n",
    "  Complete the code below to generate : <br/>\n",
    "  1) A Gaussian (normal) distribution vector of <strong>length 20</strong> with a <strong>mean of 10</strong> and a <strong>standard deviation of 2</strong>.<br/>\n",
    "  2) A uniform distribution vector of <strong>length 20</strong> with values <strong>between 10 and 100</strong>.<br/>\n",
    "  3) A factor vector of <strong>length 20</strong> with <strong>4 levels</strong> labeled <code>&quot;Plant 1&quot;</code>, <code>&quot;Plant 2&quot;</code>, <code>&quot;Plant 3&quot;</code>, and <code>&quot;Plant 4&quot;</code>, each level <strong>repeated 5 times</strong>.<br/>\n",
    "  4) A Gaussian (normal) distribution vector of <strong>length 20</strong> with a <strong>mean of 1</strong> and a <strong>standard deviation of 0.5</strong>.<br/>\n",
    "  5) Generate a dataframe using these previous vectors.<br/>\n",
    "  \n",
    "  <p style=\"text-align: right; margin-bottom: 0px; font-style: italic;\">\n",
    "    Complete the code to generate these vectors.\n",
    "  </p>\n",
    "</div>\n"
   ]
  },
  {
   "cell_type": "code",
   "execution_count": null,
   "id": "ab30d130-6766-49d2-bb41-f21c1aa36bb9",
   "metadata": {},
   "outputs": [],
   "source": [
    "# 1) Generate a Gaussian (normal) distribution vector\n",
    "# - length: 20\n",
    "# - mean: 10\n",
    "# - standard deviation: 2\n",
    "vec1 <- rnorm(____, mean = ____, sd = ____)\n",
    "\n",
    "# 2) Generate a uniform distribution vector\n",
    "# - length: 20\n",
    "# - values between: 10 and 100\n",
    "vec2 <- runif(____, min = ____, max = ____)\n",
    "\n",
    "# 3) Generate a factor vector\n",
    "# - length: 20\n",
    "# - levels: \"Plant 1\", \"Plant 2\", \"Plant 3\", \"Plant 4\"\n",
    "# - each level repeated: 5 times\n",
    "vec3 <- gl(____, ____, length = ____, labels = c(\"Plant 1\", \"Plant 2\", \"Plant 3\", \"Plant 4\"))\n",
    "\n",
    "# 4) Generate another Gaussian (normal) distribution vector\n",
    "# - length: 20\n",
    "# - mean: 1\n",
    "# - standard deviation: 0.5\n",
    "vec4 <- rnorm(____, mean = ____, sd = ____)\n"
   ]
  },
  {
   "cell_type": "markdown",
   "id": "5b8806fe-e7ba-41b3-ac20-904c788c1fc0",
   "metadata": {},
   "source": [
    "<details style=\"font-size: 18px;\">\n",
    "  <summary style=\"font-size: 20px; font-weight: bold; text-decoration: underline;\">Answer</summary>\n",
    "  <div style=\"padding: 10px; border:1px solid blue; font-size: 20px;\">\n",
    "    <code>vec1 &lt;- rnorm(<span style=\"color:blue;\">20</span>, mean = <span style=\"color:blue;\">10</span>, sd = <span style=\"color:blue;\">2</span>)</code><br/>\n",
    "  </div>\n",
    "      <div style=\"padding: 10px; border:0.1px solid blue; font-size: 20px;\">\n",
    "    <code>vec2 &lt;- runif(<span style=\"color:blue;\">20</span>, min = <span style=\"color:blue;\">10</span>, max = <span style=\"color:blue;\">100</span>)</code><br/>\n",
    "  </div>\n",
    "  <div style=\"padding: 10px; border:0.1px solid blue; font-size: 20px;\">\n",
    "    <code>vec3 &lt;- gl(<span style=\"color:blue;\">4</span>, <span style=\"color:blue;\">5</span>, length = <span style=\"color:blue;\">20</span>, labels = c(<span style=\"color:blue;\">\"Plant 1\"</span>, <span style=\"color:blue;\">\"Plant 2\"</span>, <span style=\"color:blue;\">\"Plant 3\"</span>, <span style=\"color:blue;\">\"Plant 4\"</span>))</code><br/>\n",
    "  </div>\n",
    "\n",
    "  <div style=\"padding: 10px; border:0.1px solid blue; font-size: 20px;\">\n",
    "    <code>vec4 &lt;- rnorm(<span style=\"color:blue;\">20</span>, mean = <span style=\"color:blue;\">1</span>, sd = <span style=\"color:blue;\">0.5</span>)</code><br/>\n",
    "  </div>\n",
    "\n",
    "</details>\n",
    "\n",
    "\n"
   ]
  },
  {
   "cell_type": "code",
   "execution_count": null,
   "id": "4fddf234-bf78-4c9c-96d2-78ea7184972b",
   "metadata": {},
   "outputs": [],
   "source": [
    "# 5) Combine the vectors into a dataframe\n",
    "df <- data.frame(Gaussian1 = ___,\n",
    "                 Uniform = ___,\n",
    "                 Plant = ___,\n",
    "                 Gaussian2 = ___)"
   ]
  },
  {
   "cell_type": "markdown",
   "id": "5a6096bb-2fb3-47d6-902e-1dfeb1adc3d5",
   "metadata": {},
   "source": [
    "<details style=\"font-size: 18px;\">\n",
    "  <summary style=\"font-size: 20px; font-weight: bold; text-decoration: underline;\">Answer</summary>\n",
    "  <div style=\"padding: 10px; border:1px solid blue; font-size: 20px;\">\n",
    "    <code>df &lt;- data.frame(Gaussian1 = <span style=\"color:blue;\">vec1</span>,<br/>\n",
    "                 Uniform = <span style=\"color:blue;\">vec2</span>,<br/>\n",
    "                 Plant = <span style=\"color:blue;\">vec3</span>,<br/>\n",
    "                 Gaussian2 = <span style=\"color:blue;\">vec4</span>)</code><br/>\n",
    "    <img src=\"images/df_generated.png\" alt=\"Dataframe generated\" style=\"margin-top: 10px; max-width: 100%; border: 1px solid #ccc;\"/>\n",
    "  </div>\n",
    "</details>\n"
   ]
  },
  {
   "cell_type": "markdown",
   "id": "a0a1de6c-545e-4953-af33-7c2ebf844267",
   "metadata": {},
   "source": [
    "# 1 Data Transformation -> *log(), sqrt(), df^a, decostand(), scale()*"
   ]
  },
  {
   "cell_type": "markdown",
   "id": "15458137-7b89-4b75-8257-00b18747534f",
   "metadata": {},
   "source": [
    "<div style=\"padding: 20px; border:4px solid green; font-size: 20px;\">\n",
    "  <img src=\"images/DataTransformation_illustration_tranformation_only.png\" alt=\"Data Transformation\" style=\"max-width: 40%; height: auto;\" />\n",
    "</div>\n"
   ]
  },
  {
   "cell_type": "markdown",
   "id": "8a0f3fa7-79cc-44a6-965f-1d82f99b0f1b",
   "metadata": {},
   "source": [
    "## 1.1  Log-transformation  (right skewed data) -> *log(df),log(df$col)*\n",
    "\n",
    "- **log(`df`)** : *log transforms every columns of a dataframe*\n",
    "\n",
    "- **log(`df$col`)** : *log transforms specific column of a dataframe*"
   ]
  },
  {
   "cell_type": "code",
   "execution_count": 1,
   "id": "f8bcd6a9-04e7-4b8e-aa4c-ea760e117c75",
   "metadata": {
    "execution": {
     "iopub.execute_input": "2025-09-17T05:44:38.425345Z",
     "iopub.status.busy": "2025-09-17T05:44:38.423884Z",
     "iopub.status.idle": "2025-09-17T05:44:38.535560Z",
     "shell.execute_reply": "2025-09-17T05:44:38.534454Z"
    }
   },
   "outputs": [
    {
     "data": {
      "image/png": "[encoded data removed]",
      "text/plain": [
       "Plot with title “Log-transformed data”"
      ]
     },
     "metadata": {
      "image/png": {
       "height": 600,
       "width": 840
      }
     },
     "output_type": "display_data"
    }
   ],
   "source": [
    "# Create example data frame with right-skewed data\n",
    "right_skewed_data<-rnbinom(10000, 3, 0.15) #check out ?rbeta and ?rnbinom for non-normal distributions!\n",
    "\n",
    "par(mfrow = c(1, 2))\n",
    "\n",
    "# Set plot size in Jupyter Notebook (14 x 10 inches)\n",
    "options(repr.plot.width = 14, repr.plot.height = 10)\n",
    "\n",
    "# Histogram before transformation \n",
    "hist(right_skewed_data, breaks = 30, main = \"Original data (right skewed)\", col = \"lightgray\")\n",
    "\n",
    "# Histogram after log transformation \n",
    "hist(log(right_skewed_data), breaks = 30, main = \"Log-transformed data\", col = \"pink\")"
   ]
  },
  {
   "cell_type": "markdown",
   "id": "f7c3fd05-a3e8-4f65-9321-57fd574c5a0e",
   "metadata": {},
   "source": [
    "## 1.2  Square-root-transformation (slightly right skewed data) -> *sqrt(df),sqrt(df$col)*\n",
    "\n",
    "- **sqrt(`df`)** : *Squared transforms every columns of a dataframe*\n",
    "\n",
    "- **sqrt(`df$col`)** : *Squared transforms specific column of a dataframe*"
   ]
  },
  {
   "cell_type": "code",
   "execution_count": 2,
   "id": "a72f7e11-32dd-4286-b09f-296fd5a67a7b",
   "metadata": {
    "execution": {
     "iopub.execute_input": "2025-09-17T05:44:54.530960Z",
     "iopub.status.busy": "2025-09-17T05:44:54.504676Z",
     "iopub.status.idle": "2025-09-17T05:44:54.615744Z",
     "shell.execute_reply": "2025-09-17T05:44:54.614531Z"
    }
   },
   "outputs": [
    {
     "data": {
      "image/png": "[encoded data removed]",
      "text/plain": [
       "Plot with title “Square root transformed data”"
      ]
     },
     "metadata": {
      "image/png": {
       "height": 600,
       "width": 840
      }
     },
     "output_type": "display_data"
    }
   ],
   "source": [
    "# Create example data frame with slightly right-skewed data\n",
    "slightly_right_skewed_data <- rnbinom(10000, 10, 0.5)\n",
    "\n",
    "# Set plot size in Jupyter Notebook (14 x 10 inches)\n",
    "options(repr.plot.width = 14, repr.plot.height = 10)\n",
    "par(mfrow = c(1, 2))\n",
    "# Histogram before transformation \n",
    "hist(slightly_right_skewed_data, breaks = 30, main = \"Original data (slightly right skewed)\", col = \"lightgray\")\n",
    "\n",
    "# Histogram before transformation\n",
    "hist(sqrt(slightly_right_skewed_data), breaks = 30, main = \"Square root transformed data\", col = \"lightblue\")"
   ]
  },
  {
   "cell_type": "markdown",
   "id": "6433e063-c611-4a13-a635-3d178e50ec0a",
   "metadata": {},
   "source": [
    "## 1.3  Power-transformation (left-skewed data) -> *(df)^a,(df$col)^a*\n",
    "\n",
    "- **(`df`)^a** : *Power transforms every columns of a dataframe*\n",
    "\n",
    "- **(`df$col`)^a** : *Power transforms specific column of a dataframe*"
   ]
  },
  {
   "cell_type": "code",
   "execution_count": 3,
   "id": "49e2d002-0d16-4b55-b4a5-5817f94c231f",
   "metadata": {
    "execution": {
     "iopub.execute_input": "2025-09-17T05:45:01.101114Z",
     "iopub.status.busy": "2025-09-17T05:45:01.100139Z",
     "iopub.status.idle": "2025-09-17T05:45:01.172367Z",
     "shell.execute_reply": "2025-09-17T05:45:01.171297Z"
    }
   },
   "outputs": [
    {
     "data": {
      "image/png": "[encoded data removed]",
      "text/plain": [
       "Plot with title “power transformed data”"
      ]
     },
     "metadata": {
      "image/png": {
       "height": 600,
       "width": 840
      }
     },
     "output_type": "display_data"
    }
   ],
   "source": [
    "# Create example data frame with left-skewed data\n",
    "left_skewed_data <- rbeta(10000,5,2)\n",
    "\n",
    "par(mfrow = c(1, 2))\n",
    "\n",
    "# Set plot size in Jupyter Notebook (14 x 10 inches)\n",
    "options(repr.plot.width = 14, repr.plot.height = 10)\n",
    "# Histogram before transformation \n",
    "hist(left_skewed_data, breaks = 30, main = \"Original data (left skewed)\", col = \"lightgray\")\n",
    "\n",
    "# Histogram before transformation\n",
    "hist(left_skewed_data^2.5, breaks = 30, main = \"power transformed data\", col = \"lightgreen\")"
   ]
  },
  {
   "cell_type": "markdown",
   "id": "1a627e57-c8fa-424d-8515-580bbc314f3e",
   "metadata": {},
   "source": [
    "## 1.4 Standardization (z-score) -> *decostand(), scale()*"
   ]
  },
  {
   "cell_type": "markdown",
   "id": "5c63cf25-d6a1-40b3-8e9f-ba01cb638267",
   "metadata": {},
   "source": [
    "### 1.4.1 Using decostand  -> *decostand(`df`,`\"standardize\"`)* \n",
    "\n",
    "- **decostand(`df`,method = `\"standardize\"`)** : *Standardize the variables (z-scores: mean = 0, sd = 1) of a dataframe* and **returns a Dataframe**\n"
   ]
  },
  {
   "cell_type": "code",
   "execution_count": 6,
   "id": "f150a9c4-2e32-4c2a-bfba-62fdefb594e8",
   "metadata": {
    "execution": {
     "iopub.execute_input": "2025-09-17T05:45:45.481846Z",
     "iopub.status.busy": "2025-09-17T05:45:45.480823Z",
     "iopub.status.idle": "2025-09-17T05:45:45.504219Z",
     "shell.execute_reply": "2025-09-17T05:45:45.503270Z"
    }
   },
   "outputs": [
    {
     "name": "stdout",
     "output_type": "stream",
     "text": [
      "[1] \"check if mean after standardization is close to 0 for all three parameter\"\n"
     ]
    },
    {
     "data": {
      "text/html": [
       "<style>\n",
       ".dl-inline {width: auto; margin:0; padding: 0}\n",
       ".dl-inline>dt, .dl-inline>dd {float: none; width: auto; display: inline-block}\n",
       ".dl-inline>dt::after {content: \":\\0020\"; padding-right: .5ex}\n",
       ".dl-inline>dt:not(:first-of-type) {padding-left: .5ex}\n",
       "</style><dl class=dl-inline><dt>Temp</dt><dd>-2.74815435165332e-16</dd><dt>pH</dt><dd>6.99458123799152e-16</dd><dt>Conductivity</dt><dd>0</dd></dl>\n"
      ],
      "text/latex": [
       "\\begin{description*}\n",
       "\\item[Temp] -2.74815435165332e-16\n",
       "\\item[pH] 6.99458123799152e-16\n",
       "\\item[Conductivity] 0\n",
       "\\end{description*}\n"
      ],
      "text/markdown": [
       "Temp\n",
       ":   -2.74815435165332e-16pH\n",
       ":   6.99458123799152e-16Conductivity\n",
       ":   0\n",
       "\n"
      ],
      "text/plain": [
       "         Temp            pH  Conductivity \n",
       "-2.748154e-16  6.994581e-16  0.000000e+00 "
      ]
     },
     "metadata": {},
     "output_type": "display_data"
    },
    {
     "name": "stdout",
     "output_type": "stream",
     "text": [
      "[1] \"check if sd after standardization is close to 1\"\n"
     ]
    },
    {
     "data": {
      "text/html": [
       "<style>\n",
       ".dl-inline {width: auto; margin:0; padding: 0}\n",
       ".dl-inline>dt, .dl-inline>dd {float: none; width: auto; display: inline-block}\n",
       ".dl-inline>dt::after {content: \":\\0020\"; padding-right: .5ex}\n",
       ".dl-inline>dt:not(:first-of-type) {padding-left: .5ex}\n",
       "</style><dl class=dl-inline><dt>Temp</dt><dd>1</dd><dt>pH</dt><dd>1</dd><dt>Conductivity</dt><dd>1</dd></dl>\n"
      ],
      "text/latex": [
       "\\begin{description*}\n",
       "\\item[Temp] 1\n",
       "\\item[pH] 1\n",
       "\\item[Conductivity] 1\n",
       "\\end{description*}\n"
      ],
      "text/markdown": [
       "Temp\n",
       ":   1pH\n",
       ":   1Conductivity\n",
       ":   1\n",
       "\n"
      ],
      "text/plain": [
       "        Temp           pH Conductivity \n",
       "           1            1            1 "
      ]
     },
     "metadata": {},
     "output_type": "display_data"
    }
   ],
   "source": [
    "# Create a fake dataset with 3 numeric variables\n",
    "df <- data.frame(\n",
    "  Temp = c(15, 18, 20, 22, 19),\n",
    "  pH = c(6.5, 7.0, 6.8, 7.2, 6.9),\n",
    "  Conductivity = c(120, 150, 160, 180, 140)\n",
    ")\n",
    "\n",
    "# Standardize the variables (z-scores: mean = 0, sd = 1)\n",
    "df_std1 <- decostand(df, method = \"standardize\")\n",
    "\n",
    "\n",
    "# Check that the means are ~0 and standard deviations are ~1\n",
    "# apply() applies a function (here \"mean\") to a dataframe (here df_std1). MARGIN (here 2) defines if the function is applied over rows or over columns. check ?apply\n",
    "print(\"check if mean after standardization is close to 0 for all three parameter\")\n",
    "apply(df_std1, 2, mean)\n",
    "print(\"check if sd after standardization is close to 1\")\n",
    "apply(df_std1, 2, sd) "
   ]
  },
  {
   "cell_type": "markdown",
   "id": "26cb6791-ec11-41b2-ac15-2e34e4e09a80",
   "metadata": {},
   "source": [
    "### 1.4.2 Using scale -> *scale(`df`)*  (alternative to decostand with method standardize)\n",
    "- **scale(`df`)** : *Standardize the variables (z-scores: mean = 0, sd = 1) of a dataframe* and **returns a Matrix**"
   ]
  },
  {
   "cell_type": "code",
   "execution_count": 7,
   "id": "c2bc4e59-4d0c-471b-a774-5d863361652c",
   "metadata": {
    "execution": {
     "iopub.execute_input": "2025-09-17T05:46:07.890919Z",
     "iopub.status.busy": "2025-09-17T05:46:07.889953Z",
     "iopub.status.idle": "2025-09-17T05:46:07.918225Z",
     "shell.execute_reply": "2025-09-17T05:46:07.917178Z"
    }
   },
   "outputs": [
    {
     "data": {
      "text/html": [
       "<style>\n",
       ".dl-inline {width: auto; margin:0; padding: 0}\n",
       ".dl-inline>dt, .dl-inline>dd {float: none; width: auto; display: inline-block}\n",
       ".dl-inline>dt::after {content: \":\\0020\"; padding-right: .5ex}\n",
       ".dl-inline>dt:not(:first-of-type) {padding-left: .5ex}\n",
       "</style><dl class=dl-inline><dt>Temp</dt><dd>-2.74815435165332e-16</dd><dt>pH</dt><dd>6.99458123799152e-16</dd><dt>Conductivity</dt><dd>0</dd></dl>\n"
      ],
      "text/latex": [
       "\\begin{description*}\n",
       "\\item[Temp] -2.74815435165332e-16\n",
       "\\item[pH] 6.99458123799152e-16\n",
       "\\item[Conductivity] 0\n",
       "\\end{description*}\n"
      ],
      "text/markdown": [
       "Temp\n",
       ":   -2.74815435165332e-16pH\n",
       ":   6.99458123799152e-16Conductivity\n",
       ":   0\n",
       "\n"
      ],
      "text/plain": [
       "         Temp            pH  Conductivity \n",
       "-2.748154e-16  6.994581e-16  0.000000e+00 "
      ]
     },
     "metadata": {},
     "output_type": "display_data"
    },
    {
     "data": {
      "text/html": [
       "<style>\n",
       ".dl-inline {width: auto; margin:0; padding: 0}\n",
       ".dl-inline>dt, .dl-inline>dd {float: none; width: auto; display: inline-block}\n",
       ".dl-inline>dt::after {content: \":\\0020\"; padding-right: .5ex}\n",
       ".dl-inline>dt:not(:first-of-type) {padding-left: .5ex}\n",
       "</style><dl class=dl-inline><dt>Temp</dt><dd>1</dd><dt>pH</dt><dd>1</dd><dt>Conductivity</dt><dd>1</dd></dl>\n"
      ],
      "text/latex": [
       "\\begin{description*}\n",
       "\\item[Temp] 1\n",
       "\\item[pH] 1\n",
       "\\item[Conductivity] 1\n",
       "\\end{description*}\n"
      ],
      "text/markdown": [
       "Temp\n",
       ":   1pH\n",
       ":   1Conductivity\n",
       ":   1\n",
       "\n"
      ],
      "text/plain": [
       "        Temp           pH Conductivity \n",
       "           1            1            1 "
      ]
     },
     "metadata": {},
     "output_type": "display_data"
    },
    {
     "data": {
      "text/plain": [
       "   Temp            pH          Conductivity  \n",
       " Mode:logical   Mode:logical   Mode:logical  \n",
       " TRUE:5         TRUE:5         TRUE:5        "
      ]
     },
     "metadata": {},
     "output_type": "display_data"
    }
   ],
   "source": [
    "# Standardize using base R's scale() function\n",
    "df_std2 <- as.data.frame(scale(df))\n",
    "\n",
    "# Check that the means are ~0 and standard deviations are ~1\n",
    "apply(df_std2, 2, mean)# check if means = 0\n",
    "apply(df_std2, 2, sd)# check if sd = 1\n",
    "summary(df_std1==df_std2)  #check if df_std1 and df_std2 are identical. == tests if values are identical and returns TRUE or FALSE, function summary() counts how many times (df_std1==df_std2) is \"TRUE\" (or FALSE). "
   ]
  },
  {
   "cell_type": "code",
   "execution_count": 8,
   "id": "ebad06a9-be24-4df7-8147-4ffeca702533",
   "metadata": {
    "execution": {
     "iopub.execute_input": "2025-09-17T05:46:29.735656Z",
     "iopub.status.busy": "2025-09-17T05:46:29.734636Z",
     "iopub.status.idle": "2025-09-17T05:46:29.802348Z",
     "shell.execute_reply": "2025-09-17T05:46:29.801295Z"
    }
   },
   "outputs": [
    {
     "data": {
      "image/png": "[encoded data removed]",
      "text/plain": [
       "plot without title"
      ]
     },
     "metadata": {
      "image/png": {
       "height": 600,
       "width": 840
      }
     },
     "output_type": "display_data"
    }
   ],
   "source": [
    "# Set plot size in Jupyter Notebook (14 x 10 inches)\n",
    "options(repr.plot.width = 14, repr.plot.height = 10)\n",
    "\n",
    "# Original temperature distribution\n",
    "plot(df$Temp,df_std1$Temp, xlab = \"original Temperature\", ylab = \" standardized Temperature\", col = \"red\", cex=1.5)"
   ]
  },
  {
   "cell_type": "markdown",
   "id": "dc0e502b-cd34-4af0-81f9-f409d78ef733",
   "metadata": {},
   "source": [
    "# Question 6"
   ]
  },
  {
   "cell_type": "markdown",
   "id": "ab2f59a2-60a3-4013-add9-17b5f69159f7",
   "metadata": {
    "execution": {
     "iopub.execute_input": "2025-07-05T11:35:38.420058Z",
     "iopub.status.busy": "2025-07-05T11:35:38.417537Z",
     "iopub.status.idle": "2025-07-05T11:35:38.450860Z",
     "shell.execute_reply": "2025-07-05T11:35:38.447646Z"
    }
   },
   "source": [
    "<div style=\"padding: 10px; border:1px solid red; font-size: 18px; position: relative;\">\n",
    "  <span style=\"text-decoration:underline; font-weight: bold; font-size: 22px;\">Question 6</span><br/>\n",
    "\n",
    "  <div style=\"display: flex; align-items: flex-start;\">\n",
    "    <div style=\"flex: 1;\">\n",
    "      The bar plot on the right shows the population of various towns in the state of Washington.<br/>  \n",
    "      We can observe that some towns have significantly higher population numbers than others.<br/><br/>\n",
    "      <strong>What transformation should be applied to make this distribution closer to a normal distribution?</strong>\n",
    "    </div>\n",
    "    <div style=\"margin-left: 20px;\">\n",
    "      <img src=\"images/skew_left_dist.png\" alt=\"Skewed distribution\" style=\"max-width: 500px; height: auto; border: 1px solid #ccc;\" />\n",
    "    </div>\n",
    "  </div>\n",
    "\n",
    "  <form>\n",
    "    <label><input type=\"radio\" name=\"q5\" value=\"log\"> Logarithmic transformation (log)</label><br/>\n",
    "    <label><input type=\"radio\" name=\"q5\" value=\"sqrt\"> Square root (√)</label><br/>\n",
    "    <label><input type=\"radio\" name=\"q5\" value=\"square\"> Power transformation</label><br/>\n",
    "    <label><input type=\"radio\" name=\"q5\" value=\"reciprocal\"> Reciprocal transformation (1/x)</label>\n",
    "  </form>\n",
    "</div>\n"
   ]
  },
  {
   "cell_type": "markdown",
   "id": "c83b5512-a57e-40b6-8127-61a82e8a5be5",
   "metadata": {},
   "source": [
    "<details style=\"font-size: 18px;\">\n",
    "  <summary style=\"font-size: 20px; font-weight: bold; text-decoration: underline;\">Answer</summary>\n",
    "  <div style=\"padding: 10px; border:1px solid blue; font-size: 20px;\">\n",
    "    <form>\n",
    "      <label><input type=\"radio\" name=\"q5\" value=\"log\">Logarithmic transformation (log)</label><br/>\n",
    "      <label><input type=\"radio\" name=\"q5\" value=\"sqrt\"> Square root (√)</label><br/>\n",
    "      <label style=\"color: blue;\"><input type=\"radio\" name=\"q5\" value=\"squaring\"> Power Transformation </label><br/>\n",
    "      <label><input type=\"radio\" name=\"q5\" value=\"reciprocal\"> Reciprocal transformation (1/x)</label>\n",
    "    </form>\n",
    "  </div>\n",
    "</details>\n"
   ]
  },
  {
   "cell_type": "markdown",
   "id": "49104cfd-6fb3-4e2a-a951-5f7daf5b7023",
   "metadata": {},
   "source": [
    "# Question 7"
   ]
  },
  {
   "cell_type": "markdown",
   "id": "011efae4-c64f-403a-917a-62e0a6e736d2",
   "metadata": {
    "execution": {
     "iopub.execute_input": "2025-07-05T12:15:34.075476Z",
     "iopub.status.busy": "2025-07-05T12:15:34.069868Z",
     "iopub.status.idle": "2025-07-05T12:15:34.103868Z",
     "shell.execute_reply": "2025-07-05T12:15:34.100886Z"
    }
   },
   "source": [
    "<div style=\"padding: 10px; border:1px solid red; font-size: 18px; position: relative;\">\n",
    "  <span style=\"text-decoration:underline; font-weight: bold; font-size: 22px;\">Question 7</span><br/>\n",
    "\n",
    "  <div style=\"margin-bottom: 15px;\">\n",
    "    We have several variables in a dataframe: <br/>\n",
    "    - pH [0–14]<br/>\n",
    "    - Temperature [–45 to 100 °C]<br/>\n",
    "    - Altitude [500 to 2600 m]<br/>\n",
    "    - Dissolved oxygen concentration (DO) [0.007–0.0015 g/L]<br/><br/>\n",
    "    We want to assess the relative variation in altitude and temperature.<br/>\n",
    "    <strong>Which transformation should we apply to compare these parameters?</strong>\n",
    "  </div>\n",
    "\n",
    "  <form>\n",
    "    <label><input type=\"radio\" name=\"q6\" value=\"log_altitude\"> Log-transform altitude only</label><br/>\n",
    "    <label><input type=\"radio\" name=\"q6\" value=\"sqrt_altitude\"> Square root transform altitude only</label><br/>\n",
    "    <label><input type=\"radio\" name=\"q6\" value=\"standardize_both\"> Standardize both altitude and temperature</label><br/>\n",
    "    <label><input type=\"radio\" name=\"q6\" value=\"power_temperature\"> Power transform temperature only</label>\n",
    "  </form>\n",
    "</div>\n"
   ]
  },
  {
   "cell_type": "markdown",
   "id": "5d05fe95-220b-4e8c-b46c-774798f93da1",
   "metadata": {},
   "source": [
    "<details style=\"font-size: 18px;\">\n",
    "  <summary style=\"font-size: 20px; font-weight: bold; text-decoration: underline;\">Answer</summary>\n",
    "  <div style=\"padding: 10px; border:1px solid blue; font-size: 20px;\">\n",
    "  <form>\n",
    "    <label><input type=\"radio\" name=\"q6\" value=\"log_altitude\"> Log-transform altitude only</label><br/>\n",
    "    <label><input type=\"radio\" name=\"q6\" value=\"sqrt_altitude\"> Square root transform altitude only</label><br/>\n",
    "    <label style=\"color: blue;\"><input type=\"radio\" name=\"q6\" value=\"Standardize_both\"> Standardize both altitude and temperature</label><br/>\n",
    "    <label><input type=\"radio\" name=\"q6\" value=\"power_temperature\"> Power transform temperature only</label>\n",
    "  </form>\n",
    "  </div>\n",
    "</details>\n"
   ]
  },
  {
   "cell_type": "markdown",
   "id": "9108e1a4-d561-4ced-8f0a-caf54c5a6b63",
   "metadata": {},
   "source": [
    "# Homework : Task 1"
   ]
  },
  {
   "cell_type": "markdown",
   "id": "f51feefb-b462-47ec-8df3-49209ac7f271",
   "metadata": {},
   "source": [
    "<div style=\"padding: 10px; border:1px solid red; font-size: 18px;\">\n",
    "  <span style=\"text-decoration:underline; font-weight: bold; font-size: 22px;\">HOMEWORK : TASK 1</span><br/>\n",
    "  Inspect the numerical environmental parameters of the mites dataset (<code>env</code>).<br/>\n",
    "  <ol>\n",
    "    <li>Which parameters are numerical?</li>\n",
    "    <li>Which parameters require transformation to improve normality?</li>\n",
    "    <li>Which transformation improves normality for the <code>nit</code> variable?</li>\n",
    "  </ol>\n",
    "  <p style=\"text-align: right; margin-bottom: 0px; font-style: italic;\">\n",
    "    Answer these questions based on your analysis.\n",
    "  </p>\n",
    "</div>\n"
   ]
  },
  {
   "cell_type": "markdown",
   "id": "8e7a024a-4bd9-41e7-b53a-97efda1ee7a3",
   "metadata": {
    "execution": {
     "iopub.execute_input": "2025-07-04T13:51:00.415693Z",
     "iopub.status.busy": "2025-07-04T13:51:00.411090Z",
     "iopub.status.idle": "2025-07-04T13:51:00.438015Z",
     "shell.execute_reply": "2025-07-04T13:51:00.435697Z"
    }
   },
   "source": [
    "<div style=\"padding: 10px; border:1px solid green; font-size: 10px;\">\n",
    "  <span style=\"font-size: 15px;\"> <i>Loading the data from Doubs</i> </span><br/>\n",
    "</div>\n"
   ]
  },
  {
   "cell_type": "code",
   "execution_count": null,
   "id": "b5a706ec-05a8-4c98-8847-325f2c9e813b",
   "metadata": {},
   "outputs": [],
   "source": [
    "load(\"Doubs.RData\")  "
   ]
  },
  {
   "cell_type": "code",
   "execution_count": null,
   "id": "8d394a86-dcf8-4ab6-8b6f-170681c28a28",
   "metadata": {},
   "outputs": [],
   "source": [
    "## Q1 which parameter are numerical? : (hint : sapply(df, class) )\n",
    "# your code here :\n",
    "\n",
    "sapply(___,class) # Complete the blank to anylse the env dataset\n"
   ]
  },
  {
   "cell_type": "markdown",
   "id": "529d73cb-19a7-4ff0-ac98-4fd330e1cb90",
   "metadata": {
    "execution": {
     "iopub.execute_input": "2025-07-05T12:41:58.273821Z",
     "iopub.status.busy": "2025-07-05T12:41:58.268260Z",
     "iopub.status.idle": "2025-07-05T12:41:58.297079Z",
     "shell.execute_reply": "2025-07-05T12:41:58.294666Z"
    }
   },
   "source": [
    "<div style=\"padding: 10px; border:1px solid red; font-size: 18px;\">\n",
    "    1. After completing the cell above, which Parameters are <strong>numerical</strong> ?\n",
    "  <form>\n",
    "    <label><input type=\"radio\" name=\"q6\" value=\"log_altitude\"> dfs </label><br/>\n",
    "    <label><input type=\"radio\" name=\"q6\" value=\"sqrt_altitude\"> ele </label><br/>\n",
    "    <label><input type=\"radio\" name=\"q6\" value=\"normalize_both\"> slo</label><br/>\n",
    "    <label><input type=\"radio\" name=\"q6\" value=\"power_temperature\"> dis</label><br/>\n",
    "    <label><input type=\"radio\" name=\"q6\" value=\"ph\"> pH</label><br/>\n",
    "    <label><input type=\"radio\" name=\"q6\" value=\"har\"> har</label><br/>\n",
    "    <label><input type=\"radio\" name=\"q6\" value=\"pho\"> pho</label><br/>\n",
    "    <label><input type=\"radio\" name=\"q6\" value=\"nit\"> nit</label><br/>\n",
    "    <label><input type=\"radio\" name=\"q6\" value=\"amm\"> amm</label><br/>\n",
    "    <label><input type=\"radio\" name=\"q6\" value=\"oxy\"> oxy</label><br/>\n",
    "    <label><input type=\"radio\" name=\"q6\" value=\"bod\"> bod</label>\n",
    "  </form>\n",
    "</div>\n"
   ]
  },
  {
   "cell_type": "markdown",
   "id": "b1e395aa-d182-4c34-8593-f16fa0f4064e",
   "metadata": {
    "execution": {
     "iopub.execute_input": "2025-07-04T13:56:15.139690Z",
     "iopub.status.busy": "2025-07-04T13:56:15.135058Z",
     "iopub.status.idle": "2025-07-04T13:56:15.162771Z",
     "shell.execute_reply": "2025-07-04T13:56:15.159794Z"
    }
   },
   "source": [
    "<details style=\"font-size: 18px;\">\n",
    "  <summary style=\"font-size: 20px; font-weight: bold; text-decoration: underline;\">1) Answer</summary>\n",
    "  <div style=\"padding: 10px; border:1px solid blue; font-size: 20px;\">\n",
    "    <code>sapply(<span style=\"color:blue;\">env</span>,class) </code><br/>\n",
    "  </div>\n",
    "\n",
    "\n",
    "<div style=\"padding: 10px; border:0.05px solid blue; font-size: 18px; margin-top: 5px;\">\n",
    "<form>\n",
    "  <label><input type=\"radio\" name=\"q6\" value=\"log_altitude\"> <span style=\"color:blue;\">dfs</span> </label><br/>\n",
    "  <label><input type=\"radio\" name=\"q6\" value=\"sqrt_altitude\"> ele </label><br/>\n",
    "  <label><input type=\"radio\" name=\"q6\" value=\"normalize_both\"> <span style=\"color:blue;\">slo</span></label><br/>\n",
    "  <label><input type=\"radio\" name=\"q6\" value=\"power_temperature\"> <span style=\"color:blue;\">dis</span></label><br/>\n",
    "  <label><input type=\"radio\" name=\"q6\" value=\"ph\"> <span style=\"color:blue;\">pH</span></label><br/>\n",
    "  <label><input type=\"radio\" name=\"q6\" value=\"har\"> har</label><br/>\n",
    "  <label><input type=\"radio\" name=\"q6\" value=\"pho\"> <span style=\"color:blue;\">pho</span></label><br/>\n",
    "  <label><input type=\"radio\" name=\"q6\" value=\"nit\"> <span style=\"color:blue;\">nit</span></label><br/>\n",
    "  <label><input type=\"radio\" name=\"q6\" value=\"amm\"> <span style=\"color:blue;\">amm</span></label><br/>\n",
    "  <label><input type=\"radio\" name=\"q6\" value=\"oxy\"> <span style=\"color:blue;\">oxy</span></label><br/>\n",
    "  <label><input type=\"radio\" name=\"q6\" value=\"bod\"> <span style=\"color:blue;\">bod</span></label>\n",
    "</form>\n",
    "</div>\n",
    "\n",
    "\n",
    "\n",
    "</details>\n",
    "\n",
    "\n"
   ]
  },
  {
   "cell_type": "code",
   "execution_count": null,
   "id": "4dfa93d4-f783-447a-91ca-0fb2b9c4bab4",
   "metadata": {},
   "outputs": [],
   "source": [
    "##Q2: which parameter requires transformation to improve normality? (Hint: Use hist())\n",
    "# your code here :\n",
    "\n",
    "# Number of columns to plot\n",
    "n <- ncol(env)\n",
    "# Calculate number of columns in the plot grid\n",
    "ncol_plot <- ceiling(sqrt(n))  \n",
    "# Calculate number of rows in the plot grid\n",
    "nrow_plot <- ceiling(n/ncol_plot) \n",
    "\n",
    "\n",
    "\n",
    "# Set plotting layout\n",
    "par(mfrow = c(nrow_plot, ncol_plot))  \n",
    "\n",
    "\n",
    "# Plot histograms for each column\n",
    "for (col_name in colnames(env)) {\n",
    "  ___(env[[col_name]], main = paste(\"Histogram of\", col_name), xlab = col_name) # Fill in the blank with the appropriate function to visualize each variable's distribution \n",
    "}"
   ]
  },
  {
   "cell_type": "markdown",
   "id": "69bd2f43-c40e-446c-9af2-96875c065e8a",
   "metadata": {
    "execution": {
     "iopub.execute_input": "2025-07-05T12:30:13.827070Z",
     "iopub.status.busy": "2025-07-05T12:30:13.821609Z",
     "iopub.status.idle": "2025-07-05T12:30:13.859439Z",
     "shell.execute_reply": "2025-07-05T12:30:13.856028Z"
    }
   },
   "source": [
    "<details style=\"font-size: 18px;\">\n",
    "  <summary style=\"font-size: 20px; font-weight: bold; text-decoration: underline;\">2) Answer</summary>\n",
    "  <div style=\"padding: 10px; border:1px solid blue; font-size: 20px;\">\n",
    "    <code><span style=\"color:blue;\">hist</span>(env[[col_name]], main = paste(\"Histogram of\", col_name), xlab = col_name)</code><br/>\n",
    "    <img src=\"images/hist_env.png\" alt=\"Histogram of env variables\" style=\"margin-top:10px; max-width:100%; height:auto;\">\n",
    "  </div>\n",
    "</details>\n"
   ]
  },
  {
   "cell_type": "code",
   "execution_count": null,
   "id": "dd8e389f-c5ca-431a-9314-b33eaac6f89f",
   "metadata": {},
   "outputs": [],
   "source": [
    "##Q3: Which transformation improves normality for the nit variable? (Hint: Use log(),sqrt(),^2,asin())\n",
    "# your code here :\n",
    "\n",
    "# Set up the plotting window with 2 rows and 3 columns\n",
    "par(mfrow = c(2, 3))\n",
    "\n",
    "# Histogram of the original variable\n",
    "hist(env$nit, main = \"Original nit\", xlab = \"nit\") # Fill in the blank with the appropriate function \n",
    "\n",
    "# Log-transformed histogram (adding 1 to avoid log(0))\n",
    "hist(___(env$nit + 1), main = \"Log transformation\", xlab = \"log(nit + 1)\") # Fill in the blank with the appropriate function \n",
    "\n",
    "# Square root transformed histogram\n",
    "hist(___(env$nit), main = \"Square root transformation\", xlab = \"sqrt(nit)\") # Fill in the blank with the appropriate function \n",
    "\n",
    "# Squared variable histogram\n",
    "hist((env$nit)^___, main = \"Square transformation\", xlab = \"nit^2\")  # Fill in the blank with the appropriate function \n",
    "\n",
    "# Arcsine square root transformed histogram\n",
    "hist(___(env$nit), main = \"Arcsin transformation\", xlab = \"asin(nit)\") # Fill in the blank with the appropriate function \n"
   ]
  },
  {
   "cell_type": "markdown",
   "id": "566c5fa5-eb7f-46ad-a3f3-2e7cf76400a9",
   "metadata": {},
   "source": [
    "<details style=\"font-size: 18px;\">\n",
    "  <summary style=\"font-size: 20px; font-weight: bold; text-decoration: underline;\">3) Answer</summary>\n",
    "  <div style=\"padding: 10px; border:1px solid blue; font-size: 20px;\">\n",
    "    <img src=\"images/answer.png\" alt=\"Transformation 1\" style=\"max-width: 50%; height: auto; margin-bottom: 10px;\" /><br/>\n",
    "    <img src=\"images/hist_transf_nit.png\" alt=\"Transformation 2\" style=\"max-width: 100%; height: auto;\" />\n",
    "  </div>\n",
    "</details>\n"
   ]
  },
  {
   "cell_type": "markdown",
   "id": "6e84656c-ec0c-40e8-9e6b-d4433c070eaf",
   "metadata": {},
   "source": [
    "# Data processing : removing empty site (Nr. 8 contains no fish) for the rest of the code "
   ]
  },
  {
   "cell_type": "code",
   "execution_count": null,
   "id": "0d0c9187-7754-49bd-81e0-48a5c8775c0e",
   "metadata": {},
   "outputs": [],
   "source": [
    "# Remove empty site 8\n",
    "spe <- spe[-8, ]\n",
    "env <- env[-8, ]\n",
    "spa <- spa[-8, ]"
   ]
  },
  {
   "cell_type": "markdown",
   "id": "916e068e-d377-4f4e-ba4f-4cef474eaa3d",
   "metadata": {},
   "source": [
    "# 2 Distance/Dissimilarity matrices"
   ]
  },
  {
   "cell_type": "markdown",
   "id": "80aaaee9-8361-4c21-9c81-8235b5b74cad",
   "metadata": {},
   "source": [
    "<div style=\"padding: 20px; border:4px solid green; font-size: 20px;\">\n",
    "  <img src=\"images/DataTransformation_dissimilarities_only.png\" alt=\"Data Transformation\" style=\"max-width: 40%; height: auto;\" />\n",
    "</div>\n"
   ]
  },
  {
   "cell_type": "markdown",
   "id": "279388f0-cfae-4f56-ad50-462239efedaa",
   "metadata": {},
   "source": [
    "# 2.1 Distance & Dissimilarity Metrics for **(semi-)quantitative data** \n",
    "# Bray-Curtis, Euclidean distance, Chord distance, Hellinger distance ->(*vegdist(),dist()*)"
   ]
  },
  {
   "cell_type": "markdown",
   "id": "b28a936a-893e-466a-9ab7-92f5379a1481",
   "metadata": {},
   "source": [
    "<div style=\"border: 3px solid green; padding: 10px; max-width: 1000px; margin: auto;\">\n",
    "\n",
    "  <!-- Image du haut -->\n",
    "  <div style=\"text-align: center; margin-bottom: 20px;\">\n",
    "    <img src=\"images/Q_modes.png\" alt=\"Q Modes\" style=\"width: 80%; max-width: 30%; height: auto;\">\n",
    "  </div>\n",
    "\n",
    "  <!-- Ligne contenant deux images -->\n",
    "  <div style=\"display: flex; justify-content: center; gap: 20px;\">\n",
    "    <div style=\"flex: 1; text-align: center;\">\n",
    "      <img src=\"images/Q_mode_semi.png\" alt=\"Q Mode Semi\" style=\"width: 100%; max-width: 60%; height: auto;\">\n",
    "    </div>\n",
    "    <div style=\"flex: 1; text-align: center;\">\n",
    "      <img src=\"images/distances.png\" alt=\"Euclidean Distance\" style=\"width: 100%; max-width: 60%; height: auto;\">\n",
    "    </div>\n",
    "  </div>\n",
    "\n",
    "</div>\n"
   ]
  },
  {
   "cell_type": "markdown",
   "id": "2698875f-0bdf-49d2-94ad-76454b40816f",
   "metadata": {},
   "source": [
    "## 2.1.1 Bray-Curtis dissimilarity matrix -> *vegdist(df)* \n",
    "\n",
    "- **vegdist(`df`)** : *Computes the Bray-Curtis dissimilarity between rows of a dataframe `df` or matrix*"
   ]
  },
  {
   "cell_type": "markdown",
   "id": "5193a5f4-4707-4b04-9a9f-39f72a7a8729",
   "metadata": {
    "execution": {
     "iopub.execute_input": "2025-06-26T12:21:55.173301Z",
     "iopub.status.busy": "2025-06-26T12:21:55.165971Z",
     "iopub.status.idle": "2025-06-26T12:21:55.229057Z",
     "shell.execute_reply": "2025-06-26T12:21:55.226187Z"
    }
   },
   "source": [
    "<div style=\"display: flex; flex-direction: column; align-items: center; border: 5px solid green; padding: 20px;\">\n",
    "    <div style=\"font-size: 32px; font-weight: bold; margin-bottom: 20px;\">\n",
    "        Bray Curtis Dissimilarity\n",
    "    </div>\n",
    "    <img src=\"images/Bray_curtis.png\" width=\"45%\">\n",
    "</div>\n"
   ]
  },
  {
   "cell_type": "markdown",
   "id": "5829f946-ee15-42d0-b35a-69031b62eaa0",
   "metadata": {},
   "source": [
    "## Display Bray-curtis dissimilarity matrix"
   ]
  },
  {
   "cell_type": "code",
   "execution_count": null,
   "id": "e41e3742-f8eb-4157-a6d1-d7f15a3b9a9e",
   "metadata": {},
   "outputs": [],
   "source": [
    "# Compute Bray-Curtis dissimilarity matrix from the 'spe' dataset\n",
    "spe.db <- vegdist(spe)\n",
    "\n",
    "# Set plot size in Jupyter Notebook (8 x 8 inches)\n",
    "options(repr.plot.width = 8, repr.plot.height = 8)\n",
    "\n",
    "# Display the dissimilarity matrix as a color image\n",
    "image.real(as.matrix(spe.db))\n",
    "title(\"Bray-Curtis Dissimilarity Matrix Across Samples\")"
   ]
  },
  {
   "cell_type": "markdown",
   "id": "77910b39-527d-44dd-99f8-a131dd4408b8",
   "metadata": {
    "execution": {
     "iopub.execute_input": "2025-07-05T18:49:58.725196Z",
     "iopub.status.busy": "2025-07-05T18:49:58.720445Z",
     "iopub.status.idle": "2025-07-05T18:49:58.748210Z",
     "shell.execute_reply": "2025-07-05T18:49:58.745748Z"
    }
   },
   "source": [
    "## Display Bray-Curtis dissimilarity matrix using coldiss"
   ]
  },
  {
   "cell_type": "code",
   "execution_count": null,
   "id": "aae9f9c5-a319-4677-990b-45d47429cf50",
   "metadata": {},
   "outputs": [],
   "source": [
    "# Set plot size in Jupyter (wide and not too tall)\n",
    "options(repr.plot.width = 14, repr.plot.height = 7)\n",
    "\n",
    "# Display the dissimilarity matrix using coldiss (custom function by François Gillet)\n",
    "# nc = 15: number of color classes, diag = TRUE: show labels on the diagonal as well\n",
    "coldiss(spe.db, nc = 15, diag = TRUE)\n",
    "\n",
    "# Add a title above the plot\n",
    "title(\"Bray-Curtis Dissimilarity Matrix Across Samples\", line = 3)\n"
   ]
  },
  {
   "cell_type": "markdown",
   "id": "b09ab258-5d70-47d0-91ec-4783abc0c62a",
   "metadata": {},
   "source": [
    "## Display Bray-Curtis dissimilarity matrix of log-transformed species data"
   ]
  },
  {
   "cell_type": "code",
   "execution_count": null,
   "id": "40e2dc45-064c-42b6-a2be-300f8e117323",
   "metadata": {},
   "outputs": [],
   "source": [
    "# Compute Bray-Curtis dissimilarity matrix on log-transformed abundances (log(x+1))\n",
    "spe.dbln <- vegdist(log1p(spe))   #QUESTION: what does log1p stand for? Use help(log1p)!\n",
    "\n",
    "# Set plot size in Jupyter Notebook (8 x 8 inches)\n",
    "options(repr.plot.width = 8, repr.plot.height = 8)\n",
    "\n",
    "# Display the dissimilarity matrix as a color image\n",
    "image.real(as.matrix(spe.dbln))\n",
    "\n",
    "# Add a title above the plot\n",
    "title(\"Bray-Curtis Dissimilarity Matrix Across Samples (log-transformed)\")\n"
   ]
  },
  {
   "cell_type": "markdown",
   "id": "b93d1c41-888e-4d32-8bcd-b3aa4f04de42",
   "metadata": {},
   "source": [
    "## Display Bray-Curtis dissimilarity matrix using coldiss"
   ]
  },
  {
   "cell_type": "code",
   "execution_count": null,
   "id": "b28ac091-c3a1-41fa-8e48-e501ca16c7f6",
   "metadata": {},
   "outputs": [],
   "source": [
    "# Set plot size in Jupyter (wide and not too tall)\n",
    "options(repr.plot.width = 14, repr.plot.height = 7)\n",
    "\n",
    "# Display the dissimilarity matrix using coldiss (custom function by François Gillet)\n",
    "# nc = 15: number of color classes, diag = TRUE: show labels on the diagonal as well\n",
    "coldiss(spe.dbln, nc = 15, diag = TRUE)\n",
    "\n",
    "# Add a title above the plot\n",
    "title(\"Bray-Curtis Dissimilarity Matrix Across Samples (log-transformed)\", line = 3)\n"
   ]
  },
  {
   "cell_type": "markdown",
   "id": "374cdb68-fe31-48e7-bd3e-117f209d699e",
   "metadata": {},
   "source": [
    "### 2.2.1 Euclidian distance -> *dist(df)*\n",
    "\n",
    "- **dist(`df`)** : *Computes the Euclidean distance between rows of a dataframe`df`or matrix*;"
   ]
  },
  {
   "cell_type": "markdown",
   "id": "0a5b202d-ce6b-443a-9906-e06168526e93",
   "metadata": {},
   "source": [
    "<div style=\"display: flex; flex-direction: column; align-items: center; border: 5px solid green; padding: 20px;\">\n",
    "    <div style=\"font-size: 32px; font-weight: bold; margin-bottom: 20px;\">\n",
    "        Euclidian Distance\n",
    "    </div>\n",
    "    <img src=\"images/euclidian distance_15_09.png\" width=\"35%\">\n",
    "</div>\n"
   ]
  },
  {
   "cell_type": "markdown",
   "id": "987f29f0-7f04-40a7-bede-b49170387aec",
   "metadata": {},
   "source": [
    "## Display Euclidian Distance matrix"
   ]
  },
  {
   "cell_type": "code",
   "execution_count": null,
   "id": "6e6fb22c-5465-4b55-8d36-9a9e09aa80a7",
   "metadata": {},
   "outputs": [],
   "source": [
    "# Compute Euclidean distance matrix from the species dataset - attention: double zero issue!\n",
    "spe.eucl <- dist(spe)\n",
    "\n",
    "# Set plot size in Jupyter Notebook (8 x 8 inches)\n",
    "options(repr.plot.width = 8, repr.plot.height = 8)\n",
    "\n",
    "# Visualize the Euclidean distance matrix as a color image\n",
    "image.real(as.matrix(spe.eucl))\n",
    "\n",
    "# Add a title above the plot\n",
    "title(\"Euclidean Distance Matrix Across Samples\")"
   ]
  },
  {
   "cell_type": "markdown",
   "id": "1f85a095-e18a-4ab6-9526-3f2e47f22234",
   "metadata": {},
   "source": [
    "## Display ordered Euclidean distance matriX"
   ]
  },
  {
   "cell_type": "code",
   "execution_count": null,
   "id": "2c553618-15a3-4f9b-826e-36c47316ba2a",
   "metadata": {},
   "outputs": [],
   "source": [
    "# Set plot size in Jupyter (wide and not too tall)\n",
    "options(repr.plot.width = 14, repr.plot.height = 7)\n",
    "\n",
    "# Display the Euclidean distance matrix using coldiss (custom function by François Gillet)\n",
    "# nc = 15: number of color classes, diag = TRUE: show labels on the diagonal as well\n",
    "coldiss(spe.eucl, nc = 15, diag = TRUE)\n",
    "\n",
    "# Add a title above the plot\n",
    "title(\"Euclidean Distance Matrix Across Samples\", line = 3)\n"
   ]
  },
  {
   "cell_type": "markdown",
   "id": "7dd539a0-5784-49c1-9d8d-2a3839ebb213",
   "metadata": {},
   "source": [
    "### 2.2.2 Chord distance -> *dist(df_norm)*\n",
    "\n",
    "- **dist(`df_norm`)** : *Computes the Euclidean distance between rows after normalizing each row to unit length (normalization)*;"
   ]
  },
  {
   "cell_type": "markdown",
   "id": "4e948195-e079-4594-9c65-351c344e02e9",
   "metadata": {},
   "source": [
    "<div style=\"display: flex; flex-direction: column; align-items: center; border: 5px solid green; padding: 20px;\">\n",
    "    <div style=\"font-size: 32px; font-weight: bold; margin-bottom: 20px;\">\n",
    "        Chord Distance\n",
    "    </div>\n",
    "    <img src=\"images/chord distance.png\" width=\"45%\">\n",
    "</div>\n"
   ]
  },
  {
   "cell_type": "markdown",
   "id": "51d27b4b-37cf-4993-89e3-19478f5aba8c",
   "metadata": {},
   "source": [
    "## Display Chord Distance matrix"
   ]
  },
  {
   "cell_type": "code",
   "execution_count": null,
   "id": "4d3a479b-ef09-4ece-9507-b95262c2694a",
   "metadata": {},
   "outputs": [],
   "source": [
    "# Normalize species data using decostand with \"nor\" method\n",
    "spe.norm <- decostand(spe, \"nor\")\n",
    "\n",
    "# Compute Euclidean distance matrix (Chord distance is Euclidean on normalized data)\n",
    "spe.dc <- dist(spe.norm)\n",
    "\n",
    "# Set plot size in Jupyter Notebook (8 x 8 inches)\n",
    "options(repr.plot.width = 8, repr.plot.height = 8)\n",
    "\n",
    "# Visualize the Chord distance matrix as a color image\n",
    "image.real(as.matrix(spe.dc))\n",
    "\n",
    "# Add a title above the plot\n",
    "title(\"Chord Distance Matrix Across Samples\")\n"
   ]
  },
  {
   "cell_type": "markdown",
   "id": "c25316e8-49a4-4d2c-9b1a-6d5cf05f7c18",
   "metadata": {},
   "source": [
    "### 2.2.3 Hellinger distance matrix -> *dist(df_hel)*\n",
    "\n",
    "- **dist(`df_hel`)** : *Computes the Euclidean distance between rows after Hellinger transformation* (square root of relative abundances);\n"
   ]
  },
  {
   "cell_type": "markdown",
   "id": "f427f832-e971-4dd6-9475-9572a6087a5c",
   "metadata": {
    "execution": {
     "iopub.execute_input": "2025-06-26T18:29:22.788958Z",
     "iopub.status.busy": "2025-06-26T18:29:22.781026Z",
     "iopub.status.idle": "2025-06-26T18:29:22.844362Z",
     "shell.execute_reply": "2025-06-26T18:29:22.841064Z"
    }
   },
   "source": [
    "<div style=\"display: flex; flex-direction: column; align-items: center; border: 5px solid green; padding: 20px;\">\n",
    "    <div style=\"font-size: 32px; font-weight: bold; margin-bottom: 20px;\">\n",
    "        Hellinger Distance\n",
    "    </div>\n",
    "    <img src=\"images/Hellinger Distance.png\" width=\"45%\">\n",
    "</div>\n"
   ]
  },
  {
   "cell_type": "markdown",
   "id": "f2e8e9f1-c1f3-47a7-b63d-fe00fbc3e745",
   "metadata": {},
   "source": [
    "## Display Hellinger Distance matrix"
   ]
  },
  {
   "cell_type": "code",
   "execution_count": null,
   "id": "bde50a6d-13d2-4b08-9472-448ccfaddebb",
   "metadata": {},
   "outputs": [],
   "source": [
    "# Transform species data using Hellinger transformation\n",
    "spe.hel <- decostand(spe, \"hel\")\n",
    "\n",
    "# Compute Euclidean distance matrix on Hellinger-transformed data\n",
    "spe.dh <- dist(spe.hel)\n",
    "\n",
    "# Set plot size in Jupyter Notebook (8 x 8 inches)\n",
    "options(repr.plot.width = 8, repr.plot.height = 8)\n",
    "\n",
    "# Visualize the Hellinger distance matrix as a color image\n",
    "image.real(as.matrix(spe.dh))\n",
    "\n",
    "# Add a title above the plot\n",
    "title(\"Hellinger Distance Matrix Across Samples\")"
   ]
  },
  {
   "cell_type": "markdown",
   "id": "3f530e6e-adde-4840-a31c-8d57f723780d",
   "metadata": {},
   "source": [
    "## Display every dissimilarity/distance matrix "
   ]
  },
  {
   "cell_type": "code",
   "execution_count": null,
   "id": "8884bbb2-34e6-442f-b65b-70ccc8dbd205",
   "metadata": {},
   "outputs": [],
   "source": [
    "# Set up a 2 rows x 3 columns plotting layout with tighter margins\n",
    "par(mfrow = c(2, 3), mar = c(4, 4, 3, 1))\n",
    "\n",
    "# Set plot size in Jupyter Notebook (width = 18 inches, height = 12 inches)\n",
    "options(repr.plot.width = 18, repr.plot.height = 12)\n",
    "\n",
    "# --- Top row: Bray-Curtis dissimilarity matrices ---\n",
    "\n",
    "# Bray-Curtis dissimilarity matrix (raw data)\n",
    "image.real(as.matrix(spe.db))\n",
    "title(\"Bray-Curtis Dissimilarity\")\n",
    "\n",
    "# Bray-Curtis dissimilarity matrix (log-transformed data)\n",
    "image.real(as.matrix(spe.dbln))\n",
    "title(\"Bray-Curtis Dissimilarity (Log-Transformed)\")\n",
    "\n",
    "# Empty plot to fill third slot on top row\n",
    "plot.new()\n",
    "\n",
    "# --- Bottom row: Other distance/dissimilarity matrices ---\n",
    "\n",
    "# Euclidean distance matrix\n",
    "image.real(as.matrix(spe.eucl))\n",
    "title(\"Euclidean Distance\")\n",
    "\n",
    "# Chord distance matrix (Euclidean distance on normalized data)\n",
    "image.real(as.matrix(spe.dc))\n",
    "title(\"Chord Distance \")\n",
    "\n",
    "# Hellinger distance matrix\n",
    "image.real(as.matrix(spe.dh))\n",
    "title(\"Hellinger Distance\")\n"
   ]
  },
  {
   "cell_type": "markdown",
   "id": "0df4848f-b3eb-4c5b-a229-cb747289b10a",
   "metadata": {},
   "source": [
    "# Question 8"
   ]
  },
  {
   "cell_type": "markdown",
   "id": "cc4882c9-94ae-454c-9db6-8ff8946149d2",
   "metadata": {},
   "source": [
    "<div style=\"padding: 10px; border:1px solid red; font-size: 18px; position: relative;\">\n",
    "  <span style=\"text-decoration:underline; font-weight: bold; font-size: 22px;\">Question 8</span><br/>\n",
    "\n",
    "  <div style=\"margin-bottom: 15px;\">\n",
    "    We want to compare samples based on several parameters (pH, altitude, pressure, oxygen concentration). Data analysts disagree:<br/><br/>\n",
    "    - One group argues that it is essential to use an <strong>asymmetric</strong> index due to the problem of <em>double zeros</em> (common absences).<br/>\n",
    "    - Another group argues that a <strong>symmetric</strong> index is sufficient, that there is no need to worry about double zeros.<br/><br/>\n",
    "    <strong>Which group is correct?</strong>\n",
    "  </div>\n",
    "\n",
    "  <form>\n",
    "    <label><input type=\"radio\" name=\"q\" value=\"symmetric\"> 1) The group advocating the use of a <strong>symmetric</strong> index</label><br/>\n",
    "    <label><input type=\"radio\" name=\"q\" value=\"asymmetric\"> 2) The group advocating the use of an <strong>asymmetric</strong> index</label>\n",
    "  </form>\n",
    "\n",
    "   <p style=\"text-align: right; margin-bottom: 0px; font-style: italic;\">\n",
    "    Answer  is displayed below\n",
    "  </p>\n",
    "</div>\n",
    "\n",
    "<details style=\"font-size: 18px;\">\n",
    "  <summary style=\"font-size: 20px; font-weight: bold; text-decoration: underline;\">Answer</summary>\n",
    "  <div style=\"padding: 10px; border:1px solid blue; font-size: 20px;\">\n",
    "   <form>\n",
    "    <label style=\"color: blue;\"><input type=\"radio\" name=\"q6\" value=\"normalize_both\">  1) The group advocating the use of a <strong>symmetric</strong> index</label><br/>\n",
    "    <label><input type=\"radio\" name=\"q\" value=\"asymmetric\"> 2) The group advocating the use of an <strong>asymmetric</strong> index</label>\n",
    "  </form>\n",
    "  </div>\n",
    "</details>"
   ]
  },
  {
   "cell_type": "markdown",
   "id": "dd86e57f-b000-4904-95c9-0bdac058e67a",
   "metadata": {},
   "source": [
    "# Question 9"
   ]
  },
  {
   "cell_type": "markdown",
   "id": "5a866911-dbbe-439a-ba22-8cbf5948ad95",
   "metadata": {},
   "source": [
    "<div style=\"padding: 10px; border:1px solid red; font-size: 18px;\">\n",
    "  <span style=\"text-decoration:underline; font-weight: bold; font-size: 22px;\">Question 9</span><br/><br/>\n",
    "    \n",
    "  1) Read the CSV file named <code>random_environment_data.csv</code> and store it in a variable called <code>random_env</code>.<br/>\n",
    "    \n",
    "  2) Since each column represents a different environmental predictor with its own scale (e.g., temperature, pH, etc.), we want to compare samples in a meaningful way.\n",
    "<strong>What should we do to the data before calculating the distances between samples?</strong><br/>\n",
    "\n",
    "  3) Apply the appropriate transformation based on your answer to step 2 <br/>\n",
    "  \n",
    "   4) Compute the Euclidean distance between samples using the transformed data.<br/>\n",
    "  \n",
    "   5) Visualize the resulting distance matrix using the coldiss() function.<br/>\n",
    "</div>\n"
   ]
  },
  {
   "cell_type": "code",
   "execution_count": null,
   "id": "1b73630c-3e04-449e-80c0-90edf9816253",
   "metadata": {},
   "outputs": [],
   "source": [
    "# 1) Read the CSV file into a dataframe named random_env (hint: use read.csv())\n",
    "random_env <- _____(\"random_environment_data.csv\")\n",
    "random_env"
   ]
  },
  {
   "cell_type": "markdown",
   "id": "317294cb-452d-4be6-89c4-ae6503500ec0",
   "metadata": {
    "execution": {
     "iopub.execute_input": "2025-07-05T23:19:22.146398Z",
     "iopub.status.busy": "2025-07-05T23:19:22.143099Z",
     "iopub.status.idle": "2025-07-05T23:19:22.167609Z",
     "shell.execute_reply": "2025-07-05T23:19:22.164964Z"
    }
   },
   "source": [
    "\n",
    "<details style=\"font-size: 18px;\">\n",
    "  <summary style=\"font-size: 20px; font-weight: bold; text-decoration: underline;\">1) Answer</summary>\n",
    "  <div style=\"padding: 10px; border:1px solid blue; font-size: 20px;\">\n",
    "    <code> random_env <- <span style=\"color:blue;\">read.csv</span>(\"random_environment_data.csv\") </code><br/>\n",
    "  </div>\n",
    "</details>\n"
   ]
  },
  {
   "cell_type": "markdown",
   "id": "7e85b44b-cd9b-4b17-ab84-9ff21fe004a4",
   "metadata": {},
   "source": [
    "<div style=\"padding: 10px; border:1px solid red; font-size: 18px;\">\n",
    "    2. Since each column represents a different environmental predictor with its own scale (e.g., temperature, pH, etc.), we want to compare samples in a meaningful way.\n",
    "<strong>What should we do to the data before calculating the distances between samples?</strong><br/>\n",
    "<form> \n",
    "    <label><input type=\"radio\" name=\"q6\" value=\"standardize_columns\"> Standardize each column (e.g., z-score normalization)</label><br/> \n",
    "    <label><input type=\"radio\" name=\"q6\" value=\"log_highest\"> Apply a log transformation to the column with the highest values</label><br/> \n",
    "    <label><input type=\"radio\" name=\"q6\" value=\"standardize_rows\"> Standardize each row (i.e., each sample)</label><br/> \n",
    "</form>\n",
    "</div>\n"
   ]
  },
  {
   "cell_type": "markdown",
   "id": "cd4969a6-9149-46d4-9b29-9e09447ae58e",
   "metadata": {},
   "source": [
    "<details style=\"font-size: 18px;\">\n",
    "  <summary style=\"font-size: 20px; font-weight: bold; text-decoration: underline;\">2) Answer</summary>\n",
    "\n",
    "<div style=\"padding: 10px; border:0.05px solid blue; font-size: 18px; margin-top: 5px;\">\n",
    "<form>\n",
    "    <label><input type=\"radio\" name=\"q6\" value=\"standardize_columns\"> <span style=\"color:blue;\"> Standardize each column (e.g., z-score normalization) </span> </label><br/> \n",
    "    <label><input type=\"radio\" name=\"q6\" value=\"log_highest\"> Apply a log transformation to the column with the highest values</label><br/> \n",
    "    <label><input type=\"radio\" name=\"q6\" value=\"standardize_rows\"> Standardize each row (i.e., each sample)</label><br/> \n",
    "</form>\n",
    "</div>\n",
    "\n",
    "\n",
    "\n",
    "</details>"
   ]
  },
  {
   "cell_type": "code",
   "execution_count": null,
   "id": "73cc9640-e037-4e34-af73-d00d495399cf",
   "metadata": {},
   "outputs": [],
   "source": [
    "# 3) Apply the appropriate transformation based on your answer to step 2 \n",
    "\n",
    "# ( hint : use decostand() )\n",
    "random_env.transf <- _____(random_env, method = \"standardize\")"
   ]
  },
  {
   "cell_type": "markdown",
   "id": "6432114d-9c95-494e-9bc2-653d1b267beb",
   "metadata": {},
   "source": [
    "\n",
    "<details style=\"font-size: 18px;\">\n",
    "  <summary style=\"font-size: 20px; font-weight: bold; text-decoration: underline;\">3) Answer</summary>\n",
    "  <div style=\"padding: 10px; border:1px solid blue; font-size: 20px;\">\n",
    "    <code> random_env.transf <- <span style=\"color:blue;\">decostand</span>(random_env, method = \"standardize\") </code><br/>\n",
    "  </div>\n",
    "</details>\n"
   ]
  },
  {
   "cell_type": "code",
   "execution_count": null,
   "id": "f0440f2e-b2ac-4933-9816-fbf3636f56da",
   "metadata": {},
   "outputs": [],
   "source": [
    "# 4) Compute the Euclidean distance between samples using the transformed data.\n",
    "\n",
    "# Compute Euclidean distance matrix from the random_env.transf (hint : use dips)\n",
    "random_env.transf.eucl <- _______(random_env.transf)\n"
   ]
  },
  {
   "cell_type": "markdown",
   "id": "a31d0239-a2aa-4979-bba2-684b87df9de9",
   "metadata": {},
   "source": [
    "\n",
    "<details style=\"font-size: 18px;\">\n",
    "  <summary style=\"font-size: 20px; font-weight: bold; text-decoration: underline;\">4) Answer</summary>\n",
    "  <div style=\"padding: 10px; border:1px solid blue; font-size: 20px;\">\n",
    "    <code> random_env.transf.eucl  <- <span style=\"color:blue;\">dist</span>(random_env.transf) </code><br/>\n",
    "  </div>\n",
    "</details>\n"
   ]
  },
  {
   "cell_type": "code",
   "execution_count": null,
   "id": "81c949b8-4aa3-4771-8607-451d4f2de406",
   "metadata": {},
   "outputs": [],
   "source": [
    "# 5) Display the distance matrix with coldiss\n",
    "\n",
    "# Set plot size in Jupyter (wide and not too tall)\n",
    "options(repr.plot.width = 14, repr.plot.height = 7)\n",
    "\n",
    "# Display the euclidian distance matrix using coldiss (custom function by François Gillet)\n",
    "# nc = 15: number of color classes, diag = TRUE: show labels on the diagonal as well (hint : use coldiss())\n",
    "____(random_env.transf.eucl, nc = 15, diag = TRUE)\n",
    "\n",
    "# Add a title above the plot\n",
    "title(\"Euclidean Distance Matrix Between Environmental Samples\", line = 3)\n"
   ]
  },
  {
   "cell_type": "markdown",
   "id": "a1061fba-242e-4213-978e-46fafd67394e",
   "metadata": {},
   "source": [
    "<details style=\"font-size: 18px;\">\n",
    "  <summary style=\"font-size: 20px; font-weight: bold; text-decoration: underline;\">5) Answer</summary>\n",
    "  <div style=\"padding: 10px; border:1px solid blue; font-size: 20px;\">\n",
    "    <code> <span style=\"color:blue;\">coldiss</span>(random_env.transf.eucl, nc = 15, diag = TRUE) </code><br/>\n",
    "    <img src=\"images/Euclidian_distance_random_env.png\" alt=\"Chord Distance Plot\" style=\"margin-top: 15px; max-width: 100%; height: auto; border:1px solid #ccc;\">\n",
    "  </div>\n",
    "</details>\n"
   ]
  },
  {
   "cell_type": "markdown",
   "id": "22e44654-2e4a-4b8b-b8a1-c4a11f286682",
   "metadata": {
    "editable": true,
    "slideshow": {
     "slide_type": ""
    },
    "tags": []
   },
   "source": [
    "# 3  Dissimilarity measures for **binary data** (Jaccard, Sorensen )->(*vegdist(),dist()*)"
   ]
  },
  {
   "cell_type": "markdown",
   "id": "b7c62f70-04b7-404c-be97-81ec85c2e942",
   "metadata": {},
   "source": [
    "<div style=\"display: flex; flex-direction: column; align-items: center; border: 5px solid green; padding: 20px;\">\n",
    "    <div style=\"font-size: 32px; font-weight: bold; margin-bottom: 20px;\">\n",
    "        Jaccard Sorensen\n",
    "    </div>\n",
    "    <div style=\"display: flex; justify-content: space-around; width: 100%;\">\n",
    "        <img src=\"images/Q_modes.png\" width=\"35%\">\n",
    "        <img src=\"images/Q_mode_semi.png\" width=\"22%\">\n",
    "    </div>\n",
    "</div>\n"
   ]
  },
  {
   "cell_type": "markdown",
   "id": "8dcb7e14-160c-4423-9463-192e840e7ae2",
   "metadata": {
    "execution": {
     "iopub.execute_input": "2025-06-20T07:27:16.398582Z",
     "iopub.status.busy": "2025-06-20T07:27:16.392491Z",
     "iopub.status.idle": "2025-06-20T07:27:16.480631Z",
     "shell.execute_reply": "2025-06-20T07:27:16.476805Z"
    }
   },
   "source": [
    "## 3.1 Jaccard Dissimilarity matrix -> *vergist() & dist()*"
   ]
  },
  {
   "cell_type": "markdown",
   "id": "f4704ca6-b1e5-4804-9442-c16931dc54d4",
   "metadata": {},
   "source": [
    "### 3.1.1 Using vegdist() -> *vegdist(df, \"jac\", binary = TRUE)*\n",
    "\n",
    "- **vegdist(`df`, `\"jac\"`, binary = `TRUE`)** : *Computes the Jaccard (presence/absence) dissimilarity between rows of a dataframe `df`*;\n"
   ]
  },
  {
   "cell_type": "code",
   "execution_count": null,
   "id": "e402bc26-5f83-42b2-b466-5027f33d965e",
   "metadata": {},
   "outputs": [],
   "source": [
    "# Calculate Jaccard dissimilarity matrix using vegdist() with binary presence-absence data\n",
    "spe.dj <- vegdist(spe, \"jac\", binary = TRUE)\n",
    "\n",
    "# Set plot size in Jupyter Notebook to 8 x 8 inches\n",
    "options(repr.plot.width = 8, repr.plot.height = 8)\n",
    "\n",
    "# Visualize the Jaccard dissimilarity matrix as a color image\n",
    "image.real(as.matrix(spe.dj))\n",
    "\n",
    "# Add a title above the plot\n",
    "title(main = \"Jaccard Dissimilarity Matrix (using vegdist())\")\n"
   ]
  },
  {
   "cell_type": "markdown",
   "id": "cb5bd1e1-9e33-4a32-b507-0726ac4d6e8e",
   "metadata": {},
   "source": [
    "### 3.1.2 Using dist() -> *dist(df, method = \"binary\")*\n",
    "\n",
    "- **dist(`df`, method = `\"binary\"`)** : *Computes the binary (presence/absence) distance between rows of a dataframe `df`*;\n"
   ]
  },
  {
   "cell_type": "code",
   "execution_count": null,
   "id": "7a272a72-553a-495e-92c2-956441386db4",
   "metadata": {},
   "outputs": [],
   "source": [
    "# Calculate Jaccard dissimilarity matrix using dist(, method =\"binary\") function with binary presence-absence data\n",
    "spe.dj2 <- dist(spe, method = \"binary\")\n",
    "\n",
    "# Set plot size in Jupyter Notebook (8 x 8 inches)\n",
    "options(repr.plot.width = 8, repr.plot.height = 8)\n",
    "\n",
    "# Visualize the Jaccard dissimilarity matrix as a color image\n",
    "image.real(as.matrix(spe.dj2))\n",
    "\n",
    "# Add a title above the plot\n",
    "title(main = \"Jaccard Dissimilarity Matrix (using dist())\")\n"
   ]
  },
  {
   "cell_type": "markdown",
   "id": "f7fc87ea-c249-4c7a-b8e4-651fb42cacaf",
   "metadata": {},
   "source": [
    "## 3.2 Sørensen dissimilarity matrix -> *vegdist(df, method = \"bray\", binary = TRUE)*\n",
    "\n",
    "- **vegdist(`df`, method = `\"bray\"`, binary = `TRUE`)** : *Computes the Sørensen (Bray-Curtis on presence/absence) dissimilarity between rows of a dataframe `df`*;"
   ]
  },
  {
   "cell_type": "code",
   "execution_count": null,
   "id": "d5bddd55-492a-4504-98a4-4721efe33a2b",
   "metadata": {},
   "outputs": [],
   "source": [
    "# Calculate Sorensen (Bray-Curtis) dissimilarity matrix using vegdist() with binary presence-absence data\n",
    "spe.ds <- vegdist(spe, method = \"bray\", binary = TRUE)\n",
    "\n",
    "# Set plot size in Jupyter Notebook (8 x 8 inches)\n",
    "options(repr.plot.width = 8, repr.plot.height = 8)\n",
    "\n",
    "# Visualize the Sorensen dissimilarity matrix as a color image\n",
    "image.real(as.matrix(spe.ds))\n",
    "\n",
    "# Add a title above the plot\n",
    "title(main = \"Sorensen Dissimilarity Matrix (using vegdist())\")\n"
   ]
  },
  {
   "cell_type": "markdown",
   "id": "4196d79a-5b64-4fcd-8bda-e8d1f9789823",
   "metadata": {},
   "source": [
    "## Display every dissimilarity/distance matrix "
   ]
  },
  {
   "cell_type": "code",
   "execution_count": null,
   "id": "34fb323e-ffb6-4346-aae7-e46a7a424870",
   "metadata": {},
   "outputs": [],
   "source": [
    "# Set plot size to 16 x 8 inches to accommodate two plots side by side\n",
    "options(repr.plot.width = 16, repr.plot.height = 8)\n",
    "\n",
    "# Divide the plotting area into 1 row and 2 columns (side-by-side plots)\n",
    "par(mfrow = c(1, 2))\n",
    "\n",
    "# Plot 1: Jaccard dissimilarity matrix\n",
    "image.real(as.matrix(spe.dj))\n",
    "title(main = \"Jaccard Dissimilarity Matrix (using vegdist())\")\n",
    "\n",
    "# Plot 2: Sorensen dissimilarity matrix\n",
    "image.real(as.matrix(spe.ds))\n",
    "title(main = \"Sorensen Dissimilarity Matrix (using vegdist())\")\n"
   ]
  },
  {
   "cell_type": "markdown",
   "id": "7c1519d9-f81a-4082-b680-961413118305",
   "metadata": {},
   "source": [
    "# Question 10"
   ]
  },
  {
   "cell_type": "markdown",
   "id": "308a15af-aa6c-4825-9d61-f260efdc0b0f",
   "metadata": {},
   "source": [
    "<div style=\"padding: 10px; border:1px solid red; font-size: 18px;\">\n",
    "  <span style=\"text-decoration:underline; font-weight: bold; font-size: 22px;\">Question 10</span><br/><br/>\n",
    "  \n",
    "  A census center wanted to see how similar inhabitants are. They analyzed 7 binary predictors (yes/no, coded 1/0) for 25 people, covering traits like married, has children, owns a car, has a job, etc.<br/><br/>\n",
    "  \n",
    "  1) Display the dataframe to see which predictors were analyzed.<br/>\n",
    "  2) Calculate the Jaccard dissimilarity matrix between individuals.<br/>\n",
    "  3) Display this matrix using the <code>coldiss()</code> function.<br/>\n",
    "</div>"
   ]
  },
  {
   "cell_type": "code",
   "execution_count": null,
   "id": "512f71fc-46aa-4b4d-9a9a-2d4df8144293",
   "metadata": {},
   "outputs": [],
   "source": [
    "# 1) Read the CSV file into a dataframe named demographic_data (hint: use read.csv())\n",
    "demographic_data <- _____(\"demographic_data.csv\")\n",
    "demographic_data"
   ]
  },
  {
   "cell_type": "markdown",
   "id": "41e3a4f9-6ccd-4fce-ae54-091535352225",
   "metadata": {
    "execution": {
     "iopub.execute_input": "2025-07-08T10:09:44.928804Z",
     "iopub.status.busy": "2025-07-08T10:09:44.924504Z",
     "iopub.status.idle": "2025-07-08T10:09:44.978208Z",
     "shell.execute_reply": "2025-07-08T10:09:44.976213Z"
    }
   },
   "source": [
    "<details style=\"font-size: 18px;\">\n",
    "  <summary style=\"font-size: 20px; font-weight: bold; text-decoration: underline;\">1) Answer</summary>\n",
    "  <div style=\"padding: 10px; border:1px solid blue; font-size: 20px;\">\n",
    "    <code> demographic_data &lt;- <span style=\"color:blue;\">read.csv</span>(\"demographic_data.csv\") </code><br/><br/>\n",
    "    <img src=\"images/demographic_data_picture.png\" alt=\"Demographic Data Preview\" style=\"margin-top:10px; max-width: 100%; border: 1px solid #ccc;\" />\n",
    "  </div>\n",
    "</details>\n"
   ]
  },
  {
   "cell_type": "code",
   "execution_count": null,
   "id": "d45c3c99-36cd-4785-b2f5-86234b1af3b0",
   "metadata": {},
   "outputs": [],
   "source": [
    "# 2 Calculate Jaccard dissimilarity matrix (hint :use dist(, method =\"binary\"))\n",
    "demographic_data.dj2 <- ____(demographic_data, method = \"_____\")"
   ]
  },
  {
   "cell_type": "markdown",
   "id": "01c36745-3ca3-4148-b69c-4f8d07a47b36",
   "metadata": {},
   "source": [
    "\n",
    "<details style=\"font-size: 18px;\">\n",
    "  <summary style=\"font-size: 20px; font-weight: bold; text-decoration: underline;\">2) Answer</summary>\n",
    "  <div style=\"padding: 10px; border:1px solid blue; font-size: 20px;\">\n",
    "    <code> demographic_data.dj2 <-<span style=\"color:blue;\">dist</span>(demographic_data, method = \"binary\") </code><br/>\n",
    "  </div>\n",
    "</details>\n"
   ]
  },
  {
   "cell_type": "code",
   "execution_count": null,
   "id": "22c3a104-6efb-405a-a6e7-dc024f647d34",
   "metadata": {},
   "outputs": [],
   "source": [
    "# 3) Display the Jaccard dissimilarity matrix with coldiss\n",
    "\n",
    "# Set plot size in Jupyter (wide and not too tall)\n",
    "options(repr.plot.width = 14, repr.plot.height = 7)\n",
    "\n",
    "# Display the euclidian distance matrix using coldiss (custom function by François Gillet)\n",
    "# nc = 15: number of color classes, diag = TRUE: show labels on the diagonal as well (hint : use coldiss())\n",
    "____(demographic_data.dj2, nc = 15, diag = TRUE)\n",
    "\n",
    "# Add a title above the plot\n",
    "title(\"Jaccard Dissimilarity Matrix Between Individuals\", line = 3)\n"
   ]
  },
  {
   "cell_type": "markdown",
   "id": "2e3b5d4a-0ba7-473f-bd6c-8e0d099c3d26",
   "metadata": {},
   "source": [
    "\n",
    "<details style=\"font-size: 18px;\">\n",
    "  <summary style=\"font-size: 20px; font-weight: bold; text-decoration: underline;\">3) Answer</summary>\n",
    "  <div style=\"padding: 10px; border:1px solid blue; font-size: 20px;\">\n",
    "    <code> <span style=\"color:blue;\">coldiss</span>(demographic_data.dj2, nc = 15, diag = TRUE) </code><br/>\n",
    "      <img src=\"images/Jaccard_dist_individuals.png\" alt=\"Demographic Data Preview\" style=\"margin-top:10px; max-width: 100%; border: 1px solid #ccc;\" />\n",
    "  </div>\n",
    "</details>\n"
   ]
  },
  {
   "cell_type": "markdown",
   "id": "027d1689-e167-45b1-9d78-ba7baf939a06",
   "metadata": {},
   "source": [
    "# Question 11"
   ]
  },
  {
   "cell_type": "markdown",
   "id": "97494493-e141-46da-9e30-58b5fac719b6",
   "metadata": {},
   "source": [
    "<div style=\"padding: 10px; border:1px solid red; font-size: 18px;\">\n",
    "  <span style=\"text-decoration:underline; font-weight: bold; font-size: 22px;\">Question 11</span><br/><br/>\n",
    "  \n",
    "  In the dataset <code>env</code>, we want to compare samples based on several environmental variables (each column). Since these variables are on different scales (e.g., pH, altitude, pressure), we’ll use Euclidean distance to compare them meaningfully. Follow the steps below:<br/><br/>\n",
    "\n",
    "  Step 1) Remove the column named <code>dfs</code> from the <code>env</code> dataset.<br/>\n",
    "  Step 2) Standardize each column to account for scale differences across variables.<br/>\n",
    "  Step 3) Compute the Euclidean distance matrix between samples.<br/>\n",
    "  Step 4) Visualize the distance matrix using the <code>coldiss()</code> function.<br/>\n",
    "</div>\n"
   ]
  },
  {
   "cell_type": "markdown",
   "id": "858e9be4-21e6-41ee-bb1d-62fb6058f0bb",
   "metadata": {},
   "source": [
    "## Step 1) Remove the 'dfs' variable from the env dataset"
   ]
  },
  {
   "cell_type": "code",
   "execution_count": null,
   "id": "21a1c7d6-e50f-423c-bcd7-0dd36d840cb3",
   "metadata": {},
   "outputs": [],
   "source": [
    "## Step 1) Remove the 'dfs' variable from the env dataset\n",
    "env2 <- env[, -1]"
   ]
  },
  {
   "cell_type": "markdown",
   "id": "4bcbd735-a43a-4cef-a0dd-3e951e12d7fd",
   "metadata": {},
   "source": [
    "## Step 2) Standardize each column to account for scale differences across variables."
   ]
  },
  {
   "cell_type": "code",
   "execution_count": null,
   "id": "1538471d-1d4c-4b9b-bc7f-5f602fb63325",
   "metadata": {},
   "outputs": [],
   "source": [
    "#Step 2) Standardize each column to account for scale differences across variables.\n",
    "env.standardized <- scale(env2)"
   ]
  },
  {
   "cell_type": "markdown",
   "id": "6510fbb5-f653-4e13-bb08-548a8d9f10c2",
   "metadata": {},
   "source": [
    "## Step 3) Compute the Euclidean distance matrix between samples."
   ]
  },
  {
   "cell_type": "code",
   "execution_count": null,
   "id": "cd99500e-c139-4ef5-8e0b-db90091b8cde",
   "metadata": {},
   "outputs": [],
   "source": [
    "## Step 3) Compute the Euclidean distance matrix between samples.\n",
    "env.standardized_dist <- dist(env.standardized_dist)"
   ]
  },
  {
   "cell_type": "markdown",
   "id": "2435fb49-cb69-4b91-9870-754e358f84ef",
   "metadata": {},
   "source": [
    "## Step 4) Visualize the distance matrix using the coldiss() function"
   ]
  },
  {
   "cell_type": "code",
   "execution_count": null,
   "id": "caf5e2bf-76c5-4eab-b1de-734c88e1d19d",
   "metadata": {},
   "outputs": [],
   "source": [
    "## Step 4) Visualize the distance matrix using the coldiss() function\n",
    "options(repr.plot.width = 14, repr.plot.height = 7)\n",
    "coldiss(env.de, nc=8, diag=TRUE)"
   ]
  },
  {
   "cell_type": "markdown",
   "id": "227bcfcf-01fb-4e43-a9bb-08ebb8a59aff",
   "metadata": {},
   "source": [
    "# Question 12"
   ]
  },
  {
   "cell_type": "markdown",
   "id": "a6a5e816-3e28-4b8b-b5e2-422ef5434acc",
   "metadata": {},
   "source": [
    "<div style=\"padding: 10px; border:1px solid red; font-size: 18px;\">\n",
    "  <span style=\"text-decoration:underline; font-weight: bold; font-size: 22px;\">Question 12</span><br/><br/>\n",
    "\n",
    "  In the <code>spa</code> dataset, we want to compare the Euclidean distances between the spatial coordinates of the samples. The goal is to check whether the spatial layout we observe in a basic plot is accurately reflected in the Euclidean distance matrix.<br/><br/>\n",
    "\n",
    "  Step 1) Plot the spatial distribution of the samples using their coordinates:<br/>\n",
    "  Step 2) Compute the Euclidean distance matrix for the spatial coordinates.<br/>\n",
    "  Step 3) Visualize this distance matrix using the <code>coldiss()</code> function.<br/>\n",
    "</div>\n"
   ]
  },
  {
   "cell_type": "markdown",
   "id": "0f7af99d-25bc-4a72-a2ee-d74247656721",
   "metadata": {},
   "source": [
    "## Step 1) Plot the spatial distribution of the samples using their coordinates:"
   ]
  },
  {
   "cell_type": "code",
   "execution_count": null,
   "id": "d9a2182d-60ea-4af7-95df-820c12c03745",
   "metadata": {},
   "outputs": [],
   "source": [
    "# Set plot size to 14 x 7 inches to accommodate two plots side by side\n",
    "options(repr.plot.width = 14, repr.plot.height = 7)\n",
    "# Plot the spatial coordinates of the samples as a connected line plot\n",
    "plot(spa$X, spa$Y, type=\"b\", col=\"blue\", xlab=\"X\", ylab=\"y\")\n",
    "# Add the row names of the samples as labels near each point\n",
    "text(spa$X, spa$Y, labels = rownames(spa), pos = 3, cex = 0.8)"
   ]
  },
  {
   "cell_type": "markdown",
   "id": "7a3b662f-0bdf-4324-af3b-56bf21b8ec65",
   "metadata": {},
   "source": [
    "## Step 2) Compute the Euclidean distance matrix for the spatial coordinates."
   ]
  },
  {
   "cell_type": "code",
   "execution_count": null,
   "id": "76a50131-d368-468b-9410-f01a1ee24d80",
   "metadata": {},
   "outputs": [],
   "source": [
    "spa.de <- dist(spa)"
   ]
  },
  {
   "cell_type": "markdown",
   "id": "73c9c8ad-ca3b-4444-8b0c-60a63fdf8a0d",
   "metadata": {},
   "source": [
    "## Step 3) Visualize this distance matrix using the coldiss() function."
   ]
  },
  {
   "cell_type": "code",
   "execution_count": null,
   "id": "3eb336c2-ab85-46e5-9b4e-f8a72d1a3684",
   "metadata": {},
   "outputs": [],
   "source": [
    "# Display the Euclidean distance matrix using the coldiss() function\n",
    "coldiss(spa.de, nc = 16, diag = TRUE)"
   ]
  },
  {
   "cell_type": "markdown",
   "id": "d0368294-5a05-4b82-81a1-8871fd191eba",
   "metadata": {},
   "source": [
    "# 4 Gower Dissimilarity for **Mixed-Type Data** → *daisy()*"
   ]
  },
  {
   "cell_type": "markdown",
   "id": "68eacd78-58fa-430d-975c-dfbaa0d0c466",
   "metadata": {},
   "source": [
    "<div style=\"display: flex; flex-direction: column; align-items: center; border: 5px solid green; padding: 20px;\">\n",
    "    <div style=\"font-size: 32px; font-weight: bold; margin-bottom: 20px;\">\n",
    "        Gower Dissimilarity (Mixed Type Data)\n",
    "    </div>\n",
    "    <img src=\"images/Script2_datframe_daisy.png\" width=\"35%\">\n",
    "</div>\n"
   ]
  },
  {
   "cell_type": "markdown",
   "id": "2dbcc1e4-b22e-4faa-8154-04492f1398ad",
   "metadata": {},
   "source": [
    "## Using daisy() -> *daisy(df, metric = \"gower\")*\n",
    "\n",
    "- **daisy(`df`, metric = \"gower\")** : *Computes Gower’s dissimilarity between rows of a dataframe, handling mixed data types (numeric, factor, etc.)*;\n"
   ]
  },
  {
   "cell_type": "code",
   "execution_count": null,
   "id": "82247307-31ff-4788-a61e-a03faf2e0cd9",
   "metadata": {},
   "outputs": [],
   "source": [
    "# Fictitious data for Gower index\n",
    "\n",
    "# Generate 30 random values from a standard normal distribution (mean = 0, sd = 1)\n",
    "var1 <- rnorm(30, mean = 0, sd = 1)\n",
    "\n",
    "# Generate 30 random values from a uniform distribution between 0 and 5\n",
    "var2 <- runif(30, min = 0, max = 5)\n",
    "\n",
    "# Generate a factor variable with 3 levels (A, B, C), each repeated 10 times (total length 30)\n",
    "var3 <- gl(3, 10, labels = c(\"A\", \"B\", \"C\"))\n",
    "\n",
    "# Generate a factor variable with 2 levels (D, E), each repeated 5 times, total length 30\n",
    "var4 <- gl(2, 5, 30, labels = c(\"D\", \"E\"))\n",
    "\n",
    "\n",
    "# Create a data frame named dat combining the vectors g1, g2, g3, and g4 as columns\n",
    "dat <- data.frame(var1, var2, var3, var4)\n",
    "head(dat)"
   ]
  },
  {
   "cell_type": "code",
   "execution_count": null,
   "id": "647c22d5-485b-4878-ba47-2662839cb583",
   "metadata": {},
   "outputs": [],
   "source": [
    "# Complete data matrix (4 variables)\n",
    "\n",
    "# Compute the Gower dissimilarity matrix for a dataset with mixed data types\n",
    "dat_gower <- daisy(dat, \"gower\")\n",
    "# Check the range of dissimilarity values (should be between 0 and 1 for Gower)\n",
    "range(dat_gower)\n",
    "# Set plot size to 14 x 7 inches to accommodate two plots side by side\n",
    "options(repr.plot.width = 14, repr.plot.height = 7)\n",
    "\n",
    "# Visualize the Gower dissimilarity matrix using coldiss()\n",
    "coldiss(dat_gower, diag = TRUE)"
   ]
  },
  {
   "cell_type": "markdown",
   "id": "a64904e0-2165-4d93-95aa-06d8c0702e3c",
   "metadata": {},
   "source": [
    "# HOMEWORK : TASK 2"
   ]
  },
  {
   "cell_type": "markdown",
   "id": "b44c0c26-cf41-41d4-b2ff-474a618dd106",
   "metadata": {},
   "source": [
    "<div style=\"padding: 10px; border:1px solid red; font-size: 18px;\">\n",
    "  <span style=\"text-decoration:underline; font-weight: bold; font-size: 22px;\">HOMEWORK : TASK 2</span><br/>\n",
    "  Inspect the <code>spe</code> and plot the <strong>Bray-Curtis</strong> dissimilarity and <strong>Jaccard</strong> dissimilariy matrices<br/>\n",
    "  <ol>\n",
    "    <li> Visually estimate how many (large) clusters of samples are there based on Bray-Curtis dissimilarity</li>\n",
    "    <li> Is there a difference between number of clusters of samples based on Bray-Curtis and Jaccard dissimilarities?</li>\n",
    "    <li> Based on the results to the question above - what can we learn about the distribution of species and their abundance in the <code>spe</code> dataset?</li>\n",
    "  </ol>\n",
    "  <p style=\"text-align: right; margin-bottom: 0px; font-style: italic;\">\n",
    "    Answer these questions based on your analysis.\n",
    "  </p>\n",
    "</div>\n"
   ]
  },
  {
   "cell_type": "code",
   "execution_count": null,
   "id": "0a15e912-54ac-44b8-9ac3-d87072442310",
   "metadata": {},
   "outputs": [],
   "source": [
    "#Q1: visually estimate how many (large) clusters of samples are there based on Bray-Curtis dissimilarity? (hint : use vegdist(), coldiss())\n",
    "# your code here :\n",
    "\n",
    "\n",
    "# Compute Bray-Curtis dissimilarity matrix from the 'spe' dataset\n",
    "spe.db <- _____(spe)\n",
    "\n",
    "# Set plot size to 14 x 7 inches to accommodate two plots side by side\n",
    "options(repr.plot.width = 14, repr.plot.height = 7)\n",
    "\n",
    "# Display the dissimilarity matrix using coldiss (custom function by François Gillet)\n",
    "# nc = 15: number of color classes, diag = TRUE: show labels on the diagonal as well\n",
    "______(spe.db, nc = 15, diag = TRUE)\n",
    "\n",
    "# Add a title above the plot\n",
    "title(\"Bray-Curtis Dissimilarity Matrix Between Samples\", line = 3)\n"
   ]
  },
  {
   "cell_type": "markdown",
   "id": "0bc788bb-48c7-4785-9e12-dfcae021f99f",
   "metadata": {},
   "source": [
    "<details style=\"font-size: 18px;\">\n",
    "  <summary style=\"font-size: 20px; font-weight: bold; text-decoration: underline;\">1) Answer</summary>\n",
    "  <div style=\"padding: 10px; border:1px solid blue; font-size: 20px;\">\n",
    "    <code> spe.db <-<span style=\"color:blue;\">vegdist</span>(spe) </code><br/>\n",
    "    <code> <span style=\"color:blue;\">coldiss</span>(spe.db, nc = 15, diag = TRUE) </code><br/>\n",
    "    <br/>\n",
    "    <img src=\"images/Homework2.png\" alt=\"Homework 2 plot\" style=\"margin-top:10px; max-width:100%; border: 1px solid #ccc;\" />\n",
    "  </div>\n",
    "</details>\n"
   ]
  },
  {
   "cell_type": "code",
   "execution_count": null,
   "id": "e23397d1-bdee-4247-a26e-a91e96c0eb86",
   "metadata": {},
   "outputs": [],
   "source": [
    "#Q2: is there a difference between number of clusters of samples based on Bray-Curtis and Jaccard dissimilarities? (hint : use vegdist(),vegdist(df, \"jac\", binary = TRUE),coldiss() )\n",
    "# your code here :\n",
    "\n",
    "# Compute Jaccard Dissimilarity Matrix (binary presence/absence) from the 'spe' dataset\n",
    "spe.jac <- _____(spe, method = \"jac\", binary = TRUE)\n",
    "\n",
    "# Set plot size to 14 x 7 inches to accommodate two plots side by side\n",
    "options(repr.plot.width = 14, repr.plot.height = 7)\n",
    "\n",
    "# Display the dissimilarity matrix using coldiss (custom function by François Gillet)\n",
    "# nc = 15: number of color classes, diag = TRUE: show labels on the diagonal as well\n",
    "______(spe.jac, nc = 15, diag = TRUE)\n",
    "\n",
    "\n",
    "title(\"Jaccard Dissimilarity Between Samples (Absence/Presence Data)\", line = 3)\n",
    "\n",
    "# Display the Bray-curtis dissimilarity matrix using coldiss (custom function by François Gillet)\n",
    "coldiss(spe.bc, nc = 15, diag = TRUE)\n",
    "title(\"Bray-Curtis Dissimilarity Between Samples (Abundance Data)\", line = 3)"
   ]
  },
  {
   "cell_type": "markdown",
   "id": "d88d3eab-bcab-468a-bf0d-afcc3b6f31ad",
   "metadata": {},
   "source": [
    "<details style=\"font-size: 18px;\">\n",
    "  <summary style=\"font-size: 20px; font-weight: bold; text-decoration: underline;\">2) Answer</summary>\n",
    "  <div style=\"padding: 10px; border:1px solid blue; font-size: 20px;\">\n",
    "    <code> spe.jac <-<span style=\"color:blue;\">vegdist</span>(spe, method = \"jac\", binary = TRUE) </code><br/>\n",
    "    <code> <span style=\"color:blue;\">coldiss</span>(spe.jac, nc = 15, diag = TRUE) </code><br/><br/>\n",
    "    <img src=\"images/Homework2_1.png\" alt=\"Jaccard Dissimilarity Plot\" width=\"700px\"/>\n",
    "  </div>\n",
    "</details>\n"
   ]
  },
  {
   "cell_type": "markdown",
   "id": "b14ccf57-7362-4f8c-b5f9-f62e02bf5433",
   "metadata": {},
   "source": [
    "## Q3) Based on the results to the question above - what can we learn about the distribution of species and their abundance in the spe dataset?"
   ]
  },
  {
   "cell_type": "raw",
   "id": "41086ef2-cf62-4328-995f-14d18f6e3a82",
   "metadata": {
    "execution": {
     "iopub.execute_input": "2025-06-21T10:36:29.491377Z",
     "iopub.status.busy": "2025-06-21T10:36:29.484951Z",
     "iopub.status.idle": "2025-06-21T10:36:29.513451Z",
     "shell.execute_reply": "2025-06-21T10:36:29.510338Z"
    }
   },
   "source": [
    "#Q3: Based on the results to the question above - what can we learn about the distribution of species and their abundance in the Spe dataset\n",
    "\n",
    "-\n",
    "-\n",
    ".\n"
   ]
  },
  {
   "cell_type": "markdown",
   "id": "fb19b41a-3f18-4b9b-90c8-0327343cfe65",
   "metadata": {},
   "source": [
    "# 5 (R-mode) Correlations -> (*pairs(),cor(df),cor(df,method=),order.single()*)"
   ]
  },
  {
   "cell_type": "markdown",
   "id": "8bf72502-3c44-4698-b926-7d443fa2966c",
   "metadata": {},
   "source": [
    "<div style=\"display: flex;  border:5px solid green;justify-content: space-around;\">\n",
    "    <img src=\"images/R mode.png\" width=\"45%\">\n",
    "</div>"
   ]
  },
  {
   "cell_type": "markdown",
   "id": "cc898d10-b5ee-4e9c-8850-d31aed5f648e",
   "metadata": {},
   "source": [
    "<div style=\"padding: 10px; border:1px solid red; font-size: 18px; position: relative;\">\n",
    "  <span style=\"text-decoration:underline; font-weight: bold; font-size: 22px;\">Question 13</span><br/><br/>\n",
    "\n",
    "  <strong>What is the main purpose of R-mode analysis?</strong><br/><br/>\n",
    "\n",
    "  <form>\n",
    "    <label><input type=\"radio\" name=\"q12\" value=\"true\">1) Investigate relationships among descriptors (variables)</label><br/>\n",
    "    <label><input type=\"radio\" name=\"q12\" value=\"false\">2) Explore spatial distribution of sampling sites</label><br/>\n",
    "    <label><input type=\"radio\" name=\"q12\" value=\"false\">3) Identify gradients in species composition</label><br/>\n",
    "    <label><input type=\"radio\" name=\"q12\" value=\"false\">4) Group samples based on similarity in composition</label>\n",
    "  </form>\n",
    "</div>\n",
    "\n",
    "\n",
    "<details style=\"font-size: 18px;\">\n",
    "  <summary style=\"font-size: 20px; font-weight: bold; text-decoration: underline;\">12) Answer</summary>\n",
    "\n",
    "<div style=\"padding: 10px; border:0.05px solid blue; font-size: 18px; margin-top: 5px;\">\n",
    "\n",
    "<form>\n",
    "    <label><input type=\"radio\" name=\"q6\" value=\"bod\"> <span style=\"color:blue;\">1) Investigate relationships among descriptors (variables)</span></label><br/>\n",
    "    <label><input type=\"radio\" name=\"q12\" value=\"false\">2) Explore spatial distribution of sampling sites</label><br/>\n",
    "    <label><input type=\"radio\" name=\"q12\" value=\"false\">3) Identify gradients in species composition</label><br/>\n",
    "    <label><input type=\"radio\" name=\"q12\" value=\"false\">4) Group samples based on similarity in composition</label>\n",
    "  </form>\n",
    "</div>\n",
    "\n",
    "\n",
    "\n",
    "</details>\n",
    "\n",
    "\n",
    "\n"
   ]
  },
  {
   "cell_type": "markdown",
   "id": "e153b36f-ea64-4084-8e8b-402910fabe0d",
   "metadata": {},
   "source": [
    "## 5.1 Parametric Dependance :  Pearson r linear correlation -> *cor()*, *pairs()*\n",
    "\n",
    "\n",
    "- **pairs(df)** → *Creates a matrix of scatterplots for each pair of variables in the dataframe. Useful to visually explore linear relationships.*\n",
    "- **cor(df)** → *Computes the correlation matrix between all numeric variables (columns) in a dataframe. By default, uses Pearson correlation.*\n"
   ]
  },
  {
   "cell_type": "markdown",
   "id": "445165d3-45fb-49fe-9c9f-a30d8434f85f",
   "metadata": {},
   "source": [
    "### 5.1.1 Pearson r linear correlation -> *pairs(df)*"
   ]
  },
  {
   "cell_type": "code",
   "execution_count": null,
   "id": "2195b3dd-333b-4184-aa2d-f77658d3cd4f",
   "metadata": {},
   "outputs": [],
   "source": [
    "# Creates a scatterplot matrix of all pairwise variable combinations in the 'env' data frame\n",
    "# Each panel shows a scatterplot of one variable against another\n",
    "\n",
    "# Set the plot size (width = 14 inches, height = 10 inches) for better display in notebooks\n",
    "options(repr.plot.width = 14, repr.plot.height = 10)\n",
    "\n",
    "pairs(env) "
   ]
  },
  {
   "cell_type": "markdown",
   "id": "dd2085ab-923c-4a36-a9a0-db34fe667bf9",
   "metadata": {},
   "source": [
    "### 5.1.2 Pearson r linear correlation -> *cor(df)*"
   ]
  },
  {
   "cell_type": "code",
   "execution_count": null,
   "id": "9abcc379-2a9d-484d-b403-e180b2b4b503",
   "metadata": {},
   "outputs": [],
   "source": [
    "# Pearson r linear correlation among environmental variables\n",
    "\n",
    "# Compute the Pearson correlation matrix for all environmental variables in 'env'\n",
    "# 'cor()' by default uses the Pearson method, which measures linear correlation\n",
    "env.pearson <- cor(env)\n",
    "\n",
    "# Round the correlation coefficients to 2 decimal places for better readability\n",
    "round(env.pearson, 2)\n",
    "\n",
    "\n",
    "# Set the plot size (width = 14 inches, height = 7 inches) for better display in notebooks\n",
    "options(repr.plot.width = 14, repr.plot.height = 7)\n",
    "\n",
    "# Visualize the correlation matrix using the 'coldiss' function\n",
    "coldiss(env.pearson)"
   ]
  },
  {
   "cell_type": "code",
   "execution_count": null,
   "id": "60310539-021b-4e00-bd89-db3747a1f7f4",
   "metadata": {},
   "outputs": [],
   "source": [
    "# Correlation with significance testing (p-value) using function cor.test()\n",
    "plot(env$amm,env$bod, xlab=\"Ammonium Concentration\", ylab=\"Biological Oxygen Demand\")\n",
    "cor.test(env$bod, env$amm)"
   ]
  },
  {
   "cell_type": "markdown",
   "id": "8a4f76fa-8382-4427-870c-28ceb0fc46ec",
   "metadata": {},
   "source": [
    "<div style=\"padding: 10px; border:1px solid red; font-size: 18px; position: relative;\">\n",
    "  <span style=\"text-decoration:underline; font-weight: bold; font-size: 22px;\">Question 14</span><br/><br/>\n",
    "\n",
    "  <strong>What are the minimum and maximum possible values of the Pearson correlation coefficient (r)?</strong><br/><br/>\n",
    "\n",
    "  <form>\n",
    "    <label><input type=\"radio\" name=\"q13\" value=\"false\">1) Minimum: 0, Maximum: 1</label><br/>\n",
    "    <label><input type=\"radio\" name=\"q13\" value=\"false\">2) Minimum: -1, Maximum: 0</label><br/>\n",
    "    <label><input type=\"radio\" name=\"q13\" value=\"true\">3) Minimum: -1, Maximum: 1</label><br/>\n",
    "    <label><input type=\"radio\" name=\"q13\" value=\"false\">4) Minimum: -0.5, Maximum: 0.5</label>\n",
    "  </form>\n",
    "</div>\n",
    "\n",
    "\n",
    "<details style=\"font-size: 18px;\">\n",
    "  <summary style=\"font-size: 20px; font-weight: bold; text-decoration: underline;\">13) Answer</summary>\n",
    "\n",
    "<div style=\"padding: 10px; border:0.05px solid blue; font-size: 18px; margin-top: 5px;\">\n",
    "\n",
    "<form>\n",
    "    <label><input type=\"radio\" name=\"q13\" value=\"false\">1) Minimum: 0, Maximum: 1</label><br/>\n",
    "    <label><input type=\"radio\" name=\"q13\" value=\"false\">2) Minimum: -1, Maximum: 0</label><br/>\n",
    "    <label><input type=\"radio\" name=\"q6\" value=\"bod\"> <span style=\"color:blue;\">3) Minimum: -1, Maximum: 1</span></label><br/>\n",
    "    <label><input type=\"radio\" name=\"q13\" value=\"false\">4) Minimum: -0.5, Maximum: 0.5</label>\n",
    "    \n",
    "  </form>\n",
    "</div>\n",
    "\n",
    "\n",
    "\n",
    "</details>\n"
   ]
  },
  {
   "cell_type": "markdown",
   "id": "7e228ea2-14c9-4d58-8656-c39cc38f7f97",
   "metadata": {},
   "source": [
    "<div style=\"padding: 10px; border:1px solid red; font-size: 18px; position: relative;\">\n",
    "  <span style=\"text-decoration:underline; font-weight: bold; font-size: 22px;\">Question 15</span><br/><br/>\n",
    "\n",
    "  <strong>Scientists find a Pearson correlation of -0.98 with a p-value of 0.01 between temperature and altitude.</strong> <br/>\n",
    "  \n",
    "  - The first scientist claims that this means that at higher altitudes the temperature is higher.<br/>\n",
    "  - The second colleague disagrees and says that this means that at higher altitudes the temperature is lower.<br/>\n",
    "  - Finally, the third scientist explains to them that if the value is close to -1, it simply means there is no correlation between temperature and altitude.<br/>\n",
    "\n",
    "    Which scientist is correct?<br/><br/>\n",
    "\n",
    "  <form>\n",
    "    <label><input type=\"radio\" name=\"q14\" value=\"first\">1) The first scientist is correct: as altitude increases, temperature generally increases.</label><br/>\n",
    "    <label><input type=\"radio\" name=\"q14\" value=\"second\">2) The second scientist is correct: as altitude increases, temperature generally decreases.</label><br/>\n",
    "    <label><input type=\"radio\" name=\"q14\" value=\"third\">3) The third scientist is correct: a value close to -1 means there is absolutely no correlation between temperature and altitude.</label>\n",
    "  </form>\n",
    "</div>\n",
    "\n",
    "<details style=\"font-size: 18px;\">\n",
    "  <summary style=\"font-size: 20px; font-weight: bold; text-decoration: underline;\">14) Answer</summary>\n",
    "\n",
    "  <div style=\"padding: 10px; border:0.05px solid blue; font-size: 18px; margin-top: 5px;\">\n",
    "\n",
    "  <form>\n",
    "    <label><input type=\"radio\" name=\"q14\" value=\"first\">1) The first scientist is correct: as altitude increases, temperature generally increases.</label><br/>\n",
    "    <label><input type=\"radio\" name=\"q6\" value=\"bod\"> <span style=\"color:blue;\">2) The second scientist is correct: as altitude increases, temperature generally decreases.</span></label><br/>\n",
    "    <label><input type=\"radio\" name=\"q14\" value=\"third\">3) The third scientist is correct: a value close to -1 means there is absolutely no correlation between temperature and altitude.</label><br/><br/>\n",
    "  </form>\n",
    "    The second scientist is correct.<br/>\n",
    "    A Pearson correlation of -0.98 indicates a very strong negative linear relationship, meaning temperature generally decreases as altitude increases.<br/>\n",
    "  </div>\n",
    "</details>\n"
   ]
  },
  {
   "cell_type": "markdown",
   "id": "6d240a35-5fe3-4d50-907d-b4db78261f78",
   "metadata": {},
   "source": [
    "<div style=\"padding: 10px; border:1px solid red; font-size: 18px; position: relative;\"> \n",
    "  <span style=\"text-decoration:underline; font-weight: bold; font-size: 22px;\">Question 16</span><br/><br/>\n",
    "\n",
    "  <strong>Parametric dependence measures are suitable for which type of relationship?</strong><br/><br/>\n",
    "\n",
    "  <form> \n",
    "    <label><input type=\"radio\" name=\"q15\" value=\"linear\">1) Linear relationship</label><br/> \n",
    "    <label><input type=\"radio\" name=\"q15\" value=\"hyperbolic\">2) Hyperbolic relationship</label><br/> \n",
    "    <label><input type=\"radio\" name=\"q15\" value=\"none\">3) No specific form</label><br/> \n",
    "    <label><input type=\"radio\" name=\"q15\" value=\"logarithmic\">4) Logarithmic relationship</label> \n",
    "  </form> \n",
    "</div>\n",
    "\n",
    "\n",
    "<details style=\"font-size: 18px;\">\n",
    "  <summary style=\"font-size: 20px; font-weight: bold; text-decoration: underline;\">15) Answer</summary>\n",
    "\n",
    "  <div style=\"padding: 10px; border:0.05px solid blue; font-size: 18px; margin-top: 5px;\">\n",
    "\n",
    "  <form>\n",
    "    <label><input type=\"radio\" name=\"q6\" value=\"bod\"> <span style=\"color:blue;\">1) Linear relationship</span></label><br/>\n",
    "    <label><input type=\"radio\" name=\"q15\" value=\"hyperbolic\">2) Hyperbolic relationship</label><br/> \n",
    "    <label><input type=\"radio\" name=\"q15\" value=\"none\">3) No specific form</label><br/> \n",
    "    <label><input type=\"radio\" name=\"q15\" value=\"logarithmic\">4) Logarithmic relationship</label> \n",
    "  </form>\n",
    "<br/>\n",
    "Parametric dependence measures such as Pearson correlation assume a linear relationship between variables. \n",
    " If the relationship is non-linear (e.g., logarithmic or hyperbolic), non-parametric measures like Spearman or Kendall are more appropriate.\n",
    "  </div>\n",
    "</details>"
   ]
  },
  {
   "cell_type": "markdown",
   "id": "d8779886-502c-4be3-9623-c7531166204b",
   "metadata": {},
   "source": [
    "## 5.2 Non-Parametric Dependence: Kendall tau rank correlation -> *cor(df, method = \"kendall\")*\n",
    "\n",
    "- **cor(`df`, method = \"kendall\")** : *Computes Kendall’s tau rank correlation between the columns of a dataframe*\n"
   ]
  },
  {
   "cell_type": "code",
   "execution_count": null,
   "id": "ac621379-663f-42fa-9844-ffefada55805",
   "metadata": {},
   "outputs": [],
   "source": [
    "# Spearman and Kendall tau rank correlations among environmental variables\n",
    "env.spear<-cor(env, method=\"spearman\")\n",
    "env.spear\n",
    "env.ken <- cor(env, method = \"kendall\")\n",
    "env.ken"
   ]
  }
 ],
 "metadata": {
  "kernelspec": {
   "display_name": "R",
   "language": "R",
   "name": "ir"
  },
  "language_info": {
   "codemirror_mode": "r",
   "file_extension": ".r",
   "mimetype": "text/x-r-source",
   "name": "R",
   "pygments_lexer": "r",
   "version": "4.5.1"
  }
 },
 "nbformat": 4,
 "nbformat_minor": 5
}
