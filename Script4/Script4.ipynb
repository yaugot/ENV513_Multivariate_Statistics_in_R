{
 "cells": [
  {
   "cell_type": "markdown",
   "id": "5c896fae-28e9-489c-8212-ccfa5fe9696e",
   "metadata": {},
   "source": [
    "# Script 4 -  Supervised Classification"
   ]
  },
  {
   "cell_type": "markdown",
   "id": "f4ac7d0a-43d6-4d03-964f-bc447d99c06d",
   "metadata": {},
   "source": [
    "<div style=\"padding: 20px; border:4px solid green; font-size: 20px; text-align: center;\">\n",
    "  <img src=\"images/Script4_supervised_clustering_algorithm.png\" alt=\"Data Transformation\" style=\"max-width: 100%; height: auto;\" />\n",
    "</div>\n"
   ]
  },
  {
   "cell_type": "markdown",
   "id": "839f4d67-be5f-4d2a-a376-cf36c9417e23",
   "metadata": {},
   "source": [
    "<div style=\"padding: 30px; border:5px solid purple; font-size: 10px;\">\n",
    "  <span style=\"font-size: 15px;\">\n",
    "    <i>⚠️ The cell below is not mandatory to run: the required libraries are already installed in this notebook, and reinstalling them may take a long time.</i>\n",
    "  </span><br/>\n",
    "</div>\n"
   ]
  },
  {
   "cell_type": "code",
   "execution_count": null,
   "id": "8711184b-4f40-465b-8a3f-2b967e0fb19c",
   "metadata": {},
   "outputs": [],
   "source": [
    "install.packages(\"partykit\")"
   ]
  },
  {
   "cell_type": "markdown",
   "id": "84131826-80cb-4f56-a553-53d024e8c543",
   "metadata": {},
   "source": [
    "# Librairies "
   ]
  },
  {
   "cell_type": "code",
   "execution_count": null,
   "id": "b787071e-758e-4064-bb5b-681fce57c305",
   "metadata": {},
   "outputs": [],
   "source": [
    "library(partykit)\n",
    "library(vegan)\n",
    "library(dendextend)\n",
    "library(randomForest)"
   ]
  },
  {
   "cell_type": "markdown",
   "id": "25b38ddb-ae33-494f-bfd4-d466ddfd0555",
   "metadata": {},
   "source": [
    "# Loading data"
   ]
  },
  {
   "cell_type": "markdown",
   "id": "566d4c9c-3a84-45f0-a109-01a2929f9c9f",
   "metadata": {},
   "source": [
    "<div style=\"padding: 10px; border:1px solid green; font-size: 10px;\">\n",
    "  <span style=\"font-size: 15px;\"> <i>Loading the data from Doubs</i> </span><br/>\n",
    "</div>"
   ]
  },
  {
   "cell_type": "code",
   "execution_count": null,
   "id": "106be5d6-7422-4868-a20a-df21a20e74a4",
   "metadata": {},
   "outputs": [],
   "source": [
    "# load data -----\n",
    "load(\"Doubs.RData\")  "
   ]
  },
  {
   "cell_type": "markdown",
   "id": "83d23a2b-3d3a-42e0-98d0-b7a23180261f",
   "metadata": {},
   "source": [
    "# 1 Classification trees (CT) -> *ctree()*"
   ]
  },
  {
   "cell_type": "markdown",
   "id": "0e33d999-5e2f-45b8-ae8a-81341666025b",
   "metadata": {},
   "source": [
    "<div style=\"border: 5px solid darkgreen; padding: 15px; border-radius: 0px;\">\n",
    "  <div style=\"display: flex; align-items: flex-start;\">\n",
    "    <div style=\"flex: 1; padding-right: 20px;\">\n",
    "      <ul>\n",
    "        <li>Used for <strong>qualitative (categorical) response variables</strong></li>\n",
    "        <li>Use <strong>multiple explanatory variables</strong></li>\n",
    "        <li>Apply <strong>binary logical conditions</strong> to split data into nodes</li>\n",
    "      </ul>\n",
    "    </div>\n",
    "    <div style=\"flex: 1;\">\n",
    "      <img src=\"images/decision_tree.png\" alt=\"Decision Tree\" style=\"max-width: 70%;\">\n",
    "    </div>\n",
    "  </div>\n",
    "</div>\n"
   ]
  },
  {
   "cell_type": "markdown",
   "id": "5a00308d-abea-422e-b44f-222ac64312cc",
   "metadata": {},
   "source": [
    "## 1.1 Building Classification Tree -> *ctree(response ~ predictors, data = `df`)*\n",
    "\n",
    "- **response ~ predictors** → *Formula specifying the categorical response and explanatory variables (use **response ~ `.`** to use all predictors* )\n",
    "- **predictors** : *explanatory variables* (`col1` + `col2` + `col3` +... )\n",
    "- **df** → *Data frame containing the variables*\n",
    "\n",
    "**Outputs** :\n",
    "\n",
    "Each line means:\n",
    "\n",
    "- **[Node number]**: *Unique ID of the node*.\n",
    "\n",
    "- **Split condition**: *e.g., Petal.Length > 1.9*.\n",
    "\n",
    "- **Prediction**: *What class/value is predicted at that node*.\n",
    "\n",
    "- **n** = *Number of samples in this group*.\n",
    "\n",
    "- **err** = *Misclassification error rate at this node (optional, for classification)*.\n",
    "\n",
    "- **Number of inner nodes:** = *decision splits*\n",
    "\n",
    "- **Number of terminal nodes:** = *final outcomes*"
   ]
  },
  {
   "cell_type": "markdown",
   "id": "19a3f7c7-396c-460c-845b-1102638d8363",
   "metadata": {},
   "source": [
    "### 1.1.1 **Build a classification tree** to **predict Species** based on **four features** (*petal lenght*, *petal width*, *sepal length*, *sepal width*)  in the iris dataset"
   ]
  },
  {
   "cell_type": "code",
   "execution_count": null,
   "id": "3e14b4ff-d64e-40eb-950b-c4fe1193820e",
   "metadata": {},
   "outputs": [],
   "source": [
    "library(partykit)"
   ]
  },
  {
   "cell_type": "code",
   "execution_count": null,
   "id": "76e0d8c0-cefc-4ca3-946c-a12eccee5704",
   "metadata": {},
   "outputs": [],
   "source": [
    "# Build a classification tree to predict Species based on all four features(petal lenght, petal width, sepal length, sepal width)  in the iris dataset\n",
    "irisct <- ctree(Species ~ Petal.Length + Petal.Width + Sepal.Length + Sepal.Width, data = iris)\n",
    "\n",
    "# Display a textual summary of the tree structure and splits\n",
    "irisct"
   ]
  },
  {
   "cell_type": "markdown",
   "id": "29ea3811-bcbe-4f7f-b7e7-2f616b92ec45",
   "metadata": {},
   "source": [
    "### 1.1.2 **Build a classification tree** to **predict Species** based on  **all features** in the iris dataset"
   ]
  },
  {
   "cell_type": "code",
   "execution_count": null,
   "id": "09ca79a6-aa55-4ee5-8018-551ffb1d28b7",
   "metadata": {},
   "outputs": [],
   "source": [
    "# Build a classification tree to predict Species based on all  features in the iris dataset\n",
    "irisct2 <- ctree(Species ~ .,data = iris)\n",
    "# Display a textual summary of the tree structure and splits\n",
    "irisct2"
   ]
  },
  {
   "cell_type": "markdown",
   "id": "dc28f163-059b-4d66-b4a1-d59ef2b9d436",
   "metadata": {},
   "source": [
    "## 1.2 Plotting Classification Tree → *plot(`ctree_object`, `inner_panel` = NULL)*\n",
    "\n",
    "- **ctree_object** → *Classification tree object created by `ctree()`*  \n",
    "- **inner_panel** → *Optional argument to customize node display:*  \n",
    "  - `NULL` (default) shows split labels and predicted classes  \n",
    "  - `node_barplot` shows barplots of class distributions in each node  \n"
   ]
  },
  {
   "cell_type": "code",
   "execution_count": null,
   "id": "ab9dc750-5a5f-415f-aa1a-1848dffe23bf",
   "metadata": {},
   "outputs": [],
   "source": [
    "# Set plot size in Jupyter Notebook (15 x 8 inches)\n",
    "options(repr.plot.width = 15, repr.plot.height = 8)\n",
    "\n",
    "# Plot the classification tree for visual interpretation of \"irisct\"\n",
    "plot(irisct)"
   ]
  },
  {
   "cell_type": "code",
   "execution_count": null,
   "id": "900792a9-0d11-459c-9de3-7ebd17236eca",
   "metadata": {},
   "outputs": [],
   "source": [
    "# Set plot size in Jupyter Notebook (15 x 10 inches)\n",
    "options(repr.plot.width = 15, repr.plot.height = 10)\n",
    "\n",
    "# Plot the classification tree for visual interpretation of \"irisct2\"\n",
    "# Use bar plots inside the nodes to show the class distribution\n",
    "plot(irisct2, inner_panel = node_barplot)"
   ]
  },
  {
   "cell_type": "markdown",
   "id": "c3d23282-197c-4024-8703-29071c9094e9",
   "metadata": {},
   "source": [
    "# 2 Regression Trees (RT) -> *ctree()*"
   ]
  },
  {
   "cell_type": "markdown",
   "id": "80b41ad6-68b0-4ead-8544-0c8d2649baef",
   "metadata": {
    "execution": {
     "iopub.execute_input": "2025-07-03T05:26:11.439074Z",
     "iopub.status.busy": "2025-07-03T05:26:11.431381Z",
     "iopub.status.idle": "2025-07-03T05:26:11.505199Z",
     "shell.execute_reply": "2025-07-03T05:26:11.501781Z"
    }
   },
   "source": [
    "<div style=\"border: 5px solid darkgreen; padding: 15px; border-radius: 0px;\">\n",
    "  <div style=\"display: flex; align-items: flex-start;\">\n",
    "    <div style=\"flex: 1; padding-right: 20px;\">\n",
    "    <ul>\n",
    "      <li>Used for <strong>quantitative (numerical) response variables</strong></li>\n",
    "      <li>Use <strong>multiple explanatory variables</strong></li>\n",
    "      <li>Apply <strong>binary logical conditions</strong> to split data into nodes</li>\n",
    "      <li>The response is a <strong>continuous variable</strong> </li>\n",
    "    </ul>\n",
    "  </div>\n",
    "  <div style=\"flex: 1;\">\n",
    "    <img src=\"images/Regression Tress.png\" alt=\"Regression Tree\" style=\"max-width: 40%;\">\n",
    "  </div>\n",
    "</div>\n",
    "\n"
   ]
  },
  {
   "cell_type": "markdown",
   "id": "5ad81849-0d85-4fcc-886d-65f6911d9a7f",
   "metadata": {},
   "source": [
    "## 2.1 Building Regression Tree → *ctree(response ~ predictors, data = `df`)*\n",
    "\n",
    "- **response ~ predictors** → *Formula specifying the **quantitative response** and explanatory variables (use **response ~ `.`** to use all predictors)*\n",
    "- **predictors** : *explanatory variables* (`col1` + `col2` + `col3` + ... )\n",
    "- **df** → *Data frame containing both the response and predictors*"
   ]
  },
  {
   "cell_type": "code",
   "execution_count": null,
   "id": "454faa5f-3e67-413e-9cc4-7f62f68e4a6a",
   "metadata": {},
   "outputs": [],
   "source": [
    "# Build regression tree: Petal.Length as response\n",
    "reg_tree <- ctree(Petal.Length ~ Sepal.Length + Sepal.Width + Petal.Width, data = iris)\n",
    "\n",
    "reg_tree"
   ]
  },
  {
   "cell_type": "code",
   "execution_count": null,
   "id": "377d2e79-2f44-47ff-a312-ea43bf9a1a12",
   "metadata": {},
   "outputs": [],
   "source": [
    "# Set plot size in Jupyter Notebook (15 x 8 inches)\n",
    "options(repr.plot.width = 15, repr.plot.height = 8)\n",
    "# Plot the regression tree\n",
    "plot(reg_tree,type=\"simple\")"
   ]
  },
  {
   "cell_type": "markdown",
   "id": "855f3ebe-f302-400d-a415-621961c24b08",
   "metadata": {},
   "source": [
    "<div style=\"padding: 12px; border: 2px solid red; font-size: 18px;\">\n",
    "  <span style=\"text-decoration: underline; font-weight: bold; font-size: 22px;\">Question 1</span><br/><br/>\n",
    "\n",
    "  1) Load the <code>demographic_data.csv</code> file and store it in a variable named <code>demographic_data</code> (use `stringsAsFactors = TRUE` to be sure to have correct format).<br/><br/>\n",
    "\n",
    "  2) Each row in the dataset represents an individual, with columns indicating characteristics such as `married`, `has_a_job`, `has_children`, etc. <br/>Use a decision tree model to predict whether a person has a car (`has_car` column) based on the following predictor variables: `owns_house`, `has_a_job`, `married`, and     `has_children`.\n",
    "\n",
    "  3) Plot the decision tree<br/><br/>\n",
    "</div>"
   ]
  },
  {
   "cell_type": "code",
   "execution_count": null,
   "id": "73c50f06-e4e1-42a1-b021-8879dccc9884",
   "metadata": {},
   "outputs": [],
   "source": [
    "# 1) Read the CSV file into a dataframe named demographic_data (hint: use read.csv())\n",
    "demographic_data <- ____(\"demographic_data.csv\", stringsAsFactors = TRUE)\n"
   ]
  },
  {
   "cell_type": "markdown",
   "id": "5ab17ce6-4260-48f0-8e96-dc71ae922fdf",
   "metadata": {},
   "source": [
    "\n",
    "<details style=\"font-size: 18px;\">\n",
    "  <summary style=\"font-size: 20px; font-weight: bold; text-decoration: underline;\">1) Answer</summary>\n",
    "  <div style=\"padding: 10px; border:1px solid blue; font-size: 20px;\">\n",
    "    <code> demographic_data <- <span style=\"color:blue;\">read.csv</span>(\"demographic_data.csv\", stringsAsFactors = TRUE) </code><br/>\n",
    "  </div>\n",
    "</details>\n"
   ]
  },
  {
   "cell_type": "code",
   "execution_count": null,
   "id": "7e97e520-afc5-4499-b717-38aa880f60c2",
   "metadata": {},
   "outputs": [],
   "source": [
    "# 2) Use a decision tree model to predict whether a person has a car (has_car column) \n",
    "#based on the following predictor variables: owns_house, has_a_job, married, and has_children.\n",
    "\n",
    "demographic_data_ct <- ____(____ ~ owns_house + has_job + married + has_children, data = ___) #fill the blanks\n",
    "demographic_data_ct"
   ]
  },
  {
   "cell_type": "markdown",
   "id": "0b105fc8-ddd2-49d4-8594-b582f34c15f1",
   "metadata": {},
   "source": [
    "\n",
    "<details style=\"font-size: 18px;\">\n",
    "  <summary style=\"font-size: 20px; font-weight: bold; text-decoration: underline;\">2) Answer</summary>\n",
    "  <div style=\"padding: 10px; border:1px solid blue; font-size: 20px;\">\n",
    "    <code> demographic_data_ct <- <span style=\"color:blue;\">ctree</span>(<span style=\"color:blue;\">has_car</span> ~ owns_house + has_job + married + has_children, data = <span style=\"color:blue;\">demographic_data</span>) </code><br/>\n",
    "  </div>\n",
    "</details>\n"
   ]
  },
  {
   "cell_type": "code",
   "execution_count": null,
   "id": "711e93b3-10c8-4031-8f10-78b61f1b1222",
   "metadata": {},
   "outputs": [],
   "source": [
    "# 3) plot the decision tree\n",
    "\n",
    "___(demographic_data_ct)"
   ]
  },
  {
   "cell_type": "markdown",
   "id": "137d5f2a-de69-4fd5-a71d-73fa13810b10",
   "metadata": {},
   "source": [
    "<details style=\"font-size: 18px;\">\n",
    "  <summary style=\"font-size: 20px; font-weight: bold; text-decoration: underline;\">3) Answer</summary>\n",
    "  <div style=\"padding: 10px; border:1px solid blue; font-size: 20px;\">\n",
    "    <code><span style=\"color:blue;\">plot</span>(demographic_data_ct)</code><br/>\n",
    "    <img src=\"images/Script4_Q2.png\" alt=\"Script4_Q2\" style=\"max-width:100%; margin-top:10px;\">\n",
    "  </div>\n",
    "</details>\n"
   ]
  },
  {
   "cell_type": "markdown",
   "id": "960e5d97-9cc0-453c-9d6c-9a2d2d55c915",
   "metadata": {},
   "source": [
    "# 3 Confusion/Error Matrix -> *table(predict(`ctree_object`),`df$col`)*"
   ]
  },
  {
   "cell_type": "markdown",
   "id": "aa3e67db-969b-4116-9d40-0c0963e63bbf",
   "metadata": {
    "execution": {
     "iopub.execute_input": "2025-06-30T10:11:35.724150Z",
     "iopub.status.busy": "2025-06-30T10:11:35.715603Z",
     "iopub.status.idle": "2025-06-30T10:11:35.781317Z",
     "shell.execute_reply": "2025-06-30T10:11:35.778110Z"
    }
   },
   "source": [
    "<div style=\"display: flex; align-items: center; justify-content: space-between;border: 5px solid darkgreen;padding: 15px; \">\n",
    "  <div style=\"width: 70%;\">\n",
    "    <p><strong>The confusion matrix</strong> is a tool used to evaluate the performance of a classification model. It compares the predicted labels with the actual labels and helps identify the types of errors made by the model. It includes four main components:</p>\n",
    "    <ul>\n",
    "      <li><strong>True Positives (TP)</strong>: cases that are actually positive and correctly predicted as positive.</li>\n",
    "      <li><strong>True Negatives (TN)</strong>: cases that are actually negative and correctly predicted as negative.</li>\n",
    "      <li><strong>False Positives (FP)</strong>: cases that are actually negative but incorrectly predicted as positive.</li>\n",
    "      <li><strong>False Negatives (FN)</strong>: cases that are actually positive but incorrectly predicted as negative.</li>\n",
    "    </ul>\n",
    "    <p>These components are used to calculate evaluation metrics such as <strong>accuracy</strong>, <strong>precision</strong>, <strong>recall</strong>, and <strong>F1-score</strong>.</p>\n",
    "  </div>\n",
    "\n",
    "  <div style=\"width: 35%; margin-left: 20px;\">\n",
    "    <img src=\"images/Confusion Matrix.png\" alt=\"Confusion Matrix\" style=\"width: 100%;\">\n",
    "  </div>\n",
    "</div>\n"
   ]
  },
  {
   "cell_type": "markdown",
   "id": "767d72f0-cd3a-4b63-90d1-9856a98a1ad9",
   "metadata": {
    "execution": {
     "iopub.execute_input": "2025-06-30T10:17:38.237066Z",
     "iopub.status.busy": "2025-06-30T10:17:38.174456Z",
     "iopub.status.idle": "2025-06-30T10:17:38.265789Z",
     "shell.execute_reply": "2025-06-30T10:17:38.253141Z"
    }
   },
   "source": [
    "## 3.1 Confusion Matrix  -> *table(predict(`ctree_object`),`df$col`)*\n",
    "\n",
    "`table(predict(model), df$col)`\n",
    "\n",
    "- create a **confusion matrix**, which compares the predictions made by a classification model to the actual class labs.\n",
    "\n",
    "**Components**:\n",
    "- `model`: a trained classification model (e.g., decision tree, SVM).\n",
    "- `predict(model)`: generates the predicted class labels from the model.\n",
    "- `df$col`: the actual (true) class labels from the dataset we want to predict\n",
    "- `table(...)`: creates a cross-tabulation (confusion matrix) counting how often each prediction matches or differs from the true class.\n",
    "\n",
    "**Result**:\n",
    "The output is a **confusion matrix** where:\n",
    "- **Rows** = predicted classes  \n",
    "- **Columns** = actual classes  \n",
    "- Each cell `[i, j]` = number of observations predicted as class *i* but actually belonging to class *j*."
   ]
  },
  {
   "cell_type": "markdown",
   "id": "9bb5edb9-3753-4b8f-8c59-3d7430f1496c",
   "metadata": {},
   "source": [
    "### 3.1.1 Example with the classification tree of the Iris Species"
   ]
  },
  {
   "cell_type": "markdown",
   "id": "647d6b1b-4520-4ba7-bc65-3c1fd534e791",
   "metadata": {},
   "source": [
    "<div style=\"display: flex; align-items: center; justify-content: space-between;border: 5px solid darkgreen;padding: 15px; \">\n",
    "    <img src=\"images/Error Matrix.png\" width=\"35%\">\n",
    "</div>"
   ]
  },
  {
   "cell_type": "code",
   "execution_count": null,
   "id": "58d972b9-9f29-44f7-af22-9aec66c975df",
   "metadata": {},
   "outputs": [],
   "source": [
    "# confusion matrix\n",
    "table(predict(irisct), iris$Species)"
   ]
  },
  {
   "cell_type": "code",
   "execution_count": null,
   "id": "48e00683-f244-4f81-a568-85e98eba8aba",
   "metadata": {},
   "outputs": [],
   "source": [
    "# confusion matrix\n",
    "table(predict(irisct2), iris$Species)"
   ]
  },
  {
   "cell_type": "markdown",
   "id": "e012c32b-9806-44bd-ae9f-28649fb81d81",
   "metadata": {},
   "source": [
    "<div style=\"padding: 10px; border:1px solid red; font-size: 18px; position: relative;\">\n",
    "  <span style=\"text-decoration:underline; font-weight: bold; font-size: 22px;\">Question 2</span><br/>\n",
    "\n",
    "  <div style=\"display: flex; align-items: flex-start;\">\n",
    "    <div style=\"flex: 1;\">\n",
    "        Here is an example of a confusion matrix derived from a decision tree to predict fishes species. <br/><br/><br/><br/>\n",
    "        <strong>Which statements are correct? </strong>\n",
    "    </div>\n",
    "    <div style=\"margin-left: 20px;\">\n",
    "      <img src=\"images/Script4_Q1.png\" alt=\"Skewed distribution\" style=\"max-width: 500px; height: auto; border: 1px solid #ccc;\" />\n",
    "    </div>\n",
    "  </div>\n",
    "\n",
    "<form>\n",
    "  <label><input type=\"radio\" name=\"q5\" value=\"1\"> 1) The decision tree perfectly predicted species 2 and never made a mistake when identifying it.</label><br/>\n",
    "  <label><input type=\"radio\" name=\"q5\" value=\"2\"> 2) There was one instance where the true class was species 1, but the decision tree labeled it as species 3.</label><br/>\n",
    "  <label><input type=\"radio\" name=\"q5\" value=\"3\"> 3) The decision tree correctly classified all samples that truly belonged to species 3.</label><br/>\n",
    "</form>\n",
    "\n",
    "\n",
    "</div>\n",
    "\n",
    "<details style=\"font-size: 18px;\">\n",
    "  <summary style=\"font-size: 20px; font-weight: bold; text-decoration: underline;\">Answer</summary>\n",
    "  <div style=\"padding: 10px; border:1px solid blue; font-size: 20px;\">\n",
    "\n",
    "<form>\n",
    "  <label style=\"color: blue;\"><input type=\"radio\" name=\"q5\" value=\"squaring\"> 1) The decision tree perfectly predicted species 2 and never made a mistake when identifying it.</label><br/>\n",
    "  <label style=\"color: blue;\"><input type=\"radio\" name=\"q5\" value=\"squaring\"> 2) There was one instance where the true class was species 1, but the decision tree labeled it as species 3.</label><br/>\n",
    "  <label><input type=\"radio\" name=\"q5\" value=\"3\"> 3) The decision tree correctly classified all samples that truly belonged to species 3.</label><br/>\n",
    "</form>\n",
    "\n",
    "  </div>\n",
    "</details>\n"
   ]
  },
  {
   "cell_type": "markdown",
   "id": "4c2b090f-bf13-4530-a8db-6b138995c41e",
   "metadata": {},
   "source": [
    "# 4. Predict Outputs Using a Classification Tree -> *predict(`ctree_object`, newdata=`new_sample`)*"
   ]
  },
  {
   "cell_type": "markdown",
   "id": "7b957aaa-346d-4907-ab9b-15be59b8d884",
   "metadata": {},
   "source": [
    "**Create a new data frame with feature values for the new sample**\n",
    "\n",
    "- **new_sample** <- data.frame(\n",
    "  *Feature1 = value1*,\n",
    "  *Feature2 = value2*,\n",
    "  *Feature3 = value3*,\n",
    "  *Feature4 = value4*\n",
    ")\n",
    "\n",
    "**Predict the class using the trained model**\n",
    "\n",
    "- **prediction** <- predict(model, newdata = new_sample)\n"
   ]
  },
  {
   "cell_type": "markdown",
   "id": "a75e73b0-f8a2-45de-823e-2caaa5a366aa",
   "metadata": {},
   "source": [
    "<div style=\"border: 5px solid darkgreen; padding: 15px; border-radius: 0px;\">\n",
    "  <img src=\"images/newiris1.png\" alt=\"Image 1\" style=\"width: 45%;\">\n",
    "  <img src=\"images/newiris2.png\" alt=\"Image 2\" style=\"width: 45%;\">\n",
    "</div>\n"
   ]
  },
  {
   "cell_type": "markdown",
   "id": "2875acc7-5e79-4915-a8da-9143576f33e5",
   "metadata": {},
   "source": [
    "## 4.1 Predict iris species with previous classification tree"
   ]
  },
  {
   "cell_type": "code",
   "execution_count": null,
   "id": "cf4fe7a3-bd5f-4dbb-ac15-b49e0ae84ae4",
   "metadata": {},
   "outputs": [],
   "source": [
    "#predict for new iris specimen:\n",
    "new.iris1<-data.frame(Sepal.Length=4.7,Sepal.Width=3.4,Petal.Length=1.8,Petal.Width=0.2)\n",
    "predict(irisct, newdata=new.iris1)\n",
    "\n",
    "new.iris2<-data.frame(Sepal.Length=5.7,Sepal.Width=2.6,Petal.Length=4.1,Petal.Width=1.3)\n",
    "predict(irisct, newdata=new.iris2)"
   ]
  },
  {
   "cell_type": "markdown",
   "id": "d79abf34-5a60-429d-9d9b-5c023d7bee5e",
   "metadata": {},
   "source": [
    "<div style=\"padding: 12px; border: 2px solid red; font-size: 18px;\">\n",
    "  <span style=\"text-decoration: underline; font-weight: bold; font-size: 22px;\">Question 3</span><br/><br/>\n",
    "\n",
    "  1) Load the <code>demographic_data.csv</code> file and store it in a variable named <code>demographic_data</code> (use `stringsAsFactors = TRUE` to be sure to have the correct format).<br/>\n",
    "\n",
    "  2) Use a decision tree model to predict whether a person has a car (`has_car` column) based on the following predictor variables: `owns_house`, `has_a_job`, `married`, and     `has_children`.\n",
    "\n",
    "  3) Create a new sample called \"John\", John is supposed to : <br/>\n",
    "    <ul>\n",
    "      <li>Own a house</li>\n",
    "      <li>Have a job</li>\n",
    "      <li>Not be married</li>\n",
    "      <li>Have no children</li>\n",
    "    </ul>\n",
    "    <br/>\n",
    "4) Predict if John has a car or not\n",
    "</div>"
   ]
  },
  {
   "cell_type": "code",
   "execution_count": null,
   "id": "bdeb57b4-dff6-4c37-a9f3-c6b8a376d465",
   "metadata": {},
   "outputs": [],
   "source": [
    "# 1) Read the CSV file into a dataframe named demographic_data (hint: use read.csv())\n",
    "demographic_data <- ____(\"demographic_data.csv\", stringsAsFactors = TRUE)\n"
   ]
  },
  {
   "cell_type": "markdown",
   "id": "22db69d2-6940-4ed1-be23-287266347cb8",
   "metadata": {},
   "source": [
    "\n",
    "<details style=\"font-size: 18px;\">\n",
    "  <summary style=\"font-size: 20px; font-weight: bold; text-decoration: underline;\">1) Answer</summary>\n",
    "  <div style=\"padding: 10px; border:1px solid blue; font-size: 20px;\">\n",
    "    <code> demographic_data <- <span style=\"color:blue;\">read.csv</span>(\"demographic_data.csv\", stringsAsFactors = TRUE) </code><br/>\n",
    "  </div>\n",
    "</details>"
   ]
  },
  {
   "cell_type": "code",
   "execution_count": null,
   "id": "39af1d3b-44eb-4564-9446-299965d1f88c",
   "metadata": {},
   "outputs": [],
   "source": [
    "# 2) Use a decision tree model to predict whether a person has a car (has_car column) \n",
    "#based on the following predictor variables: owns_house, has_a_job, married, and has_children.\n",
    "\n",
    "demographic_data_ct <- ____(____ ~ owns_house + has_job + married + has_children, data = ___) #fill the blanks\n",
    "demographic_data_ct"
   ]
  },
  {
   "cell_type": "markdown",
   "id": "18dee142-48bd-4afa-a086-5c7629a20dc0",
   "metadata": {},
   "source": [
    "\n",
    "<details style=\"font-size: 18px;\">\n",
    "  <summary style=\"font-size: 20px; font-weight: bold; text-decoration: underline;\">2) Answer</summary>\n",
    "  <div style=\"padding: 10px; border:1px solid blue; font-size: 20px;\">\n",
    "    <code> demographic_data_ct <- <span style=\"color:blue;\">ctree</span>(<span style=\"color:blue;\">has_car</span> ~ owns_house + has_job + married + has_children, data = <span style=\"color:blue;\">demographic_data</span>) </code><br/>\n",
    "  </div>\n",
    "</details>\n"
   ]
  },
  {
   "cell_type": "code",
   "execution_count": null,
   "id": "2ce6fbba-7f3d-4e50-b373-105e173d062b",
   "metadata": {},
   "outputs": [],
   "source": [
    "# 3) Create a new sample called \"John\"\n",
    "        #Own a house\n",
    "        #Have a job\n",
    "        #Not be married\n",
    "        #Have no children\n",
    "\n",
    "John<-data.frame(owns_house=\"___\",has_job=\"___\",married=\"___\",has_children=\"___\")\n",
    "John"
   ]
  },
  {
   "cell_type": "markdown",
   "id": "7157d3f6-4a1f-470e-9770-c3db01eb03a7",
   "metadata": {},
   "source": [
    "\n",
    "<details style=\"font-size: 18px;\">\n",
    "  <summary style=\"font-size: 20px; font-weight: bold; text-decoration: underline;\">3) Answer</summary>\n",
    "  <div style=\"padding: 10px; border:1px solid blue; font-size: 20px;\">\n",
    "    <code> John<-data.frame(owns_house= <span style=\"color:blue;\">\"Yes\"</span>,has_job= <span style=\"color:blue;\">\"Yes\"</span>, married = <span style=\"color:blue;\">\"No\"</span>, has_children = <span style=\"color:blue;\">\"No\"</span>) </code><br/>\n",
    "        <img src=\"images/Script4_Q3.png\" alt=\"Script4_Q\" style=\"max-width:100%; margin-top:10px;\">\n",
    "  </div>\n",
    "</details>\n"
   ]
  },
  {
   "cell_type": "code",
   "execution_count": null,
   "id": "edd1860c-0b53-4e58-ba87-eec478758577",
   "metadata": {},
   "outputs": [],
   "source": [
    "# 4) Predict if John has a car or not\n",
    "predict(______, newdata=___)"
   ]
  },
  {
   "cell_type": "markdown",
   "id": "9f64471f-1ae4-4c61-9f56-014d7dd37f98",
   "metadata": {},
   "source": [
    "\n",
    "<details style=\"font-size: 18px;\">\n",
    "  <summary style=\"font-size: 20px; font-weight: bold; text-decoration: underline;\">4) Answer</summary>\n",
    "  <div style=\"padding: 10px; border:1px solid blue; font-size: 20px;\">\n",
    "    <code> predict(<span style=\"color:blue;\">demographic_data_ct</span>,newdata = <span style=\"color:blue;\">John</span>)</code><br/>\n",
    "        <img src=\"images/Script4_Q3_1.png\" alt=\"Script4_Q3_1\" style=\"max-width:100%; margin-top:10px;\">\n",
    "  </div>\n",
    "</details>\n"
   ]
  },
  {
   "cell_type": "markdown",
   "id": "e27c3bcd-dbd5-4dd8-a733-9325ff564009",
   "metadata": {},
   "source": [
    "# 5. Random Forest -> *randomforest()*"
   ]
  },
  {
   "cell_type": "markdown",
   "id": "2abe8e45-4c25-429a-9156-637caf5acf23",
   "metadata": {
    "execution": {
     "iopub.execute_input": "2025-06-30T16:05:07.764883Z",
     "iopub.status.busy": "2025-06-30T16:05:07.759696Z",
     "iopub.status.idle": "2025-06-30T16:05:07.794523Z",
     "shell.execute_reply": "2025-06-30T16:05:07.788744Z"
    }
   },
   "source": [
    "<div style=\"border: 5px solid darkgreen; padding: 15px; border-radius: 0px;\">\n",
    "    <img src=\"images/Random Forest.png\" width=\"55%\">\n",
    "</div>"
   ]
  },
  {
   "cell_type": "markdown",
   "id": "427d0ad3-8299-48b3-8d8e-e685df3f5707",
   "metadata": {},
   "source": [
    "## 5.1 Building a Random Forest -> *randomForest(response ~ predictors, data = `df`, ntree =, mtry =, importance = `TRUE`, na.action = `na.omit`, do.trace = , proximity = `T`)*\n",
    "\n",
    "- **response ~ predictors** → *Formula specifying the target (response) variable and the explanatory (predictor) variables*  \n",
    "  *(use `response ~ .` to include all predictors in the dataset)*  \n",
    "- **df** → *Data frame containing both the response and predictor variables*\n",
    "- **ntree** → *Number of trees to grow (e.g., 500)*\n",
    "- **mtry** → *Number of variables randomly sampled at each split*\n",
    "- **importance = TRUE** → *Computes variable importance*\n",
    "- **proximity = T** → *Computes proximity matrix*\n",
    "- **na.action = na.omit** → *Excludes rows with missing values*\n",
    "\n",
    "**Ouputs** :\n",
    "\n",
    "- **Type of random forest**: *classification*\n",
    "- **Number of trees (`ntree`)**: *ntree*\n",
    "- **Number of variables tired at each split** : *mtry*\n",
    "- **Out-of-bag (OOB) error estimate**: *OOB estimated*\n",
    "- **confusion matrix**\n"
   ]
  },
  {
   "cell_type": "code",
   "execution_count": null,
   "id": "4b5abd73-6dfc-473e-b16a-3e991a3b0e83",
   "metadata": {},
   "outputs": [],
   "source": [
    "# Build a Random Forest to predict Species based on all four features (petal length, petal width, sepal length, sepal width)\n",
    "\n",
    "iris_rf <- randomForest(Species ~ Petal.Length + Petal.Width + Sepal.Length + Sepal.Width,\n",
    "                        data = iris,\n",
    "                        ntree = 500,          # Number of trees\n",
    "                        mtry = 2,             # Number of variables tried at each split\n",
    "                        importance = TRUE,    # Compute variable importance\n",
    "                        proximity = TRUE)     # Compute proximity matrix\n",
    "\n",
    "# Display a summary of the Random Forest model\n",
    "print(iris_rf)"
   ]
  },
  {
   "cell_type": "markdown",
   "id": "7424d399-c376-47ee-9b63-ce9c9029eea6",
   "metadata": {},
   "source": [
    "## 5.2 Plotting Random Forest performances -> *plot(`rf`)*\n",
    "- On **x-axis** : *number of trees*\n",
    "\n",
    "- On **y-axis** : *error rates*\n",
    "\n",
    "- **Black curve** : *overall out-of-bag (OOB)* error rate.\n",
    "\n",
    "- **Colored curves** : *error rates for each individual class* (species)."
   ]
  },
  {
   "cell_type": "code",
   "execution_count": null,
   "id": "8745000f-ba87-4982-8612-12ece40367c4",
   "metadata": {},
   "outputs": [],
   "source": [
    "# Set plot size in Jupyter Notebook (10 x 7 inches)\n",
    "options(repr.plot.width = 10, repr.plot.height = 7)\n",
    "\n",
    "# Plot the model's error rate over number of trees\n",
    "plot(iris_rf)"
   ]
  },
  {
   "cell_type": "markdown",
   "id": "80aee97c-28c6-4bb0-bc4a-548be9862ded",
   "metadata": {},
   "source": [
    "## 5.3 Display variable importance -> *importance(rf)*\n",
    "\n",
    "- **Rows** : *Each row corresponds to one predictor variable used in the Random Forest model* \n",
    "- **First Columns** : *Importance scores of the variable specifically for predicting each species class.*\n",
    "- **`MeanDecreaseAccuracy/%IncMSE`** : *Overall decrease in model accuracy if that variable is permuted (i.e., randomly shuffled). A higher value means the variable has a larger impact on prediction accuracy.*\n",
    "- **`MeanDecreaseGini/IncNodePurity`** : *Total decrease in node impurity (Gini index) contributed by splits on that variable across all trees. Higher values indicate the variable contributes more to creating pure (homogeneous) nodes*"
   ]
  },
  {
   "cell_type": "code",
   "execution_count": null,
   "id": "57b24c7d-83b1-4fd0-8d9a-ece6242427c1",
   "metadata": {},
   "outputs": [],
   "source": [
    "# Display variable importance\n",
    "importance(iris_rf)"
   ]
  },
  {
   "cell_type": "markdown",
   "id": "f47fc4b5-4893-4148-abe5-a1bab51ac877",
   "metadata": {},
   "source": [
    "## 5.4 plot variable importance -> *varImpPlot(rf)*\n",
    "\n",
    "- **MeanDecreaseAccuracy Plot** : *Shows the Mean Decrease Accuracy (on x-axis) for each variable*\n",
    "- **MeanDecreaseGini Plot** : *Shows the Mean Decrease Gini index (on x-axis) for each variable*"
   ]
  },
  {
   "cell_type": "code",
   "execution_count": null,
   "id": "6113c944-b33c-410a-9e31-15d9cac3f659",
   "metadata": {},
   "outputs": [],
   "source": [
    "# Set plot size in Jupyter Notebook (10 x 7 inches)\n",
    "options(repr.plot.width = 10, repr.plot.height = 7)\n",
    "# Optional: Plot variable importance\n",
    "varImpPlot(iris_rf)"
   ]
  },
  {
   "cell_type": "markdown",
   "id": "4e325f85-fec9-4295-8ac6-dc54bdf11ea0",
   "metadata": {},
   "source": [
    "<div style=\"padding: 12px; border: 2px solid red; font-size: 18px;\">\n",
    "  <span style=\"text-decoration: underline; font-weight: bold; font-size: 22px;\">Question 4</span><br/><br/>\n",
    "\n",
    "  1) Load the <code>demographic_data.csv</code> file and store it in a variable named <code>demographic_data</code> (use `stringsAsFactors = TRUE` to be sure to have correct format).<br/><br/>\n",
    "\n",
    "  2) Use a random forest model to predict whether a person lives in town (`live_in_town` column) based on all other variables and shows the output. Use 500 trees, and 2  variables randomly sampled at each split, let  <code> importance = TRUE </code> and <code>proximity = TRUE</code> and show the result\n",
    "\n",
    "3) Which variable is the more important according to the <strong>MeanDecreaseAccuracy</strong>\n",
    "\n",
    "</div>"
   ]
  },
  {
   "cell_type": "code",
   "execution_count": null,
   "id": "b86a3d29-8e9f-4a08-8aed-48c6502c6b69",
   "metadata": {},
   "outputs": [],
   "source": [
    "# 1) Read the CSV file into a dataframe named demographic_data (hint: use read.csv())\n",
    "demographic_data <- ____(\"demographic_data.csv\", stringsAsFactors = TRUE)\n"
   ]
  },
  {
   "cell_type": "markdown",
   "id": "2c8b8ae1-b1d3-4584-8572-1fc7132a4444",
   "metadata": {},
   "source": [
    "\n",
    "<details style=\"font-size: 18px;\">\n",
    "  <summary style=\"font-size: 20px; font-weight: bold; text-decoration: underline;\">1) Answer</summary>\n",
    "  <div style=\"padding: 10px; border:1px solid blue; font-size: 20px;\">\n",
    "    <code> demographic_data <- <span style=\"color:blue;\">read.csv</span>(\"demographic_data.csv\", stringsAsFactors = TRUE) </code><br/>\n",
    "  </div>\n",
    "</details>"
   ]
  },
  {
   "cell_type": "code",
   "execution_count": null,
   "id": "65dcc137-14b0-4f92-a36c-616127fecbae",
   "metadata": {},
   "outputs": [],
   "source": [
    "#2) Use a random forest model to predict whether a person lives in town (live_in_town column) based on all other variables\n",
    "\n",
    "# Use 500 trees,\n",
    "# 2 variables randomly sampled at each split\n",
    "\n",
    "demographic_data_rf <- ___(___ ~ ___, # hint (use randomForest, live_in_town and when using all variable as predictors juste use \"~.\")\n",
    "                        data = ___,      # hint (use demographic_data )\n",
    "                        ntree = ___,                  # Number of trees # hint (use 500 trees)\n",
    "                        mtry = ___,                     # Number of variables tried at each split (use 2 varaibles randomly sampled at each split)\n",
    "                        importance = ___,            # Compute variable importance \n",
    "                        proximity = ___)             # Compute proximity matrix"
   ]
  },
  {
   "cell_type": "markdown",
   "id": "8c0d684c-ccb3-4962-bb5b-db9910c0dede",
   "metadata": {},
   "source": [
    "\n",
    "<details style=\"font-size: 18px;\">\n",
    "  <summary style=\"font-size: 20px; font-weight: bold; text-decoration: underline;\">2) Answer</summary>\n",
    "  <div style=\"padding: 10px; border:1px solid blue; font-size: 20px;\">\n",
    "    <code> demographic_data_rf <- <span style=\"color:blue;\">randomForest</span>(<span style=\"color:blue;\">live_in_town</span> ~ <span style=\"color:blue;\">.</span>, \n",
    "        data = <span style=\"color:blue;\">demographic_data</span>,\n",
    "        ntree = <span style=\"color:blue;\">500</span>,\n",
    "        mtry = <span style=\"color:blue;\">2</span>,\n",
    "        importance = <span style=\"color:blue;\">TRUE</span>,\n",
    "        proximity = <span style=\"color:blue;\">TRUE</span>\n",
    "    </code><br/>\n",
    "  </div>\n",
    "</details>\n"
   ]
  },
  {
   "cell_type": "code",
   "execution_count": null,
   "id": "9e7196c9-0729-4e52-ac7c-6228d72a510a",
   "metadata": {},
   "outputs": [],
   "source": [
    "# 3) Which variable is the more important according to the MeanDecreaseAccuracy to predict if a person lives in town ?\n",
    "______(demographic_data_rf)"
   ]
  },
  {
   "cell_type": "markdown",
   "id": "87eecf34-d3c9-43dd-9fff-52ce349b952b",
   "metadata": {},
   "source": [
    "\n",
    "<details style=\"font-size: 18px;\">\n",
    "  <summary style=\"font-size: 20px; font-weight: bold; text-decoration: underline;\">3) Answer</summary>\n",
    "  <div style=\"padding: 10px; border:1px solid blue; font-size: 20px;\">\n",
    "    <code> <span style=\"color:blue;\">importance</span>(demographic_data_rf) </code><br/>\n",
    "      <img src=\"images/Script4Q4.png\" alt=\"Script4_Q\" style=\"max-width:40%; margin-top:10px;\">\n",
    "  </div>\n",
    "</details>"
   ]
  },
  {
   "cell_type": "markdown",
   "id": "af9d6447-897c-4d24-9778-59066b79ed26",
   "metadata": {},
   "source": [
    "# 6. Partial Dependance Plots -> *partialPlot()*"
   ]
  },
  {
   "cell_type": "markdown",
   "id": "862179b6-4dad-4fa6-ac1f-1d4e783674f3",
   "metadata": {},
   "source": [
    "## 6.1 Partial Dependence Plots → *partialPlot(model, data, variable)*\n",
    "\n",
    "- **model** → *A trained random forest model object*  \n",
    "- **data** → *Data frame used to train the model*  \n",
    "- **variable** → *Name of the predictor variable for which to plot the partial dependence*  \n",
    "\n",
    "**Outputs** :\n",
    "\n",
    "- **X-axis** : Values of the selected predictor variable (the variable specified in the `variable` argument).  \n",
    "- **Y-axis** : Estimated partial dependence — the average predicted response of the model when the predictor variable takes those values, marginalizing over the other variables."
   ]
  },
  {
   "cell_type": "code",
   "execution_count": null,
   "id": "555cc4b7-e193-498d-9783-f0beff47ca92",
   "metadata": {},
   "outputs": [],
   "source": [
    "# Set plot size in Jupyter Notebook (14 x 10 inches)\n",
    "options(repr.plot.width = 14, repr.plot.height = 10)\n",
    "\n",
    "# Partial dependence plots for selected predictors\n",
    "par(mfrow = c(2, 2))  # Arrange plots in 2 rows x 2 cols\n",
    "\n",
    "partialPlot(iris_rf, iris, Petal.Length, main = \"Partial Dependence on Petal.Length\")\n",
    "partialPlot(iris_rf, iris, Petal.Width, main = \"Partial Dependence on Petal.Width\")\n",
    "partialPlot(iris_rf, iris, Sepal.Length, main = \"Partial Dependence on Sepal.Length\")\n",
    "partialPlot(iris_rf, iris, Sepal.Width, main = \"Partial Dependence on Sepal.Width\")"
   ]
  },
  {
   "cell_type": "markdown",
   "id": "01978acc-2502-42fc-a440-7a4518764bf3",
   "metadata": {},
   "source": [
    "<div style=\"padding: 12px; border: 2px solid red; font-size: 18px;\">\n",
    "  <span style=\"text-decoration: underline; font-weight: bold; font-size: 22px;\">Question 4</span><br/><br/>\n",
    "\n",
    "  1) Load the <code>stress_dataset.csv</code> file and store it in a variable named <code>stress_dataset</code>, This dataset captures real-life vibes from students—their nightly sleep hours, daily coffee intake, average grades, days left before exams, and their level of stress ! <br/><br/>\n",
    "\n",
    "  2) Use a random forest model to predict the level of stress of a student (`stress_level` column on scale of [0-10]) based on all other variables and shows the output. Use 500 trees, and 2  variables randomly sampled at each split, let  <code> importance = TRUE </code> and <code>proximity = TRUE</code> and show the result\n",
    "\n",
    "3) Which variable is the more important according to the <strong>MeanDecreaseAccuracy</strong>\n",
    "\n",
    "4) Show the variables importance using `varImpPlot()`\n",
    "\n",
    "5) Generate and display the partial dependence plot for the predicted `stress_level` to visualize the effect of the most important variable on stress.\n",
    "\n",
    "</div>"
   ]
  },
  {
   "cell_type": "code",
   "execution_count": null,
   "id": "4640f55e-323a-44a6-9c66-f924d53e50c3",
   "metadata": {},
   "outputs": [],
   "source": [
    "# 1) Read the CSV file into a dataframe named stress_dataset (hint: use read.csv())\n",
    "stress_dataset<- ___(\"stress_dataset.csv\")"
   ]
  },
  {
   "cell_type": "markdown",
   "id": "65fdcaa0-dc30-440f-b3ed-131dfe55bb7f",
   "metadata": {},
   "source": [
    "\n",
    "<details style=\"font-size: 18px;\">\n",
    "  <summary style=\"font-size: 20px; font-weight: bold; text-decoration: underline;\">1) Answer</summary>\n",
    "  <div style=\"padding: 10px; border:1px solid blue; font-size: 20px;\">\n",
    "    <code> stress_dataset <- <span style=\"color:blue;\">read.csv</span>(\"stress_dataset.csv\") </code><br/>\n",
    "  </div>\n",
    "</details>"
   ]
  },
  {
   "cell_type": "code",
   "execution_count": null,
   "id": "6b465fea-e3e1-44fc-b5b0-f08da10cebbb",
   "metadata": {},
   "outputs": [],
   "source": [
    "#2) Use a random forest model to predict the level of stress of a student( (stress_level column) based on all other variables\n",
    "\n",
    "# Use 500 trees,\n",
    "# 2 variables randomly sampled at each split\n",
    "\n",
    "stress_dataset_rf <- ___(___ ~ ___, # hint (use randomForest, live_in_town and when using all variable as predictors juste use \"~.\")\n",
    "                        data = ___,      # hint (use demographic_data )\n",
    "                        ntree = ___,                  # Number of trees # hint (use 500 trees)\n",
    "                        mtry = ___,                     # Number of variables tried at each split (use 2 varaibles randomly sampled at each split)\n",
    "                        importance = ___,            # Compute variable importance \n",
    "                        proximity = ___)             # Compute proximity matrix"
   ]
  },
  {
   "cell_type": "markdown",
   "id": "4476cd37-38bc-4465-82ef-b72e9235ffa6",
   "metadata": {},
   "source": [
    "\n",
    "<details style=\"font-size: 18px;\">\n",
    "  <summary style=\"font-size: 20px; font-weight: bold; text-decoration: underline;\">2) Answer</summary>\n",
    "  <div style=\"padding: 10px; border:1px solid blue; font-size: 20px;\">\n",
    "    <code> stress_dataset_rf <- <span style=\"color:blue;\">randomForest</span>(<span style=\"color:blue;\">stress_level</span> ~ <span style=\"color:blue;\">.</span>, \n",
    "        data = <span style=\"color:blue;\">stress_dataset</span>,\n",
    "        ntree = <span style=\"color:blue;\">500</span>,\n",
    "        mtry = <span style=\"color:blue;\">2</span>,\n",
    "        importance = <span style=\"color:blue;\">TRUE</span>,\n",
    "        proximity = <span style=\"color:blue;\">TRUE</span>\n",
    "    </code><br/>\n",
    "  </div>\n",
    "</details>\n"
   ]
  },
  {
   "cell_type": "code",
   "execution_count": null,
   "id": "8fd2edbc-5de1-4e24-8b35-35c6cd40a233",
   "metadata": {},
   "outputs": [],
   "source": [
    "# 3) Which variable is the more important according to the MeanDecreaseAccuracy to predict the stress level of a student ?\n",
    "___(stress_dataset_rf)"
   ]
  },
  {
   "cell_type": "markdown",
   "id": "8e737b1f-bde7-49ba-b724-041dd496f979",
   "metadata": {},
   "source": [
    "\n",
    "<details style=\"font-size: 18px;\">\n",
    "  <summary style=\"font-size: 20px; font-weight: bold; text-decoration: underline;\">3) Answer</summary>\n",
    "  <div style=\"padding: 10px; border:1px solid blue; font-size: 20px;\">\n",
    "    <code> <span style=\"color:blue;\">importance</span>(stress_dataset_rf) </code><br/>\n",
    "      <img src=\"images/Script4_Q5.png\" alt=\"Script4_Q\" style=\"max-width:25%; margin-top:10px;\">\n",
    "  </div>\n",
    "</details>"
   ]
  },
  {
   "cell_type": "code",
   "execution_count": null,
   "id": "9aa38919-903d-40a3-a026-f628c2d8c022",
   "metadata": {},
   "outputs": [],
   "source": [
    "# 4) Show the variables importance using varImpPlot()\n",
    "___(stress_dataset_rf)"
   ]
  },
  {
   "cell_type": "markdown",
   "id": "89477aa5-9543-4211-8d8a-58e23f99ca8b",
   "metadata": {},
   "source": [
    "\n",
    "<details style=\"font-size: 18px;\">\n",
    "  <summary style=\"font-size: 20px; font-weight: bold; text-decoration: underline;\">4) Answer</summary>\n",
    "  <div style=\"padding: 10px; border:1px solid blue; font-size: 20px;\">\n",
    "    <code> <span style=\"color:blue;\">varImpPlot</span>(stress_dataset_rf) </code><br/>\n",
    "      <img src=\"images/Script4_Q5_2.png\" alt=\"Script4_Q\" style=\"max-width:45%; margin-top:10px;\">\n",
    "  </div>\n",
    "</details>"
   ]
  },
  {
   "cell_type": "code",
   "execution_count": null,
   "id": "ec709389-aaf9-405e-9428-a5ef455f6042",
   "metadata": {},
   "outputs": [],
   "source": [
    "# 5) Generate and display the partial dependence plot for the predicted stress_level \n",
    "     #to visualize the effect of the most important variable on stress\n",
    "\n",
    "# Get all column names, then remove the target variable \"stress_level\"\n",
    "predictors <- names(stress_dataset)\n",
    "predictors <- predictors[predictors != \"stress_level\"]\n",
    "\n",
    "# Set the plotting layout: 4 rows and 3 columns\n",
    "par(mfrow = c(4, 3))  # 4x3 grid \n",
    "\n",
    "# Set plot size in Jupyter Notebook (20 x 14 inches)\n",
    "options(repr.plot.width = 20, repr.plot.height = 14)\n",
    "\n",
    "# Define a vector of colors to use\n",
    "colors <- c(\"darkred\", \"steelblue\", \"forestgreen\", \"purple\", \"orange\", \"gold\", \"deeppink\", \"cyan\", \"brown\")\n",
    "#initialize i for the colour attribution in the loop\n",
    "i <- 0\n",
    "\n",
    "# Loop through each predictor and generate its Partial Dependence Plot (PDP)\n",
    "for (predictor in predictors) {\n",
    "    \n",
    "    #increment i for the colour attribution\n",
    "   i = i+ 1\n",
    "    \n",
    "  ___(___, # hint : use the partial plot function and the random forest model\n",
    "              ___,  # hint : use the corresponding dataset\n",
    "              as.character(___),  # hint use predictor\n",
    "              main = paste(\"Effect of\", as.character(predictor)),\n",
    "              xlab = as.character(predictor),\n",
    "              ylab = \"Predicted Stress Level\",\n",
    "             col = colors[i])\n",
    "}"
   ]
  },
  {
   "cell_type": "markdown",
   "id": "3765722b-2f6b-478b-87bf-34feb25969c0",
   "metadata": {},
   "source": [
    "\n",
    "<details style=\"font-size: 18px;\">\n",
    "  <summary style=\"font-size: 20px; font-weight: bold; text-decoration: underline;\">5) Answer</summary>\n",
    "  <div style=\"padding: 10px; border:1px solid blue; font-size: 20px;\">\n",
    "    <code> <span style=\"color:blue;\">partialPlot</span>(<span style=\"color:blue;\">stress_dataset_rf</span>, \n",
    "        <span style=\"color:blue;\">stress_dataset</span>,\n",
    "        as.character(<span style=\"color:blue;\">predictor</span>),\n",
    "        main = paste(\"Effect of\", as.character(predictor)),\n",
    "        xlab = as.character(predictor),\n",
    "        ylab = \"Predicted Stress Level\",\n",
    "        col = colors[i])\n",
    "    </code><br/>\n",
    "      <img src=\"images/Script4_Q5_1.png\" alt=\"Script4_Q\" style=\"max-width:100%; margin-top:10px;\">\n",
    "  </div>\n",
    "</details>\n"
   ]
  },
  {
   "cell_type": "markdown",
   "id": "44c81d31-9988-4f83-8291-6ccbe96cd850",
   "metadata": {},
   "source": [
    "# 7. Cut dendrograms to form clusters -> *cutree()*"
   ]
  },
  {
   "cell_type": "markdown",
   "id": "87d91bdd-dfaa-43c7-b85a-e07a244c6fcc",
   "metadata": {},
   "source": [
    "**Cut the hierarchical clustering tree into k clusters**\n",
    "\n",
    "**use the following structure** \n",
    "```r\n",
    "clustered_tree <- cutree( hc_object, k = number_of_clusters) # Cut the dendrogram object into the desired number of clusters\n",
    "```\n",
    "- **clustered_tree** : *tree separeted in k clusters*\n",
    "- **hc_object** = *hierarchical clustering object* (result of as.dendogram(hc))\n",
    "- **number_of_clusters** = *Number of clusters to cut the dendrogram into*"
   ]
  },
  {
   "cell_type": "markdown",
   "id": "5f83bcd5-4bb2-4767-8217-35f2b5ff6b5b",
   "metadata": {},
   "source": [
    "# 8. Coloring a dendogram according to cluster \n",
    "\n",
    "**use the following structure**\n",
    "```r\n",
    "colors_to_use <- clustered_tree  # Copy the dendrogram structure (or placeholder for colors)\n",
    "\n",
    "colors_to_use <- colors_to_use[order.dendrogram(hc_object)]  # Reorder colors based on dendrogram order\n",
    "\n",
    "labels_colors(hc_object) <- colors_to_use  # Assign the colors to the dendrogram labels\n",
    "\n",
    "plot(hc_object)  # Plot the colored dendrogram\n",
    "\n",
    "\n",
    "```\n",
    "- **hc_object** : *hierarchical clustering object (result of as.dendogram(hc))*\n",
    "- **clusters_tree** : *tree separeted in k clusters*\n",
    "- **colors_to_use** : *colours for each cluster among the tree*\n",
    "-  **plot(hc_object)** : *plot the decision tree with colours for each cluster*"
   ]
  },
  {
   "cell_type": "markdown",
   "id": "048927bb-5fd9-4aff-8628-af0e7bb47a66",
   "metadata": {},
   "source": [
    "# HOMEWORK : TASK 1 "
   ]
  },
  {
   "cell_type": "markdown",
   "id": "1feba563-7bb1-4ac5-809f-6e2f39a4c205",
   "metadata": {},
   "source": [
    "<div style=\"padding: 12px; border: 2px solid red; font-size: 18px;\">\n",
    "  <span style=\"text-decoration: underline; font-weight: bold; font-size: 22px;\">HOMEWORK : TASK 1</span><br/>\n",
    "\n",
    "  1) Remove empty sites from the <code>spe</code>, <code>env</code>, <code>spa</code>, and <code>latlong</code> datasets.<br/>\n",
    "  \n",
    "  2) Compute the chord distance matrix between sites using the <code>spe</code> dataset.<br/>\n",
    "  \n",
    "  3) Perform hierarchical agglomerative clustering using Ward’s minimum variance method.<br/>\n",
    "  \n",
    "  4) Convert the resulting object into a dendrogram using <code>as.dendrogram()</code> and plot it.<br/>\n",
    "  \n",
    "  5) Partition the dendrogram into 4 clusters using <code>cutree()</code>.<br/>\n",
    "  \n",
    "  6) Plot the dendrogram with specific colors for each cluster.<br/>\n",
    "  \n",
    "  7) Create a scatter plot of the sample locations with colors matching the dendrogram clusters.<br/>\n",
    "  \n",
    "  8) <em>[Instruction missing – consider completing this step]</em>\n",
    "</div>\n"
   ]
  },
  {
   "cell_type": "code",
   "execution_count": null,
   "id": "e730df16-310c-4359-9aff-fb4c5ca22885",
   "metadata": {},
   "outputs": [],
   "source": [
    "# 1) Remove empty site 8 (you don't have to change anything here)\n",
    "spe <- spe[-8, ]\n",
    "env <- env[-8, ]\n",
    "spa <- spa[-8, ]\n",
    "latlong <- latlong[-8, ]"
   ]
  },
  {
   "cell_type": "code",
   "execution_count": null,
   "id": "797ba9ac-9f79-4ce9-8915-997f90d9e53c",
   "metadata": {},
   "outputs": [],
   "source": [
    "# 2)Compute the chord distance matrix between sites using the spe dataset.\n",
    "\n",
    "# 1. Normalize the data\n",
    "spe.norm <- decostand(_____, \"_____\")  # Hint: input data, method = \"normalize\"\n",
    "\n",
    "# 2. Calculate the distance matrix\n",
    "spe.ch <- vegdist(_____, \"_____\")      # Hint: normalized data, distance method = \"euc\""
   ]
  },
  {
   "cell_type": "markdown",
   "id": "c40462d9-35c5-4376-b8e7-a823867a9fc2",
   "metadata": {},
   "source": [
    "\n",
    "<details style=\"font-size: 18px;\">\n",
    "  <summary style=\"font-size: 20px; font-weight: bold; text-decoration: underline;\">2) Answer</summary>\n",
    "  <div style=\"padding: 10px; border:1px solid blue; font-size: 20px;\">\n",
    "    <code> spe.norm <- decostand(<span style=\"color:blue;\">spe</span>,\"<span style=\"color:blue;\">normalize</span>\") </code><br/>\n",
    "      <code> spe.ch <- vegdist(<span style=\"color:blue;\">spe.norm</span>,\"<span style=\"color:blue;\">euc</span>\") </code><br/>\n",
    "  </div>\n",
    "</details>"
   ]
  },
  {
   "cell_type": "code",
   "execution_count": null,
   "id": "4ca7a9ec-9857-4177-a67e-ea3e12cb57be",
   "metadata": {},
   "outputs": [],
   "source": [
    "#3) Perform hierarchical agglomerative clustering using Ward’s minimum variance method.\n",
    "\n",
    "# 1. Perform hierarchical clustering\n",
    "hc <- hclust(_____, method = \"_____\")  # Hint: distance matrix, clustering method = \"ward.D2\""
   ]
  },
  {
   "cell_type": "markdown",
   "id": "0a05c333-71e2-43a4-b892-b42f74aa5c6c",
   "metadata": {},
   "source": [
    "\n",
    "<details style=\"font-size: 18px;\">\n",
    "  <summary style=\"font-size: 20px; font-weight: bold; text-decoration: underline;\">3) Answer</summary>\n",
    "  <div style=\"padding: 10px; border:1px solid blue; font-size: 20px;\">\n",
    "    <code> hc <- hclust(<span style=\"color:blue;\">spe.ch</span>,\"<span style=\"color:blue;\">ward.D2</span>\") </code><br/>\n",
    "  </div>\n",
    "</details>"
   ]
  },
  {
   "cell_type": "code",
   "execution_count": null,
   "id": "a37d4cda-4a11-4fd1-836e-39c952119c68",
   "metadata": {},
   "outputs": [],
   "source": [
    "#4). Convert the hierarchical object into a dendrogram object\n",
    "spe.cw <- as.dendrogram(_____)         # Hint: object returned by hclust\n",
    "\n",
    "# 3. Plot the dendrogram\n",
    "plot(___)                         "
   ]
  },
  {
   "cell_type": "markdown",
   "id": "3b8a5f2a-425a-45b7-b962-d299eb98fa43",
   "metadata": {},
   "source": [
    "<details style=\"font-size: 18px;\">\n",
    "  <summary style=\"font-size: 20px; font-weight: bold; text-decoration: underline;\">4) Answer</summary>\n",
    "  <div style=\"padding: 10px; border:1px solid blue; font-size: 20px;\">\n",
    "    <code> spe.cw <- as.dendrogram(<span style=\"color:blue;\">hc</span>) </code><br/>\n",
    "    <code> plot(<span style=\"color:blue;\">spe.cw</span>) </code><br/>\n",
    "        <img src=\"images/Script4_HomeWork1.png\" alt=\"Script4_Q\" style=\"max-width:100%; margin-top:10px;\">\n",
    "  </div>\n",
    "</details>\n"
   ]
  },
  {
   "cell_type": "code",
   "execution_count": null,
   "id": "5b838f44-e9e9-4959-9488-2d9069eecd2c",
   "metadata": {},
   "outputs": [],
   "source": [
    "#5) Partition the dendrogram into 4 groups\n",
    "spe.cw.g <- cutree(_____, _____)  # Hint: dendrogram object, number of clusters"
   ]
  },
  {
   "cell_type": "markdown",
   "id": "ad19ede3-d4d4-4ffd-bae8-a7b3b5c19454",
   "metadata": {},
   "source": [
    "\n",
    "<details style=\"font-size: 18px;\">\n",
    "  <summary style=\"font-size: 20px; font-weight: bold; text-decoration: underline;\">5) Answer</summary>\n",
    "  <div style=\"padding: 10px; border:1px solid blue; font-size: 20px;\">\n",
    "    <code> spe.cw.g <- cutree(<span style=\"color:blue;\">spe.cw</span>,<span style=\"color:blue;\">4</span>) </code>\n",
    "  </div>\n",
    "</details>"
   ]
  },
  {
   "cell_type": "markdown",
   "id": "c696008f-b0d5-45d1-b055-5d4d024a09d1",
   "metadata": {},
   "source": [
    "For 6) \n",
    "\n",
    "**use the following structure**\n",
    "```r\n",
    "colors_to_use <- clustered_tree  # Copy the dendrogram structure (or placeholder for colors)\n",
    "\n",
    "colors_to_use <- colors_to_use[order.dendrogram(hc_object)]  # Reorder colors based on dendrogram order\n",
    "\n",
    "labels_colors(hc_object) <- colors_to_use  # Assign the colors to the dendrogram labels\n",
    "\n",
    "plot(hc_object)  # Plot the colored dendrogram\n",
    "\n",
    "```\n",
    "- **hc_object** : *hierarchical clustering object (result of as.dendogram(hc))*\n",
    "- **clusters_tree** : *tree separeted in k clusters*\n",
    "- **colors_to_use** : *colours for each cluster among the tree*\n",
    "-  **plot(hc_object)** : *plot the decision tree with colours for each cluster*\n",
    "```"
   ]
  },
  {
   "cell_type": "code",
   "execution_count": null,
   "id": "b4905c81-aed3-4778-90f8-59e2ec8e1f28",
   "metadata": {},
   "outputs": [],
   "source": [
    "#6) Plot the dendrogram with specific colors for each cluster.\n",
    "\n",
    "colors_to_use <- ___      #define colors and sort according to tips in dendrogram\n",
    "\n",
    "colors_to_use<-colors_to_use[order.dendrogram(___)] # Reorder colors based on dendrogram order\n",
    "\n",
    "labels_colors(___) <- colors_to_use   # Assign the colors to the dendrogram labels\n",
    "\n",
    "plot(___) # Plot the colored dendrogram"
   ]
  },
  {
   "cell_type": "markdown",
   "id": "839ce73c-34ff-4ef2-8210-6604f92fd826",
   "metadata": {},
   "source": [
    "\n",
    "<details style=\"font-size: 18px;\">\n",
    "  <summary style=\"font-size: 20px; font-weight: bold; text-decoration: underline;\">6) Answer</summary>\n",
    "  <div style=\"padding: 10px; border:1px solid blue; font-size: 20px;\">\n",
    "    <code> colors_to_use <- <span style=\"color:blue;\">spe.cw.g</span> </code> <br>\n",
    "     <code> colors_to_use <- colors_to_use[order.dendrogram(<span style=\"color:blue;\">spe.cw</span>)] </code> <br>\n",
    "       <code> labels_colors(<span style=\"color:blue;\">spe.cw</span>) <- colors_to_use </code> <br>\n",
    "       <code> plot(<span style=\"color:blue;\">spe.cw</span>)</code> <br>  \n",
    "        <img src=\"images/Script4_HomeWork1_1.png\" alt=\"Script4_Q\" style=\"max-width:100%; margin-top:10px;\">\n",
    "  </div>\n",
    "</details>"
   ]
  },
  {
   "cell_type": "code",
   "execution_count": null,
   "id": "c1a2f0e2-1200-4d55-87c3-c541398c1cbb",
   "metadata": {},
   "outputs": [],
   "source": [
    "#7) Create a scatter plot of the sample locations with colors matching the dendrogram clusters.\n",
    "\n",
    "# Before computing the scatter plot, we need to merge all relevant data:\n",
    "# - the dendrogram cluster assignments (i.e., cluster each sample belongs to)\n",
    "# - the environmental data describing each sample (e.g., temperature, ammonium, nitrate concentrations)\n",
    "# - the spatial coordinates of each sample (X and Y)\n",
    "\n",
    "all.dat<-cbind(spe.cw.g,env,spe, spa)\n",
    "head(all.dat)"
   ]
  },
  {
   "cell_type": "code",
   "execution_count": null,
   "id": "ee1df5bc-3f80-420c-a72f-b9a3688fa92e",
   "metadata": {},
   "outputs": [],
   "source": [
    "#7) Create a scatter plot of the sample locations with colors matching the dendrogram clusters.\n",
    "\n",
    "# Plot the spatial distribution of sample groups using X and Y coordinates\n",
    "\n",
    "# Hint: since 'spa' is a data frame containing only the X and Y coordinates, \n",
    "# you can directly use 'spa' without specifying columns\n",
    "____(___, \n",
    "     type = \"l\", \n",
    "     col = \"lightblue\",\n",
    "     lwd = 3,\n",
    "     xlab = \"X coordinate\", \n",
    "     ylab = \"Y coordinate\",\n",
    "     main = \"Spatial Distribution of Sample Groups\")\n",
    "\n",
    "\n",
    "\n",
    "\n",
    "# Plot the points colored by the dendrogram clusters\n",
    "# Hint: use the 'points()' function to add sample points to an existing plot,\n",
    "# and make sure the 'col' argument matches the dendrogram cluster assignments (e.g., 'spe.cw.g')\n",
    "______(all.dat$X,\n",
    "       all.dat$Y\n",
    "       ,pch=16, \n",
    "       cex=2.5,\n",
    "       col=all.dat$___)"
   ]
  },
  {
   "cell_type": "markdown",
   "id": "4d8ecee5-e02e-49d4-ba77-e624e34d36c6",
   "metadata": {},
   "source": [
    "\n",
    "<details style=\"font-size: 18px;\">\n",
    "  <summary style=\"font-size: 20px; font-weight: bold; text-decoration: underline;\">7) Answer</summary>\n",
    "  <div style=\"padding: 10px; border:1px solid blue; font-size: 20px;\">\n",
    "    <code> plot (<span style=\"color:blue;\">spa</span>,\n",
    "                         type = \"l\", \n",
    "                         col = \"lightblue\",\n",
    "                         lwd = 3,\n",
    "                         xlab = \"X coordinate\", \n",
    "                         ylab = \"Y coordinate\",\n",
    "                         main = \"Spatial Distribution of Sample Groups\")</code> <br>\n",
    "\n",
    "<code> <span style=\"color:blue;\">points</span>(all.dat$X,\n",
    "       all.dat$Y\n",
    "       ,pch=16, \n",
    "       cex=2.5,\n",
    "       col=all.dat$<span style=\"color:blue;\">spe.cw.g</span>)\n",
    "  <img src=\"images/Script4_HomeWork1_2.png\" alt=\"Script4_Q\" style=\"max-width:100%; margin-top:10px;\">\n",
    "  </div>\n",
    "</details>"
   ]
  }
 ],
 "metadata": {
  "kernelspec": {
   "display_name": "R",
   "language": "R",
   "name": "ir"
  },
  "language_info": {
   "codemirror_mode": "r",
   "file_extension": ".r",
   "mimetype": "text/x-r-source",
   "name": "R",
   "pygments_lexer": "r",
   "version": "4.5.1"
  }
 },
 "nbformat": 4,
 "nbformat_minor": 5
}
