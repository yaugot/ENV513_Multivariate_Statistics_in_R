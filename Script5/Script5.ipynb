{
 "cells": [
  {
   "cell_type": "markdown",
   "id": "88674578-fe22-490e-b6ba-3d82ae1214bc",
   "metadata": {},
   "source": [
    "# Script 5 - Unconstrained Ordination"
   ]
  },
  {
   "cell_type": "markdown",
   "id": "4dea6c8f-9a47-4d9f-b1f3-6c6d8a21eb97",
   "metadata": {},
   "source": [
    "# Librairies"
   ]
  },
  {
   "cell_type": "code",
   "execution_count": 2,
   "id": "ef4604b2-5dcf-4009-8dbb-f10e2a533f88",
   "metadata": {
    "execution": {
     "iopub.execute_input": "2025-09-26T06:22:34.638925Z",
     "iopub.status.busy": "2025-09-26T06:22:34.593664Z",
     "iopub.status.idle": "2025-09-26T06:22:35.753038Z",
     "shell.execute_reply": "2025-09-26T06:22:35.751436Z"
    }
   },
   "outputs": [
    {
     "name": "stderr",
     "output_type": "stream",
     "text": [
      "Loading required package: permute\n",
      "\n"
     ]
    }
   ],
   "source": [
    "library(ade4)\n",
    "library(vegan)"
   ]
  },
  {
   "cell_type": "markdown",
   "id": "c545bc70-9ea0-4372-a712-dcb8aaad8307",
   "metadata": {},
   "source": [
    "# Loading data and removing empty site 8"
   ]
  },
  {
   "cell_type": "markdown",
   "id": "a4659e42-f6e6-4225-9d8d-10b6b0a7b75b",
   "metadata": {},
   "source": [
    "<div style=\"padding: 10px; border:1px solid green; font-size: 10px;\">\n",
    "  <span style=\"font-size: 15px;\"> <i>Loading the data from Doubs</i> </span><br/>\n",
    "</div>"
   ]
  },
  {
   "cell_type": "code",
   "execution_count": 3,
   "id": "b27574e8-bf11-42e1-aea6-43d6a8d43fa7",
   "metadata": {
    "execution": {
     "iopub.execute_input": "2025-09-26T06:22:37.090549Z",
     "iopub.status.busy": "2025-09-26T06:22:37.087225Z",
     "iopub.status.idle": "2025-09-26T06:22:37.112935Z",
     "shell.execute_reply": "2025-09-26T06:22:37.111215Z"
    }
   },
   "outputs": [],
   "source": [
    "# Load the Doubs data\n",
    "load(\"Doubs.RData\")\n",
    "# Remove empty site 8\n",
    "spe <- spe[-8, ]\n",
    "env <- env[-8, ]\n",
    "spa <- spa[-8, ]"
   ]
  },
  {
   "cell_type": "markdown",
   "id": "ab676d5c-9132-4918-9213-71cf66fabdf1",
   "metadata": {},
   "source": [
    "# 1 Principal Component Analysis (PCA) -> *rda(),scores(),summary(),pca_object$\\$$CA$\\$$eig,screenplot(),biplot()*"
   ]
  },
  {
   "cell_type": "markdown",
   "id": "6f8d295b-4f88-4ed2-8fb1-09e0c9b2b660",
   "metadata": {},
   "source": [
    "<div style=\"border: 5px solid green; padding: 15px; border-radius: 0px;\">\n",
    "  <h1 style=\"color: green; font-weight: bold; text-align: center;\">1 Principal Component Analysis (PCA)</h1>\n",
    "  <div style=\"display: flex; align-items: flex-start;\">\n",
    "    <div style=\"flex: 1; padding-right: 20px;\">\n",
    "      <ul>\n",
    "        <li>Reduces <strong>high-dimensional data<strong style=\"color: green;\"> into fewer components</li>\n",
    "        <li>First components capture the <strong>maximum variance</strong></li>\n",
    "        <li>Useful for <strong>visualization</strong> and <strong style=\"color: green;\">dimensionality reduction</strong></li>\n",
    "      </ul>\n",
    "    </div>\n",
    "    <div style=\"flex: 1; text-align: center;\">\n",
    "      <img src=\"images/Script5_PCA.png\" alt=\"PCA Example\" style=\"max-width: 90%;\">\n",
    "    </div>\n",
    "  </div>\n",
    "</div>\n"
   ]
  },
  {
   "cell_type": "markdown",
   "id": "0a37d9fb-4eca-4c50-a684-c7c118e60c73",
   "metadata": {},
   "source": [
    "<div style=\"padding: 10px; border:1px solid red; font-size: 18px; position: relative;\">\n",
    "  <span style=\"text-decoration:underline; font-weight: bold; font-size: 22px;\">Question 1</span><br/>\n",
    "\n",
    "  <div style=\"display: flex; align-items: flex-start;\">\n",
    "  <div style=\"flex: 1;\">\n",
    "    Is the following statement true or false?<br/> <br/>\n",
    "    <em>\n",
    "      <strong>PCA maintains the distances (Euclidean) between objects\n",
    "in reduced space<strong> <br/><br/>\n",
    "    </em>\n",
    "  </div>\n",
    "</div>\n",
    "\n",
    "<form>\n",
    "  <label><input type=\"radio\" name=\"q5\" value=\"1\"> 1) True</label><br/>\n",
    "  <label><input type=\"radio\" name=\"q5\" value=\"2\"> 2) False </label><br/>\n",
    "</form>\n",
    "\n",
    "</div>\n",
    "\n",
    "<details style=\"font-size: 18px;\">\n",
    "  <summary style=\"font-size: 20px; font-weight: bold; text-decoration: underline;\">Answer</summary>\n",
    "  <div style=\"padding: 10px; border:1px solid blue; font-size: 20px;\">\n",
    "\n",
    "<form>\n",
    "  <label style=\"color: blue;\"><input type=\"radio\" name=\"q5\" value=\"squaring\">  1) True</label><br/>\n",
    "  <label><input type=\"radio\" name=\"q5\" value=\"2\"> 2) False</label><br/>\n",
    "</form>\n",
    "\n",
    "  </div>\n",
    "</details>\n",
    "\n",
    "\n",
    "\n"
   ]
  },
  {
   "cell_type": "markdown",
   "id": "a72d1d15-c520-402d-b378-c6f47ccfdc65",
   "metadata": {},
   "source": [
    "<div style=\"padding: 10px; border:1px solid red; font-size: 18px; position: relative;\">\n",
    "  <span style=\"text-decoration:underline; font-weight: bold; font-size: 22px;\">Question 2</span><br/>\n",
    "\n",
    "<div style=\"display: flex; align-items: flex-start;\">\n",
    "  <div style=\"flex: 1;\">\n",
    "    Is the following statement true or false?<br/> <br/>\n",
    "    <em>\n",
    "      <strong>When computing a PCA, the descriptors should be quantitative, and if they are measured on different scales, they must be standardized.<strong> <br/><br/>\n",
    "    </em>\n",
    "  </div>\n",
    "</div>\n",
    "\n",
    "<form>\n",
    "  <label><input type=\"radio\" name=\"q5\" value=\"1\"> 1) True</label><br/>\n",
    "  <label><input type=\"radio\" name=\"q5\" value=\"2\"> 2) False </label><br/>\n",
    "</form>\n",
    "\n",
    "</div>\n",
    "\n",
    "<details style=\"font-size: 18px;\">\n",
    "  <summary style=\"font-size: 20px; font-weight: bold; text-decoration: underline;\">Answer</summary>\n",
    "  <div style=\"padding: 10px; border:1px solid blue; font-size: 20px;\">\n",
    "\n",
    "<form>\n",
    "  <label style=\"color: blue;\"><input type=\"radio\" name=\"q5\" value=\"squaring\">  1) True</label><br/>\n",
    "  <label><input type=\"radio\" name=\"q5\" value=\"2\"> 2) False</label><br/>\n",
    "</form>\n",
    "\n",
    "<p><strong>PCA is based on calculating variances and covariances between variables. If the descriptors have different units or value ranges, those with larger scales will disproportionately influence the principal components. Standardization (centering and scaling) puts all variables on the same scale, allowing PCA to capture the overall structure without bias from differing variable scales.</strong></p>\n",
    "\n",
    "\n",
    "  </div>\n",
    "</details>\n",
    "\n"
   ]
  },
  {
   "cell_type": "markdown",
   "id": "4c7bfe34-9e97-4c9a-9cfb-4e847308b5ca",
   "metadata": {},
   "source": [
    "<div style=\"padding: 10px; border:1px solid red; font-size: 18px; position: relative;\">\n",
    "  <span style=\"text-decoration:underline; font-weight: bold; font-size: 22px;\">Question 3</span><br/>\n",
    "\n",
    "\n",
    "  <div style=\"display: flex; align-items: flex-start;\">\n",
    "    <div style=\"flex: 1;\">\n",
    "        For which type of data, is the PCA generally adequate ? <br/>\n",
    "    </div>\n",
    "  </div>\n",
    "\n",
    "<form>\n",
    "  <label><input type=\"radio\" name=\"q5\" value=\"1\"> 1) Community Data</label><br/>\n",
    "  <label><input type=\"radio\" name=\"q5\" value=\"2\"> 2) Environnemental Data </label><br/>\n",
    "</form>\n",
    "\n",
    "</div>\n",
    "\n",
    "<details style=\"font-size: 18px;\">\n",
    "  <summary style=\"font-size: 20px; font-weight: bold; text-decoration: underline;\">Answer</summary>\n",
    "  <div style=\"padding: 10px; border:1px solid blue; font-size: 20px;\">\n",
    "\n",
    "<form>\n",
    "  <label><input type=\"radio\" name=\"q5\" value=\"2\"> 1) Community Data</label><br/>\n",
    "  <label style=\"color: blue;\"><input type=\"radio\" name=\"q5\" value=\"squaring\"> 2) Environnemental Data</label><br/>\n",
    "</form>\n",
    "\n",
    "<p><strong>PCA is not well suited for Community Data due to the double-zero problem: two species absent in two samples appear artificially similar, which can mislead the analysis.</strong></p>\n",
    "\n",
    "\n",
    "  </div>\n",
    "</details>\n",
    "\n"
   ]
  },
  {
   "cell_type": "markdown",
   "id": "9bc702b1-a76a-40ff-9ff6-b5be47331cf9",
   "metadata": {},
   "source": [
    "### 1.0.1 PCA computation based on a dataframe  -> ***rda**( `df` , `TRUE/FALSE`)*\n",
    "\n",
    "*PCA computation based on a Dataframe* \n",
    "\n",
    "- **`df`** → *Dataframe on which we compute the PCA*  \n",
    "- **`TRUE/FALSE`** → *Argument scale*:  \n",
    "  - `\"TRUE\"`:  variables are standardized (PCA on correlation matrix)\n",
    "  - `\"FALSE\"`: variables are not standardized (PCA on covariance matrix)\n",
    "    \n",
    "**outputs :**\n",
    "\n",
    "- **Inertia (explained variance)** :\n",
    "\n",
    "  - `\"Total\"`: Total variance explained by all variables \n",
    "  - `\"Unconstrained\"`: Total variance explained, specifying that this is an unconstrained analysis\n",
    "\n",
    "    \n",
    "- **Rank** :\n",
    "\n",
    "  - `\"Unconstrained\"`: Number of possible non-null principal components (rank of data matrix)\n",
    "\n",
    "  \n",
    "- **Inertia is correlations (if argument scale = `TRUE`)** :  inertia is based on correlations (standardized variables), so PCA is done on correlation matrix\n",
    "- **Inertia is variance (if argument scale = `FALSE`)** : inertia is based on variances (covariances) without standardization\n",
    "\n",
    "- **Eigenvalues for unconstrained axes:** : Each eigenvalue (PC1, PC2, etc.) corresponds to the variance explained by that principal component"
   ]
  },
  {
   "cell_type": "markdown",
   "id": "d56ed358-dd83-4f5e-9054-a1bab749ca0b",
   "metadata": {},
   "source": [
    "## 1.1 Compute PCA on env data"
   ]
  },
  {
   "cell_type": "code",
   "execution_count": 4,
   "id": "de0705d3-6efb-4220-aae1-18b5e9ef912d",
   "metadata": {
    "execution": {
     "iopub.execute_input": "2025-09-26T06:22:46.677718Z",
     "iopub.status.busy": "2025-09-26T06:22:46.676084Z",
     "iopub.status.idle": "2025-09-26T06:22:46.699399Z",
     "shell.execute_reply": "2025-09-26T06:22:46.697750Z"
    }
   },
   "outputs": [
    {
     "data": {
      "text/plain": [
       "\n",
       "Call: rda(X = env, scale = TRUE)\n",
       "\n",
       "              Inertia Rank\n",
       "Total              11     \n",
       "Unconstrained      11   11\n",
       "\n",
       "Inertia is correlations\n",
       "\n",
       "Eigenvalues for unconstrained axes:\n",
       "  PC1   PC2   PC3   PC4   PC5   PC6   PC7   PC8   PC9  PC10  PC11 \n",
       "6.098 2.167 1.038 0.704 0.352 0.319 0.165 0.112 0.023 0.017 0.006 \n"
      ]
     },
     "metadata": {},
     "output_type": "display_data"
    }
   ],
   "source": [
    "# Compute PCA on env data\n",
    "# Standardize variables (scale = TRUE)\n",
    "env.pca <- rda(env, scale = TRUE)\n",
    "#Show the outputs\n",
    "env.pca"
   ]
  },
  {
   "cell_type": "markdown",
   "id": "da0caf91-4801-4f31-aee4-4e8b6c14204a",
   "metadata": {},
   "source": [
    "<div style=\"border: 5px solid green; padding: 15px; border-radius: 0px;\">\n",
    "  <h1 style=\"color: green; font-weight: bold; text-align: center;\">1.0.2 Summary</h1>\n",
    "  <div style=\"display: flex; align-items: flex-start;\">\n",
    "    <div style=\"flex: 1; padding-right: 20px;\">\n",
    "      <h3 style=\"color: green;\">Partitioning of Correlations</h3>\n",
    "      <ul>\n",
    "        <li> <strong>Total Inertia </strong> : total variance present in a dataset</li>\n",
    "        <li><strong>Unconstrained </strong> : part of the variance that is explained only by the internal structure of the data </li>\n",
    "      </ul>  \n",
    "      <h3 style=\"color: green;\">Eigenvalues</h3>\n",
    "      <ul>\n",
    "        <li><strong>Eigenvalue</strong>: measures the amount of variance captured by each axis.</li>\n",
    "        <li><strong>Proportion Explained</strong>: share of variance explained by the axis.</li>\n",
    "        <li><strong>Cumulative Proportion</strong>: sum of explained proportions, shows the cumulative variance captured by the first axes.</li>\n",
    "      </ul>\n",
    "    </div>\n",
    "    <div style=\"flex: 1; text-align: center;\">\n",
    "      <img src=\"images/Script5_summary.png\" alt=\"Summary Example\" style=\"max-width: 90%;\">\n",
    "    </div>\n",
    "    \n",
    "  </div>\n",
    "</div>\n"
   ]
  },
  {
   "cell_type": "markdown",
   "id": "ca47d590-51a2-48f7-87f0-9d86daf27bde",
   "metadata": {
    "execution": {
     "iopub.execute_input": "2025-07-23T20:59:32.064648Z",
     "iopub.status.busy": "2025-07-23T20:59:32.060011Z",
     "iopub.status.idle": "2025-07-23T20:59:32.089098Z",
     "shell.execute_reply": "2025-07-23T20:59:32.086603Z"
    }
   },
   "source": [
    "### 1.0.2 Display a summary of the PCA components -> ***summary**(`pca_object`)*\n",
    "\n",
    "- **`pca_object`** → *PCA computed using rda()*  \n",
    "- **`summary()`** → *Show the summary of the PCA components*\n",
    "    \n",
    "**outputs :**\n",
    "\n",
    "- **Eigenvalues, and their contribution to the correlations** :\n",
    "\n",
    "  - `\"Eigenvalue\"`:  Eigenvalue of each principal component (PC1, PC2, PC3, PC4). It represents the amount of variance explained by that component. \n",
    "  - `\"Proportion Explained \"`: The proportion of the total variance explained by each individual principal component.\n",
    "  - `\"Cumulative Proportion\"`: The cumulative proportion of variance explained by adding successive principal components.\n",
    "\n"
   ]
  },
  {
   "cell_type": "markdown",
   "id": "f17ad743-ef82-4a9a-8a42-f95a0869103a",
   "metadata": {
    "execution": {
     "iopub.execute_input": "2025-09-25T16:37:16.751892Z",
     "iopub.status.busy": "2025-09-25T16:37:16.749258Z",
     "iopub.status.idle": "2025-09-25T16:37:16.796832Z",
     "shell.execute_reply": "2025-09-25T16:37:16.794747Z"
    }
   },
   "source": [
    "## 1.2 Display PCA summary of the env data"
   ]
  },
  {
   "cell_type": "code",
   "execution_count": null,
   "id": "564ba353-7e7d-46aa-b07e-cbc6fe7da7cd",
   "metadata": {},
   "outputs": [],
   "source": [
    "#Show the summary of the PCA components\n",
    "summary(env.pca) "
   ]
  },
  {
   "cell_type": "markdown",
   "id": "544ff0cd-ce5b-4e0c-98aa-7a763dba6a77",
   "metadata": {},
   "source": [
    "<div style=\"padding: 10px; border:5px solid green; font-size: 10px; text-align: center;\">\n",
    "    <div style=\"margin-top: 20px; font-size: 20px; font-weight: bold;\">\n",
    "        <h3 style=\"color: green; font-weight: bold;\">1.0.3 Score of each observation/variable</h3>\n",
    "    </div>\n",
    "    <div style=\"display: flex; justify-content: center; gap: 20px;\">\n",
    "        <img src=\"images/Script5_coordinate_species.png\" style=\"width: 50%;\">\n",
    "        <img src=\"images/Script5_coordinate_sites.png\" style=\"width: 50%;\">\n",
    "    </div>\n",
    "</div>\n"
   ]
  },
  {
   "cell_type": "markdown",
   "id": "0dc4a7e2-0bbf-4f7e-ab3e-c256d482218c",
   "metadata": {},
   "source": [
    "### 1.0.3 Examine and plot PCA output -> ***scores**(`pca_object`, display = \"\")*\n",
    "\n",
    "- **`pca_object`** → *PCA result computed using rda()*  \n",
    "- **`display`** → *What to display:*\n",
    "  \n",
    "  - `\"sites\"`:  scores of the observations (rows of the data)\n",
    "  - `\"species\"`: scores of the variables (columns)\n",
    "  - `\"bp\"`: scores of the biplot arrows (variables)\n",
    "    \n",
    "**outputs :**\n",
    "\n",
    "- **Eigenvalues, and their contribution to the correlations** :\n",
    "\n",
    "  - `\"Scores of sites (observations)\"`: coordinates of each observation (sample) on the principal components axes.\n",
    "                    These are the positions of your samples in the PCA space.\n",
    "  - `\"Scores of species (variables)\"`: coordinates of variables in the PCA space, showing their contribution and correlation to the axes."
   ]
  },
  {
   "cell_type": "markdown",
   "id": "462161f4-f325-4efa-aac5-3dd1992ffa72",
   "metadata": {},
   "source": [
    "## 1.2 Compute PCA scores on env data"
   ]
  },
  {
   "cell_type": "code",
   "execution_count": null,
   "id": "db046168-4471-4c63-9d30-5a7eb651e236",
   "metadata": {},
   "outputs": [],
   "source": [
    "# Examine and plot PCA output\n",
    "scores(env.pca, display = \"sites\")"
   ]
  },
  {
   "cell_type": "markdown",
   "id": "b608bad2-0e48-4c77-b960-34450d17c242",
   "metadata": {},
   "source": [
    "<div style=\"padding: 10px; border:5px solid green; font-size: 10px; text-align: center;\">\n",
    "    <div style=\"margin-top: 20px; font-size: 20px; font-weight: bold;\">\n",
    "        <h3 style=\"color: green; font-weight: bold;\">1.0.4 Eigenvalues of PCA (CA$eigenvalue)</h3>\n",
    "    </div>\n",
    "    <img src=\"images/Script5_eigenvalue.png\" style=\"width: 35%; margin-top: 10px;\">\n",
    "</div>\n"
   ]
  },
  {
   "cell_type": "markdown",
   "id": "eb29a45e-0a5e-499b-b419-d67aab69c576",
   "metadata": {},
   "source": [
    "### 1.0.4 Get the eigen values of the PCA output -> ***pca_object$ \\$ $CA$ \\$ $eig***\n",
    "\n",
    "- **`pca_object`** → *PCA result computed using rda()*  \n",
    "\n",
    "**outputs :**\n",
    "\n",
    "- **Eigenvalues** :\n",
    "\n",
    "  - The vector **pca_object$\\$$CA$\\$$eig** contains the eigenvalues of each principal component. Each eigenvalue represents the amount of variance explained by its corresponding principal component."
   ]
  },
  {
   "cell_type": "markdown",
   "id": "43e23c43-15a4-455d-95ff-13b257a93f76",
   "metadata": {},
   "source": [
    "## 1.3 Extract the eigenvalues from the PCA result"
   ]
  },
  {
   "cell_type": "code",
   "execution_count": null,
   "id": "02b4740f-b8cd-4c1b-8954-7c46f314035b",
   "metadata": {},
   "outputs": [],
   "source": [
    "# Extract the eigenvalues from the PCA result\n",
    "ev <- env.pca$CA$eig\n",
    "# Display the eigenvalues\n",
    "ev\n",
    "# Calculate and display the total variance explained (sum of eigenvalues)\n",
    "sum(ev)"
   ]
  },
  {
   "attachments": {},
   "cell_type": "markdown",
   "id": "2c445073-76b8-4601-857d-c55bd82c261c",
   "metadata": {},
   "source": [
    "<div style=\"border: 5px solid green; padding: 15px; border-radius: 0px;\">\n",
    "  <h1 style=\"color: green; font-weight: bold; text-align: center;\">1.0.5 Scree Plot with Broken Stick Model</h1>\n",
    "  <div style=\"display: flex; align-items: flex-start;\">\n",
    "    <div style=\"flex: 1; padding-right: 10px;\">\n",
    "      <ul>\n",
    "        <li>Visualizes the <strong>explained variance</strong> of each principal component</li>\n",
    "        <li>The <strong>Broken Stick model</strong> line represents variance explained by a random model</li>\n",
    "        <li>Principal components that explain less variance than the random (broken stick) model <strong>should not be interpreted</strong> (the model provides a reference to select important components)</li>\n",
    "      </ul>\n",
    "    </div>\n",
    "    <div style=\"flex: 1; text-align: center;\">\n",
    "      <img src=\"images/Script5_Screenplot.png\" alt=\"Scree Plot with Broken Stick\" style=\"max-width: 100%;\">\n",
    "    </div>\n",
    "  </div>\n",
    "</div>\n"
   ]
  },
  {
   "cell_type": "markdown",
   "id": "9a8a0279-1ad4-4dd3-b7a5-f94c439e0d3c",
   "metadata": {},
   "source": [
    "### 1.0.5 Screenlot PCA eigenvalues -> ***screeplot**(`pca_object`, bstick = `TRUE`, npcs = length(pca_object$\\$$CA$\\$$eig))*\n",
    "\n",
    "- **`pca_object`** → *PCA result computed using rda()*  \n",
    "- **`bstick`** → *Logical argument:*\n",
    "  \n",
    "  - `\"TRUE\"`:  adds broken-stick model values as a reference line\n",
    "  - `\"FALSE\"`: no broken-stick model shown\n",
    "    \n",
    "- **`npcs`** → *Number of principal components to display on the screeplot (usually all eigenvalues)*\n",
    "\n",
    "\n",
    "**Outputs :** \n",
    "\n",
    "- **Barplot of eigenvalues** :\n",
    "\n",
    "  - Visual representation of the amount of variance explained by each principal component.\n",
    " \n",
    "- **Broken-stick model (if bstick = TRUE)** :\n",
    "  - Broken stick model: The red reference line is the variance explianed by a random model, principal axes which explain less variance than a random model (broken stick) should not be interpreted\n"
   ]
  },
  {
   "cell_type": "markdown",
   "id": "4c51927d-bfef-4501-a3cd-4ae225843abb",
   "metadata": {},
   "source": [
    "## 1.4 Screeplot of the env.pca"
   ]
  },
  {
   "cell_type": "code",
   "execution_count": null,
   "id": "e9376658-6768-4624-88c6-fb190f8beb83",
   "metadata": {},
   "outputs": [],
   "source": [
    "# Set plot size in Jupyter Notebook (10 x 7 inches)\n",
    "options(repr.plot.width = 10, repr.plot.height = 7)\n",
    "\n",
    "# Create a scree plot of the PCA eigenvalues from env.pca\n",
    "screeplot(env.pca, bstick = TRUE, npcs = length(env.pca$CA$eig))"
   ]
  },
  {
   "cell_type": "markdown",
   "id": "e0765b06-87dd-4b6e-848f-28c65649b7ae",
   "metadata": {},
   "source": [
    "<div style=\"padding: 10px; border:5px solid green; font-size: 10px; text-align: center;\">\n",
    "    <div style=\"margin-top: 20px; font-size: 20px; font-weight: bold;\">\n",
    "        <h3 style=\"color: green; font-weight: bold;\">1.0.6 PCA plot</h3>\n",
    "    </div>\n",
    "    <div style=\"display: flex; justify-content: space-between; align-items: flex-start; margin-top: 30px;\">\n",
    "        <img src=\"images/Script5_PCA_plot.png\" style=\"width: 45%;\">   \n",
    "    <ul style=\"text-align: left; font-size: 14px; width: 50%; margin-left: 20px;margin-top: 49px;\">\n",
    "        <li><span style=\"color: green;\"><strong>Observations</strong></span> that are close together →  similar profiles</li>\n",
    "        <li><span style=\"color: blue;\"><strong>Variables</strong></span> that are close together →  positively correlated</li>\n",
    "        <li><span style=\"color: blue;\"><strong>Variables</strong></span> pointing in opposite directions →  negatively correlated</li>\n",
    "        <li>An <span style=\"color: green;\"><strong>observation</strong></span> located near a <span style=\"color: blue;\"><strong>variable</strong></span> → has a high value for that <span style=\"color: blue;\"><strong>variable</strong></span></li>\n",
    "        <li>The coordinate of a <span style=\"color: blue;\"><strong>variable</strong></span> on a principal component (e.g. PC1) indicates how strongly it contributes to that axis — a high coordinate means a strong contribution</li>\n",
    "    </ul>\n",
    "    </div>\n",
    "</div>\n"
   ]
  },
  {
   "cell_type": "markdown",
   "id": "f5039ddb-3899-4c01-8151-fa6116a88e5e",
   "metadata": {},
   "source": [
    "### 1.0.6 Ploting PCA -> ***plot**(pca_object, choices=c(a,b))*\n",
    "\n",
    "- **`pca_object`** → *PCA result computed using rda()*\n",
    "  \n",
    "- **`choices`** → *Vector indicating which principal components to plot on the axes*\n",
    "  \n",
    "  - `\"c(a, b)\"`: means plot PC a on x-axis and PC b on y-axis\n",
    "\n",
    "\n",
    "**Outputs :** \n",
    "\n",
    "- **Scatter plot of samples or sites** :\n",
    "\n",
    "  - Positions of observations projected on the selected principal component axes.\n",
    " \n",
    "- **Scatter plot of variables** :\n",
    "\n",
    "  - Variables are displayed as red points, indicating their contribution and direction on the PCA axes.\n",
    "\n"
   ]
  },
  {
   "cell_type": "markdown",
   "id": "72eae33c-2fb1-4f3b-9dd1-35d7ade1255b",
   "metadata": {},
   "source": [
    "## 1.5 Plot of the env.pca"
   ]
  },
  {
   "cell_type": "code",
   "execution_count": 5,
   "id": "eb1ece27-83e9-41be-aefc-5028dd980d80",
   "metadata": {
    "execution": {
     "iopub.execute_input": "2025-09-26T06:22:53.027335Z",
     "iopub.status.busy": "2025-09-26T06:22:53.025723Z",
     "iopub.status.idle": "2025-09-26T06:22:53.862826Z",
     "shell.execute_reply": "2025-09-26T06:22:53.861231Z"
    }
   },
   "outputs": [
    {
     "data": {
      "image/png": "[encoded data removed]",
      "text/plain": [
       "plot without title"
      ]
     },
     "metadata": {
      "image/png": {
       "height": 420,
       "width": 600
      }
     },
     "output_type": "display_data"
    }
   ],
   "source": [
    "# Set plot size in Jupyter Notebook (10 x 7 inches)\n",
    "options(repr.plot.width = 10, repr.plot.height = 7)\n",
    "\n",
    "# Plot the PCA results showing the first principal component (PC1) on the x-axis\n",
    "# and the second principal component (PC2) on the y-axis\n",
    "plot(env.pca, choices = c(1, 2))\n"
   ]
  },
  {
   "cell_type": "markdown",
   "id": "0451a897-3e53-4ba2-b914-1f302fa2c47f",
   "metadata": {},
   "source": [
    "<div style=\"padding: 10px; border:5px solid green; font-size: 10px; text-align: center;\">\n",
    "    <div style=\"margin-top: 20px; font-size: 20px; font-weight: bold;\">\n",
    "        <h3 style=\"color: green; font-weight: bold;\">1.0.7 PCA biplot</h3>\n",
    "    </div>\n",
    " <!-- Scaling 1 -->\n",
    "    <div style=\"display: flex; justify-content: space-between; align-items: flex-start; margin-top: 30px;\">\n",
    "        <img src=\"images/Script5_Biplot_scaling1.png\" style=\"width: 45%;\">   \n",
    "        <div style=\"text-align: left; font-size: 14px; width: 50%; margin-left: 20px; margin-top: 20px;\">\n",
    "            <h2><strong>Scaling 1</strong></h2>\n",
    "            <ul>\n",
    "                <li>Focuses on <span style=\"color: purple;\"><strong>observations/sites</strong></span> structure</li>\n",
    "                <li>Preserves distances between <span style=\"color: purple;\"><strong>observations/sites</strong></span></li>\n",
    "                <li>distances between <span style=\"color: purple;\"><strong>observations/sites</strong></span> are meaningful → close points = similar profiles</li>\n",
    "                <li> directions of <span style=\"color: orange;\"><strong>variables</strong></span> are informative, but lengths and angles are less reliable</li>\n",
    "            </ul>\n",
    "        </div>\n",
    "    </div>\n",
    "<!-- Scaling 2 -->\n",
    "    <div style=\"display: flex; justify-content: space-between; align-items: flex-start; margin-top: 30px;\">\n",
    "        <img src=\"images/Script5_Biplot_scaling2.png\" style=\"width: 45%;\">   \n",
    "        <div style=\"text-align: left; font-size: 14px; width: 50%; margin-left: 20px; margin-top: 20px;\">\n",
    "            <h2><strong>Scaling 2</strong></h2>\n",
    "            <ul>\n",
    "                <li>Preserves correlations between <span style=\"color: orange;\"><strong>variables</strong></span></li>\n",
    "                <li>Shows <span style=\"color: orange;\"><strong>distances</strong></span> between <span style=\"color: orange;\"><strong>variables</strong></span> accurately</li>\n",
    "                <li> Positions of <span style=\"color: purple;\"><strong>observations/sites</strong></span> mainly show how they relate to the <span style=\"color: orange;\"><strong>variables</strong></span> (close to a variable = high value for it), but distances between <span style=\"color: purple;\"><strong>observations/sites</strong></span> are not reliable</li>\n",
    "            </ul>\n",
    "        </div>\n",
    "    </div>\n",
    "</div>\n"
   ]
  },
  {
   "cell_type": "markdown",
   "id": "9a0a13d8-a5ca-4773-bde4-d50404107030",
   "metadata": {
    "execution": {
     "iopub.execute_input": "2025-07-23T22:08:01.397363Z",
     "iopub.status.busy": "2025-07-23T22:08:01.392282Z",
     "iopub.status.idle": "2025-07-23T22:08:01.421211Z",
     "shell.execute_reply": "2025-07-23T22:08:01.418578Z"
    }
   },
   "source": [
    "### 1.0.7 biplot PCA -> ***biplot**(pca_object, scaling =,main =)*\n",
    "\n",
    "- **`pca_object`** → *PCA result computed using rda()*\n",
    "  \n",
    "- **`scaling`** → *Vector indicating which principal components to plot on the axes*\n",
    "  \n",
    "  - `\"1\"`: Scaling 1 → *Focus on variables (Norm of eigenvectors = 1)*\n",
    "  - `\"2\"`/`\"\"`: Scaling 2 (by default) → *Focus on sites/observations (Norm of eigenvectors = square root of eigenvalues)*\n",
    "  - `\"3\"`: Scaling 3  → *A compromise*\n",
    "\n",
    "\n",
    "\n",
    "- **`main`** → *Title of the plot*\n",
    "\n",
    "**Outputs :** \n",
    "\n",
    "- **A PCA biplot showing:** :\n",
    "\n",
    "  - Samples/sites as **points**.\n",
    "  - Variables as **red arrows** (indicating contribution and direction).\n",
    "\n",
    "- **The appearance depends on the `scaling`** :\n",
    "\n",
    "  - `\"Scaling 1\"`: *better for interpreting sites/observations distances.*\n",
    "  - `\"Scaling 2\"`: *better for interpreting variable correlations.*\n",
    "\n"
   ]
  },
  {
   "cell_type": "markdown",
   "id": "f562f259-3290-4d3d-a15d-abae7292a18e",
   "metadata": {},
   "source": [
    "## 1.5 BiPlot of the env.pca"
   ]
  },
  {
   "cell_type": "code",
   "execution_count": 5,
   "id": "e2fe49eb-2380-4041-9604-b881cb2fcad4",
   "metadata": {
    "execution": {
     "iopub.execute_input": "2025-09-26T05:10:46.391947Z",
     "iopub.status.busy": "2025-09-26T05:10:46.390861Z",
     "iopub.status.idle": "2025-09-26T05:10:46.484122Z",
     "shell.execute_reply": "2025-09-26T05:10:46.482934Z"
    }
   },
   "outputs": [
    {
     "data": {
      "image/png": "[encoded data removed]",
      "text/plain": [
       "Plot with title “PCA - scaling 1”"
      ]
     },
     "metadata": {
      "image/png": {
       "height": 480,
       "width": 960
      }
     },
     "output_type": "display_data"
    }
   ],
   "source": [
    "# Set plot size in Jupyter Notebook (16 x 8 inches)\n",
    "options(repr.plot.width = 16, repr.plot.height = 8)\n",
    "\n",
    "# Split the plotting area into 1 row and 2 columns (side-by-side plots)\n",
    "par(mfrow = c(1, 2))\n",
    "\n",
    "# Plot the PCA biplot using default scaling (scaling 2)\n",
    "biplot(env.pca, main = \"PCA - scaling 2\")\n",
    "\n",
    "# Plot the PCA biplot using scaling 1 (preserves sample distances)\n",
    "biplot(env.pca, scaling = 1, main = \"PCA - scaling 1\")"
   ]
  },
  {
   "cell_type": "markdown",
   "id": "ec1e2134-86de-4bcc-9c95-cf46ec7ae58d",
   "metadata": {},
   "source": [
    "<div style=\"padding: 12px; border: 2px solid red; font-size: 18px;\">\n",
    "  <span style=\"text-decoration: underline; font-weight: bold; font-size: 22px;\">Question 4</span><br/><br/>\n",
    "\n",
    "  1) Using the <code>boxplot()</code> function, display the boxplot of each variable in the <code>env</code> dataset.<br/><br/>\n",
    "\n",
    "  2) What can you say about the scales of the variables? Are they directly comparable, or should they be standardized before comparison?<br/><br/>\n",
    "\n",
    "  3) Using the <code> rda()</code> function, perform two principal component analyses (PCA) on the <code>env</code> dataset <br/><br/>\n",
    "\n",
    "  - <code>env.pca1</code> :  PCA performed with <strong>standardized variables </strong> (centered and scaled)<br/>\n",
    "  - <code>env.pca2</code> :  PCA performed without standardization.<br/><br/>\n",
    "\n",
    "  4) Display both PCAs using the <code>biplot()</code> function with <code>scaling type 1</code> to visualize how the variables influence PC1 and PC2.<br/>\n",
    "  \n",
    "  5) What do you notice ? \n",
    "</div>\n"
   ]
  },
  {
   "cell_type": "code",
   "execution_count": null,
   "id": "1697e2f0-691e-4ecd-93d6-3af4feb91aac",
   "metadata": {},
   "outputs": [],
   "source": [
    "# 1) Display the boxplot of each variable in the env dataset. (hint: use boxplot())\n",
    "\n",
    "# Set plot size in Jupyter Notebook (16 x 8 inches)\n",
    "options(repr.plot.width = 16, repr.plot.height = 8)\n",
    "# Use the boxplot() function\n",
    "___(___, las=2) # hint use the boxplot() function on the env dataset"
   ]
  },
  {
   "cell_type": "markdown",
   "id": "7b8dec25-ce65-4faf-8690-547538a35304",
   "metadata": {},
   "source": [
    "<details style=\"font-size: 18px;\">\n",
    "  <summary style=\"font-size: 20px; font-weight: bold; text-decoration: underline;\">1) Answer</summary>\n",
    "  <div style=\"padding: 10px; border:1px solid blue; font-size: 20px;\">\n",
    "      <code> <span style=\"color:blue;\">boxplot</span>(<span style=\"color:blue;\">env</span>, las=2) </code>\n",
    "    <img src=\"images/Script5_Q1_boxplot.png\" alt=\"kmeans code\" style=\"max-width:100%;\">\n",
    "  </div>\n",
    "</details>\n"
   ]
  },
  {
   "cell_type": "markdown",
   "id": "583855df-7250-4567-918d-a63b9d6ed916",
   "metadata": {},
   "source": [
    "<div style=\"padding: 12px; border: 2px solid red; font-size: 18px;\">\n",
    "  2) What can you say about the scales of the variables? Are they directly comparable, or should they be standardized before comparison?<br/><br/>\n",
    "\n",
    "<form>\n",
    "  <label><input type=\"radio\" name=\"q5\" value=\"1\"> 1) The variables are directly comparable</label><br/>\n",
    "  <label><input type=\"radio\" name=\"q5\" value=\"2\"> 2) The variabales should be standardized before being compared </label><br/>\n",
    "</form>\n",
    "\n",
    "</div>\n",
    "\n",
    "<details style=\"font-size: 18px;\">\n",
    "  <summary style=\"font-size: 20px; font-weight: bold; text-decoration: underline;\">2) Answer</summary>\n",
    "  <div style=\"padding: 10px; border:1px solid blue; font-size: 20px;\">\n",
    "\n",
    "<form>\n",
    "  <label><input type=\"radio\" name=\"q5\" value=\"2\">  1) The variables are directly comparable</label><br/>\n",
    "  <label style=\"color: blue;\"><input type=\"radio\" name=\"q5\" value=\"squaring\"> 2) The variabales should be standardized before being compared</label><br/>\n",
    "</form>\n",
    " <p><strong>note that dfs and ele have large values compared to the other parameter</strong></p>\n",
    "\n",
    "</div>\n"
   ]
  },
  {
   "cell_type": "code",
   "execution_count": null,
   "id": "061b046e-e147-4c7e-b82f-ff9f095a8130",
   "metadata": {},
   "outputs": [],
   "source": [
    "# 3) Using the  rda() function, perform two principal component analyses (PCA) on the env dataset\n",
    "# env.pca1 : PCA performed with standardized variables (centered and scaled)\n",
    "# env.pca2 : PCA performed without standardization.\n",
    "\n",
    "env.pca1 <- ___(env, scale = ___) # PCA performed with standardized variables (centered and scaled)\n",
    "env.pca2 <- ___(env, scale = ___) #  PCA performed without standardization."
   ]
  },
  {
   "cell_type": "markdown",
   "id": "526a4397-c13c-4086-8bb9-70ad7bcca4ad",
   "metadata": {},
   "source": [
    "\n",
    "<details style=\"font-size: 18px;\">\n",
    "  <summary style=\"font-size: 20px; font-weight: bold; text-decoration: underline;\">3) Answer</summary>\n",
    "  <div style=\"padding: 10px; border:1px solid blue; font-size: 20px;\">\n",
    "    <code> env.pca1 <- <span style=\"color:blue;\">rda</span>(env, scale = <span style=\"color:blue;\">TRUE</span>) </code><br/>\n",
    "    <code> env.pca2 <- <span style=\"color:blue;\">rda</span>(env, scale = <span style=\"color:blue;\">FALSE</span>) </code><br/>\n",
    "  </div>\n",
    "</details>\n"
   ]
  },
  {
   "cell_type": "code",
   "execution_count": null,
   "id": "c22555f6-7a74-4031-87fd-1122428cdcca",
   "metadata": {},
   "outputs": [],
   "source": [
    "# Set plot size in Jupyter Notebook (16 x 8 inches)\n",
    "options(repr.plot.width = 16, repr.plot.height = 8)\n",
    "\n",
    "# Split the plotting area into 1 row and 2 columns (side-by-side plots)\n",
    "par(mfrow = c(1, 2))\n",
    "\n",
    "___(env.pca1, scaling = ___, main = \"PCA performed with standardized variables - scaling 1\") # Scaling 1 met l’accent sur les variables\n",
    "___(env.pca2, scaling = ___, main = \"PCA performed without standardization. - scaling 1\") #Scaling 1 met l’accent sur les variables "
   ]
  },
  {
   "cell_type": "markdown",
   "id": "f0354b02-0bba-4ff6-a6d9-bd179930f05e",
   "metadata": {},
   "source": [
    "<details style=\"font-size: 18px;\">\n",
    "  <summary style=\"font-size: 20px; font-weight: bold; text-decoration: underline;\">4) Answer</summary>\n",
    "  <div style=\"padding: 10px; border:1px solid blue; font-size: 20px;\">\n",
    "      <code> <span style=\"color:blue;\">biplot</span>(<span style=\"color:blue;\">env.pca1</span>, scaling = <span style=\"color:blue;\">1</span>, main = \"PCA performed with standardized variables - scaling 1\") </code>\n",
    "            <code> <span style=\"color:blue;\">biplot</span>(<span style=\"color:blue;\">env.pca2</span>, scaling = <span style=\"color:blue;\">1</span>,  main = \"PCA performed without standardization. - scaling 1\") </code>\n",
    "    <img src=\"images/Script5_Q1_biplot.png\" alt=\"kmeans code\" style=\"max-width:100%;\">\n",
    "  </div>\n",
    "</details>\n"
   ]
  },
  {
   "cell_type": "markdown",
   "id": "8003f014-8ec4-483b-813e-fad2defada3c",
   "metadata": {},
   "source": [
    "<div style=\"padding: 12px; border: 2px solid red; font-size: 18px;\">\n",
    "  5) What do you notice ?<br/><br/>\n",
    "\n",
    "<form>\n",
    "  <label><input type=\"radio\" name=\"q5\" value=\"1\"> 1) The biplot are the same</label><br/>\n",
    "  <label><input type=\"radio\" name=\"q5\" value=\"2\"> 2) As the variables were not standardized on the env.pca2, the one that have way larger values (ele and dfs) have the biggest influence on the Principal components</label><br/>\n",
    "</form>\n",
    "\n",
    "</div>\n",
    "\n",
    "<details style=\"font-size: 18px;\">\n",
    "  <summary style=\"font-size: 20px; font-weight: bold; text-decoration: underline;\">5) Answer</summary>\n",
    "  <div style=\"padding: 10px; border:1px solid blue; font-size: 20px;\">\n",
    "\n",
    "<form>\n",
    "  <label><input type=\"radio\" name=\"q5\" value=\"2\">  1) The biplot are the same</label><br/>\n",
    "  <label style=\"color: blue;\"><input type=\"radio\" name=\"q5\" value=\"squaring\"> 2) As the variables were not standardized on the env.pca2, the one that have way larger values (ele and dfs) have the biggest influence on the Principal components</label><br/>\n",
    "</form>\n",
    " <p><strong> dfs and ele have large values compared to the other parameter, we can see their influence on the principal components</strong></p>\n",
    "\n",
    "</div>\n"
   ]
  },
  {
   "cell_type": "markdown",
   "id": "ad3c3e0f-0e96-43cf-9118-68605081a372",
   "metadata": {},
   "source": [
    "<div style=\"padding: 10px; border:1px solid red; font-size: 18px; position: relative;\">\n",
    "  <span style=\"text-decoration:underline; font-weight: bold; font-size: 22px;\">Question 5</span><br/>\n",
    "\n",
    "  <div style=\"display: flex; align-items: flex-start;\">\n",
    "    <div style=\"flex: 1;\">\n",
    "        Here is an PCA on 4 physicochemical soil variables (pH,temperature, humidity, density) measured on 12 sites (1-12) <br/><br/><br/><br/>\n",
    "        <strong>Which statements are correct? </strong>\n",
    "    </div>\n",
    "    <div style=\"margin-left: 20px;\">\n",
    "      <img src=\"images/Script5_Q5.png\" alt=\"Skewed distribution\" style=\"max-width: 500px; height: auto; border: 1px solid #ccc;\" />\n",
    "    </div>\n",
    "  </div>\n",
    "\n",
    "<form>\n",
    "  <label><input type=\"radio\" name=\"q5\" value=\"1\"> 1) Sites 2 and 12 are really similar</label><br/>\n",
    "  <label><input type=\"radio\" name=\"q5\" value=\"2\"> 2) Sites 7 and 8 are quite similar and have both high pH</label><br/>\n",
    "  <label><input type=\"radio\" name=\"q5\" value=\"3\"> 3) Site 5 has a really high temperature</label><br/>\n",
    "  <label><input type=\"radio\" name=\"q5\" value=\"4\"> 4) Site 1 is the site characterised by the highest humidity</label><br/>\n",
    "  <label><input type=\"radio\" name=\"q5\" value=\"5\"> 5) Temperature contributes the most explaining differences among the 12 soil type</label><br/>\n",
    "</form>\n",
    "\n",
    "</div>\n",
    "\n",
    "<details style=\"font-size: 18px;\">\n",
    "  <summary style=\"font-size: 20px; font-weight: bold; text-decoration: underline;\">Answer</summary>\n",
    "  <div style=\"padding: 10px; border:1px solid blue; font-size: 20px;\">\n",
    "\n",
    "\n",
    "<form>\n",
    "  <label><input type=\"radio\" name=\"q5\" value=\"1\"> 1) Sites 2 and 12 are really similar</label><br/>\n",
    "  <label style=\"color: blue;\"><input type=\"radio\" name=\"q5\" value=\"squaring\"> 2) Sites 7 and 8 are quite similar and have both high pH</label><br/>\n",
    "  <label><input type=\"radio\" name=\"q5\" value=\"3\"> 3) Site 5 has a really high temperature</label><br/>\n",
    "  <label style=\"color: blue;\"><input type=\"radio\" name=\"q5\" value=\"squaring\"> 4) Site 1 is the site characterised by the highest humidity</label><br/>\n",
    "  <label style=\"color: blue;\"><input type=\"radio\" name=\"q5\" value=\"squaring\"> 5) Temperature contributes the most explaining differences among the 12 soil type</label><br/>\n",
    "</form>\n",
    "\n",
    "\n",
    "  </div>\n",
    "</details>\n"
   ]
  },
  {
   "cell_type": "markdown",
   "id": "8ee70e6e-68df-496f-971a-e9b67f262c5c",
   "metadata": {},
   "source": [
    "# 2 Correspondence analysis (CA) -> *cca(),summary(),screenplot(),envfit(), ordisurf()*"
   ]
  },
  {
   "cell_type": "markdown",
   "id": "9b093e5e-a885-4f1a-8b0b-d72c6a308dc9",
   "metadata": {},
   "source": [
    "<div style=\"padding: 10px; border:5px solid green; font-size: 10px; text-align: left;\">\n",
    "    <img src=\"images/Script5_CA.png\" width=\"40%\" >\n",
    "</div>"
   ]
  },
  {
   "cell_type": "markdown",
   "id": "8705fb33-e08a-42e8-b677-082cbc1ae650",
   "metadata": {},
   "source": [
    "<div style=\"padding: 10px; border:1px solid red; font-size: 18px; position: relative;\">\n",
    "  <span style=\"text-decoration:underline; font-weight: bold; font-size: 22px;\">Question 6</span><br/>\n",
    "\n",
    "  <div style=\"display: flex; align-items: flex-start;\">\n",
    "    <div style=\"flex: 1;\">\n",
    "        What type of distance is preserved when using a correpondence analysis ? <br/>\n",
    "    </div>\n",
    "  </div>\n",
    "\n",
    "<form>\n",
    "  <label><input type=\"radio\" name=\"q5\" value=\"1\"> 1) Euclidian Distance </label><br/>\n",
    "  <label><input type=\"radio\" name=\"q5\" value=\"2\"> 2) χ2 distance </label><br/>\n",
    "  <label><input type=\"radio\" name=\"q5\" value=\"2\"> 2) Any distance measure </label><br/>\n",
    "    \n",
    "</form>\n",
    "\n",
    "</div>\n",
    "\n",
    "<details style=\"font-size: 18px;\">\n",
    "  <summary style=\"font-size: 20px; font-weight: bold; text-decoration: underline;\">Answer</summary>\n",
    "  <div style=\"padding: 10px; border:1px solid blue; font-size: 20px;\">\n",
    "\n",
    "<form>\n",
    "  <label><input type=\"radio\" name=\"q5\" value=\"1\"> 1) Euclidian Distance </label><br/>\n",
    "  <label style=\"color: blue;\"><input type=\"radio\" name=\"q5\" value=\"squaring\"> 2) χ2 distance </label><br/>\n",
    "  <label><input type=\"radio\" name=\"q5\" value=\"2\"> 2) Any distance measure </label><br/>\n",
    "</form>\n",
    "\n",
    "\n",
    "  </div>\n",
    "</details>\n",
    "\n"
   ]
  },
  {
   "cell_type": "markdown",
   "id": "d723e01e-581c-450c-86c0-b2222ecf0127",
   "metadata": {},
   "source": [
    "<div style=\"padding: 10px; border:1px solid red; font-size: 18px; position: relative;\">\n",
    "  <span style=\"text-decoration:underline; font-weight: bold; font-size: 22px;\">Question 7</span><br/>\n",
    "\n",
    "  <div style=\"display: flex; align-items: flex-start;\">\n",
    "    <div style=\"flex: 1;\">\n",
    "        For which type of data, is the CA generally adequate ? <br/>\n",
    "    </div>\n",
    "  </div>\n",
    "\n",
    "<form>\n",
    "  <label><input type=\"radio\" name=\"q5\" value=\"1\"> 1) Community Data</label><br/>\n",
    "  <label><input type=\"radio\" name=\"q5\" value=\"2\"> 2) Environnemental Data </label><br/>\n",
    "</form>\n",
    "\n",
    "</div>\n",
    "\n",
    "<details style=\"font-size: 18px;\">\n",
    "  <summary style=\"font-size: 20px; font-weight: bold; text-decoration: underline;\">Answer</summary>\n",
    "  <div style=\"padding: 10px; border:1px solid blue; font-size: 20px;\">\n",
    "\n",
    "<form>\n",
    "   <label style=\"color: blue;\"><input type=\"radio\" name=\"q5\" value=\"squaring\"> 1) Community Data</label><br/>\n",
    "  <label><input type=\"radio\" name=\"q5\" value=\"2\"> 2) Environnemental Data</label><br/>\n",
    "</form>\n",
    "\n",
    "<p><strong>CA is a suitable method for presence-absence or abundance , it also ignores the double zeros !\n",
    "</strong></p>\n",
    "\n",
    "\n",
    "  </div>\n",
    "</details>\n",
    "\n"
   ]
  },
  {
   "cell_type": "markdown",
   "id": "9e72f842-ee8e-483e-b461-32bbcbe80579",
   "metadata": {},
   "source": [
    "<div style=\"padding: 10px; border:1px solid red; font-size: 18px; position: relative;\">\n",
    "  <span style=\"text-decoration:underline; font-weight: bold; font-size: 22px;\">Question 8</span><br/>\n",
    "\n",
    "  <div style=\"display: flex; align-items: flex-start;\">\n",
    "    <div style=\"flex: 1;\">\n",
    "        <br/>Two data scientists have finally collected enough samples to analyze the occurence of 130 species of a specific region. During their analysis, they observed that samples showed <strong>negative values</strong. <br/><br/>\n",
    "\n",
    "        \n",
    "They now aim to perform a <strong>Correspondence Analysis (CA)</strong> on the dataset.\n",
    "            However, one of them raises a concern: <strong>“There might be a problem…”</strong> <br/>\n",
    "\n",
    "<strong>What issue is the scientist referring to ? </strong>\n",
    "    </div>\n",
    "        \n",
    "  </div>\n",
    "\n",
    "<form>\n",
    "  <label><input type=\"radio\" name=\"q5\" value=\"1\"> 1) Negative values and null vectors (objects or descriptors) in\n",
    "the data matrix are not supported</label><br/>\n",
    "  <label><input type=\"radio\" name=\"q5\" value=\"2\"> 2) 130 species is way to big to conduct a Correspondance analysis </label><br/>\n",
    "    <label><input type=\"radio\" name=\"q5\" value=\"2\"> 3) They should do a PCA instead of a CA </label><br/>\n",
    "</form>\n",
    "\n",
    "</div>\n",
    "\n",
    "<details style=\"font-size: 18px;\">\n",
    "  <summary style=\"font-size: 20px; font-weight: bold; text-decoration: underline;\">Answer</summary>\n",
    "  <div style=\"padding: 10px; border:1px solid blue; font-size: 20px;\">\n",
    "\n",
    "<form>\n",
    "   <label style=\"color: blue;\"><input type=\"radio\" name=\"q5\" value=\"squaring\"> 1) Negative values and null vectors (objects or descriptors) in\n",
    "the data matrix are not supported</label><br/>\n",
    "  <label><input type=\"radio\" name=\"q5\" value=\"2\"> 2) 130 species is way to big to conduct a Correspondance analysis</label><br/>\n",
    "    <label><input type=\"radio\" name=\"q5\" value=\"2\"> 3) They should do a PCA instead of a CA </label><br/>\n",
    "</form>\n",
    "\n",
    "<p><strong>The issue lies in the fact that Correspondence Analysis (CA) is a method designed for non-negative contingency tables, typically containing frequencies or counts. The presence of negative valuesrenders CA mathematically inappropriate because the chi-squared distance it relies on cannot be computed with negative inputs.\n",
    "</strong></p>\n",
    "\n",
    "\n",
    "  </div>\n",
    "</details>\n",
    "\n"
   ]
  },
  {
   "cell_type": "markdown",
   "id": "ff44cd20-157b-4fc9-8e38-f88939604867",
   "metadata": {},
   "source": [
    "### 2.0.1 CA computation based on a dataframe  -> ***cca**(`df`)*\n",
    "\n",
    "*CA computation based on a presence-absence dataframe* \n",
    "\n",
    "- **`df`** → *presence-absence Dataframe on which we compute the CA*  \n",
    "\n",
    "**outputs :**\n",
    "\n",
    "- **Inertia (explained variance)** :\n",
    "\n",
    "  - `\"Total\"`: Total variance explained by all variables \n",
    "  - `\"Unconstrained\"`: Total variance explained, specifying that this is an unconstrained analysis\n",
    "\n",
    "    \n",
    "- **Rank** :\n",
    "\n",
    "  - `\"Unconstrained\"`: Number of possible non-null principal components (rank of data matrix)\n",
    "\n",
    "  \n",
    "- **Inertia is scaled chi-sqaure** : the inertia corresponds to the chi-square statistic divided by the total sum of observations,\n",
    "\n",
    "- **Eigenvalues for unconstrained axes:** : Each eigenvalue (PC1, PC2, etc.) corresponds to the variance explained by that principal component"
   ]
  },
  {
   "cell_type": "markdown",
   "id": "288c3548-b592-4120-b6ef-e77040274557",
   "metadata": {},
   "source": [
    "## 2.1 Compute CA on spe data"
   ]
  },
  {
   "cell_type": "code",
   "execution_count": null,
   "id": "466a710e-f39b-4e89-8702-1be2406c3c68",
   "metadata": {},
   "outputs": [],
   "source": [
    "# Perform Correspondence Analysis (CA) on the dataset 'spe'\n",
    "spe.ca <- cca(spe)\n",
    "\n",
    "# Display the CA result stored in 'spe.ca'\n",
    "spe.ca"
   ]
  },
  {
   "cell_type": "markdown",
   "id": "19c23a08-b474-4758-a9c3-9f2f6c25c6f6",
   "metadata": {},
   "source": [
    "### 2.0.2 Display a summary of the CA components -> ***summary**(ca_object,scaling =)*\n",
    "\n",
    "- **`ca_object`** → *CA computed using cca()*  \n",
    "- **`summary()`** → *Show the summary of the cCA components*\n",
    "- **`scaling`** → *species or sites oriented*\n",
    "  \n",
    "  - `\"1\"`: Scaling 1 → *Focus on species (Norm of eigenvectors = 1)*\n",
    "  - `\"2\"`/`\"\"`: Scaling 2 (by default) → *Focus on sites (Norm of eigenvectors = square root of eigenvalues)*\n",
    "    \n",
    "**outputs :**\n",
    "\n",
    "- **Eigenvalues, and their contribution to the correlations** :\n",
    "\n",
    "  - `\"Eigenvalue\"`:  Eigenvalue of each principal component (PC1, PC2, PC3, PC4). It represents the amount of variance explained by that component. \n",
    "  - `\"Proportion Explained \"`: The proportion of the total variance explained by each individual principal component.\n",
    "  - `\"Cumulative Proportion\"`: The cumulative proportion of variance explained by adding successive principal components.\n",
    "\n"
   ]
  },
  {
   "cell_type": "markdown",
   "id": "6eeb2f22-286d-4d33-9eca-9ab219c5006d",
   "metadata": {},
   "source": [
    "## 2.2 Display CA summary of spe data"
   ]
  },
  {
   "cell_type": "code",
   "execution_count": null,
   "id": "f5fc64aa-5533-422b-bb49-cb48122e73cd",
   "metadata": {},
   "outputs": [],
   "source": [
    "# Display a summary of the CA results with the default scaling (scaling = 2),\n",
    "# which emphasizes relationships among sites (samples).\n",
    "summary(spe.ca)            \n",
    "\n",
    "# Display a summary of the CA results with scaling = 1,\n",
    "# which emphasizes relationships among species.\n",
    "summary(spe.ca, scaling = 1)  \n"
   ]
  },
  {
   "cell_type": "markdown",
   "id": "ed967524-4948-4043-82d1-b612d8b37646",
   "metadata": {
    "execution": {
     "iopub.execute_input": "2025-07-25T10:08:40.300844Z",
     "iopub.status.busy": "2025-07-25T10:08:40.296185Z",
     "iopub.status.idle": "2025-07-25T10:08:40.323255Z",
     "shell.execute_reply": "2025-07-25T10:08:40.320531Z"
    }
   },
   "source": [
    "## 2.2 Screeenplot of the CA object "
   ]
  },
  {
   "cell_type": "code",
   "execution_count": null,
   "id": "0079809f-a556-4802-89a7-5232a450936c",
   "metadata": {},
   "outputs": [],
   "source": [
    "# Set plot size in Jupyter Notebook (16 x 8 inches)\n",
    "options(repr.plot.width = 16, repr.plot.height = 8)\n",
    "# Scree plot and broken stick model using vegan's screeplot.cca()\n",
    "screeplot(spe.ca, bstick = TRUE, npcs = length(spe.ca$CA$eig))"
   ]
  },
  {
   "cell_type": "markdown",
   "id": "d7e1aa4e-54b5-4369-acc9-2399081c1254",
   "metadata": {},
   "source": [
    "<div style=\"padding: 10px; border:1px solid red; font-size: 18px; position: relative;\">\n",
    "  <span style=\"text-decoration:underline; font-weight: bold; font-size: 22px;\">Question 9</span><br/>\n",
    "\n",
    "  <div style=\"display: flex; align-items: flex-start;\">\n",
    "    <div style=\"flex: 1;\">\n",
    "        <br/>Based on the screenplot above, how <strong>many principal axes</strong> should we take into account ?  <br/><br/>\n",
    " <i>hint : principal axes which explain less variance than a\n",
    "                    random model (broken stick) should not be interpreted</i><br/><br/>\n",
    "    \n",
    "  </div>\n",
    "</div>\n",
    "<form>\n",
    "  <label><input type=\"radio\" name=\"q5\" value=\"1\"> 1</label><br/>\n",
    "  <label><input type=\"radio\" name=\"q5\" value=\"2\"> 2 </label><br/>\n",
    "    <label><input type=\"radio\" name=\"q5\" value=\"2\"> 3 </label><br/>\n",
    "        <label><input type=\"radio\" name=\"q5\" value=\"2\"> 4 </label><br/>\n",
    "        <label><input type=\"radio\" name=\"q5\" value=\"2\"> 5 </label><br/>\n",
    "</form>\n",
    "\n",
    "\n",
    "\n",
    "<details style=\"font-size: 18px;\">\n",
    "  <summary style=\"font-size: 20px; font-weight: bold; text-decoration: underline;\">Answer</summary>\n",
    "  <div style=\"padding: 10px; border:1px solid blue; font-size: 20px;\">\n",
    "\n",
    "<form>\n",
    "  <label><input type=\"radio\" name=\"q5\" value=\"2\"> 1</label><br/>\n",
    "  <label><input type=\"radio\" name=\"q5\" value=\"2\"> 2</label><br/>\n",
    "    <label style=\"color: blue;\"><input type=\"radio\" name=\"q5\" value=\"squaring\"> 3 </label><br/>\n",
    "    <label><input type=\"radio\" name=\"q5\" value=\"2\"> 4</label><br/>\n",
    "    <label><input type=\"radio\" name=\"q5\" value=\"2\"> 5</label><br/>\n",
    "</form>\n",
    "\n",
    "<p><strong>As we can see, the random model explains more variance when we have 4 principal components\n",
    "</strong></p>\n",
    "\n",
    "\n",
    "  </div>\n",
    "</details>\n",
    "\n"
   ]
  },
  {
   "cell_type": "markdown",
   "id": "c1a15276-44d3-4889-b630-6e3bce901872",
   "metadata": {},
   "source": [
    "## 2.2 Biplot of the CA object "
   ]
  },
  {
   "cell_type": "code",
   "execution_count": null,
   "id": "3a9a532b-4680-4941-817e-2c87e837707d",
   "metadata": {},
   "outputs": [],
   "source": [
    "# Set plot size in Jupyter Notebook (20 x 8 inches)\n",
    "options(repr.plot.width = 20, repr.plot.height = 8)\n",
    "# CA biplots\n",
    "par(mfrow = c(1, 2))\n",
    "# Scaling 1: sites are centroids of species\n",
    "plot(spe.ca, \n",
    "     scaling = 1, \n",
    "     main = \"CA fish abundances - biplot scaling 1\"\n",
    ")\n",
    "# Scaling 2 (default): species are centroids of sites\n",
    "plot(spe.ca, main = \"CA fish abundances - biplot scaling 2\")\n"
   ]
  },
  {
   "cell_type": "markdown",
   "id": "d4199c78-6661-4057-ac04-e042f292514e",
   "metadata": {},
   "source": [
    "### 2.0.2 Fit environmental variables to an ordination -> **envfit**(*ca_object* ~ *variables, env_data*)\n",
    "\n",
    "- **`ca_object`** → *CA computed using cca()*  \n",
    "- **`~ variables`** → *Formula specifying which environmental variables to fit*\n",
    "- **`env_data `** → *Data frame containing the environmental variables*\n",
    "  \n",
    "**outputs :**\n",
    "\n",
    "- **envfit output** :\n",
    "\n",
    "    The envfit object contains vectors (arrows) associated with quantitative environmental variables.\n",
    "      Each variable is represented by:\n",
    "  - `\"Coordinates on the ordination axes (e.g., CA1, CA2) \"`:  Indicate the direction of the gradient\n",
    "  - `\"r²\"`:  strength of the relationship between the variable and the ordination (closer to 1 = stronger relationship)\n",
    "  - `\"p-value (Pr(>r))\"`: statistical significance of the relationship (based on permutation test)\n",
    "\n"
   ]
  },
  {
   "cell_type": "markdown",
   "id": "4aa33742-fb9c-425f-84dd-912962e4cf5a",
   "metadata": {},
   "source": [
    "## 2.3 Fit ammonium concentration and distance to the correspondance analysis on the `spe` dataset"
   ]
  },
  {
   "cell_type": "code",
   "execution_count": null,
   "id": "754d50e5-8d5f-4cd6-8c2a-7102a59a617d",
   "metadata": {},
   "outputs": [],
   "source": [
    "# Fit environmental variables (dis and amm) onto the ordination (CA)\n",
    "spe.ca.env <- envfit(spe.ca ~ dis + amm, env)\n",
    "\n",
    "# Display the summary of the envfit result (correlations, r², p-values)\n",
    "spe.ca.env\n",
    "\n",
    "# Set plot size in Jupyter Notebook (10 x 10 inches)\n",
    "options(repr.plot.width = 10, repr.plot.height = 10)\n",
    "# First, plot the ordination result (CA biplot)\n",
    "plot(spe.ca)\n",
    "\n",
    "# Then, overlay the environmental vectors (arrows) onto the ordination plot\n",
    "# This shows the direction and strength of each environmental gradient\n",
    "plot(spe.ca.env)  # Optional: you can add `p.max = 0.1` to only show significant vectors\n"
   ]
  },
  {
   "cell_type": "markdown",
   "id": "021df761-c6db-4031-9617-05728e11d9ab",
   "metadata": {},
   "source": [
    "### 2.0.2 Fit smooth surfaces of environmental variables to an ordination → **ordisurf**(*ca_object*, df$*col*, *add = *)\n",
    "\n",
    "- **`ca_object`** → *CA computed using cca()*  \n",
    "- **`df$col`** → *Specifying a single quantitative environmental variable to fit as a smooth surface*\n",
    "- **`add =  `** → *whether to add the fitted surface (contour lines) to an existing plot (add = `TRUE`) or to create a new plot from scratch (add = `FALSE`, the default).*\n",
    "  \n",
    "**outputs :**\n",
    "\n",
    "- **ordisurf output** :\n",
    "\n",
    "    Ordisurf object fits a smooth surface (e.g., a GAM) of a numeric environmental variable over the ordination space.\n",
    "    It produces a response surface showing how the variable varies across the ordination.\n"
   ]
  },
  {
   "cell_type": "markdown",
   "id": "0a384996-6bff-4a12-b321-1ce77aefca0d",
   "metadata": {},
   "source": [
    "## 2.4 Correspondance analysis on the `spe` dataset with dfs represented as contours using *ordisurf()*"
   ]
  },
  {
   "cell_type": "code",
   "execution_count": null,
   "id": "de87c5df-7d3d-4045-a38a-1a09ccae7026",
   "metadata": {},
   "outputs": [],
   "source": [
    "# Set plot size in Jupyter Notebook (10 x 10 inches)\n",
    "options(repr.plot.width = 10, repr.plot.height = 10)\n",
    "plot(spe.ca)                  # Plot the ordination result to create a base graph\n",
    "ordisurf(spe.ca, env$dfs, add = TRUE)  # Add smooth contour lines of the environmental variable 'dfs' onto the existing plot\n",
    "title(main = \"Ordination plot with smoothed environmental variable contours\") \n",
    "\n"
   ]
  },
  {
   "cell_type": "markdown",
   "id": "304994fc-2d79-4682-a725-26c3ee3863f8",
   "metadata": {},
   "source": [
    "# 3 Principal coordinate analysis (PCoA) -> *vegdist(),cmdscale(),ordiplot(),wascores()*"
   ]
  },
  {
   "cell_type": "markdown",
   "id": "2f143b44-5116-4305-af19-7934ccb31940",
   "metadata": {},
   "source": [
    "<div style=\"padding: 10px; border:5px solid green; font-size: 10px; text-align: left;\">\n",
    "    <img src=\"images/PCOA.png\" width=\"60%\" >\n",
    "</div>"
   ]
  },
  {
   "cell_type": "markdown",
   "id": "76796fe6-29fb-4132-b6eb-581846255681",
   "metadata": {},
   "source": [
    "<div style=\"padding: 10px; border:1px solid red; font-size: 18px; position: relative;\">\n",
    "  <span style=\"text-decoration:underline; font-weight: bold; font-size: 22px;\">Question 10</span><br/>\n",
    "\n",
    "  <div style=\"display: flex; align-items: flex-start;\">\n",
    "    <div style=\"flex: 1;\">\n",
    "        What type of distance is preserved when using a Principal Coordinate analysis ? <br/>\n",
    "    </div>\n",
    "  </div>\n",
    "\n",
    "<form>\n",
    "  <label><input type=\"radio\" name=\"q5\" value=\"1\"> 1) Euclidian Distance </label><br/>\n",
    "  <label><input type=\"radio\" name=\"q5\" value=\"2\"> 2) χ2 distance </label><br/>\n",
    "  <label><input type=\"radio\" name=\"q5\" value=\"2\"> 2) Any distance measure </label><br/>\n",
    "    \n",
    "</form>\n",
    "\n",
    "</div>\n",
    "\n",
    "<details style=\"font-size: 18px;\">\n",
    "  <summary style=\"font-size: 20px; font-weight: bold; text-decoration: underline;\">Answer</summary>\n",
    "  <div style=\"padding: 10px; border:1px solid blue; font-size: 20px;\">\n",
    "\n",
    "<form>\n",
    "  <label><input type=\"radio\" name=\"q5\" value=\"1\"> 1) Euclidian Distance </label><br/>\n",
    "  <label><input type=\"radio\" name=\"q5\" value=\"1\">  2) χ2 distance </label><br/>\n",
    "  <label style=\"color: blue;\"><input type=\"radio\" name=\"q5\" value=\"squaring\">  2) Any distance measure </label><br/>\n",
    "</form>\n",
    "\n",
    "\n",
    "  </div>\n",
    "</details>\n",
    "\n"
   ]
  },
  {
   "cell_type": "markdown",
   "id": "aa0f27c2-184d-40b6-98f5-1fa803c15b1c",
   "metadata": {},
   "source": [
    "<div style=\"padding: 10px; border:1px solid red; font-size: 18px; position: relative;\">\n",
    "  <span style=\"text-decoration:underline; font-weight: bold; font-size: 22px;\">Question 11</span><br/>\n",
    "\n",
    "  <div style=\"display: flex; align-items: flex-start;\">\n",
    "    <div style=\"flex: 1;\">\n",
    "        What types of variables can be used in a Principal Coordinate analysis ? <br/>\n",
    "    </div>\n",
    "  </div>\n",
    "\n",
    "<form>\n",
    "  <label><input type=\"radio\" name=\"q5\" value=\"1\"> 1) Only quantitative </label><br/>\n",
    "  <label><input type=\"radio\" name=\"q5\" value=\"2\"> 2) Quantitative and semi-quantitative </label><br/>\n",
    "  <label><input type=\"radio\" name=\"q5\" value=\"2\"> 3) Quantitative, semi-quantitative, qualitative or mixed </label><br/>\n",
    "    \n",
    "</form>\n",
    "\n",
    "</div>\n",
    "\n",
    "<details style=\"font-size: 18px;\">\n",
    "  <summary style=\"font-size: 20px; font-weight: bold; text-decoration: underline;\">Answer</summary>\n",
    "  <div style=\"padding: 10px; border:1px solid blue; font-size: 20px;\">\n",
    "\n",
    "<form>\n",
    "  <label><input type=\"radio\" name=\"q5\" value=\"1\"> 1) Only quantitative </label><br/>\n",
    "  <label><input type=\"radio\" name=\"q5\" value=\"1\">  2) Quantitative and semi-quantitative  </label><br/>\n",
    "  <label style=\"color: blue;\"><input type=\"radio\" name=\"q5\" value=\"squaring\">  3) Quantitative, semi-quantitative, qualitative or mixed </label><br/>\n",
    "</form>\n",
    "\n",
    "\n",
    "  </div>\n",
    "</details>\n",
    "\n"
   ]
  },
  {
   "cell_type": "markdown",
   "id": "1973c739-d3fc-4e4a-ad3a-6a256f289e25",
   "metadata": {},
   "source": [
    "<div style=\"padding: 10px; border:1px solid red; font-size: 18px; position: relative;\">\n",
    "  <span style=\"text-decoration:underline; font-weight: bold; font-size: 22px;\">Question 12</span><br/>\n",
    "\n",
    "  <div style=\"display: flex; align-items: flex-start;\">\n",
    "    <div style=\"flex: 1;\">\n",
    "        What is one advantage of using PCoA instead of CA? <br/>\n",
    "    </div>\n",
    "  </div>\n",
    "\n",
    "<form>\n",
    "  <label><input type=\"radio\" name=\"q5\" value=\"1\"> 1) PCOa is less sensible to rare species </label><br/>\n",
    "  <label><input type=\"radio\" name=\"q5\" value=\"2\"> 2) PCOa can allow the joint analysis of objects and descriptors </label><br/>\n",
    "  <label><input type=\"radio\" name=\"q5\" value=\"2\"> 3) Both are correct </label><br/>\n",
    "    \n",
    "</form>\n",
    "\n",
    "</div>\n",
    "\n",
    "<details style=\"font-size: 18px;\">\n",
    "  <summary style=\"font-size: 20px; font-weight: bold; text-decoration: underline;\">Answer</summary>\n",
    "  <div style=\"padding: 10px; border:1px solid blue; font-size: 20px;\">\n",
    "\n",
    "<form>\n",
    "  <label style=\"color: blue;\"><input type=\"radio\" name=\"q5\" value=\"squaring\">1) PCOa is less sensible to rare species  </label><br/>\n",
    "  <label><input type=\"radio\" name=\"q5\" value=\"1\">  2) PCOa can allow the joint analysis of objects and descriptors  </label><br/>\n",
    "    <label><input type=\"radio\" name=\"q5\" value=\"1\"> 3) Both are correct  </label><br/>\n",
    "</form>\n",
    "\n",
    "\n",
    "  </div>\n",
    "</details>\n",
    "\n"
   ]
  },
  {
   "cell_type": "markdown",
   "id": "8080c363-10fa-41d0-8eb6-0583a129a1c5",
   "metadata": {
    "execution": {
     "iopub.execute_input": "2025-07-27T12:55:51.743384Z",
     "iopub.status.busy": "2025-07-27T12:55:51.738931Z",
     "iopub.status.idle": "2025-07-27T12:55:51.773512Z",
     "shell.execute_reply": "2025-07-27T12:55:51.769609Z"
    }
   },
   "source": [
    "### 3.0.1 Perform classical multidimensional scaling (PCoA) → **cmdscale**( *distance_matrix*, *k = 2*, *eig = TRUE* )\n",
    "\n",
    "- **`distance_matrix`** → *A dissimilarity or distance matrix (e.g., Bray-Curtis, Euclidean)*  \n",
    "- **`k`** → *Number of dimensions to return (default 2)*  \n",
    "- **`eig`** → *Whether to return eigenvalues (default TRUE)*\n",
    "\n",
    "**outputs :**\n",
    "\n",
    "- **cmdscale output** :\n",
    "\n",
    "    The cmdscale function returns coordinates of points in a lower-dimensional Euclidean space that best approximate the original distance matrix.  \n",
    "    The output contains:\n",
    "\n",
    "  - `\"points\"`: coordinates of each sample in the reduced k-dimensional space  \n",
    "  - `\"eig\"`: eigenvalues indicating the variation explained by each axis (if `eig = TRUE`)  \n",
    "  - `\"GOF\"`: goodness-of-fit measures describing how well the distances are represented in the reduced space\n"
   ]
  },
  {
   "cell_type": "markdown",
   "id": "d00cc7a6-617a-4275-bdb4-b6183277885a",
   "metadata": {},
   "source": [
    "## 3.1 PCOa on the `spe` dataset"
   ]
  },
  {
   "cell_type": "code",
   "execution_count": null,
   "id": "ceef8877-d7d7-48c4-abac-ff1863924150",
   "metadata": {},
   "outputs": [],
   "source": [
    "# Compute a Bray-Curtis dissimilarity matrix from the species dataset\n",
    "spe.bray <- vegdist(spe)  \n",
    "\n",
    "# Perform classical multidimensional scaling (PCoA) on the Bray-Curtis distance matrix\n",
    "# Return coordinates in 2 dimensions and include eigenvalues\n",
    "spe.b.pcoa <- cmdscale(spe.bray, k = 2, eig = TRUE)\n",
    "\n",
    "#display the cmdscale output\n",
    "spe.b.pcoa"
   ]
  },
  {
   "cell_type": "markdown",
   "id": "598811e4-4609-4b88-a64d-9179238b026c",
   "metadata": {},
   "source": [
    "### 3.0.2 Plot an ordination object → **ordiplot**(*ordination_object*, *type = \"t\"*, *display = \"sites\"*, *...*)\n",
    "\n",
    "- **`ordination_object`** → *An ordination result object (e.g., output from cmdscale, cca, rda, metaMDS)*  \n",
    "- **`type`** → *Type of plot: \"points\", \"text\" (\"t\"), or \"none\"* (default is `\"t\"`)  \n",
    "- **`display`** → *Which elements to display: `\"sites\"` (samples), `\"species\"` (variables), or `\"bp\"` (biplot scores)*  \n",
    "- **`...`** → *Additional graphical parameters*\n",
    "\n",
    "**outputs :**\n",
    "\n",
    "- **ordiplot output** :\n",
    "\n",
    "    The ordiplot function produces a 2D plot of the ordination object, showing sample points, species, or environmental variables depending on the `display` parameter.  \n",
    "    It returns a plot with coordinates on the ordination axes, useful for visual interpretation of ecological gradients or sample relationships.\n"
   ]
  },
  {
   "cell_type": "markdown",
   "id": "658876a5-a54f-4779-a40d-c36d68e72fe5",
   "metadata": {},
   "source": [
    "### 3.0.3 Calculate weighted average scores for environmental variables → **wascores**(*ordination_scores*, *df*)\n",
    "\n",
    "- **`ordination_scores`** → *A matrix or data frame of site (sample) scores from an ordination (e.g., site scores from cmdscale, cca, rda)*  \n",
    "- **`df`** → *dataframe used to calculate the ordination score*\n",
    "\n",
    "**outputs :**\n",
    "\n",
    "- **wascores output** :\n",
    "\n",
    "    The wascores function calculates the weighted average scores of the environmental variable along the ordination axes.  \n",
    "    It returns a vector of coordinates representing the position of the environmental variable in the ordination space based on the weighted average of site scores weighted by the variable values.\n"
   ]
  },
  {
   "cell_type": "markdown",
   "id": "148c80ce-86c1-4c62-a6dd-4e4f75d5b6d2",
   "metadata": {},
   "source": [
    "## 3.2 Project descriptors a posteriori onto PCoA (Species and environnemental parameters vectors)"
   ]
  },
  {
   "cell_type": "code",
   "execution_count": null,
   "id": "8ca424ad-2636-4a03-a423-5fa253adedb3",
   "metadata": {},
   "outputs": [],
   "source": [
    "# Plot the ordination scores of sites from the first two PCoA axes as text labels\n",
    "ordiplot(scores(spe.b.pcoa, choices = c(1, 2)),\n",
    "         type = \"text\",\n",
    "         main = \"PCoA with species weighted averages\")\n",
    "\n",
    "# Calculate weighted average scores of species based on site coordinates in PCoA space\n",
    "spe.wa <- wascores(spe.b.pcoa$points[, 1:2], spe)\n",
    "\n",
    "# Add species names at their weighted average positions on the plot in red, smaller font\n",
    "text(spe.wa, rownames(spe.wa), cex = 0.7, col = \"red\")\n",
    "\n",
    "# Perform envfit to fit environmental variables onto the PCoA ordination\n",
    "spe.b.pcoa.env <- envfit(spe.b.pcoa, env)\n",
    "\n",
    "# Display the results of the envfit, including significance and vector directions\n",
    "spe.b.pcoa.env\n",
    "\n",
    "# Set plot size in Jupyter Notebook (12 x 12 inches)\n",
    "options(repr.plot.width = 12, repr.plot.height = 12)\n",
    "# Plot only significant environmental variables (p-value < 0.05) onto the ordination plot\n",
    "# Using color code 3 (typically green)\n",
    "plot(spe.b.pcoa.env, p.max = 0.05, col = 3)\n"
   ]
  },
  {
   "cell_type": "markdown",
   "id": "63e2182e-8134-47d6-9b63-f6ae681a0a03",
   "metadata": {},
   "source": [
    "# 4 Non-Metric Multi-Dimensional Scaling (NMDS) -> *metaMDS(),stressplot(),goodness()*"
   ]
  },
  {
   "cell_type": "markdown",
   "id": "c8a6acf3-46ff-4835-bdc3-d47bd5ae4d63",
   "metadata": {},
   "source": [
    "<div style=\"padding: 10px; border:5px solid green; font-size: 10px; text-align: left;\">\n",
    "    <img src=\"images/NMDS.png\" width=\"40%\" >\n",
    "</div>"
   ]
  },
  {
   "cell_type": "markdown",
   "id": "bc477ba0-e15e-4360-af55-e05b6c1a6c21",
   "metadata": {},
   "source": [
    "### 4.0.1 Perform Non-metric Multidimensional Scaling (NMDS) → **metaMDS**( *df*,*distance =*)\n",
    "\n",
    "- **`df`** → *dataframe on which computing the NMDS*  \n",
    "- **`distance`** → *type of distance matrix on which we want to compute the NMDS*  \n",
    "**outputs :**\n",
    "\n",
    "- **metaMDS output** :\n",
    "\n",
    "    The metaMDS function performs NMDS by iteratively searching for a stable configuration that best represents the rank order of distances in a lower-dimensional space.  \n",
    "    The output contains:\n",
    "\n",
    "  - `\"Successive Runs (Run 0, Run 1, …):\"`: Each \"run\" is a random starting configuration to search for the best NMDS solution in 2D (or k dimensions). The number of runs is limited by trymax.  \n",
    "  - `\"Procrustes (rmse and max resid)\"`: Procrustes comparison is performed between the new solution and the current best :\n",
    "       - - `\"rmse\"`: Root mean square error between configurations\n",
    "       - - `\"resid\"`: Largest individual residual (local difference)\n",
    "  - `\"Dimensions\"`: Number of axes asked to be represented \n",
    "  - `\"Stress\"`: Stress value indicates how well the distances are preserved — the lower the stress, the better the representation.  \n",
    "  - `\"Stress type\"`:Indicates the type of stress used  \n",
    "  - `\"Best solution was repeated ...\"`: How many times the best solution has been repeated during the tries  \n",
    "  - `\"The best solution was from try..\"`: At which try did we find the best solution\n"
   ]
  },
  {
   "cell_type": "markdown",
   "id": "fafea861-1bb6-4617-a98e-747f8bde4fd0",
   "metadata": {},
   "source": [
    "## 4.1 Perform NMDS on the spe dataset using the bray-curtis distance matrix"
   ]
  },
  {
   "cell_type": "code",
   "execution_count": null,
   "id": "dcebf7ac-c9a2-4ddc-8ff6-16875faefcdb",
   "metadata": {},
   "outputs": [],
   "source": [
    "# Perform Non-metric Multidimensional Scaling (NMDS) on the 'spe' dataset\n",
    "# using Bray-Curtis dissimilarity\n",
    "spe.nmds <- metaMDS(spe, distance = \"bray\")\n",
    "\n",
    "#Display the NMDS outputs\n",
    "spe.nmds"
   ]
  },
  {
   "cell_type": "markdown",
   "id": "5d8f2374-e794-4203-887a-30f2ec115114",
   "metadata": {},
   "source": [
    "## 4.2 Plot NMDS ordination result on the spe dataset "
   ]
  },
  {
   "cell_type": "code",
   "execution_count": null,
   "id": "093d7b4b-452a-40de-8114-ce49469ae42e",
   "metadata": {},
   "outputs": [],
   "source": [
    "# Set plot size in Jupyter Notebook (12 x 12 inches)\n",
    "options(repr.plot.width = 10, repr.plot.height = 10)\n",
    "# Plot the NMDS ordination result\n",
    "plot(spe.nmds, \n",
    "     type = \"t\", \n",
    "     main = paste(\"NMDS Bray-Curtis; Stress =\", round(spe.nmds$stress, 3)))\n"
   ]
  },
  {
   "cell_type": "markdown",
   "id": "149f10fa-380e-4b31-944d-b40f3d4c7493",
   "metadata": {},
   "source": [
    "# 5 Shepard plot and goodness of fit -> *stressplot(), goodness()*"
   ]
  },
  {
   "cell_type": "markdown",
   "id": "54282111-b8d2-470f-ba2f-72ac190e7216",
   "metadata": {},
   "source": [
    "<div style=\"padding: 10px; border:5px solid green; font-size: 10px; text-align: left;\">\n",
    "    <img src=\"images/Shepard_diagram_goodnes_fit.png\" width=\"60%\" >\n",
    "</div>"
   ]
  },
  {
   "cell_type": "markdown",
   "id": "b4ae2873-502c-438f-82c6-94ac6de4878a",
   "metadata": {
    "execution": {
     "iopub.execute_input": "2025-07-27T14:23:56.536243Z",
     "iopub.status.busy": "2025-07-27T14:23:56.530210Z",
     "iopub.status.idle": "2025-07-27T14:23:56.567408Z",
     "shell.execute_reply": "2025-07-27T14:23:56.564158Z"
    }
   },
   "source": [
    "### 5.0.1 Visualize NMDS Fit Accuracy → **stressplot**( *nmds_result* )\n",
    "\n",
    "- **`nmds_result`** → *Object resulting from the `metaMDS` function*  \n",
    "\n",
    "**outputs :**\n",
    "\n",
    "- **stressplot output** :\n",
    "\n",
    "    The `stressplot` function displays a **Shepard plot**, which helps assess the **goodness-of-fit** of the NMDS ordination.  \n",
    "    It compares the observed dissimilarities with the distances between points in the reduced NMDS space. The output includes:\n",
    "\n",
    "  - `\"X-axis (Observed Dissimilarities)\"` : Pairwise dissimilarities from the original distance matrix (e.g., Bray-Curtis)  \n",
    "  - `\"Y-axis (Ordination Distances)\"` : Corresponding distances between points in the NMDS space  \n",
    "  - `\"Points\"` : Each point is a sample pair — shows how well that pair’s distance is preserved in the ordination  \n",
    "  - `\"Shepard curve\"` : A smoothed trend line summarizing the relationship between original and ordinated distances  \n",
    "  - `\"Non-metric fit R²\"` : Indicates how well the **rank order** of distances is preserved (ideal NMDS target) — closer to 1 is better  \n",
    "  - `\"Linear fit R²\"` : Indicates how well the **raw distances** are preserved (optional, more relevant to metric MDS)\n",
    "\n",
    "This plot is used to visually evaluate the amount of distortion caused by dimensionality reduction.  \n",
    "A **tight cloud of points around the Shepard curve** with a **high non-metric R²** means the NMDS is a good representation.\n"
   ]
  },
  {
   "cell_type": "markdown",
   "id": "6e43754c-fc08-405f-b6fd-093dc2fda0e4",
   "metadata": {},
   "source": [
    "## 5.1 Plot shepard for the NMDS result on the spe dataset "
   ]
  },
  {
   "cell_type": "code",
   "execution_count": null,
   "id": "98a67787-e98d-4117-bf20-b6deda58cbc8",
   "metadata": {},
   "outputs": [],
   "source": [
    "# Plot a Shepard plot for the NMDS result\n",
    "stressplot(spe.nmds, main = \"Shepard plot\")"
   ]
  },
  {
   "cell_type": "markdown",
   "id": "b537954b-d261-4f31-a757-e4fccc574327",
   "metadata": {},
   "source": [
    "### 5.0.2 Assess Sample-wise Fit Quality → **goodness**( *nmds_result* )\n",
    "\n",
    "- **`nmds_result`** → *Object resulting from the `metaMDS` function*  \n",
    "\n",
    "**outputs :**\n",
    "\n",
    "- **goodness output** :\n",
    "\n",
    "The `goodness` function returns a numeric vector showing the **fit quality for each individual sample** in the NMDS ordination.  \n",
    "It quantifies how well each sample’s position in the reduced space preserves its original dissimilarities.\n",
    "\n",
    "- **`Goodness values`** : One value per sample, representing the **distance between the original and ordinated configuration** for that sample  \n",
    "- **`Interpretation`** :  \n",
    "   - **Low values** = good fit (the sample is well-represented in the NMDS space)  \n",
    "   - **High values** = poor fit (the sample's position in reduced space is less accurate)  \n",
    "\n"
   ]
  },
  {
   "cell_type": "markdown",
   "id": "4d899631-f5a5-4d7e-999f-ac380263ef82",
   "metadata": {},
   "source": [
    "## 5.2 Assess Sample-wise Fit Quality for the `spe` dataset, and plot circle proportionnaly to the quality of the NDMS for each sample"
   ]
  },
  {
   "cell_type": "code",
   "execution_count": null,
   "id": "3c5941b9-67a3-4743-934d-0193a2a28c13",
   "metadata": {},
   "outputs": [],
   "source": [
    "# Compute the goodness-of-fit values for each sample from the NMDS result 'spe.nmds'.\n",
    "# 'gof' will be a numeric vector where each value indicates how well a given sample is represented in the NMDS space.\n",
    "gof <- goodness(spe.nmds)\n",
    "gof"
   ]
  },
  {
   "cell_type": "code",
   "execution_count": null,
   "id": "103d722f-eb96-4681-ba5f-11101b38484f",
   "metadata": {},
   "outputs": [],
   "source": [
    "# Plot the NMDS ordination with sample labels \n",
    "plot(spe.nmds, type = \"t\", main = \"Goodness of fit\")\n",
    "\n",
    "# Overlay the site points (samples) on the same plot\n",
    "# The size of each point is scaled according to its goodness-of-fit value (gof * 300)\n",
    "# Larger points indicate poorer fit (higher residuals), smaller points indicate better fit\n",
    "points(spe.nmds, display = \"sites\", cex = gof * 300)\n"
   ]
  }
 ],
 "metadata": {
  "kernelspec": {
   "display_name": "R",
   "language": "R",
   "name": "ir"
  },
  "language_info": {
   "codemirror_mode": "r",
   "file_extension": ".r",
   "mimetype": "text/x-r-source",
   "name": "R",
   "pygments_lexer": "r",
   "version": "4.5.1"
  }
 },
 "nbformat": 4,
 "nbformat_minor": 5
}
