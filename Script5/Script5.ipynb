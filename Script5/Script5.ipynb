{
 "cells": [
  {
   "cell_type": "markdown",
   "id": "88674578-fe22-490e-b6ba-3d82ae1214bc",
   "metadata": {},
   "source": [
    "# Script 5 -  Ordination"
   ]
  },
  {
   "cell_type": "markdown",
   "id": "4dea6c8f-9a47-4d9f-b1f3-6c6d8a21eb97",
   "metadata": {},
   "source": [
    "# Librairies"
   ]
  },
  {
   "cell_type": "code",
   "execution_count": 1,
   "id": "ef4604b2-5dcf-4009-8dbb-f10e2a533f88",
   "metadata": {
    "execution": {
     "iopub.execute_input": "2025-06-30T15:47:46.508119Z",
     "iopub.status.busy": "2025-06-30T15:47:46.499071Z",
     "iopub.status.idle": "2025-06-30T15:47:48.559837Z",
     "shell.execute_reply": "2025-06-30T15:47:48.557364Z"
    }
   },
   "outputs": [
    {
     "name": "stderr",
     "output_type": "stream",
     "text": [
      "Loading required package: permute\n",
      "\n"
     ]
    }
   ],
   "source": [
    "library(ade4)\n",
    "library(vegan)"
   ]
  },
  {
   "cell_type": "markdown",
   "id": "c545bc70-9ea0-4372-a712-dcb8aaad8307",
   "metadata": {},
   "source": [
    "# Loading data"
   ]
  },
  {
   "cell_type": "code",
   "execution_count": 3,
   "id": "b27574e8-bf11-42e1-aea6-43d6a8d43fa7",
   "metadata": {
    "execution": {
     "iopub.execute_input": "2025-06-30T15:50:49.676532Z",
     "iopub.status.busy": "2025-06-30T15:50:49.671739Z",
     "iopub.status.idle": "2025-06-30T15:50:49.704669Z",
     "shell.execute_reply": "2025-06-30T15:50:49.701528Z"
    }
   },
   "outputs": [],
   "source": [
    "# Load the Doubs data\n",
    "load(\"Doubs.RData\")"
   ]
  },
  {
   "cell_type": "markdown",
   "id": "ab676d5c-9132-4918-9213-71cf66fabdf1",
   "metadata": {},
   "source": []
  }
 ],
 "metadata": {
  "kernelspec": {
   "display_name": "R",
   "language": "R",
   "name": "ir"
  },
  "language_info": {
   "codemirror_mode": "r",
   "file_extension": ".r",
   "mimetype": "text/x-r-source",
   "name": "R",
   "pygments_lexer": "r",
   "version": "4.4.1"
  }
 },
 "nbformat": 4,
 "nbformat_minor": 5
}
