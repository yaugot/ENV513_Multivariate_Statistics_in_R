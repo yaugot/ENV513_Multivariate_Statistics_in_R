{
 "cells": [
  {
   "cell_type": "markdown",
   "id": "88674578-fe22-490e-b6ba-3d82ae1214bc",
   "metadata": {},
   "source": [
    "# Script 5 - Unconstrained Ordination"
   ]
  },
  {
   "cell_type": "markdown",
   "id": "4dea6c8f-9a47-4d9f-b1f3-6c6d8a21eb97",
   "metadata": {},
   "source": [
    "# Librairies"
   ]
  },
  {
   "cell_type": "code",
   "execution_count": 2,
   "id": "ef4604b2-5dcf-4009-8dbb-f10e2a533f88",
   "metadata": {
    "execution": {
     "iopub.execute_input": "2025-07-23T20:35:43.064436Z",
     "iopub.status.busy": "2025-07-23T20:35:42.994061Z",
     "iopub.status.idle": "2025-07-23T20:35:44.686268Z",
     "shell.execute_reply": "2025-07-23T20:35:44.684224Z"
    }
   },
   "outputs": [
    {
     "name": "stderr",
     "output_type": "stream",
     "text": [
      "Loading required package: permute\n",
      "\n"
     ]
    }
   ],
   "source": [
    "library(ade4)\n",
    "library(vegan)"
   ]
  },
  {
   "cell_type": "markdown",
   "id": "c545bc70-9ea0-4372-a712-dcb8aaad8307",
   "metadata": {},
   "source": [
    "# Loading data and removing empty site 8"
   ]
  },
  {
   "cell_type": "markdown",
   "id": "a4659e42-f6e6-4225-9d8d-10b6b0a7b75b",
   "metadata": {},
   "source": [
    "<div style=\"padding: 10px; border:1px solid green; font-size: 10px;\">\n",
    "  <span style=\"font-size: 15px;\"> <i>Loading the data from Doubs</i> </span><br/>\n",
    "</div>"
   ]
  },
  {
   "cell_type": "code",
   "execution_count": 1,
   "id": "b27574e8-bf11-42e1-aea6-43d6a8d43fa7",
   "metadata": {
    "execution": {
     "iopub.execute_input": "2025-07-23T19:50:13.478035Z",
     "iopub.status.busy": "2025-07-23T19:50:13.468894Z",
     "iopub.status.idle": "2025-07-23T19:50:13.546422Z",
     "shell.execute_reply": "2025-07-23T19:50:13.544042Z"
    }
   },
   "outputs": [],
   "source": [
    "# Load the Doubs data\n",
    "load(\"Doubs.RData\")\n",
    "# Remove empty site 8\n",
    "spe <- spe[-8, ]\n",
    "env <- env[-8, ]\n",
    "spa <- spa[-8, ]"
   ]
  },
  {
   "cell_type": "markdown",
   "id": "ab676d5c-9132-4918-9213-71cf66fabdf1",
   "metadata": {},
   "source": [
    "# 1 Principal Component Analysis (PCA) -> *rda(),scores(),summary(),pca_object$\\$$CA$\\$$eig,screenplot()*"
   ]
  },
  {
   "cell_type": "markdown",
   "id": "6f8d295b-4f88-4ed2-8fb1-09e0c9b2b660",
   "metadata": {},
   "source": [
    "<div style=\"padding: 10px; border:5px solid green; font-size: 10px; text-align: center;\">\n",
    "    <img src=\"images/PCA.png\" width=\"65%\" >\n",
    "</div>"
   ]
  },
  {
   "cell_type": "markdown",
   "id": "0a37d9fb-4eca-4c50-a684-c7c118e60c73",
   "metadata": {},
   "source": [
    "<div style=\"padding: 10px; border:1px solid red; font-size: 18px; position: relative;\">\n",
    "  <span style=\"text-decoration:underline; font-weight: bold; font-size: 22px;\">Question 1</span><br/>\n",
    "\n",
    "  <div style=\"display: flex; align-items: flex-start;\">\n",
    "    <div style=\"flex: 1;\">\n",
    "        For which type of data, is the PCA generally adequate ? <br/>\n",
    "    </div>\n",
    "  </div>\n",
    "\n",
    "<form>\n",
    "  <label><input type=\"radio\" name=\"q5\" value=\"1\"> 1) Community Data</label><br/>\n",
    "  <label><input type=\"radio\" name=\"q5\" value=\"2\"> 2) Environnemental Data </label><br/>\n",
    "</form>\n",
    "\n",
    "</div>\n",
    "\n",
    "<details style=\"font-size: 18px;\">\n",
    "  <summary style=\"font-size: 20px; font-weight: bold; text-decoration: underline;\">Answer</summary>\n",
    "  <div style=\"padding: 10px; border:1px solid blue; font-size: 20px;\">\n",
    "\n",
    "<form>\n",
    "  <label><input type=\"radio\" name=\"q5\" value=\"2\"> 1) Community Data</label><br/>\n",
    "  <label style=\"color: blue;\"><input type=\"radio\" name=\"q5\" value=\"squaring\"> 2) Environnemental Data</label><br/>\n",
    "</form>\n",
    "\n",
    "<p><strong>PCA is not well suited for Community Data due to the double-zero problem: two species absent in two samples appear artificially similar, which can mislead the analysis.</strong></p>\n",
    "\n",
    "\n",
    "  </div>\n",
    "</details>\n",
    "\n"
   ]
  },
  {
   "cell_type": "markdown",
   "id": "a72d1d15-c520-402d-b378-c6f47ccfdc65",
   "metadata": {},
   "source": [
    "<div style=\"padding: 10px; border:1px solid red; font-size: 18px; position: relative;\">\n",
    "  <span style=\"text-decoration:underline; font-weight: bold; font-size: 22px;\">Question 2</span><br/>\n",
    "\n",
    "<div style=\"display: flex; align-items: flex-start;\">\n",
    "  <div style=\"flex: 1;\">\n",
    "    Is the following statement true or false?<br/> <br/>\n",
    "    <em>\n",
    "      <strong>When computing a PCA, the descriptors should be quantitative, and if they are measured on different scales, they must be standardized.<strong> <br/><br/>\n",
    "    </em>\n",
    "  </div>\n",
    "</div>\n",
    "\n",
    "<form>\n",
    "  <label><input type=\"radio\" name=\"q5\" value=\"1\"> 1) True</label><br/>\n",
    "  <label><input type=\"radio\" name=\"q5\" value=\"2\"> 2) False </label><br/>\n",
    "</form>\n",
    "\n",
    "</div>\n",
    "\n",
    "<details style=\"font-size: 18px;\">\n",
    "  <summary style=\"font-size: 20px; font-weight: bold; text-decoration: underline;\">Answer</summary>\n",
    "  <div style=\"padding: 10px; border:1px solid blue; font-size: 20px;\">\n",
    "\n",
    "<form>\n",
    "  <label style=\"color: blue;\"><input type=\"radio\" name=\"q5\" value=\"squaring\">  1) True</label><br/>\n",
    "  <label><input type=\"radio\" name=\"q5\" value=\"2\"> 2) False</label><br/>\n",
    "</form>\n",
    "\n",
    "<p><strong>PCA is based on calculating variances and covariances between variables. If the descriptors have different units or value ranges, those with larger scales will disproportionately influence the principal components. Standardization (centering and scaling) puts all variables on the same scale, allowing PCA to capture the overall structure without bias from differing variable scales.</strong></p>\n",
    "\n",
    "\n",
    "  </div>\n",
    "</details>\n",
    "\n"
   ]
  },
  {
   "cell_type": "markdown",
   "id": "4c7bfe34-9e97-4c9a-9cfb-4e847308b5ca",
   "metadata": {},
   "source": [
    "<div style=\"padding: 10px; border:1px solid red; font-size: 18px; position: relative;\">\n",
    "  <span style=\"text-decoration:underline; font-weight: bold; font-size: 22px;\">Question 3</span><br/>\n",
    "\n",
    "<div style=\"display: flex; align-items: flex-start;\">\n",
    "  <div style=\"flex: 1;\">\n",
    "    Is the following statement true or false?<br/> <br/>\n",
    "    <em>\n",
    "      <strong>PCA maintains the distances (Euclidean) between objects\n",
    "in reduced space<strong> <br/><br/>\n",
    "    </em>\n",
    "  </div>\n",
    "</div>\n",
    "\n",
    "<form>\n",
    "  <label><input type=\"radio\" name=\"q5\" value=\"1\"> 1) True</label><br/>\n",
    "  <label><input type=\"radio\" name=\"q5\" value=\"2\"> 2) False </label><br/>\n",
    "</form>\n",
    "\n",
    "</div>\n",
    "\n",
    "<details style=\"font-size: 18px;\">\n",
    "  <summary style=\"font-size: 20px; font-weight: bold; text-decoration: underline;\">Answer</summary>\n",
    "  <div style=\"padding: 10px; border:1px solid blue; font-size: 20px;\">\n",
    "\n",
    "<form>\n",
    "  <label style=\"color: blue;\"><input type=\"radio\" name=\"q5\" value=\"squaring\">  1) True</label><br/>\n",
    "  <label><input type=\"radio\" name=\"q5\" value=\"2\"> 2) False</label><br/>\n",
    "</form>\n",
    "\n",
    "  </div>\n",
    "</details>\n",
    "\n"
   ]
  },
  {
   "cell_type": "markdown",
   "id": "9bc702b1-a76a-40ff-9ff6-b5be47331cf9",
   "metadata": {},
   "source": [
    "### 1.0.1 PCA computation based on a correlation matrix -> ***rda**( df , TRUE/FALSE)*\n",
    "\n",
    "*PCA computation based on a Dataframe* \n",
    "\n",
    "- **`df`** → *Dataframe on which we compute the PCA*  \n",
    "- **`TRUE/FALSE`** → *Argument scale*:  \n",
    "  - `\"TRUE\"`:  variables are standardized (PCA on correlation matrix)\n",
    "  - `\"FALSE\"`: variables are not standardized (PCA on covariance matrix)\n",
    "    \n",
    "**outputs :**\n",
    "\n",
    "- **Inertia (explained variance)** :\n",
    "\n",
    "  - `\"Total\"`: Total variance explained by all variables \n",
    "  - `\"Unconstrained\"`: Total variance explained, specifying that this is an unconstrained analysis\n",
    "\n",
    "    \n",
    "- **Rank** :\n",
    "\n",
    "  - `\"Unconstrained\"`: Number of possible non-null principal components (rank of data matrix)\n",
    "\n",
    "  \n",
    "- **Inertia is correlations (argument scale = TRUE)** :  inertia is based on correlations (standardized variables), so PCA is done on correlation matrix\n",
    "- **Inertia is variance (argument scale = FALSE)** : inertia is based on variances (covariances) without standardization\n",
    "\n",
    "- **Eigenvalues for unconstrained axes:** : Each eigenvalue (PC1, PC2, etc.) corresponds to the variance explained by that principal component"
   ]
  },
  {
   "cell_type": "markdown",
   "id": "ca47d590-51a2-48f7-87f0-9d86daf27bde",
   "metadata": {
    "execution": {
     "iopub.execute_input": "2025-07-23T20:59:32.064648Z",
     "iopub.status.busy": "2025-07-23T20:59:32.060011Z",
     "iopub.status.idle": "2025-07-23T20:59:32.089098Z",
     "shell.execute_reply": "2025-07-23T20:59:32.086603Z"
    }
   },
   "source": [
    "### 1.0.2 Display a summary of the PCA components -> ***summary**(pca_object)*\n",
    "\n",
    "- **`pca_object`** → *PCA computed using rda()*  \n",
    "- **`summary()`** → *Show the summary of the PCA components*\n",
    "    \n",
    "**outputs :**\n",
    "\n",
    "- **Eigenvalues, and their contribution to the correlations** :\n",
    "\n",
    "  - `\"Eigenvalue\"`:  Eigenvalue of each principal component (PC1, PC2, PC3, PC4). It represents the amount of variance explained by that component. \n",
    "  - `\"Proportion Explained \"`: The proportion of the total variance explained by each individual principal component.\n",
    "  - `\"Cumulative Proportion\"`: The cumulative proportion of variance explained by adding successive principal components.\n",
    "\n"
   ]
  },
  {
   "cell_type": "markdown",
   "id": "d1b8796c-26b6-4f03-a3ce-1ad46b119a31",
   "metadata": {},
   "source": [
    "<div style=\"padding: 10px; border:5px solid green; font-size: 10px; text-align: left;\">\n",
    "    <div style=\"margin-top: 20px; font-size: 20px; font-weight: bold;\">\n",
    "    Summary of the PCA components\n",
    "  </div>\n",
    "    <img src=\"images/summary_pca.png\" width=\"45%\" >\n",
    "</div>"
   ]
  },
  {
   "cell_type": "markdown",
   "id": "d56ed358-dd83-4f5e-9054-a1bab749ca0b",
   "metadata": {},
   "source": [
    "## 1.1 Compute PCA on env data"
   ]
  },
  {
   "cell_type": "code",
   "execution_count": null,
   "id": "de0705d3-6efb-4220-aae1-18b5e9ef912d",
   "metadata": {},
   "outputs": [],
   "source": [
    "# Compute PCA on env data\n",
    "# Standardize variables (scale = TRUE)\n",
    "env.pca <- rda(env, scale = TRUE)\n",
    "#Show the outputs\n",
    "env.pca"
   ]
  },
  {
   "cell_type": "code",
   "execution_count": null,
   "id": "564ba353-7e7d-46aa-b07e-cbc6fe7da7cd",
   "metadata": {},
   "outputs": [],
   "source": [
    "#Show the summary of the PCA components\n",
    "summary(env.pca) "
   ]
  },
  {
   "cell_type": "markdown",
   "id": "0dc4a7e2-0bbf-4f7e-ab3e-c256d482218c",
   "metadata": {},
   "source": [
    "### 1.0.3 Examine and plot PCA output -> ***scores**(pca_object, display = \"\")*\n",
    "\n",
    "- **`pca_object`** → *PCA result computed using rda()*  \n",
    "- **`display`** → *What to display:*\n",
    "  \n",
    "  - `\"sites\"`:  scores of the observations (rows of the data)\n",
    "  - `\"species\"`: scores of the variables (columns)\n",
    "  - `\"bp\"`: scores of the biplot arrows (variables)\n",
    "    \n",
    "**outputs :**\n",
    "\n",
    "- **Eigenvalues, and their contribution to the correlations** :\n",
    "\n",
    "  - `\"Scores of sites (observations)\"`: coordinates of each observation (sample) on the principal components axes.\n",
    "                    These are the positions of your samples in the PCA space.\n",
    "  - `\"Scores of species (variables)\"`: coordinates of variables in the PCA space, showing their contribution and correlation to the axes."
   ]
  },
  {
   "cell_type": "markdown",
   "id": "544ff0cd-ce5b-4e0c-98aa-7a763dba6a77",
   "metadata": {},
   "source": [
    "<div style=\"padding: 10px; border:5px solid green; font-size: 10px; text-align: left;\">\n",
    "    <div style=\"margin-top: 20px; font-size: 20px; font-weight: bold;\">\n",
    "    Coordinate of each observation on the principal components axes\n",
    "  </div>\n",
    "    <img src=\"images/scores_pca.png\" width=\"25%\" >\n",
    "</div>"
   ]
  },
  {
   "cell_type": "markdown",
   "id": "462161f4-f325-4efa-aac5-3dd1992ffa72",
   "metadata": {},
   "source": [
    "## 1.2 Compute PCA scores on env data"
   ]
  },
  {
   "cell_type": "code",
   "execution_count": null,
   "id": "db046168-4471-4c63-9d30-5a7eb651e236",
   "metadata": {},
   "outputs": [],
   "source": [
    "# Examine and plot PCA output\n",
    "scores(env.pca, display = \"sites\")"
   ]
  },
  {
   "cell_type": "markdown",
   "id": "eb29a45e-0a5e-499b-b419-d67aab69c576",
   "metadata": {},
   "source": [
    "### 1.0.4 Get the eigne values of the PCA output -> ***pca_object$ \\$ $CA$ \\$ $eig***\n",
    "\n",
    "- **`pca_object`** → *PCA result computed using rda()*  \n",
    "\n",
    "**outputs :**\n",
    "\n",
    "- **Eigenvalues** :\n",
    "\n",
    "  - The vector **pca_object$\\$$CA$\\$$eig** contains the eigenvalues of each principal component. Each eigenvalue represents the amount of variance explained by its corresponding principal component."
   ]
  },
  {
   "cell_type": "markdown",
   "id": "1836312d-35be-43b2-ae0b-c7bb88ea1e1c",
   "metadata": {},
   "source": [
    "<div style=\"padding: 10px; border:5px solid green; font-size: 10px; text-align: left;\">\n",
    "    <div style=\"margin-top: 20px; font-size: 20px; font-weight: bold;\">\n",
    "    Eigen values of each principal components\n",
    "  </div>\n",
    "    <img src=\"images/eigen_values_pca.png\" width=\"95%\" >\n",
    "</div>"
   ]
  },
  {
   "cell_type": "markdown",
   "id": "43e23c43-15a4-455d-95ff-13b257a93f76",
   "metadata": {},
   "source": [
    "## 1.3 Extract the eigenvalues from the PCA result"
   ]
  },
  {
   "cell_type": "code",
   "execution_count": null,
   "id": "02b4740f-b8cd-4c1b-8954-7c46f314035b",
   "metadata": {},
   "outputs": [],
   "source": [
    "# Extract the eigenvalues from the PCA result\n",
    "ev <- env.pca$CA$eig\n",
    "# Display the eigenvalues\n",
    "ev\n",
    "# Calculate and display the total variance explained (sum of eigenvalues)\n",
    "sum(ev)"
   ]
  },
  {
   "cell_type": "markdown",
   "id": "9a8a0279-1ad4-4dd3-b7a5-f94c439e0d3c",
   "metadata": {},
   "source": [
    "### 1.0.5 Screenplot PCA eigenvalues -> ***screeplot**(pca_object, bstick = TRUE, npcs = length(pca_object$\\$$CA$\\$$eig))*\n",
    "\n",
    "- **`pca_object`** → *PCA result computed using rda()*  \n",
    "- **`bstick`** → *Logical argument:*\n",
    "  \n",
    "  - `\"TRUE\"`:  adds broken-stick model values as a reference line\n",
    "  - `\"FALSE\"`: no broken-stick model shown\n",
    "    \n",
    "- **`npcs`** → *Number of principal components to display on the screeplot (usually all eigenvalues)*\n",
    "\n",
    "\n",
    "**Outputs :** \n",
    "\n",
    "- **Barplot of eigenvalues** :\n",
    "\n",
    "  - Visual representation of the amount of variance explained by each principal component.\n",
    " \n",
    "- **Broken-stick model (if bstick = TRUE)** :\n",
    "  - A reference line/model used to decide how many components to keep based on expected variance under randomness."
   ]
  },
  {
   "cell_type": "markdown",
   "id": "0095a75d-48d8-448a-9abc-ff1ab4ec7060",
   "metadata": {},
   "source": [
    "<div style=\"padding: 10px; border:5px solid green; font-size: 10px; text-align: left;\">\n",
    "    <div style=\"margin-top: 20px; font-size: 20px; font-weight: bold;\">\n",
    "    Screenplot of the pca_object\n",
    "  </div>\n",
    "    <img src=\"images/Screen_plot_pca.png\" width=\"45%\" >\n",
    "</div>"
   ]
  },
  {
   "cell_type": "markdown",
   "id": "4c51927d-bfef-4501-a3cd-4ae225843abb",
   "metadata": {},
   "source": [
    "## 1.4 Screenplot of the env.pca"
   ]
  },
  {
   "cell_type": "code",
   "execution_count": null,
   "id": "e9376658-6768-4624-88c6-fb190f8beb83",
   "metadata": {},
   "outputs": [],
   "source": [
    "# Set plot size in Jupyter Notebook (10 x 7 inches)\n",
    "options(repr.plot.width = 10, repr.plot.height = 7)\n",
    "\n",
    "# Create a scree plot of the PCA eigenvalues from env.pca\n",
    "screeplot(env.pca, bstick = TRUE, npcs = length(env.pca$CA$eig))"
   ]
  },
  {
   "cell_type": "markdown",
   "id": "f5039ddb-3899-4c01-8151-fa6116a88e5e",
   "metadata": {},
   "source": [
    "### 1.0.6 Ploting PCA -> ***plot**(pca_object, choices=c(a,b))*\n",
    "\n",
    "- **`pca_object`** → *PCA result computed using rda()*\n",
    "  \n",
    "- **`choices`** → *Vector indicating which principal components to plot on the axes*\n",
    "  \n",
    "  - `\"c(a, b)\"`: means plot PC a on x-axis and PC b on y-axis\n",
    "\n",
    "\n",
    "**Outputs :** \n",
    "\n",
    "- **Scatter plot of samples or sites** :\n",
    "\n",
    "  - Positions of observations projected on the selected principal component axes.\n",
    " \n",
    "- **Scatter plot of variables** :\n",
    "\n",
    "  - Variables are displayed as red points, indicating their contribution and direction on the PCA axes.\n",
    "\n",
    "- **Helps visualize grouping, gradients, or patterns in the data in the reduced PCA space.** :\n",
    "\n"
   ]
  },
  {
   "cell_type": "markdown",
   "id": "e0765b06-87dd-4b6e-848f-28c65649b7ae",
   "metadata": {},
   "source": [
    "<div style=\"padding: 10px; border:5px solid green; font-size: 10px; text-align: left;\">\n",
    "    <div style=\"margin-top: 20px; font-size: 20px; font-weight: bold;\">\n",
    "    Plot of the pca_object\n",
    "  </div>\n",
    "    <img src=\"images/plot_pca.png\" width=\"45%\" >\n",
    "</div>"
   ]
  },
  {
   "cell_type": "markdown",
   "id": "72eae33c-2fb1-4f3b-9dd1-35d7ade1255b",
   "metadata": {},
   "source": [
    "## 1.5 Plot of the env.pca"
   ]
  },
  {
   "cell_type": "code",
   "execution_count": null,
   "id": "eb1ece27-83e9-41be-aefc-5028dd980d80",
   "metadata": {},
   "outputs": [],
   "source": [
    "# Set plot size in Jupyter Notebook (10 x 7 inches)\n",
    "options(repr.plot.width = 10, repr.plot.height = 7)\n",
    "\n",
    "# Plot the PCA results showing the first principal component (PC1) on the x-axis\n",
    "# and the second principal component (PC2) on the y-axis\n",
    "plot(env.pca, choices = c(1, 2))\n"
   ]
  },
  {
   "cell_type": "markdown",
   "id": "9a0a13d8-a5ca-4773-bde4-d50404107030",
   "metadata": {
    "execution": {
     "iopub.execute_input": "2025-07-23T22:08:01.397363Z",
     "iopub.status.busy": "2025-07-23T22:08:01.392282Z",
     "iopub.status.idle": "2025-07-23T22:08:01.421211Z",
     "shell.execute_reply": "2025-07-23T22:08:01.418578Z"
    }
   },
   "source": [
    "### 1.0.7 biplot PCA -> ***biplot**(pca_object, scaling =,main =)*\n",
    "\n",
    "- **`pca_object`** → *PCA result computed using rda()*\n",
    "  \n",
    "- **`scaling`** → *Vector indicating which principal components to plot on the axes*\n",
    "  \n",
    "  - `\"1\"`: Scaling 1 → *Focus on species (Norm of eigenvectors = 1)*\n",
    "  - `\"2\"`/`\"\"`: Scaling 2 (by default) → *Focus on sites (Norm of eigenvectors = square root of eigenvalues)*\n",
    "  - `\"3\"`: Scaling 3  → *A compromise*\n",
    "\n",
    "\n",
    "\n",
    "- **`main`** → *Title of the plot*\n",
    "\n",
    "**Outputs :** \n",
    "\n",
    "- **A PCA biplot showing:** :\n",
    "\n",
    "  - Samples/sites as **points**.\n",
    "  - Variables as **red arrows** (indicating contribution and direction).\n",
    "\n",
    "- **The appearance depends on the `scaling`** :\n",
    "\n",
    "  - `\"Scaling 1\"`: *better for interpreting sample distances.*\n",
    "  - `\"Scaling 2\"`: *better for interpreting variable correlations.*\n",
    "\n"
   ]
  },
  {
   "cell_type": "markdown",
   "id": "57dc3183-d57f-42d4-9ddf-310a94e12b1c",
   "metadata": {},
   "source": [
    "<div style=\"padding: 10px; border:5px solid green; font-size: 10px; text-align: left;\">\n",
    "    <div style=\"margin-top: 20px; font-size: 20px; font-weight: bold;\">\n",
    "    Biplot of the pca_object\n",
    "  </div>\n",
    "    <img src=\"images/biplot_pca.png\" width=\"65%\" >\n",
    "</div>"
   ]
  },
  {
   "cell_type": "markdown",
   "id": "f562f259-3290-4d3d-a15d-abae7292a18e",
   "metadata": {},
   "source": [
    "## 1.5 BiPlot of the env.pca"
   ]
  },
  {
   "cell_type": "code",
   "execution_count": null,
   "id": "e2fe49eb-2380-4041-9604-b881cb2fcad4",
   "metadata": {},
   "outputs": [],
   "source": [
    "# Set plot size in Jupyter Notebook (16 x 8 inches)\n",
    "options(repr.plot.width = 16, repr.plot.height = 8)\n",
    "\n",
    "# Split the plotting area into 1 row and 2 columns (side-by-side plots)\n",
    "par(mfrow = c(1, 2))\n",
    "\n",
    "# Plot the PCA biplot using default scaling (scaling 2)\n",
    "biplot(env.pca, main = \"PCA - scaling 2\")\n",
    "\n",
    "# Plot the PCA biplot using scaling 1 (preserves sample distances)\n",
    "biplot(env.pca, scaling = 1, main = \"PCA - scaling 1\")"
   ]
  }
 ],
 "metadata": {
  "kernelspec": {
   "display_name": "R",
   "language": "R",
   "name": "ir"
  },
  "language_info": {
   "codemirror_mode": "r",
   "file_extension": ".r",
   "mimetype": "text/x-r-source",
   "name": "R",
   "pygments_lexer": "r",
   "version": "4.4.1"
  }
 },
 "nbformat": 4,
 "nbformat_minor": 5
}
