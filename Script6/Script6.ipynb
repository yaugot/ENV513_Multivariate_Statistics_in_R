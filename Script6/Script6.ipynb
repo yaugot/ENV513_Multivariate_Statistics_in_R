{
 "cells": [
  {
   "cell_type": "markdown",
   "id": "27639162-bf21-4261-af56-5612a0e087c6",
   "metadata": {
    "execution": {
     "iopub.execute_input": "2025-07-29T08:13:40.918235Z",
     "iopub.status.busy": "2025-07-29T08:13:40.910491Z",
     "iopub.status.idle": "2025-07-29T08:13:40.980776Z",
     "shell.execute_reply": "2025-07-29T08:13:40.977973Z"
    }
   },
   "source": [
    "# Script 6 - Constrained Ordination"
   ]
  },
  {
   "cell_type": "markdown",
   "id": "2b217b84-aca2-49da-b985-fd03146f2efd",
   "metadata": {},
   "source": [
    "# Librairies"
   ]
  },
  {
   "cell_type": "code",
   "execution_count": null,
   "id": "1cdcccf3-f9f4-4559-96f4-c17a90984e80",
   "metadata": {},
   "outputs": [],
   "source": [
    "library(vegan)"
   ]
  },
  {
   "cell_type": "markdown",
   "id": "6c770d09-aee8-46e7-8001-66f154627987",
   "metadata": {},
   "source": [
    "# Loading data and removing empty site 8"
   ]
  },
  {
   "cell_type": "markdown",
   "id": "e412e50f-4186-4b14-89ba-a6d2e105ee5a",
   "metadata": {},
   "source": [
    "<div style=\"padding: 10px; border:1px solid green; font-size: 10px;\">\n",
    "  <span style=\"font-size: 15px;\"> <i>Loading the data from Doubs</i> </span><br/>\n",
    "</div>"
   ]
  },
  {
   "cell_type": "code",
   "execution_count": null,
   "id": "38467f94-05bd-4c92-b4bc-91b6e75a618e",
   "metadata": {},
   "outputs": [],
   "source": [
    "# Load the Doubs data\n",
    "load(\"Doubs.RData\")\n",
    "# Remove empty site 8\n",
    "spe <- spe[-8, ]\n",
    "env <- env[-8, ]\n",
    "spa <- spa[-8, ]"
   ]
  },
  {
   "cell_type": "markdown",
   "id": "afc461a5-109a-4023-87ec-b8e90000d7bc",
   "metadata": {},
   "source": [
    "# Loading modified Doubs data "
   ]
  },
  {
   "cell_type": "markdown",
   "id": "eca8411a-1a9e-416a-8f13-d4db933e7497",
   "metadata": {},
   "source": [
    "<div style=\"padding: 10px; border:1px solid green; font-size: 10px;\">\n",
    "  <span style=\"font-size: 15px;\"> <i>Loading the data from Doubs with a <strong>modified</strong> <strong><code>env</code></strong> dataset using qualitative slope factor (<strong><code>env3</code></strong>) and 2 subsets of explanatory variables (<strong><code>envchem</code></strong>,<strong><code>envtopo</code></strong>)</i> </span><br/>\n",
    "</div>"
   ]
  },
  {
   "cell_type": "code",
   "execution_count": null,
   "id": "ae36e597-4ec4-4831-801b-ea6a144000a0",
   "metadata": {},
   "outputs": [],
   "source": [
    "# Load the Modified Doubs data\n",
    "load(\"DoubsModified.Rdata\")"
   ]
  },
  {
   "cell_type": "markdown",
   "id": "18cbbedc-885b-491a-b4bf-03d5ced69c5d",
   "metadata": {},
   "source": [
    "# 1 Detrended Correspondence Analysis (DCA) -> *rda(),decorana()*"
   ]
  },
  {
   "cell_type": "markdown",
   "id": "65e5272f-f64c-49ab-966c-bdcb5affa8a2",
   "metadata": {},
   "source": [
    "<div style=\"padding: 10px; border:5px solid green; font-size: 10px; text-align: center;\">\n",
    "    <img src=\"images/Script6_DCA.png\" width=\"65%\" >\n",
    "</div>"
   ]
  },
  {
   "cell_type": "markdown",
   "id": "14c57264-0763-4508-9fc1-862cfbcb8936",
   "metadata": {
    "execution": {
     "iopub.execute_input": "2025-07-29T08:34:44.435658Z",
     "iopub.status.busy": "2025-07-29T08:34:44.431241Z",
     "iopub.status.idle": "2025-07-29T08:34:44.463287Z",
     "shell.execute_reply": "2025-07-29T08:34:44.459927Z"
    }
   },
   "source": [
    "<div style=\"padding: 10px; border:1px solid red; font-size: 18px; position: relative;\">\n",
    "  <span style=\"text-decoration:underline; font-weight: bold; font-size: 22px;\">Question 1</span><br/>\n",
    "\n",
    "  <div style=\"display: flex; align-items: flex-start;\">\n",
    "    <div style=\"flex: 1;\">\n",
    "        What are the ordinations methods maily affected by the horseshoe/arch effect ? <br/>\n",
    "    </div>\n",
    "  </div>\n",
    "\n",
    "<form>\n",
    "  <label><input type=\"radio\" name=\"q5\" value=\"1\"> 1) PCA </label><br/>\n",
    "  <label><input type=\"radio\" name=\"q5\" value=\"2\"> 2) CA</label><br/>\n",
    "  <label><input type=\"radio\" name=\"q5\" value=\"2\"> 3) NMDS </label><br/>\n",
    "  <label><input type=\"radio\" name=\"q5\" value=\"2\"> 4) All these methods </label><br/>\n",
    "</form>\n",
    "\n",
    "</div>\n",
    "\n",
    "<details style=\"font-size: 18px;\">\n",
    "  <summary style=\"font-size: 20px; font-weight: bold; text-decoration: underline;\">Answer</summary>\n",
    "  <div style=\"padding: 10px; border:1px solid blue; font-size: 20px;\">\n",
    "\n",
    "<form>\n",
    "  <label style=\"color: blue;\"><input type=\"radio\" name=\"q5\" value=\"squaring\"> 1) PCA </label><br/>\n",
    "  <label style=\"color: blue;\"><input type=\"radio\" name=\"q5\" value=\"squaring\"> 2)  CA</label><br/>\n",
    "  <label><input type=\"radio\" name=\"q5\" value=\"2\"> 3) NMDS </label><br/>\n",
    "  <label><input type=\"radio\" name=\"q5\" value=\"2\"> 4) All these methods </label><br/>\n",
    "\n",
    "</form>\n",
    "\n",
    "\n",
    "\n",
    "  </div>\n",
    "</details>\n",
    "\n"
   ]
  },
  {
   "cell_type": "markdown",
   "id": "f9d425c9-0d22-454b-9d89-364db472386d",
   "metadata": {},
   "source": [
    "### 1.0.1 DCA computation based on a dataframe → ***decorana**( df, iweigh=, iresc=, ira=, mk=, short=, before=, after=)*\n",
    "\n",
    "*Detrended Correspondence Analysis (DCA) computation based on a dataframe*\n",
    "\n",
    "- **`df`** → *Dataframe on which the DCA is computed (usually species abundance data)*  \n",
    "- **`iweigh`** → *Downweighting of rare species.*  \n",
    "  - `0`: no down-weighting (default)  \n",
    "  - `1`: down-weight rare species  \n",
    "- **`iresc`** → *Number of rescaling cycles*  \n",
    "  - `0`: no rescaling  \n",
    "- **`ira`** → *Type of analysis*  \n",
    "  - `0`: detrended  \n",
    "  - `1`: basic reciprocal averaging  \n",
    "- **`mk`** → *Number of segments in rescaling.*  \n",
    "- **`short`** → *Shortest gradient to be rescaled.*  \n",
    "  - `0`: no shortening (default)  \n",
    "  - `1`: shortening applied  \n",
    "- **`before`** → *Hill's piecewise transformation: values before transformation.*  \n",
    "- **`after`** → *Hill's piecewise transformation: values after transformation -- these must correspond to values in before*\n",
    "\n",
    "  \n",
    "**outputs** :\n",
    "- **`Total inertia (scaled Chi-square)`**:  *The total variance in the dataset measured as the scaled Chi-square statistic*\n",
    "- **`Eigen Values`**: *Values indicating the amount of variation explained by each PCA axis*\n",
    "- **`Additive Eigen Values`**: * Values indicating the amount of variation explained by each DCA axis*\n",
    "- **`Decorana Values`**: *Special scores computed during the detrending process, used to correct the arch effect and improve ecological interpretability.*\n",
    "- **`Axis Length`**: *Length of each DCA axis expressed in standard deviation units; longer axes indicate stronger species turnover along that gradient.*\n"
   ]
  },
  {
   "cell_type": "markdown",
   "id": "79e1b318-d8ff-4ba8-a984-4069a779abd2",
   "metadata": {},
   "source": [
    "## 1.1 Demonstrating DCA over PCA Using the `varespec` Dataset"
   ]
  },
  {
   "cell_type": "markdown",
   "id": "81acef47-a166-4af6-80cc-e0c0c89c8365",
   "metadata": {},
   "source": [
    "### 1.1.1 Load and the display the `varespec` Dataset"
   ]
  },
  {
   "cell_type": "code",
   "execution_count": null,
   "id": "3da23062-dfb8-47b7-9c9b-fc7ca2717b29",
   "metadata": {},
   "outputs": [],
   "source": [
    "# Loads the 'varespec' dataset from the vegan package. It contains species abundances from vegetation samples.\n",
    "data(\"varespec\")  \n",
    "\n",
    "# Displays the contents of the 'varespec' dataset (a community data table with species as columns and samples as rows).\n",
    "head(varespec)"
   ]
  },
  {
   "cell_type": "markdown",
   "id": "a764f59b-644b-4d68-a11e-c1771e253bea",
   "metadata": {},
   "source": [
    "### 1.1.2 Applies Hellinger transformation to the species data"
   ]
  },
  {
   "cell_type": "code",
   "execution_count": null,
   "id": "9d8a5c7b-f75d-46fa-b6f7-1d6990750aa7",
   "metadata": {},
   "outputs": [],
   "source": [
    "# Applies Hellinger transformation to the species data.(Reduces the influence of large abundances and zero inflation).\n",
    "vare.hel <- decostand(varespec, \"hellinger\")"
   ]
  },
  {
   "cell_type": "markdown",
   "id": "dd3e443e-9493-4daa-b33f-45f077a574e8",
   "metadata": {},
   "source": [
    "### 1.1.3 Performs Principal Component Analysis (PCA)"
   ]
  },
  {
   "cell_type": "code",
   "execution_count": null,
   "id": "35b32c0b-6749-4a9f-9d89-f333c6eab757",
   "metadata": {},
   "outputs": [],
   "source": [
    "# Performs Principal Component Analysis (PCA) using the `rda` function. `scaling = 1` scales species scores to unit variance.\n",
    "vare.PCA<-rda(vare.hel,scaling=1)\n",
    "# Prints a summary of the PCA object\n",
    "vare.PCA"
   ]
  },
  {
   "cell_type": "markdown",
   "id": "f1311969-515a-4c11-909b-ae8085341d92",
   "metadata": {},
   "source": [
    "### 1.1.4 Plot the PCA"
   ]
  },
  {
   "cell_type": "code",
   "execution_count": null,
   "id": "597d502d-747f-4484-b510-c881a1f79885",
   "metadata": {},
   "outputs": [],
   "source": [
    "# Set plot size in Jupyter Notebook (10 x 7 inches)\n",
    "options(repr.plot.width = 10, repr.plot.height = 7)\n",
    "\n",
    "# Plots the PCA ordination diagram, showing only the sites (samples) in the plot.\n",
    "plot(vare.PCA, display=\"sites\")"
   ]
  },
  {
   "cell_type": "markdown",
   "id": "b4e9ecd3-f2d4-468e-a6d1-dc2f72cb1024",
   "metadata": {
    "execution": {
     "iopub.execute_input": "2025-07-29T09:10:06.453123Z",
     "iopub.status.busy": "2025-07-29T09:10:06.448636Z",
     "iopub.status.idle": "2025-07-29T09:10:06.477924Z",
     "shell.execute_reply": "2025-07-29T09:10:06.474838Z"
    }
   },
   "source": [
    "### 1.1.5 Performs and plot Detrended Correspondence Analysis (DCA)"
   ]
  },
  {
   "cell_type": "code",
   "execution_count": null,
   "id": "7490f8f3-6f1a-4a6e-8bd5-957001e62b14",
   "metadata": {},
   "outputs": [],
   "source": [
    "# Performs Detrended Correspondence Analysis (DCA) on the 'varespec' dataset\n",
    "vare.DCA<-decorana(varespec, iweigh=0, iresc=4, ira=0, mk=26, short=0, before=NULL, after=NULL)\n",
    "# Display the DCA outputs\n",
    "vare.DCA\n",
    "# Set plot size in Jupyter Notebook (10 x 7 inches)\n",
    "options(repr.plot.width = 10, repr.plot.height = 7)\n",
    "\n",
    "# Plots the DCA ordination diagram\n",
    "plot(vare.DCA, disp=\"sites\")"
   ]
  },
  {
   "cell_type": "markdown",
   "id": "199595bd-e7fd-4a15-8b30-cffd08901cb9",
   "metadata": {},
   "source": [
    "### 1.1.6 Comparison between simple PCA and a DCA"
   ]
  },
  {
   "cell_type": "code",
   "execution_count": null,
   "id": "0cd00d55-7c31-48a6-ad2b-d55a821acc35",
   "metadata": {},
   "outputs": [],
   "source": [
    "# Set plot size in Jupyter Notebook (17 x 7 inches)\n",
    "options(repr.plot.width = 17, repr.plot.height = 7)\n",
    "\n",
    "# Set plot layout to 1 row, 2 columns (side-by-side)\n",
    "par(mfrow = c(1, 2))\n",
    "\n",
    "# Plot PCA sites\n",
    "plot(vare.PCA, display = \"sites\", main = \"PCA - Sites\")\n",
    "\n",
    "# Plot DCA sites\n",
    "plot(vare.DCA, disp = \"sites\", main = \"DCA - Sites\")"
   ]
  },
  {
   "cell_type": "markdown",
   "id": "f0703f4a-af60-45bb-8a97-c758d094aa9b",
   "metadata": {},
   "source": [
    "# 2 Redundancy analysis (RDA) -> *rda()*"
   ]
  },
  {
   "cell_type": "markdown",
   "id": "039668e6-8a44-47fd-98ef-4e72c1bd6f1b",
   "metadata": {},
   "source": [
    "<div style=\"padding: 10px; border:5px solid green; font-size: 10px; text-align: left;\">\n",
    "    <img src=\"images/Script6_RDA.png\" width=\"35%\" style=\"margin-right: 90px;\">\n",
    "    <img src=\"images/Script6_RDA_triplot.png\" width=\"35%\">\n",
    "</div>\n"
   ]
  },
  {
   "cell_type": "markdown",
   "id": "6404c114-1b79-4740-a933-9d13ba2f3a1a",
   "metadata": {},
   "source": [
    "<div style=\"padding: 10px; border:1px solid red; font-size: 18px; position: relative;\">\n",
    "  <span style=\"text-decoration:underline; font-weight: bold; font-size: 22px;\">Question 2</span><br/>\n",
    "\n",
    "  <div style=\"display: flex; align-items: flex-start;\">\n",
    "    <div style=\"flex: 1;\">\n",
    "        To which unconstrained ordination method is the RDA an extension? <br/>\n",
    "    </div>\n",
    "  </div>\n",
    "\n",
    "<form>\n",
    "  <label><input type=\"radio\" name=\"q5\" value=\"1\"> 1) PCA </label><br/>\n",
    "  <label><input type=\"radio\" name=\"q5\" value=\"2\"> 2) CA</label><br/>\n",
    "  <label><input type=\"radio\" name=\"q5\" value=\"2\"> 3) NMDS </label><br/>\n",
    "  <label><input type=\"radio\" name=\"q5\" value=\"2\"> 4) All these methods </label><br/>\n",
    "</form>\n",
    "\n",
    "</div>\n",
    "\n",
    "<details style=\"font-size: 18px;\">\n",
    "  <summary style=\"font-size: 20px; font-weight: bold; text-decoration: underline;\">Answer</summary>\n",
    "  <div style=\"padding: 10px; border:1px solid blue; font-size: 20px;\">\n",
    "\n",
    "<form>\n",
    "  <label style=\"color: blue;\"><input type=\"radio\" name=\"q5\" value=\"squaring\"> 1) PCA </label><br/>\n",
    "  <label><input type=\"radio\" name=\"q5\" value=\"2\">  2)  CA</label><br/>\n",
    "  <label><input type=\"radio\" name=\"q5\" value=\"2\"> 3) NMDS </label><br/>\n",
    "  <label><input type=\"radio\" name=\"q5\" value=\"2\"> 4) All these methods </label><br/>\n",
    "\n",
    "</form>\n",
    "\n",
    "\n",
    "\n",
    "  </div>\n",
    "</details>\n",
    "\n"
   ]
  },
  {
   "cell_type": "markdown",
   "id": "85048735-ffe6-49c3-b96b-777976b9ebe7",
   "metadata": {},
   "source": [
    "<div style=\"padding: 10px; border:1px solid red; font-size: 18px; position: relative;\">\n",
    "  <span style=\"text-decoration:underline; font-weight: bold; font-size: 22px;\">Question 3</span><br/>\n",
    "\n",
    "  <div style=\"display: flex; align-items: flex-start;\">\n",
    "    <div style=\"flex: 1;\">\n",
    "        Why is RDA called a <i><strong>Constrained</strong> Ordination</i>? <br/>\n",
    "    </div>\n",
    "  </div>\n",
    "\n",
    "<form>\n",
    "  <label><input type=\"radio\" name=\"q5\" value=\"1\"> 1) Because it limits the number of species used in the analysis. </label><br/>\n",
    "  <label><input type=\"radio\" name=\"q5\" value=\"2\"> 2) Because it performs a simultaneous ordination of two datasets (response and explanatory); the ordination axes are constrained to be linear combinations of the explanatory variables.</label><br/>\n",
    "  <label><input type=\"radio\" name=\"q5\" value=\"2\"> 3) Because it removes rare species from the dataset automatically. </label><br/>\n",
    "  <label><input type=\"radio\" name=\"q5\" value=\"2\"> 4) Because it tries to display only the variation that can be explained with constraining variables. </label><br/>\n",
    "</form>\n",
    "\n",
    "</div>\n",
    "\n",
    "<details style=\"font-size: 18px;\">\n",
    "  <summary style=\"font-size: 20px; font-weight: bold; text-decoration: underline;\">Answer</summary>\n",
    "  <div style=\"padding: 10px; border:1px solid blue; font-size: 20px;\">\n",
    "\n",
    "<form>\n",
    "  <label><input type=\"radio\" name=\"q5\" value=\"2\">1) Because it limits the number of species used in the analysis. </label><br/>\n",
    "  <label style=\"color: blue;\"><input type=\"radio\" name=\"q5\" value=\"squaring\"> 2) Because it performs a simultaneous ordination of two datasets (response and explanatory); the ordination axes are constrained to be linear combinations of the explanatory variables.</label><br/>\n",
    "  <label><input type=\"radio\" name=\"q5\" value=\"2\"> 3) Because it removes rare species from the dataset automatically. </label><br/>\n",
    "  <label style=\"color: blue;\"><input type=\"radio\" name=\"q5\" value=\"squaring\"> 4) Because it tries to display only the variation that can be explained with constraining variables. </label><br/>\n",
    "\n",
    "</form>\n",
    "\n",
    "\n",
    "\n",
    "  </div>\n",
    "</details>\n",
    "\n"
   ]
  },
  {
   "cell_type": "markdown",
   "id": "9230436a-21f6-4371-8921-bd7de852863a",
   "metadata": {},
   "source": [
    "<div style=\"padding: 10px; border:1px solid red; font-size: 18px; position: relative;\">\n",
    "  <span style=\"text-decoration:underline; font-weight: bold; font-size: 22px;\">Question 4</span><br/>\n",
    "\n",
    "  <div style=\"display: flex; align-items: flex-start;\">\n",
    "    <div style=\"flex: 1;\">\n",
    "        To avoid overfitting, what is the condition on the number of explanatory variables? <br/>\n",
    "    </div>\n",
    "  </div>\n",
    "\n",
    "<form>\n",
    "  <label><input type=\"radio\" name=\"q5\" value=\"1\"> 1) The number of observations must be lower than the number of explanatory variables.  </label><br/>\n",
    "  <label><input type=\"radio\" name=\"q5\" value=\"2\"> 2) The number of observations must be equal to or greater than the number of explanatory variables. </label><br/>\n",
    "  <label><input type=\"radio\" name=\"q5\" value=\"3\"> 3) There is no specific constraint on the number of explanatory variables. </label><br/>\n",
    "</form>\n",
    "\n",
    "\n",
    "</div>\n",
    "\n",
    "<details style=\"font-size: 18px;\">\n",
    "  <summary style=\"font-size: 20px; font-weight: bold; text-decoration: underline;\">Answer</summary>\n",
    "  <div style=\"padding: 10px; border:1px solid blue; font-size: 20px;\">\n",
    "\n",
    "<form>\n",
    "  <label><input type=\"radio\" name=\"q5\" value=\"1\"> 1) The number of observations must be lower than the number of explanatory variables.  </label><br/>\n",
    "  <label style=\"color: blue;\"><input type=\"radio\" name=\"q5\" value=\"squaring\">  2) The number of observations must be equal to or greater than the number of explanatory variables. </label><br/>\n",
    "  <label><input type=\"radio\" name=\"q5\" value=\"3\"> 3) There is no specific constraint on the number of explanatory variables. </label><br/>\n",
    "</form>\n",
    "\n",
    "\n",
    "\n",
    "  </div>\n",
    "</details>\n",
    "\n"
   ]
  },
  {
   "cell_type": "markdown",
   "id": "d10f78d7-33fe-410d-b05c-a43584997c0e",
   "metadata": {},
   "source": [
    "### 2.0.1 RDA computation based on a dataframe and explanatory variables -> ***rda**( df ~ df_env$\\$$col1 + .. df_env$\\$$coln, df_env,scale = `TRUE/FALSE`)*\n",
    "\n",
    "*RDA computation* \n",
    "\n",
    "- **`df`** → *Dataframe with the objects (freqeuncy table)*\n",
    "- **`df_env`** → *Dataframe with the explanatory variables (environnemntal parameters)*  \n",
    "- **`~ df$col1 + df$col2 + ... + df$coln`** → *Selected environmental variables used as explanatory variables in the model*:  \n",
    "  - `\"~.\"`:  Takes every colomns to be the explanatory variables  from the `df_env\n",
    "- **`TRUE/FALSE`** → *Argument scale*:  \n",
    "  - `\"TRUE\"`:  variables are standardized \n",
    "  - `\"FALSE\"`: variables are not standardized\n",
    "\n",
    "**outputs :**\n",
    "\n",
    "- **Inertia (explained variance)** :\n",
    "\n",
    "  - `\"Total\"`: Total variance explained by all variables \n",
    "  - `\"Unconstrained\"`: Total variance explained, when the ordination is an unconstrained analysis\n",
    "  - `\"Constrained\"`: Total variance explained, when the ordination is an constrained analysis\n",
    "\n",
    "    \n",
    "- **Proportion** :\n",
    "  - `\"Total\"` : proportion total explained (1)\n",
    "  - `\"Unconstrained\"`: porportion of the variance explained when the ordinatio is nan unconstrained analysis\n",
    "  - `\"Constrained\"`:  porportion of the variance explained when the ordination is an constrained analysis\n",
    "\n",
    "  \n",
    "- **Inertia is correlations (argument scale = TRUE)** :  inertia is based on correlations (standardized variables)\n",
    "- **Inertia is variance (argument scale = FALSE)** : inertia is based on variances (covariances) without standardization\n",
    "\n",
    "- **Eigenvalues for unconstrained axes:** : Each eigenvalue (PC1, PC2, etc.) corresponds to the variance explained by that principal component of the PCA\n",
    "\n",
    "- **Eigenvalues for constrained axes:** : Each eigenvalue (RDA1, RDA2, etc.) corresponds to the variance explained by that principal component of the RDA"
   ]
  },
  {
   "cell_type": "markdown",
   "id": "394d82af-c4ac-4a64-947a-d8332e4e9147",
   "metadata": {},
   "source": [
    "## 2.1 RDA of the Hellinger-transformed fish species data, constrained by all (`~.`) environmental variables contained in `env3`"
   ]
  },
  {
   "cell_type": "code",
   "execution_count": null,
   "id": "47c1c505-06ba-4d33-9b6d-cc336a02175e",
   "metadata": {},
   "outputs": [],
   "source": [
    "# Hellinger-transform the species dataset\n",
    "spe.hel <- decostand(spe, \"hellinger\")\n",
    "\n",
    "# Perform a Redundancy Analysis (RDA)\n",
    "spe.rda <- rda(spe.hel ~ ., env3)\n",
    "\n",
    "# Display the summary of the RDA results\n",
    "summary(spe.rda)"
   ]
  },
  {
   "cell_type": "markdown",
   "id": "32695e0b-5450-4638-8451-80e288a8184e",
   "metadata": {},
   "source": [
    "### 2.0.2 Coefficients analysis of an ordination object -> ***coef**(ordination_object)*\n",
    "\n",
    "* Coefficients analysis* \n",
    "\n",
    "- **`ordination_object`** → *Orindation object computed using rda()*\n",
    "\n",
    "  \n",
    "**Outputs :**\n",
    "\n",
    "- **Dataframe containing the direction vectors (coefficients) of the explanatory variables in the RDA space.** :\n",
    "\n",
    "  - `\"Rows\"`: Explanatory variables\n",
    "  - `\"Columns\"`: RDA axes (e.g., RDA1, RDA2, ..., RDAn)\n",
    "  - `\"VAlue of each cell\"`: Numerical coefficients representing the contribution (direction and strength) of each explanatory variable to each RDA axis.\n"
   ]
  },
  {
   "cell_type": "markdown",
   "id": "147e82ce-80ff-4a17-9a0e-e5bd97bdf368",
   "metadata": {},
   "source": [
    "## 2.2 Canonical coefficients from the rda object (for external plotting)"
   ]
  },
  {
   "cell_type": "code",
   "execution_count": null,
   "id": "84f554d2-a452-4d40-a51c-631c42201464",
   "metadata": {},
   "outputs": [],
   "source": [
    "# Canonical coefficients from the rda object (for external plotting)\n",
    "coef(spe.rda)"
   ]
  },
  {
   "cell_type": "markdown",
   "id": "26d94acd-e917-4d18-bf27-0b2fa36dbe25",
   "metadata": {},
   "source": [
    "### 2.0.3 Adjusted R² analysis of an ordination object → ***RsquareAdj***(*ordination_object*)\n",
    "\n",
    "*Adjusted R² analysis*\n",
    "\n",
    "- **`ordination_object`** → *Ordination object computed using `rda()`*\n",
    "\n",
    "**Outputs** :\n",
    "\n",
    "- A **list with two values**:\n",
    "  - **`r.squared`**: The **raw (unadjusted) R²**, i.e. the total proportion of variance in the response data explained by the constrained ordination.\n",
    "  - **`adj.r.squared`**: The **adjusted R²**, a **bias-corrected** version of R² that accounts for the number of explanatory variables and sample size. (**more reliable indicator**)\n"
   ]
  },
  {
   "cell_type": "markdown",
   "id": "d04fab10-ce2c-40bc-a144-68ad22853a12",
   "metadata": {},
   "source": [
    "## 2.3 Adjusted R^2 retrieved from the rda object (unbiased measure of explained variance)"
   ]
  },
  {
   "cell_type": "code",
   "execution_count": null,
   "id": "3ff16f03-0972-4d1c-829b-9fc45b905994",
   "metadata": {},
   "outputs": [],
   "source": [
    "# Adjusted R^2 retrieved from the rda object (unbiased measure of explained variance)\n",
    "R2adj<- RsquareAdj(spe.rda)\n",
    "R2adj"
   ]
  },
  {
   "cell_type": "markdown",
   "id": "6c7b9f7c-ddf3-49ec-aac6-fff4a8c88da9",
   "metadata": {},
   "source": [
    "### 2.0.4 Triplots of the RDA results -> ***plot***(*ordination_object*,*scaling=*,**display = c(\"\"))\n",
    "\n",
    "*Triplots of the RDA*\n",
    "\n",
    "- **`ordination_object`** → *Ordination object computed using `rda()`*\n",
    "- **`scaling`** → *Vector indicating which principal components to plot on the axes*\n",
    "  \n",
    "  - `\"1\"`: Scaling 1 → *Focus on species (Norm of eigenvectors = 1)*\n",
    "  - `\"2\"`/`\"\"`: Scaling 2 (by default) → *Focus on sites (Norm of eigenvectors = square root of eigenvalues)*\n",
    "  - `\"3\"`: Scaling 3  → *A compromise*\n",
    "\n",
    "- **`display`** → *What elements to show on the plot *\n",
    "  \n",
    "  - `\"lc\"`: objects (sites)*\n",
    "  - `\"sp\"`: species → *Focus on sites (Norm of eigenvectors = square root of eigenvalues)*\n",
    "  - `\"cn\"`: explanatory variables  → *A compromise*\n",
    "\n",
    "**Outputs** :\n",
    "\n",
    "- Plot of  **rda object**:\n",
    "  - **`display = c(\"lc\")`**: Displays the sites on the first two principal axes\n",
    "  - **`display = c(\"sp\")`**:  Displays the species on the first two principal axes\n",
    "  - **`display = c(\"cn\")`**: Displays the explanatory variables as vectors on the first two principal axe\n",
    "  - **`display = c(\"lc\",\"sp\",\"cn\")`**: Displays the sites, species and the explanatory variables as vectors\n",
    "\n"
   ]
  },
  {
   "cell_type": "markdown",
   "id": "383331c7-ad7e-4558-8190-dbd6c730ca28",
   "metadata": {},
   "source": [
    "## 2.4 Displaying RDA plot with sites, species and constraints separately"
   ]
  },
  {
   "cell_type": "code",
   "execution_count": null,
   "id": "2bd2765f-1f09-459d-ade3-a5295037a5fd",
   "metadata": {},
   "outputs": [],
   "source": [
    "# Set plot size in Jupyter Notebook (17 x 7 inches)\n",
    "options(repr.plot.width = 17, repr.plot.height = 7)\n",
    "\n",
    "## Triplots of the rda results (lc site scores)\n",
    "## Site scores as linear combinations of the environmental variables\n",
    "par(mfrow=c(1,3))\n",
    "plot(spe.rda, scaling = 1,   display = c(\"lc\"), main = \"RDA - sites\")\n",
    "plot(spe.rda, scaling = 1,   display = c(\"sp\"), main = \"RDA - species\")\n",
    "plot(spe.rda, scaling = 1,   display = c(\"cn\"), main = \"RDA - constraints\")"
   ]
  },
  {
   "cell_type": "markdown",
   "id": "b221ca4e-d8f0-47cd-b646-88283eb118cd",
   "metadata": {},
   "source": [
    "## 2.5 Displaying RDA plot with sites, species and constraints on the same triplot"
   ]
  },
  {
   "cell_type": "code",
   "execution_count": null,
   "id": "2aafa8ea-5270-4e85-9fc5-9f275bbc200e",
   "metadata": {},
   "outputs": [],
   "source": [
    "# Set plot size in Jupyter Notebook (17 x 12 inches)\n",
    "options(repr.plot.width = 15, repr.plot.height = 10)\n",
    "\n",
    "par(mfrow=c(1,1))\n",
    "\n",
    "# Plot the RDA result as a triplot\n",
    "# Display site scores (\"lc\"), species scores (\"sp\"), and constraints (\"cn\")\n",
    "plot(spe.rda, scaling=1, disp=c(\"lc\",\"sp\",\"cn\"), main=\"Triplot RDA\")"
   ]
  },
  {
   "cell_type": "markdown",
   "id": "0d3b2d9b-bc6b-480b-b489-8e8e0a5ce61b",
   "metadata": {},
   "source": [
    "### 2.0.5 Assess Sample-wise Fit Quality -> **goodness**( *ordination_object* )\n",
    "\n",
    "- **`ordination_object`** → *Ordination object computed using `rda()`*\n",
    "\n",
    "- **goodness output** :\n",
    "\n",
    "\n",
    "- **`Goodness values`** : One value per sample, representing the **distance between the original and ordinated configuration** for that sample  \n",
    "- **`Interpretation`** :  \n",
    "   - **Low values** = good fit (the sample is well-represented in the NMDS space)  \n",
    "   - **High values** = poor fit (the sample's position in reduced space is less accurate)  \n"
   ]
  },
  {
   "cell_type": "markdown",
   "id": "1f7a260d-2548-4184-8f91-68843dffd214",
   "metadata": {},
   "source": [
    "## 2.6 Select species with goodness-of-fit of at least 0.6 in the ordination plane formed by axes 1 and 2"
   ]
  },
  {
   "cell_type": "code",
   "execution_count": null,
   "id": "0e27d65e-8c63-4809-83f4-740f61c2c9bb",
   "metadata": {},
   "outputs": [],
   "source": [
    "# Calculate the goodness-of-fit values for species in the RDA object\n",
    "spe.good <- goodness(spe.rda)\n",
    "\n",
    "spe.good\n",
    "\n",
    "# Select species with goodness-of-fit (second column : RDA2) greater or equal to 0.6\n",
    "sel.sp <- which(spe.good[, 2] >= 0.6)\n",
    "\n",
    "print(sel.sp)\n"
   ]
  },
  {
   "cell_type": "markdown",
   "id": "f87606e8-3254-4b4f-afee-9764b7d28321",
   "metadata": {},
   "source": [
    "<div style=\"padding: 10px; border:1px solid red; font-size: 18px; position: relative;\">\n",
    "  <span style=\"text-decoration:underline; font-weight: bold; font-size: 22px;\">Question 5</span><br/>\n",
    "\n",
    "  <div style=\"display: flex; align-items: flex-start;\">\n",
    "    <div style=\"flex: 1;\">\n",
    "        Here is a triplot of an RDA on 30 sites (1-30) where the explanatory variables are the oxgen concentration (oxy), the altitude (alt) and Biochemical Oxygen Demand (dbo). In red we can see the species, in black the sites and in blue vectors the mentionned explanatory variables. <br/><br/><br/><br/>\n",
    "        <strong>Which statements are correct? </strong>\n",
    "    </div>\n",
    "    <div style=\"margin-left: 20px;\">\n",
    "      <img src=\"images/Script6_Q5.png\" alt=\"Skewed distribution\" style=\"max-width: 1000px; height: auto; border: 1px solid #ccc;\" />\n",
    "    </div>\n",
    "  </div>\n",
    "\n",
    "<form>\n",
    "  <label><input type=\"radio\" name=\"q5\" value=\"1\"> 1) Sites 2 and 12 are really similar</label><br/>\n",
    "  <label><input type=\"radio\" name=\"q5\" value=\"2\"> 2) Sites 7 and 8 are quite similar and have both high pH</label><br/>\n",
    "  <label><input type=\"radio\" name=\"q5\" value=\"3\"> 3) Site 5 has a really high temperature</label><br/>\n",
    "  <label><input type=\"radio\" name=\"q5\" value=\"4\"> 4) Site 1 is the site characterised by the highest humidity</label><br/>\n",
    "  <label><input type=\"radio\" name=\"q5\" value=\"5\"> 5) Temperature contributes the most explaining differences among the 12 soil type</label><br/>\n",
    "</form>\n",
    "\n",
    "</div>\n",
    "\n",
    "<details style=\"font-size: 18px;\">\n",
    "  <summary style=\"font-size: 20px; font-weight: bold; text-decoration: underline;\">Answer</summary>\n",
    "  <div style=\"padding: 10px; border:1px solid blue; font-size: 20px;\">\n",
    "\n",
    "\n",
    "<form>\n",
    "  <label><input type=\"radio\" name=\"q5\" value=\"1\"> 1) Sites 2 and 12 are really similar</label><br/>\n",
    "  <label style=\"color: blue;\"><input type=\"radio\" name=\"q5\" value=\"squaring\"> 2) Sites 7 and 8 are quite similar and have both high pH</label><br/>\n",
    "  <label><input type=\"radio\" name=\"q5\" value=\"3\"> 3) Site 5 has a really high temperature</label><br/>\n",
    "  <label style=\"color: blue;\"><input type=\"radio\" name=\"q5\" value=\"squaring\"> 4) Site 1 is the site characterised by the highest humidity</label><br/>\n",
    "  <label style=\"color: blue;\"><input type=\"radio\" name=\"q5\" value=\"squaring\"> 5) Temperature contributes the most explaining differences among the 12 soil type</label><br/>\n",
    "</form>\n",
    "\n",
    "\n",
    "  </div>\n",
    "</details>\n"
   ]
  },
  {
   "attachments": {},
   "cell_type": "markdown",
   "id": "24cfc122-91bb-468c-9c51-66059ff68852",
   "metadata": {},
   "source": [
    "# 3 Anova -> *anova*()\n",
    "\n",
    "\n",
    "*Permutation Test for Constrained Correspondence Analysis*\n",
    "\n",
    "<div style=\"padding: 10px; border:5px solid green; font-size: 13px; text-align: left;\">\n",
    "    \n",
    "> Perform a permutation test to calculate the variance explained by the model (i.e., the explanatory variables used in the ordination) and assess whether it is statistically significant (p-value < 0.005).\n",
    "    <img src=\"images/Script6_ANOVA.png\" width=\"55%\">\n",
    "</div>\n"
   ]
  },
  {
   "cell_type": "markdown",
   "id": "b1a6800d-e95d-4b7d-a974-038dcaaaef5b",
   "metadata": {},
   "source": [
    "### 3.0.1 Global ANOVA on a supervised ordination object -> ***anova**(ordination_object, permutations = how(nperm = `n`))*\n",
    "\n",
    "*RDA computation* \n",
    "\n",
    "- **`ordination_object`** → *Supervised ordination object resulted from rda() or cca()*\n",
    "- **`n`** → *number of permutations for the ANOVA (generally 999)*\n",
    "- \n",
    "**outputs :**\n",
    "\n",
    "- **Df** :\n",
    "\n",
    "  - `\"Model\"`: Degrees of freedom used by the explanatory variables (can be more than the number of variables if some are factors with multiple levels). \n",
    "  - `\"Residual\"`: Remaining degrees of freedom (number of objects - model Df - 1).\n",
    "    \n",
    "- **Variance** :\n",
    "  - `\"Model\"` : Variance explained by the model\n",
    "  - `\"Residual\"`: Variance left unexplained\n",
    "\n",
    "- **F** :\n",
    "  - `\"Model\"` : F-statistic = ratio of explained variance to unexplained variance\n",
    "  - `\"Residual\"`: NA\n",
    "\n",
    "- **Pr(>F)** :\n",
    "  - `\"Model\"` :  P-value (< 0.05 or 0.01) means the model is statistically significant.\n",
    "  - `\"Residual\"`: NA\n"
   ]
  },
  {
   "cell_type": "markdown",
   "id": "194e1e75-2306-401b-9ab4-e44ef871f102",
   "metadata": {},
   "source": [
    "## 3.1 Global ANOVA test of the RDA on `spe` using the explanatory variables from `env3`"
   ]
  },
  {
   "cell_type": "code",
   "execution_count": null,
   "id": "1cf4751d-5387-48e7-b9ee-092ab1d7278c",
   "metadata": {},
   "outputs": [],
   "source": [
    "# Global test of the RDA result\n",
    "anova(spe.rda, permutations = how(nperm = 999))"
   ]
  },
  {
   "cell_type": "markdown",
   "id": "5480eccb-93cc-4af0-9e05-641ba649db52",
   "metadata": {},
   "source": [
    "### 3.0.2 ANOVA on canonical axes of a  supervised ordination object -> ***anova**(ordination_object, by = \"axis\", permutations = how(nperm = `n`))*\n",
    "\n",
    "*RDA computation* \n",
    "\n",
    "- **`ordination_object`** → *Supervised ordination object resulted from rda() or cca()*\n",
    "- **`n`** → *number of permutations for the ANOVA (generally 999)*\n",
    "- \n",
    "**outputs :**\n",
    "\n",
    "- **Df** :\n",
    "\n",
    "  - `\"RDA1\"`: As each canonical axis corresponds to 1 degree of freedom -> 1 \n",
    "  - `\"RDAn\"`: As each canonical axis corresponds to 1 degree of freedom -> 1  \n",
    "    \n",
    "- **Variance** :\n",
    "  - `\"RDA1\"` : Variance explained by individual canonical axis\n",
    "  - `\"RDAn\"`: Variance explained by individual canonical  axis\n",
    "\n",
    "- **F** :\n",
    "  - `\"RDA1\"` : F-statistic for each axis, calculated as the ratio of variance explained by that axis to the unexplained variance.\n",
    "  - `\"RDAn\"`: F-statistic for each axis, calculated as the ratio of variance explained by that axis to the unexplained variance.\n",
    "\n",
    "- **Pr(>F)** :\n",
    "  - `\"RDA1\"` :  P-value from the permutation test for each axis. < 0.05 (or 0.01) indicates that the axis explains a statistically significant portion of the variance.\n",
    "  - `\"RDAn\"`: P-value from the permutation test for each axis. < 0.05 (or 0.01) indicates that the axis explains a statistically significant portion of the variance.\n"
   ]
  },
  {
   "cell_type": "markdown",
   "id": "252a7160-2557-4934-90ad-496ff3bb3fe4",
   "metadata": {},
   "source": [
    "## 3.2 ANOVA test of the RDA on `spe` using the explanatory variables from `env3` on all canonical axis"
   ]
  },
  {
   "cell_type": "code",
   "execution_count": null,
   "id": "8cc76bb4-702c-4586-ad04-1d0cde557cbb",
   "metadata": {},
   "outputs": [],
   "source": [
    "# Tests of all canonical axes\n",
    "anova(spe.rda, by = \"axis\", permutations = how(nperm = 999))"
   ]
  },
  {
   "cell_type": "markdown",
   "id": "81ef214d-d5a1-449a-b026-473293918130",
   "metadata": {},
   "source": [
    "# 4 VIF (Variance Inflation Factor) -> *vif.cca()*\n",
    "\n",
    "<div style=\"padding: 10px; border:5px solid green; font-size: 19px; text-align: left;\">\n",
    "    \n",
    "> Calculate the Variance Inflation Factor (VIF) for each explanatory variable to detect multicollinearity. Variables with VIF > 10 may indicate problematic collinearity. <br><br><br>\n",
    "    <img src=\"images/Script6_VIF.png\" width=\"45%\">\n",
    "</div>\n"
   ]
  },
  {
   "cell_type": "markdown",
   "id": "8277c88e-0863-47d4-a663-65bfa3eca4ba",
   "metadata": {},
   "source": [
    "### 4.0.1 VIF (Variance Inflation Factor)  of a  supervised ordination object -> ***vif.cca**(ordination_object)*\n",
    "\n",
    "*VIF computation* \n",
    "\n",
    "- **`ordination_object`** → *Supervised ordination object resulted from rda() or cca()*\n",
    "\n",
    "  \n",
    "**outputs :**\n",
    "\n",
    "- **variable** : VIF value \n"
   ]
  },
  {
   "cell_type": "markdown",
   "id": "e4f00e89-0b9b-4789-b693-0236458f5aa9",
   "metadata": {},
   "source": [
    "# 4.1 VIF of the RDA for the `spe` dataset with the `env3` variables"
   ]
  },
  {
   "cell_type": "code",
   "execution_count": null,
   "id": "50fd1ece-1e58-424b-9836-7f74fe64675a",
   "metadata": {},
   "outputs": [],
   "source": [
    "# Variance inflation factors (VIF) for each explanatory variables of the RDA\n",
    "vif.cca(spe.rda)"
   ]
  },
  {
   "cell_type": "markdown",
   "id": "897527fa-3989-4b6b-aa82-b29a08887fe9",
   "metadata": {},
   "source": [
    "# 5 Partial Redundancy analysis (PRDA) -> *rda()*"
   ]
  },
  {
   "cell_type": "markdown",
   "id": "e23d215b-b6b0-4b92-b8ca-1d57281b21aa",
   "metadata": {},
   "source": [
    "> The **partial RDA** is a method used to **assess** how much a set of **explanatory variables** **explains** the variation in **species data**, while **controlling for** the effect of other variables. It **quantifies** the **pure effect** of the variables of interest by **removing** the influence of the **conditioning variables**."
   ]
  },
  {
   "cell_type": "markdown",
   "id": "a1fddd91-aa82-45ae-a755-92327e5fe2b1",
   "metadata": {},
   "source": [
    "### 5.0.1 Partial RDA computation based on a dataframe and explanatory variables -> :\n",
    "\n",
    "***rda**( df ~ df_env_interest, df_env_removed,scale = `TRUE/FALSE`)*\n",
    "\n",
    "***rda**(df ~ var1 + var2 + ... + varn + Condition(var_contr1 + .. + var_contrn), data = df_env)*\n",
    "\n",
    "\n",
    "\n",
    "*Partial RDA computation* \n",
    "\n",
    "- **`df`** → *Dataframe with the objects (freqeuncy table)*\n",
    "- **`df_env_interest`** → *Dataframe with the explanatory variables of interest*  \n",
    "- **`~ df_env_removed`** → *Selected environmental variables used as explanatory variables in the model*\n",
    "- **`var1 +..+ varn`** → *variables to  isolate*\n",
    "- **`var_contr1 +...+ var_contrn`** → *variable to control*  \n",
    "- **`~ df_env`** → *Dataframe with the explanatory variables (environnemntal parameters)*  \n",
    "- **`TRUE/FALSE`** → *Argument scale*:  \n",
    "  - `\"TRUE\"`:  variables are standardized \n",
    "  - `\"FALSE\"`: variables are not standardized\n",
    " \n",
    "**outputs** : \n",
    "\n",
    "- **Inertia (explained variance)** :\n",
    "\n",
    "  - `\"Total\"`: Total variance explained by all variables \n",
    "  - `\"Unconstrained\"`: Total variance explained, when the ordination is an unconstrained analysis\n",
    "  - `\"Constrained\"`: Total variance explained, when the ordination is an constrained analysis\n",
    "  - `\"Conditionned\"`: Variance explained by the variables that are “controlled”\n",
    "\n",
    "    \n",
    "- **Proportion** :\n",
    "  - `\"Total\"` : proportion total explained (1)\n",
    "  - `\"Unconstrained\"`: porportion of the variance explained when the ordinatio is nan unconstrained analysis\n",
    "  - `\"Constrained\"`:  porportion of the variance explained when the ordination is an constrained analysis\n",
    "  - `\"Conditionned\"`:  porportion of the Variance explained by the variables that are “controlled”"
   ]
  },
  {
   "cell_type": "markdown",
   "id": "a1a9c443-8fe4-4586-883e-2cde5b94dee1",
   "metadata": {},
   "source": [
    "## 5.1 Comparing Normal and Partial RDA: Isolating the Effect of Water Chemistry"
   ]
  },
  {
   "cell_type": "code",
   "execution_count": null,
   "id": "8e37973c-004f-4bf7-90be-636b5501ec69",
   "metadata": {},
   "outputs": [],
   "source": [
    "## \"normal\" Constrained RDA: effect of water chemistry\n",
    "spe.chem.rda <- rda(spe.hel, envchem) # Analyzes the total effect of water chemistry on species.\n",
    "summary(spe.chem.rda) \n",
    "\n",
    "## Partial RDA: effect of water chemistry, holding topography constant (=factoring out topography)\n",
    "spe.chem.physio.rda<-rda(spe.hel, envchem, envtopo) # Analyzes the pure effect of chemistry by removing the effect of topography (elevation, slope, distance).\n",
    "summary(spe.chem.physio.rda)\n",
    "\n",
    "# Partial RDA: effect of water chemistry, holding topography constant (=factoring out topography)\n",
    "spe.chem.physio.rda.2 <- rda(spe.hel ~ pH + har + pho + nit + amm + oxy + bod + Condition(ele + slo + dis), data = env2)  # Analyzes the pure effect of chemistry by removing the effect of topography (elevation, slope, distance).\n",
    "summary(spe.chem.physio.rda.2)"
   ]
  },
  {
   "cell_type": "markdown",
   "id": "f80000c6-7d9c-4720-94de-d07f3e679897",
   "metadata": {},
   "source": [
    "## 5.2 Comparing plots of Normal and Partial RDA: Isolating the Effect of Water Chemistry"
   ]
  },
  {
   "cell_type": "code",
   "execution_count": null,
   "id": "bb2b460d-5c35-4781-a9de-0ed36a32d123",
   "metadata": {},
   "outputs": [],
   "source": [
    "# Set plot size in Jupyter Notebook (17 x 7 inches)\n",
    "options(repr.plot.width = 17, repr.plot.height = 7)\n",
    "\n",
    "## Plot Normal RDA and Partial RDA side by side\n",
    "par(mfrow = c(1, 2)) \n",
    "\n",
    "## \"Normal\" Constrained RDA: effect of water chemistry\n",
    "plot(spe.chem.rda, main = \"Normal RDA: Water Chemistry\")  \n",
    "\n",
    "## Partial RDA: effect of water chemistry while holding topography constant\n",
    "plot(spe.chem.physio.rda, main = \"Partial RDA: Controlling for Topography\")  "
   ]
  },
  {
   "cell_type": "markdown",
   "id": "67f1a0e1-c9fb-453a-b19b-975f8ab05254",
   "metadata": {},
   "source": [
    "## 5.3 ANOVA of the partial RDA Model and Its Canonical Axes"
   ]
  },
  {
   "cell_type": "code",
   "execution_count": 7,
   "id": "4ba5487e-a3a1-4fc2-ae67-3f7fe55634d3",
   "metadata": {
    "execution": {
     "iopub.execute_input": "2025-08-07T07:48:46.831910Z",
     "iopub.status.busy": "2025-08-07T07:48:46.827724Z",
     "iopub.status.idle": "2025-08-07T07:48:48.360894Z",
     "shell.execute_reply": "2025-08-07T07:48:48.359188Z"
    }
   },
   "outputs": [
    {
     "data": {
      "text/html": [
       "<table class=\"dataframe\">\n",
       "<caption>A anova.cca: 2 × 4</caption>\n",
       "<thead>\n",
       "\t<tr><th></th><th scope=col>Df</th><th scope=col>Variance</th><th scope=col>F</th><th scope=col>Pr(&gt;F)</th></tr>\n",
       "\t<tr><th></th><th scope=col>&lt;dbl&gt;</th><th scope=col>&lt;dbl&gt;</th><th scope=col>&lt;dbl&gt;</th><th scope=col>&lt;dbl&gt;</th></tr>\n",
       "</thead>\n",
       "<tbody>\n",
       "\t<tr><th scope=row>Model</th><td> 7</td><td>0.1602319</td><td>3.083622</td><td>0.001</td></tr>\n",
       "\t<tr><th scope=row>Residual</th><td>18</td><td>0.1336171</td><td>      NA</td><td>   NA</td></tr>\n",
       "</tbody>\n",
       "</table>\n"
      ],
      "text/latex": [
       "A anova.cca: 2 × 4\n",
       "\\begin{tabular}{r|llll}\n",
       "  & Df & Variance & F & Pr(>F)\\\\\n",
       "  & <dbl> & <dbl> & <dbl> & <dbl>\\\\\n",
       "\\hline\n",
       "\tModel &  7 & 0.1602319 & 3.083622 & 0.001\\\\\n",
       "\tResidual & 18 & 0.1336171 &       NA &    NA\\\\\n",
       "\\end{tabular}\n"
      ],
      "text/markdown": [
       "\n",
       "A anova.cca: 2 × 4\n",
       "\n",
       "| <!--/--> | Df &lt;dbl&gt; | Variance &lt;dbl&gt; | F &lt;dbl&gt; | Pr(&gt;F) &lt;dbl&gt; |\n",
       "|---|---|---|---|---|\n",
       "| Model |  7 | 0.1602319 | 3.083622 | 0.001 |\n",
       "| Residual | 18 | 0.1336171 |       NA |    NA |\n",
       "\n"
      ],
      "text/plain": [
       "         Df Variance  F        Pr(>F)\n",
       "Model     7 0.1602319 3.083622 0.001 \n",
       "Residual 18 0.1336171       NA    NA "
      ]
     },
     "metadata": {},
     "output_type": "display_data"
    },
    {
     "data": {
      "text/html": [
       "<table class=\"dataframe\">\n",
       "<caption>A anova.cca: 8 × 4</caption>\n",
       "<thead>\n",
       "\t<tr><th></th><th scope=col>Df</th><th scope=col>Variance</th><th scope=col>F</th><th scope=col>Pr(&gt;F)</th></tr>\n",
       "\t<tr><th></th><th scope=col>&lt;dbl&gt;</th><th scope=col>&lt;dbl&gt;</th><th scope=col>&lt;dbl&gt;</th><th scope=col>&lt;dbl&gt;</th></tr>\n",
       "</thead>\n",
       "<tbody>\n",
       "\t<tr><th scope=row>RDA1</th><td> 1</td><td>0.091363167</td><td>12.3078295</td><td>0.001</td></tr>\n",
       "\t<tr><th scope=row>RDA2</th><td> 1</td><td>0.045904268</td><td> 6.1839133</td><td>0.013</td></tr>\n",
       "\t<tr><th scope=row>RDA3</th><td> 1</td><td>0.009276688</td><td> 1.2496928</td><td>0.962</td></tr>\n",
       "\t<tr><th scope=row>RDA4</th><td> 1</td><td>0.006250462</td><td> 0.8420200</td><td>0.986</td></tr>\n",
       "\t<tr><th scope=row>RDA5</th><td> 1</td><td>0.003867825</td><td> 0.5210473</td><td>0.999</td></tr>\n",
       "\t<tr><th scope=row>RDA6</th><td> 1</td><td>0.002144963</td><td> 0.2889550</td><td>1.000</td></tr>\n",
       "\t<tr><th scope=row>RDA7</th><td> 1</td><td>0.001424497</td><td> 0.1918987</td><td>   NA</td></tr>\n",
       "\t<tr><th scope=row>Residual</th><td>18</td><td>0.133617142</td><td>        NA</td><td>   NA</td></tr>\n",
       "</tbody>\n",
       "</table>\n"
      ],
      "text/latex": [
       "A anova.cca: 8 × 4\n",
       "\\begin{tabular}{r|llll}\n",
       "  & Df & Variance & F & Pr(>F)\\\\\n",
       "  & <dbl> & <dbl> & <dbl> & <dbl>\\\\\n",
       "\\hline\n",
       "\tRDA1 &  1 & 0.091363167 & 12.3078295 & 0.001\\\\\n",
       "\tRDA2 &  1 & 0.045904268 &  6.1839133 & 0.013\\\\\n",
       "\tRDA3 &  1 & 0.009276688 &  1.2496928 & 0.962\\\\\n",
       "\tRDA4 &  1 & 0.006250462 &  0.8420200 & 0.986\\\\\n",
       "\tRDA5 &  1 & 0.003867825 &  0.5210473 & 0.999\\\\\n",
       "\tRDA6 &  1 & 0.002144963 &  0.2889550 & 1.000\\\\\n",
       "\tRDA7 &  1 & 0.001424497 &  0.1918987 &    NA\\\\\n",
       "\tResidual & 18 & 0.133617142 &         NA &    NA\\\\\n",
       "\\end{tabular}\n"
      ],
      "text/markdown": [
       "\n",
       "A anova.cca: 8 × 4\n",
       "\n",
       "| <!--/--> | Df &lt;dbl&gt; | Variance &lt;dbl&gt; | F &lt;dbl&gt; | Pr(&gt;F) &lt;dbl&gt; |\n",
       "|---|---|---|---|---|\n",
       "| RDA1 |  1 | 0.091363167 | 12.3078295 | 0.001 |\n",
       "| RDA2 |  1 | 0.045904268 |  6.1839133 | 0.013 |\n",
       "| RDA3 |  1 | 0.009276688 |  1.2496928 | 0.962 |\n",
       "| RDA4 |  1 | 0.006250462 |  0.8420200 | 0.986 |\n",
       "| RDA5 |  1 | 0.003867825 |  0.5210473 | 0.999 |\n",
       "| RDA6 |  1 | 0.002144963 |  0.2889550 | 1.000 |\n",
       "| RDA7 |  1 | 0.001424497 |  0.1918987 |    NA |\n",
       "| Residual | 18 | 0.133617142 |         NA |    NA |\n",
       "\n"
      ],
      "text/plain": [
       "         Df Variance    F          Pr(>F)\n",
       "RDA1      1 0.091363167 12.3078295 0.001 \n",
       "RDA2      1 0.045904268  6.1839133 0.013 \n",
       "RDA3      1 0.009276688  1.2496928 0.962 \n",
       "RDA4      1 0.006250462  0.8420200 0.986 \n",
       "RDA5      1 0.003867825  0.5210473 0.999 \n",
       "RDA6      1 0.002144963  0.2889550 1.000 \n",
       "RDA7      1 0.001424497  0.1918987    NA \n",
       "Residual 18 0.133617142         NA    NA "
      ]
     },
     "metadata": {},
     "output_type": "display_data"
    }
   ],
   "source": [
    "# Global test of the partial RDA model significance\n",
    "anova(spe.chem.physio.rda.2, permutations = how(nperm = 999))\n",
    "\n",
    "# Test of the significance of each partial RDA axis\n",
    "anova(spe.chem.physio.rda.2, permutations = how(nperm = 999), by = \"axis\")"
   ]
  },
  {
   "cell_type": "markdown",
   "id": "fad23639-78c5-4ad4-ab84-9f5ee54bec6c",
   "metadata": {},
   "source": [
    "## 5.4 VIF Analysis of the Partial RDA Model"
   ]
  },
  {
   "cell_type": "code",
   "execution_count": 8,
   "id": "038f8342-5fc3-4b86-8f99-907c87fb022c",
   "metadata": {
    "execution": {
     "iopub.execute_input": "2025-08-07T07:48:50.530653Z",
     "iopub.status.busy": "2025-08-07T07:48:50.526405Z",
     "iopub.status.idle": "2025-08-07T07:48:50.557367Z",
     "shell.execute_reply": "2025-08-07T07:48:50.555592Z"
    }
   },
   "outputs": [
    {
     "data": {
      "text/html": [
       "<style>\n",
       ".dl-inline {width: auto; margin:0; padding: 0}\n",
       ".dl-inline>dt, .dl-inline>dd {float: none; width: auto; display: inline-block}\n",
       ".dl-inline>dt::after {content: \":\\0020\"; padding-right: .5ex}\n",
       ".dl-inline>dt:not(:first-of-type) {padding-left: .5ex}\n",
       "</style><dl class=dl-inline><dt>ele</dt><dd>16.1819246727149</dd><dt>slo</dt><dd>1.87358928527648</dd><dt>dis</dt><dd>6.71225380567237</dd><dt>pH</dt><dd>1.20515893009142</dd><dt>har</dt><dd>3.26818605767824</dd><dt>pho</dt><dd>25.3540115831807</dd><dt>nit</dt><dd>16.0664496247178</dd><dt>amm</dt><dd>30.6962385452357</dd><dt>oxy</dt><dd>6.90047695827361</dd><dt>bod</dt><dd>17.7811241244038</dd></dl>\n"
      ],
      "text/latex": [
       "\\begin{description*}\n",
       "\\item[ele] 16.1819246727149\n",
       "\\item[slo] 1.87358928527648\n",
       "\\item[dis] 6.71225380567237\n",
       "\\item[pH] 1.20515893009142\n",
       "\\item[har] 3.26818605767824\n",
       "\\item[pho] 25.3540115831807\n",
       "\\item[nit] 16.0664496247178\n",
       "\\item[amm] 30.6962385452357\n",
       "\\item[oxy] 6.90047695827361\n",
       "\\item[bod] 17.7811241244038\n",
       "\\end{description*}\n"
      ],
      "text/markdown": [
       "ele\n",
       ":   16.1819246727149slo\n",
       ":   1.87358928527648dis\n",
       ":   6.71225380567237pH\n",
       ":   1.20515893009142har\n",
       ":   3.26818605767824pho\n",
       ":   25.3540115831807nit\n",
       ":   16.0664496247178amm\n",
       ":   30.6962385452357oxy\n",
       ":   6.90047695827361bod\n",
       ":   17.7811241244038\n",
       "\n"
      ],
      "text/plain": [
       "      ele       slo       dis        pH       har       pho       nit       amm \n",
       "16.181925  1.873589  6.712254  1.205159  3.268186 25.354012 16.066450 30.696239 \n",
       "      oxy       bod \n",
       " 6.900477 17.781124 "
      ]
     },
     "metadata": {},
     "output_type": "display_data"
    }
   ],
   "source": [
    "# VIF of Partial RDA \n",
    "vif.cca(spe.chem.physio.rda.2)"
   ]
  },
  {
   "cell_type": "markdown",
   "id": "1cb69792-69f2-4de0-8e98-cb3451a9b3f3",
   "metadata": {},
   "source": [
    "# 4 selection of variables -> *ordistep*()"
   ]
  },
  {
   "cell_type": "markdown",
   "id": "3f52ebf5-113b-473e-ad00-2834d16e197d",
   "metadata": {},
   "source": [
    "### 4.0.1 Forward and Backward selction of explanatory variables -> ordistep(ordination_object, scope =, direction = , permutations = how(nperm = `n`):\n",
    "\n",
    "*Partial RDA computation* \n",
    "\n",
    "- **`ordination_object`** → *Ordination object resulting from cca() or rda()*\n",
    "- **`scope = `** → *Dataframe with the explanatory variables of interest*  \n",
    "- **`direction = `** → *Selected environmental variables used as explanatory variables in the model*\n",
    "- **`n`** → *variables to  isolate*\n",
    "  \n",
    "**outputs** : \n",
    "\n",
    "- **Inertia (explained variance)** :\n",
    "\n",
    "  - `\"Total\"`: Total variance explained by all variables \n",
    "  - `\"Unconstrained\"`: Total variance explained, when the ordination is an unconstrained analysis\n",
    "  - `\"Constrained\"`: Total variance explained, when the ordination is an constrained analysis\n",
    "  - `\"Conditionned\"`: Variance explained by the variables that are “controlled”\n",
    "\n",
    "    \n",
    "- **Proportion** :\n",
    "  - `\"Total\"` : proportion total explained (1)\n",
    "  - `\"Unconstrained\"`: porportion of the variance explained when the ordinatio is nan unconstrained analysis\n",
    "  - `\"Constrained\"`:  porportion of the variance explained when the ordination is an constrained analysis\n",
    "  - `\"Conditionned\"`:  porportion of the Variance explained by the variables that are “controlled”"
   ]
  },
  {
   "cell_type": "code",
   "execution_count": null,
   "id": "5c3adc33-462d-412f-af6d-8e707e395d57",
   "metadata": {},
   "outputs": [],
   "source": [
    "## Selection of explanatory variables\n",
    "\n",
    "# RDA with all explanatory variables except dfs\n",
    "spe.rda.all <- rda(spe.hel ~ ., data = env2)\n",
    "\n",
    "\n",
    "# Forward selection of variables\n",
    "?ordistep\n",
    "mod0 <- rda(spe.hel ~ 1, data = env2) # starting with unconstrained RDA\n",
    "summary(mod0)\n",
    "step.forward <- ordistep(mod0, scope = formula(spe.rda.all), direction = \"forward\", permutations = how(nperm = 999))\n",
    "\n",
    "\n",
    "# Backward selection \n",
    "step.backward <-ordistep(spe.rda.all, permutations = how(nperm = 999))\n",
    "RsquareAdj(step.backward)\n",
    "\n",
    "\n",
    "# Partial forward selection with variable slo held constant\n",
    "mod0p <- rda(spe.hel ~ Condition(slo), data = env2)\n",
    "mod1p <- rda(spe.hel ~ . + Condition(slo), data = env2)\n",
    "step.p.forward <- ordiR2step(mod0p, scope = formula(mod1p), direction = \"forward\", permutations = how(nperm = 999))"
   ]
  },
  {
   "cell_type": "code",
   "execution_count": null,
   "id": "0be626f4-838f-4b2c-830d-c3cebae92a65",
   "metadata": {},
   "outputs": [],
   "source": [
    "# Global adjusted R^2\n",
    "(R2a.all <- RsquareAdj(spe.rda.all)$adj.r.squared)\n",
    "\n",
    "#Global adjusted R^2 for the stepforward\n",
    "RsquareAdj(step.forward)"
   ]
  },
  {
   "cell_type": "markdown",
   "id": "7d9a31dc-e763-4043-9b30-221567603b7e",
   "metadata": {},
   "source": [
    "# 6 Canonical Correspondence Analysis (CCA)"
   ]
  },
  {
   "cell_type": "code",
   "execution_count": null,
   "id": "65034150-40f2-419c-ac78-6888e26a8dbc",
   "metadata": {},
   "outputs": [],
   "source": [
    "# Canonical correspondence analysis (CCA) =========================\n",
    "\n",
    "## CCA of untransformed fish species data, constrained by all environmental variables (env3)\n",
    "spe.cca <- cca(spe ~ ., env3)\n",
    "summary(spe.cca)\t# Scaling 2 (default)\n",
    "\n",
    "# adjusted R^2\n",
    "RsquareAdj(spe.cca)\n",
    "\n",
    "## CCA triplots (using lc site scores)\n",
    "par(mfrow = c(1, 2))\n",
    "# Default scaling 2: site scores scaled to the relative eigenvalues\n",
    "plot(spe.cca, display = c(\"sp\", \"lc\", \"cn\"), main = \"Triplot CCA - scaling 2\")\n",
    "\n",
    "# Scaling 1: species scores scaled to the relative eigenvalues\n",
    "plot(spe.cca,  scaling = 1, display = c(\"sp\", \"lc\", \"cn\"), main = \"Triplot CCA - scaling 1\")\n",
    "\n",
    "\n",
    "# Permutation test of the overall analysis\n",
    "anova(spe.cca, permutations = how(nperm = 999))\n",
    "\n",
    "# Permutation test of each axis\n",
    "anova(spe.cca, by = \"axis\", permutations = how(nperm = 999))\n",
    "\n",
    "\n",
    "## Forward selection for cca\n",
    "cca.step.forward <- ordistep(cca(spe ~ 1, data = env3), scope = formula(spe.cca), direction = \"forward\", permutations = how(nperm = 199))\n",
    "\n",
    "\n",
    "## Parsimonious CCA using ele, oxy and bod\n",
    "spe.cca.pars <- cca(spe ~ ele + oxy + bod, data = env3)\n",
    "  anova(spe.cca.pars, permutations = how(nperm = 999))\n",
    "anova(spe.cca.pars, permutations = how(nperm = 999), by = \"axis\")\n",
    "RsquareAdj(spe.cca.pars)\n",
    "\n",
    "# Compare variance inflation factors\n",
    "vif.cca(spe.cca) #initial CCA\n",
    "vif.cca(spe.cca.pars) #parsimonious CCA"
   ]
  }
 ],
 "metadata": {
  "kernelspec": {
   "display_name": "R",
   "language": "R",
   "name": "ir"
  },
  "language_info": {
   "codemirror_mode": "r",
   "file_extension": ".r",
   "mimetype": "text/x-r-source",
   "name": "R",
   "pygments_lexer": "r",
   "version": "4.4.1"
  }
 },
 "nbformat": 4,
 "nbformat_minor": 5
}
