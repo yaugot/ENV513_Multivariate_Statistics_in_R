{
 "cells": [
  {
   "cell_type": "markdown",
   "id": "9ec8c60e-a7dc-42ca-9ec6-7d8da7fcdfa9",
   "metadata": {
    "execution": {
     "iopub.execute_input": "2025-06-26T08:27:16.245295Z",
     "iopub.status.busy": "2025-06-26T08:27:16.236217Z",
     "iopub.status.idle": "2025-06-26T08:27:17.317437Z",
     "shell.execute_reply": "2025-06-26T08:27:17.314292Z"
    }
   },
   "source": [
    "# Script 3 -  unsupervised clustering"
   ]
  },
  {
   "cell_type": "markdown",
   "id": "68c8feda-641f-4026-be49-2332bb9833af",
   "metadata": {},
   "source": [
    "<div style=\"padding: 20px; border:4px solid green; font-size: 20px; text-align: center;\">\n",
    "  <img src=\"images/Script3_unsupervised_clustering_illustration.png\" alt=\"Data Transformation\" style=\"max-width: 100%; height: auto;\" />\n",
    "</div>\n"
   ]
  },
  {
   "cell_type": "markdown",
   "id": "e62cd162-4307-4316-9730-d765a7bc4f5a",
   "metadata": {},
   "source": [
    "*Source : MathWorks, What Is Unsupervised Learning?, MATLAB & Simulink, accessed in 2025. [https://uk.mathworks.com/discovery/unsupervised-learning.html](https://uk.mathworks.com/discovery/unsupervised-learning.html)*\n"
   ]
  },
  {
   "cell_type": "markdown",
   "id": "a6861975-3a1b-4f17-ae2e-66f882106a04",
   "metadata": {},
   "source": [
    "<div style=\"padding: 30px; border:5px solid purple; font-size: 10px;\">\n",
    "  <span style=\"font-size: 15px;\">\n",
    "    <i>⚠️ The cell below is not mandatory to run: the required libraries are already installed in this notebook, and reinstalling them may take a long time.</i>\n",
    "  </span><br/>\n",
    "</div>\n"
   ]
  },
  {
   "cell_type": "code",
   "execution_count": null,
   "id": "fd28eca2-d9b5-4a86-b767-2be5521e916b",
   "metadata": {},
   "outputs": [],
   "source": [
    "install.packages(\"NbClust\")"
   ]
  },
  {
   "cell_type": "markdown",
   "id": "8b09d734-fa17-439e-80bd-2befb5f45fea",
   "metadata": {},
   "source": [
    "# Librairies"
   ]
  },
  {
   "cell_type": "code",
   "execution_count": 3,
   "id": "4535f0b9-863e-4c11-a7c9-b339fb503810",
   "metadata": {
    "execution": {
     "iopub.execute_input": "2025-09-19T15:34:04.495563Z",
     "iopub.status.busy": "2025-09-19T15:34:04.493922Z",
     "iopub.status.idle": "2025-09-19T15:34:05.615527Z",
     "shell.execute_reply": "2025-09-19T15:34:05.613747Z"
    }
   },
   "outputs": [
    {
     "name": "stderr",
     "output_type": "stream",
     "text": [
      "Loading required package: permute\n",
      "\n"
     ]
    }
   ],
   "source": [
    "# Load required packages\n",
    "library(vegan)\n",
    "library(NbClust)"
   ]
  },
  {
   "cell_type": "markdown",
   "id": "e1c8dc90-f13e-483b-b801-2efc7c38bf9d",
   "metadata": {},
   "source": [
    "# Loading data"
   ]
  },
  {
   "cell_type": "markdown",
   "id": "0c4c58ec-d5a6-47b6-a466-c6d78b7173e5",
   "metadata": {},
   "source": [
    "<div style=\"padding: 10px; border:1px solid green; font-size: 10px;\">\n",
    "  <span style=\"font-size: 15px;\"> <i>Loading the data from Doubs</i> </span><br/>\n",
    "</div>\n"
   ]
  },
  {
   "cell_type": "code",
   "execution_count": 2,
   "id": "cbfcfe4b-8f5a-408b-a59e-96f0fb9ddcd7",
   "metadata": {
    "execution": {
     "iopub.execute_input": "2025-09-19T15:34:02.956978Z",
     "iopub.status.busy": "2025-09-19T15:34:02.926834Z",
     "iopub.status.idle": "2025-09-19T15:34:02.975428Z",
     "shell.execute_reply": "2025-09-19T15:34:02.973346Z"
    }
   },
   "outputs": [],
   "source": [
    "# load data ---------------------------------------------------------------\n",
    "load(\"Doubs.RData\")  "
   ]
  },
  {
   "cell_type": "markdown",
   "id": "7e16f9d2-add6-44f6-b74c-93e73e43b517",
   "metadata": {},
   "source": [
    "# 0 Selection of a resemblance criteria -> ***(Dis) similarity** or **distance matrix***\n",
    "\n",
    "- **Unsupervised clustering** is  used to **identify natural groupings** or gradients in a dataset **without any prior assumptions or labels**. </br>\n",
    "\n",
    "- The **results** are entirely **driven** by the **internal structure** of the data and can vary depending on the **chosen similarity/distance metric** and **clustering algorithm**. </br></br>\n",
    "\n",
    "<div align=\"center\"> \n",
    "  <h1 style=\"font-size: 15pt;\">\n",
    "    The first step is to select an appropriate <b>resemblance criterion</b>, \n",
    "    such as a <span style=\"color:red\">dissimilarity or distance measure</span>, \n",
    "    to capture how similar or different the objects are.\n",
    "  </h1> \n",
    "</div>\n"
   ]
  },
  {
   "cell_type": "markdown",
   "id": "ecc1bffc-ed2d-4528-9e20-dfb80b74ba11",
   "metadata": {},
   "source": [
    "## 0.1 Data processing : remove empty sites "
   ]
  },
  {
   "cell_type": "code",
   "execution_count": 4,
   "id": "3fbb94d9-5273-4969-9bac-3d07921c53c0",
   "metadata": {
    "execution": {
     "iopub.execute_input": "2025-09-19T15:34:09.356226Z",
     "iopub.status.busy": "2025-09-19T15:34:09.354630Z",
     "iopub.status.idle": "2025-09-19T15:34:09.373829Z",
     "shell.execute_reply": "2025-09-19T15:34:09.372038Z"
    }
   },
   "outputs": [],
   "source": [
    "# Remove empty site 8\n",
    "spe <- spe[-8, ]\n",
    "env <- env[-8, ]\n",
    "spa <- spa[-8, ]\n",
    "latlong <- latlong[-8, ]"
   ]
  },
  {
   "cell_type": "markdown",
   "id": "d5e0fadf-5326-4782-922f-e311fa09879d",
   "metadata": {},
   "source": [
    "## 0.2 Compute chord distance matrix "
   ]
  },
  {
   "cell_type": "code",
   "execution_count": 5,
   "id": "3e2679e0-2b9c-4ae3-abb0-a95a7338e543",
   "metadata": {
    "execution": {
     "iopub.execute_input": "2025-09-19T15:34:12.507183Z",
     "iopub.status.busy": "2025-09-19T15:34:12.505637Z",
     "iopub.status.idle": "2025-09-19T15:34:12.524133Z",
     "shell.execute_reply": "2025-09-19T15:34:12.522427Z"
    }
   },
   "outputs": [],
   "source": [
    "# Compute matrix of euclidian distances of the normalized datas among sites\n",
    "spe.norm <- decostand(spe, \"normalize\") # normalize datas\n",
    "spe.ch <- vegdist(spe.norm, \"euc\") # calculate the chord distance matrix"
   ]
  },
  {
   "cell_type": "markdown",
   "id": "c8a2b288-02e0-4006-bbf9-a69bcc2411c9",
   "metadata": {},
   "source": [
    "## 0.3 Showing chord distance matrix with dendograms"
   ]
  },
  {
   "cell_type": "code",
   "execution_count": null,
   "id": "12328f55-0209-48d5-a389-f91fc842b4d2",
   "metadata": {},
   "outputs": [],
   "source": [
    "# Set plot size in Jupyter Notebook (10 x 8 inches)\n",
    "options(repr.plot.width = 10, repr.plot.height = 8)\n",
    "heatmap(as.matrix(spe.ch))"
   ]
  },
  {
   "cell_type": "markdown",
   "id": "d920309a-dfe7-4d13-b615-7e5b7df4c128",
   "metadata": {},
   "source": [
    "# 1  Hierarchical agglomerative clustering \n",
    "\n",
    "- maintain hierarchy of similarity within group"
   ]
  },
  {
   "cell_type": "markdown",
   "id": "001a18e0-f63d-42fb-a005-3de56b0596b9",
   "metadata": {
    "execution": {
     "iopub.execute_input": "2025-06-26T08:56:58.465458Z",
     "iopub.status.busy": "2025-06-26T08:56:58.460717Z",
     "iopub.status.idle": "2025-06-26T08:56:58.517544Z",
     "shell.execute_reply": "2025-06-26T08:56:58.506676Z"
    }
   },
   "source": [
    "<div style=\"padding: 20px; border:4px solid green;\">\n",
    "    <h1 style=\"text-align:center; font-size:24px; margin-bottom:10px;\">\n",
    "        1 Hierarchical agglomerative clustering\n",
    "    </h1>\n",
    "    <div style=\"display: flex; justify-content: space-between;\">\n",
    "        <img src=\"images/Script3_unsupervised_clustering_allongee.png\" width=\"95%\">\n",
    "    </div>\n",
    "</div>\n"
   ]
  },
  {
   "cell_type": "markdown",
   "id": "1fbe95cf-baf2-43f1-ab1f-ae1232f98cea",
   "metadata": {},
   "source": [
    "## 1.0 Compute and plot hierarchical clustering"
   ]
  },
  {
   "cell_type": "markdown",
   "id": "13fe698e-e031-4e6e-bbb5-401d643a9b37",
   "metadata": {},
   "source": [
    "### 1.0.1 Hierarchical clustering computation -> ***hclust**( `df_dist`, `method`=)*\n",
    "\n",
    "*Performs hierarchical cluster analysis on a distance matrix.* \n",
    "\n",
    "- **`df_dist`** → *Distance matrix*  \n",
    "- **`method`** → *Agglomeration method*:  \n",
    "  - `\"complete\"`: Complete linkage (default)  \n",
    "  - `\"single\"`: Single linkage  \n",
    "  - `\"average\"`: UPGMA (Unweighted Pair Group Method with Arithmetic mean)  \n",
    "  - `\"ward.D2\"`: Ward's minimum variance method"
   ]
  },
  {
   "cell_type": "markdown",
   "id": "709ef702-4560-440f-9206-56c61d78eeb2",
   "metadata": {},
   "source": [
    "### 1.0.2 Dendrogram Visualization → ***plot**( `hc`, `hang`, `cex`, `main`, `xlab`, `ylab`,`sub`,`horiz`)*\n",
    "\n",
    "*Plots hierarchical clustering dendrograms with customizable formatting.*\n",
    "\n",
    "- **hc** : *hclust object*\n",
    "- **hang** : *Leaf heights*\n",
    "- **cex** : *label size*\n",
    "- **main** : *Title*\n",
    "- **xlab** : X-axis label\n",
    "- **ylab** : y-axis label\n",
    "- **sub** : `Null`/`\"Subtitle\"` Subtitle\n",
    "- **horiz** : `False`/`True` *horizontal plot*"
   ]
  },
  {
   "cell_type": "markdown",
   "id": "ec497aff-dee8-4143-9f45-e3c34fc4156a",
   "metadata": {},
   "source": [
    "## 1.1 Single linkage agglomerative clustering -> *hclust(`df_dist`,method =\"`single`\")*"
   ]
  },
  {
   "cell_type": "markdown",
   "id": "17b23b0e-560a-4b63-a8dc-35d9eafc0cf0",
   "metadata": {
    "execution": {
     "iopub.execute_input": "2025-06-26T09:58:39.278926Z",
     "iopub.status.busy": "2025-06-26T09:58:39.273761Z",
     "iopub.status.idle": "2025-06-26T09:58:39.302990Z",
     "shell.execute_reply": "2025-06-26T09:58:39.300917Z"
    }
   },
   "source": [
    "<div style=\"padding: 10px; border:5px solid blue; font-size: 10px; text-align: center;\">\n",
    "    <div style=\"margin-top: 0px; margin-bottom: 40px; font-size: 22px; font-weight: bold;\">\n",
    "       <span style=\"color: blue;\">Single Linkage</span>\n",
    "    </div>\n",
    "    <img src=\"images/Single Linkage_1.png\" width=\"35%\">\n",
    "    <img src=\"images/Single Linkage.png\" width=\"35%\">\n",
    "    <div style=\"margin-top: 20px; font-size: 22px; font-weight: bold;\">\n",
    "        Distance between clusters is defined by the <span style=\"color: blue;\">distance</span> between their \n",
    "        <span style=\"color: blue;\">closest</span> \n",
    "        <span style=\"color: blue;\">members</span>.\n",
    "    </div>\n",
    "</div>\n"
   ]
  },
  {
   "cell_type": "code",
   "execution_count": 6,
   "id": "5b73fde0-a786-471f-9852-116373b25fd0",
   "metadata": {
    "execution": {
     "iopub.execute_input": "2025-09-19T15:34:20.235520Z",
     "iopub.status.busy": "2025-09-19T15:34:20.233826Z",
     "iopub.status.idle": "2025-09-19T15:34:21.063587Z",
     "shell.execute_reply": "2025-09-19T15:34:21.061480Z"
    }
   },
   "outputs": [
    {
     "data": {
      "image/png": "[encoded data removed]",
      "text/plain": [
       "Plot with title “Chord - Single linkage”"
      ]
     },
     "metadata": {
      "image/png": {
       "height": 480,
       "width": 600
      }
     },
     "output_type": "display_data"
    }
   ],
   "source": [
    "# Compute single linkage agglomerative clustering\n",
    "spe.ch.single <- hclust(spe.ch, method = \"single\")\n",
    "\n",
    "# Set plot size in Jupyter Notebook (10 x 8 inches)\n",
    "options(repr.plot.width = 10, repr.plot.height = 8)\n",
    "\n",
    "# Plot the dendrogram using default options\n",
    "plot(spe.ch.single, main = \"Chord - Single linkage\", xlab=\"\")\n"
   ]
  },
  {
   "cell_type": "markdown",
   "id": "43151b8d-7387-440c-aa9b-9bc758a09f2e",
   "metadata": {},
   "source": [
    "## 1.2 Complete-linkage agglomerative clustering -> *hclust(`df_dist`,method =\"`complete`\")*"
   ]
  },
  {
   "cell_type": "markdown",
   "id": "b7973238-6340-4537-a4ff-e5c9070408b7",
   "metadata": {},
   "source": [
    "<div style=\"padding: 10px; border:5px solid green; font-size: 10px; text-align: center;\">\n",
    "    <div style=\"margin-top: 0px; margin-bottom: 40px; font-size: 22px; font-weight: bold;\">\n",
    "       <span style=\"color: green;\">Complete Linkage</span>\n",
    "    </div>\n",
    "    <img src=\"images/Complete Linkage.png\" width=\"35%\">\n",
    "    <div style=\"margin-top: 20px; font-size: 22px; font-weight: bold;\">\n",
    "        Distance between clusters is defined by the <span style=\"color: green;\">distance</span> between their \n",
    "        <span style=\"color: green;\">furthest</span> \n",
    "        <span style=\"color: green;\">members</span>.\n",
    "    </div>\n",
    "</div>\n"
   ]
  },
  {
   "cell_type": "code",
   "execution_count": 7,
   "id": "4e6c6c46-819e-42a2-845c-5384a2d6c7ac",
   "metadata": {
    "execution": {
     "iopub.execute_input": "2025-09-19T15:34:30.235746Z",
     "iopub.status.busy": "2025-09-19T15:34:30.233988Z",
     "iopub.status.idle": "2025-09-19T15:34:30.361698Z",
     "shell.execute_reply": "2025-09-19T15:34:30.359881Z"
    }
   },
   "outputs": [
    {
     "data": {
      "image/png": "[encoded data removed]",
      "text/plain": [
       "Plot with title “Chord - Complete linkage”"
      ]
     },
     "metadata": {
      "image/png": {
       "height": 480,
       "width": 600
      }
     },
     "output_type": "display_data"
    }
   ],
   "source": [
    "# Compute and plot complete-linkage agglomerative clustering\n",
    "spe.ch.complete <- hclust(spe.ch, method = \"complete\")\n",
    "\n",
    "# Set plot size in Jupyter Notebook (10 x 8 inches)\n",
    "options(repr.plot.width = 10, repr.plot.height = 8)\n",
    "\n",
    "# Plot the dendrogram using default options\n",
    "plot(spe.ch.complete, main = \"Chord - Complete linkage\", xlab=\"\")"
   ]
  },
  {
   "cell_type": "markdown",
   "id": "83c0c81c-2d26-49aa-b799-84187118f3ee",
   "metadata": {},
   "source": [
    "## 1.3 UPGMA clustering -> *hclust(`df_dist`,method =\"`average`\")*"
   ]
  },
  {
   "cell_type": "markdown",
   "id": "75b85d14-9e61-44ac-b044-0878ea5c6269",
   "metadata": {},
   "source": [
    "<div style=\"padding: 10px; border:5px solid purple; font-size: 10px; text-align: center;\">\n",
    "    <div style=\"margin-top: 0px; margin-bottom: 40px; font-size: 22px; font-weight: bold;\">\n",
    "       <span style=\"color: purple;\">Average Linkage</span>\n",
    "    </div>\n",
    "    <img src=\"images/Script3_UPGMA.png\" width=\"55%\" style=\"margin-right:10px;\">\n",
    "    <img src=\"images/AverageLinkage.png\" width=\"35%\">\n",
    "    <div style=\"margin-top: 20px; font-size: 20px; font-weight: bold;\">\n",
    "        The <span style=\"color: purple;\">percentage</span> of the number of \n",
    "        <span style=\"color: purple;\">points</span> of each cluster is calculated with respect to the \n",
    "        <span style=\"color: purple;\">number</span> of \n",
    "        <span style=\"color: purple;\">points</span> of the two clusters if they were merged.\n",
    "    </div>\n",
    "</div>\n"
   ]
  },
  {
   "cell_type": "code",
   "execution_count": 8,
   "id": "15d50f70-0a36-4e23-8714-e02c533e4433",
   "metadata": {
    "execution": {
     "iopub.execute_input": "2025-09-19T15:34:43.517150Z",
     "iopub.status.busy": "2025-09-19T15:34:43.515077Z",
     "iopub.status.idle": "2025-09-19T15:34:43.600887Z",
     "shell.execute_reply": "2025-09-19T15:34:43.598860Z"
    }
   },
   "outputs": [
    {
     "data": {
      "image/png": "[encoded data removed]",
      "text/plain": [
       "Plot with title “Chord - UPGMA”"
      ]
     },
     "metadata": {
      "image/png": {
       "height": 480,
       "width": 600
      }
     },
     "output_type": "display_data"
    }
   ],
   "source": [
    "# Compute and plot UPGMA agglomerative clustering\n",
    "spe.ch.UPGMA <- hclust(spe.ch, method = \"average\")\n",
    "\n",
    "# Set plot size in Jupyter Notebook (10 x 8 inches)\n",
    "options(repr.plot.width = 10, repr.plot.height = 8)\n",
    "\n",
    "# Plot the dendrogram using default options\n",
    "plot(spe.ch.UPGMA, main = \"Chord - UPGMA\", xlab=\"\")"
   ]
  },
  {
   "cell_type": "markdown",
   "id": "491ad7a3-e3e5-4d6c-926b-6a5bd415ef93",
   "metadata": {},
   "source": [
    "## 1.4 UPGMC clustering -> *hclust(`df_dist`,method =\"`centroid`\")*"
   ]
  },
  {
   "cell_type": "markdown",
   "id": "a490dab9-a75b-4d05-8483-07d755f241d4",
   "metadata": {
    "execution": {
     "iopub.execute_input": "2025-06-26T10:07:25.249826Z",
     "iopub.status.busy": "2025-06-26T10:07:25.244762Z",
     "iopub.status.idle": "2025-06-26T10:07:25.273921Z",
     "shell.execute_reply": "2025-06-26T10:07:25.270982Z"
    }
   },
   "source": [
    "<div style=\"padding: 10px; border:5px solid orange; font-size: 10px; text-align: center;\">\n",
    "    <div style=\"margin-top: 0px; margin-bottom: 40px; font-size: 22px; font-weight: bold;\">\n",
    "       <span style=\"color: orange;\">Centroid Linkage</span>\n",
    "    </div>\n",
    "    <img src=\"images/Script3_UPGMC.png\" width=\"57%\">\n",
    "    <img src=\"images/CentroidLinkage.png\" width=\"35%\">\n",
    "    <div style=\"margin-top: 20px; font-size: 20px; font-weight: bold;\">\n",
    "       <span style=\"color: orange;\">Distance</span> is defined as the <span style=\"color: orange;\">Euclidian distance</span> between the \n",
    "       <span style=\"color: orange;\">centroids</span> (means) of two clusters.  \n",
    "       The position of the new centroid is updated at each merge.\n",
    "    </div>\n",
    "</div>\n"
   ]
  },
  {
   "cell_type": "code",
   "execution_count": 9,
   "id": "f4294401-a225-464f-b5d2-498a3a36e570",
   "metadata": {
    "execution": {
     "iopub.execute_input": "2025-09-19T15:34:50.036335Z",
     "iopub.status.busy": "2025-09-19T15:34:50.034517Z",
     "iopub.status.idle": "2025-09-19T15:34:50.114981Z",
     "shell.execute_reply": "2025-09-19T15:34:50.113117Z"
    }
   },
   "outputs": [
    {
     "data": {
      "image/png": "[encoded data removed]",
      "text/plain": [
       "Plot with title “Chord - Centroid”"
      ]
     },
     "metadata": {
      "image/png": {
       "height": 480,
       "width": 600
      }
     },
     "output_type": "display_data"
    }
   ],
   "source": [
    "# Compute and plot UPGMC agglomerative clustering\n",
    "spe.ch.centroid <- hclust(spe.ch, method = \"centroid\")\n",
    "\n",
    "# Set plot size in Jupyter Notebook (10 x 8 inches)\n",
    "options(repr.plot.width = 10, repr.plot.height = 8)\n",
    "\n",
    "# Plot the dendrogram using default options\n",
    "plot(spe.ch.centroid, main = \"Chord - Centroid\", xlab=\"\")"
   ]
  },
  {
   "cell_type": "markdown",
   "id": "3fe80d5f-5bbb-4d60-a9b1-a62607c333ae",
   "metadata": {},
   "source": [
    "## 1.5 Ward's minimum variance clustering -> ***hclust**(`df_dist`,method =\"`ward.D2`\")*"
   ]
  },
  {
   "cell_type": "markdown",
   "id": "f233c36d-47f3-4707-81f9-cadd72649164",
   "metadata": {},
   "source": [
    "<div style=\"padding: 10px; border:5px solid #e377c2; font-size: 10px; text-align: center;\">\n",
    "    <div style=\"margin-top: 0px; margin-bottom: 40px; font-size: 22px; font-weight: bold;\">\n",
    "       <span style=\"color: #e377c2;\">Ward Linkage</span>\n",
    "    </div>\n",
    "    <img src=\"images/wardLinkage.png\" width=\"47%\">\n",
    "    <div style=\"margin-top: 20px; font-size: 20px; font-weight: bold;\">\n",
    "        Specifies the distance between two clusters, computes the <span style=\"color: #e377c2;\">sum of squares error (ESS)</span>, and successively chooses the next clusters based on the smaller <span style=\"color: #e377c2;\">ESS</span>.\n",
    "    </div>\n",
    "</div>\n"
   ]
  },
  {
   "cell_type": "code",
   "execution_count": 10,
   "id": "d12a84c9-4955-42c5-bdf1-1de43a11cfcd",
   "metadata": {
    "execution": {
     "iopub.execute_input": "2025-09-19T15:34:56.403471Z",
     "iopub.status.busy": "2025-09-19T15:34:56.401968Z",
     "iopub.status.idle": "2025-09-19T15:34:56.479850Z",
     "shell.execute_reply": "2025-09-19T15:34:56.478152Z"
    }
   },
   "outputs": [
    {
     "data": {
      "image/png": "[encoded data removed]",
      "text/plain": [
       "Plot with title “Chord - Ward”"
      ]
     },
     "metadata": {
      "image/png": {
       "height": 480,
       "width": 600
      }
     },
     "output_type": "display_data"
    }
   ],
   "source": [
    "# Compute and plot Ward's minimum variance agglomerative clustering\n",
    "spe.ch.ward <- hclust(spe.ch, method = \"ward.D2\")\n",
    "\n",
    "# Set plot size in Jupyter Notebook (10 x 8 inches)\n",
    "options(repr.plot.width = 10, repr.plot.height = 8)\n",
    "\n",
    "# Plot the dendrogram using default options\n",
    "plot(spe.ch.ward,  main = \"Chord - Ward\", xlab=\"\")"
   ]
  },
  {
   "cell_type": "markdown",
   "id": "4da100f4-cb33-4962-8267-823015e9fea8",
   "metadata": {},
   "source": [
    "<div style=\"padding: 10px; border:1px solid red; font-size: 18px; position: relative;\">\n",
    "  <span style=\"text-decoration:underline; font-weight: bold; font-size: 22px;\">Question 1</span><br/>\n",
    "\n",
    "  <div style=\"display: flex; align-items: flex-start;\">\n",
    "    <div style=\"flex: 1;\">\n",
    "        Here is an example of UPGMC derived from a distance matrix between several samples. <br/><br/><br/><br/>\n",
    "        <strong>Which statements are correct? </strong>\n",
    "    </div>\n",
    "    <div style=\"margin-left: 20px;\">\n",
    "      <img src=\"images/UPGMC_Exemple.png\" alt=\"Skewed distribution\" style=\"max-width: 500px; height: auto; border: 1px solid #ccc;\" />\n",
    "    </div>\n",
    "  </div>\n",
    "\n",
    "<form>\n",
    "  <label><input type=\"radio\" name=\"q5\" value=\"1\"> 1) In the first iteration, the two centroids are point 1 and point 2</label><br/>\n",
    "  <label><input type=\"radio\" name=\"q5\" value=\"2\"> 2) The first centroid is closer to point 4 than to point 3</label><br/>\n",
    "  <label><input type=\"radio\" name=\"q5\" value=\"3\"> 3) The distance between the first centroid (created from point 1 and point 2) and point 3 is approximately 6.3</label><br/>\n",
    "  <label><input type=\"radio\" name=\"q5\" value=\"4\"> 4) The distance between point 4 and the centroid formed by points 1, 2, and 3 is 9.4</label><br/>\n",
    "  <label><input type=\"radio\" name=\"q5\" value=\"5\"> 5) The distance between point 1 and point 2 to form the first centroid is approximately 6.3</label><br/>\n",
    "  <label><input type=\"radio\" name=\"q5\" value=\"6\"> 6) The distance between point 1 and point 4 is 9.4</label>\n",
    "</form>\n",
    "\n",
    "</div>\n",
    "\n",
    "<details style=\"font-size: 18px;\">\n",
    "  <summary style=\"font-size: 20px; font-weight: bold; text-decoration: underline;\">Answer</summary>\n",
    "  <div style=\"padding: 10px; border:1px solid blue; font-size: 20px;\">\n",
    "\n",
    "<form>\n",
    "  <label style=\"color: blue;\"><input type=\"radio\" name=\"q5\" value=\"squaring\"> 1) In the first iteration, the two centroids are point 1 and point 2</label><br/>\n",
    "  <label><input type=\"radio\" name=\"q5\" value=\"2\"> 2) The first centroid is closer to point 4 than to point 3</label><br/>\n",
    "  <label style=\"color: blue;\"><input type=\"radio\" name=\"q5\" value=\"squaring\"> 3) The distance between the first centroid (created from point 1 and point 2) and point 3 is approximately 6.3</label><br/>\n",
    "  <label style=\"color: blue;\"><input type=\"radio\" name=\"q5\" value=\"squaring\"> 4) The distance between point 4 and the centroid formed by points 1, 2, and 3 is 9.4</label><br/>\n",
    "  <label><input type=\"radio\" name=\"q5\" value=\"5\"> 5) The distance between point 1 and point 2 to form the first centroid is approximately 6.3</label><br/>\n",
    "  <label><input type=\"radio\" name=\"q5\" value=\"6\"> 6) The distance between point 1 and point 4 is 9.4</label>\n",
    "</form>\n",
    "\n",
    "  </div>\n",
    "</details>\n"
   ]
  },
  {
   "cell_type": "markdown",
   "id": "f739ba52-8832-48db-b68d-9b1dc5cbc021",
   "metadata": {},
   "source": [
    "# 2 Non-hierarchical (Partition) clustering : **K-means**"
   ]
  },
  {
   "cell_type": "markdown",
   "id": "c3db7abb-cbd8-47bb-952c-9b68b7436694",
   "metadata": {},
   "source": [
    "<div style=\"padding: 20px; border:4px solid green;\">\n",
    "    <h1 style=\"text-align:center; font-size:24px; margin-bottom:10px;\">\n",
    "        2 Non-hierarchical clustering : K-means\n",
    "    </h1>\n",
    "    <div style=\"display: flex; justify-content: space-between;\">\n",
    "        <img src=\"images/Script3_kmeans_1.png\" width=\"95%\">\n",
    "    </div>\n",
    "</div>\n"
   ]
  },
  {
   "cell_type": "markdown",
   "id": "c03a5199-da28-4337-9bab-f5445fa055a0",
   "metadata": {
    "execution": {
     "iopub.execute_input": "2025-07-03T14:58:23.311001Z",
     "iopub.status.busy": "2025-07-03T14:58:23.248456Z",
     "iopub.status.idle": "2025-07-03T14:58:23.347662Z",
     "shell.execute_reply": "2025-07-03T14:58:23.336686Z"
    }
   },
   "source": [
    "*Source : Divakar, K-Means Clustering, Medium, 2023. https://medium.com/@divakar1591/k-means-clustering-fe4684e89df9*"
   ]
  },
  {
   "cell_type": "markdown",
   "id": "81025411-ca8d-4e9f-8a1c-f3283769e401",
   "metadata": {},
   "source": [
    "## 2.0 Compute and plot K-means clustering -> ***kmeans()***"
   ]
  },
  {
   "cell_type": "markdown",
   "id": "232a35e0-653c-419e-9b49-5475f3628886",
   "metadata": {
    "execution": {
     "iopub.execute_input": "2025-06-26T09:42:38.089680Z",
     "iopub.status.busy": "2025-06-26T09:42:38.085056Z",
     "iopub.status.idle": "2025-06-26T09:42:38.113496Z",
     "shell.execute_reply": "2025-06-26T09:42:38.111107Z"
    },
    "jp-MarkdownHeadingCollapsed": true
   },
   "source": [
    "### 2.0.1 k-means clustering computation -> ***kmeans**(`df_dist`,`centers` =,`iter.max`=)*\n",
    "\n",
    "*Performs k-means partitioning clustering on a distance matrix.*\n",
    "- **`df_dist`** : distance matrix\n",
    "- **`centers`** : Number of clusters (k) to create\n",
    "- **`iter.max`** : Maximum iterations\n",
    "\n",
    "***outputs*** :\n",
    "\n",
    "- **K-means clustering** : with ***m*** clusters of sizes ***n<sub>1</sub>***, ***n<sub>2</sub>***, ***n<sub>3</sub>***, ..., ***n<sub>m</sub>***\n",
    "  \n",
    "- **Cluster Means** : Each row = a cluster, Each column = a variable, The values = mean value of that variable in that cluster\n",
    "\n",
    "- **Clustering vector** :  Tells which cluster each data point belongs to.\n",
    "\n",
    "- **Within cluster sum of squares by cluster** : Measures how tight the points are within each cluster.\n",
    "\n",
    "- ***Available components***:\n",
    "  - - `cluster`: cluster membership vector  \n",
    "  - - `centers`: cluster centers (means)  \n",
    "  - - `totss`: total sum of squares  \n",
    "  - - `withinss`: within-cluster sum of squares by cluster  \n",
    "  - - `tot.withinss`: total within-cluster sum of squares  \n",
    "  - - `betweenss`: between-cluster sum of squares  \n",
    "  - - `size`: sizes of clusters  \n",
    "  - - `iter`: number of iterations performed  \n",
    "  - - `ifault`: error code (0 if no error)  \n",
    "\n"
   ]
  },
  {
   "cell_type": "markdown",
   "id": "1ca10150-c863-4a18-a122-c3a5dc8e827d",
   "metadata": {},
   "source": [
    "### 2.0.2 k-means Visualization -> ***plot**(`df`, `col` = `kmean_obj$cluster`,`pch`,`main`,`xlab`,`ylab`)*\n",
    "\n",
    "Visualizes k-means clustering results in 2D/3D space with cluster boundaries.\n",
    "\n",
    "- **`df`** : *dataframe matrix*\n",
    "- **`kmean_obj`** : *k-mean object created with the distance matrix*\n",
    "- **`pch`** : *Point style*\n",
    "- **`Main`** : *Title*\n",
    "- **`xlab`** : *x-axis label*\n",
    "- **`ylab`** : *y-axis label*"
   ]
  },
  {
   "cell_type": "markdown",
   "id": "9b93f66d-f0fa-4b19-b1cb-5b75494a6620",
   "metadata": {
    "execution": {
     "iopub.execute_input": "2025-06-26T09:51:39.799146Z",
     "iopub.status.busy": "2025-06-26T09:51:39.794556Z",
     "iopub.status.idle": "2025-06-26T09:51:39.820174Z",
     "shell.execute_reply": "2025-06-26T09:51:39.817605Z"
    }
   },
   "source": [
    "## 2.1 K-means clustering"
   ]
  },
  {
   "cell_type": "code",
   "execution_count": null,
   "id": "ffa33444-243d-4a9c-8ca8-3804497e8b66",
   "metadata": {},
   "outputs": [],
   "source": [
    "#k-means clustering (non-hierarchical)\n",
    "spe.ch.k<-  kmeans(spe.ch, centers=3)\n",
    "spe.ch.k"
   ]
  },
  {
   "cell_type": "markdown",
   "id": "a7e9c799-c7ba-4ad3-8b84-23f4d207f7b6",
   "metadata": {},
   "source": [
    "<div style=\"padding: 12px; border: 2px solid red; font-size: 18px;\">\n",
    "  <span style=\"text-decoration: underline; font-weight: bold; font-size: 22px;\">Question 2</span><br/><br/>\n",
    "\n",
    "  1) Load the <code>Sample_Location.csv</code> file and store it in a variable named <code>Sample_Location</code>.<br/><br/>\n",
    "\n",
    "  2) Each row in the dataset represents a sample, and the columns correspond to its <code>x</code> and <code>y</code> coordinates. Compute the pairwise Euclidean distances between all sample locations.<br/><br/>\n",
    "\n",
    "  3) Perform k-means clustering on the ditsance matrix computed in 2. with 8 clusters<br/><br/>\n",
    "\n",
    "  4) Based on the clustering result, report:<br/>\n",
    "  - The total number of clusters<br/>\n",
    "  - The size of each cluster<br/><br/>\n",
    "\n",
    "  5) Create a scatter plot of the sample locations where each point is colored according to its assigned cluster.\n",
    "</div>\n"
   ]
  },
  {
   "cell_type": "code",
   "execution_count": null,
   "id": "d07f85ec-55f8-4161-98fc-ddd48436916c",
   "metadata": {},
   "outputs": [],
   "source": [
    "# 1) Read the CSV file into a dataframe named Sample_Location (hint: use read.csv())\n",
    "Sample_Location <- _____(\"Sample_Location.csv\")\n",
    "Sample_Location"
   ]
  },
  {
   "cell_type": "markdown",
   "id": "d9773679-8067-44bc-8910-8e4306f3fe2b",
   "metadata": {
    "execution": {
     "iopub.execute_input": "2025-07-12T23:55:26.619529Z",
     "iopub.status.busy": "2025-07-12T23:55:26.567405Z",
     "iopub.status.idle": "2025-07-12T23:55:26.642444Z",
     "shell.execute_reply": "2025-07-12T23:55:26.640226Z"
    }
   },
   "source": [
    "\n",
    "<details style=\"font-size: 18px;\">\n",
    "  <summary style=\"font-size: 20px; font-weight: bold; text-decoration: underline;\">1) Answer</summary>\n",
    "  <div style=\"padding: 10px; border:1px solid blue; font-size: 20px;\">\n",
    "    <code> Sample_Location <- <span style=\"color:blue;\">read.csv</span>(\"Sample_Location.csv\") </code><br/>\n",
    "  </div>\n",
    "</details>\n"
   ]
  },
  {
   "cell_type": "code",
   "execution_count": null,
   "id": "a4adf61b-2360-4d44-8f98-de4ce6c84902",
   "metadata": {},
   "outputs": [],
   "source": [
    "# 2)  Compute the pairwise Euclidean distances between all sample locations.\n",
    "\n",
    "# ( hint : use dist() )\n",
    "Sample_Location.de <- _____(Sample_Location)"
   ]
  },
  {
   "cell_type": "markdown",
   "id": "4e363d60-111d-4910-845c-4b3ac2630ebf",
   "metadata": {},
   "source": [
    "\n",
    "<details style=\"font-size: 18px;\">\n",
    "  <summary style=\"font-size: 20px; font-weight: bold; text-decoration: underline;\">2) Answer</summary>\n",
    "  <div style=\"padding: 10px; border:1px solid blue; font-size: 20px;\">\n",
    "    <code> Sample_Location.de <- <span style=\"color:blue;\">dist</span>(Sample_Location) </code><br/>\n",
    "  </div>\n",
    "</details>\n"
   ]
  },
  {
   "cell_type": "code",
   "execution_count": null,
   "id": "c5ac3fa8-0db6-4c65-90e8-a8b5f0aaa01c",
   "metadata": {},
   "outputs": [],
   "source": [
    "# 3) Perform k-means clustering on the ditsance matrix \n",
    "\n",
    "# k-means clustering (non-hierarchical) with 8 centers (hint : use kmeans())\n",
    "Sample_Location.de.k<-  _____(Sample_Location.de, centers=____)\n"
   ]
  },
  {
   "cell_type": "markdown",
   "id": "c4843410-cf80-41cb-9a8e-24003603d877",
   "metadata": {},
   "source": [
    "\n",
    "<details style=\"font-size: 18px;\">\n",
    "  <summary style=\"font-size: 20px; font-weight: bold; text-decoration: underline;\">3) Answer</summary>\n",
    "  <div style=\"padding: 10px; border:1px solid blue; font-size: 20px;\">\n",
    "    <code> Sample_Location.de.k<- <span style=\"color:blue;\">kmeans</span>(Sample_Location.de, centers= <span style=\"color:blue;\">8 </span>)</code><br/>\n",
    "  </div>\n",
    "</details>\n"
   ]
  },
  {
   "cell_type": "code",
   "execution_count": null,
   "id": "a5cc766f-45d3-4a5c-96f7-474e32631717",
   "metadata": {},
   "outputs": [],
   "source": [
    "# 4) Display details of the kmeans clustering\n",
    "Sample_Location.de.k"
   ]
  },
  {
   "cell_type": "markdown",
   "id": "cc202cb8-d297-45b4-8357-bc6f684a1dd4",
   "metadata": {},
   "source": [
    "<details style=\"font-size: 18px;\">\n",
    "  <summary style=\"font-size: 20px; font-weight: bold; text-decoration: underline;\">4) Answer</summary>\n",
    "  <div style=\"padding: 10px; border:1px solid blue; font-size: 20px;\">\n",
    "    <img src=\"images/Script3_Q2.png\" alt=\"kmeans code\" style=\"max-width:100%;\">\n",
    "  </div>\n",
    "</details>\n"
   ]
  },
  {
   "cell_type": "code",
   "execution_count": null,
   "id": "6ade9351-739a-43ca-95e1-14940f3392b6",
   "metadata": {},
   "outputs": [],
   "source": [
    "# 5) Create a scatter plot of the sample locations where each point is colored according to its assigned cluster.\n",
    "\n",
    "# Set plot size in Jupyter Notebook (10 x 8 inches)\n",
    "options(repr.plot.width = 10, repr.plot.height = 8)\n",
    "\n",
    "plot(Sample_Location$X, Sample_Location$Y, col = ________$cluster, pch = 16, cex = 1.5) # hint use the kmean_obj created  "
   ]
  },
  {
   "cell_type": "markdown",
   "id": "be493d52-ec37-4519-82f4-bd87c42145c3",
   "metadata": {},
   "source": [
    "<details style=\"font-size: 18px;\">\n",
    "  <summary style=\"font-size: 20px; font-weight: bold; text-decoration: underline;\">5) Answer</summary>\n",
    "  <div style=\"padding: 10px; border:1px solid blue; font-size: 20px;\">\n",
    "    <code> plot(Sample_Location$X, Sample_Location$Y, col =<span style=\"color:blue;\"> Sample_Location.de.k$cluster</span>,pch = 16, cex = 1.5) </code><br/>\n",
    "    <img src=\"images/Script3_Q2_plot.png\" alt=\"kmeans code\" style=\"max-width:100%;\">\n",
    "  </div>\n",
    "</details>\n"
   ]
  },
  {
   "cell_type": "markdown",
   "id": "27aaf223-20bd-4e73-bd10-acd1a559babd",
   "metadata": {},
   "source": [
    "# 3 Optimal number of clusters -> *NbClust()*"
   ]
  },
  {
   "cell_type": "markdown",
   "id": "b9d69f78-cb13-4ffa-a049-a1a88715949b",
   "metadata": {},
   "source": [
    "## 3.1 Optimal number of clusters → *NbClust(`df`, diss= `df_dist`,`distance` = NULL, `min.nc` =, `max.nc` =, `method`=,`index` =)*\n",
    "\n",
    "- **`df`** : *Raw data matrix*    \n",
    "- **`df_dist`** : *Distance matrix*,(only used if `diss = NULL`)  \n",
    "- **`method`** : *Clustering method*:  \n",
    "  - \"complete\": Complete linkage  \n",
    "  - \"single\": Single linkage  \n",
    "  - \"average\": UPGMA  \n",
    "  - \"ward.D2\": Ward's minimum variance method  \n",
    "- **`min.nc`, `max.nc`** : *Range of cluster numbers to test (min to max)*  \n",
    "- **`index`** : *Evaluation index*, e.g., `\"ch\"` (Calinski-Harabasz), `\"silhouette\"`, `\"gap\"`, etc.\n"
   ]
  },
  {
   "cell_type": "markdown",
   "id": "f71739dc-5739-4585-8567-253ebcf516bc",
   "metadata": {
    "execution": {
     "iopub.execute_input": "2025-06-26T11:28:03.327279Z",
     "iopub.status.busy": "2025-06-26T11:28:03.323041Z",
     "iopub.status.idle": "2025-06-26T11:28:03.354393Z",
     "shell.execute_reply": "2025-06-26T11:28:03.351816Z"
    }
   },
   "source": [
    "**Output**  :\n",
    "\n",
    "- **`Nb.result$All.index`**  \n",
    "  - A numeric vector containing the values of the evaluation index for **all** tested cluster numbers (from `min.nc` to `max.nc`)  \n",
    "- **`Nb.result$Best.nc`**  \n",
    "  - A list containing:  \n",
    "    - `Number_clusters` → The optimal number of clusters determined by the chosen index  \n",
    "    - `Value_Index` → The value of the evaluation index at the optimal number of clusters\n",
    "- **`Nb.result$Best.partition`**  \n",
    "  - A vector assigning each observation in the data to one of the clusters in the optimal partition  \n",
    "  - Each element corresponds to the cluster label for that observation  \n"
   ]
  },
  {
   "cell_type": "markdown",
   "id": "ec689e18-8c59-4e49-8b00-a4edb0597939",
   "metadata": {
    "execution": {
     "iopub.execute_input": "2025-06-26T11:21:05.330626Z",
     "iopub.status.busy": "2025-06-26T11:21:05.325788Z",
     "iopub.status.idle": "2025-06-26T11:21:05.356435Z",
     "shell.execute_reply": "2025-06-26T11:21:05.353388Z"
    }
   },
   "source": [
    "### 3.1.1 Find optimal number of clusters for the Single Linkage Clustering "
   ]
  },
  {
   "cell_type": "code",
   "execution_count": null,
   "id": "e0925741-1282-4177-b27f-1ed36fcff7ec",
   "metadata": {},
   "outputs": [],
   "source": [
    "# Load required packages\n",
    "library(NbClust)"
   ]
  },
  {
   "cell_type": "code",
   "execution_count": null,
   "id": "e96c670f-1b58-4a2a-9202-ca399f3391e0",
   "metadata": {},
   "outputs": [],
   "source": [
    "Nb.single <- NbClust(\n",
    "  spe,                # Input Spe matrix \n",
    "  diss = spe.ch,      #  Chord distance matrix for spe\n",
    "  distance = NULL,    # Distance metric is NULL because we provide 'diss' directly\n",
    "  min.nc = 2,         # Minimum number of clusters to test (start at 2)\n",
    "  max.nc = 16,        # Maximum number of clusters to test (up to 16)\n",
    "  method = \"single\",  # Clustering linkage method: single linkage here\n",
    "  index = \"ch\"        # Evaluation criterion: Calinski-Harabasz index\n",
    ")"
   ]
  },
  {
   "cell_type": "code",
   "execution_count": null,
   "id": "470d1a56-3248-424a-ad84-aaae4077477f",
   "metadata": {
    "scrolled": true
   },
   "outputs": [],
   "source": [
    "Nb.single  # Displays the output from NbClust, including the suggested optimal number of clusters and clustering indices for all tested cluster counts"
   ]
  },
  {
   "cell_type": "markdown",
   "id": "df9a3010-092a-4cbd-992e-e70a76224e38",
   "metadata": {},
   "source": [
    "<div style=\"padding: 12px; border: 2px solid red; font-size: 18px;\">\n",
    "  <span style=\"text-decoration: underline; font-weight: bold; font-size: 22px;\">Question 3</span><br/><br/>\n",
    "\n",
    "  1) Determine the <strong>optimal number of clusters</strong> (between <strong>2</strong> and <strong>24</strong>) using <strong>Ward's linkage hierarchical clustering</strong> on the <code>spe</code> dataset, based on the <code>spe.ch</code> chord distance matrix and the <strong>Calinski-Harabasz index</strong> as the evaluation criterion.<br/><br/>\n",
    "\n",
    "  Display the output from the <code>NbClust()</code> function.<br/><br/>\n",
    "\n",
    "  Based on the results, report the following:<br/>\n",
    "  \n",
    "  2) The <strong>optimal number of clusters</strong><br/>\n",
    "  \n",
    "  3) The <strong>Calinski-Harabasz index value</strong> at the optimal number of clusters<br/>\n",
    "  \n",
    "  4) The <strong>cluster assignment</strong> for <code>sample 21</code><br/>\n",
    "</div>\n"
   ]
  },
  {
   "cell_type": "code",
   "execution_count": null,
   "id": "8a486e40-601c-4bb5-9807-062a23d51779",
   "metadata": {},
   "outputs": [],
   "source": [
    "# Q1: Determine the optimal number of clusters (between 2 and 24)\n",
    "\n",
    "# - Use the 'spe' dataset\n",
    "\n",
    "# - Perform hierarchical clustering with Ward's linkage method\n",
    "\n",
    "# - Use the 'spe.ch' chord distance matrix\n",
    "\n",
    "# - Evaluate the clustering with the Calinski-Harabasz index\n",
    "\n",
    "# - Search for the optimal number of clusters in the range 2 to 24\n",
    "\n",
    "\n",
    "Nb.ward <- NbClust(\n",
    "  ___,                 # Input data matrix\n",
    "  diss = ____,         # Chord distance matrix for 'spe'\n",
    "  distance = NULL,     # Distance metric is NULL because we provide 'diss' directly\n",
    "  min.nc = ___,        # Minimum number of clusters to test\n",
    "  max.nc = ___,        # Maximum number of clusters to test \n",
    "  method = \"___\",      # Clustering linkage method: Ward's  linkage here\n",
    "  index = \"___\"        # Evaluation criterion: Calinski-Harabasz index ()\n",
    ")\n"
   ]
  },
  {
   "cell_type": "markdown",
   "id": "87aa8bdc-dc6a-49b5-9671-3a7242a0cdc3",
   "metadata": {},
   "source": [
    "\n",
    "<details style=\"font-size: 18px;\">\n",
    "  <summary style=\"font-size: 20px; font-weight: bold; text-decoration: underline;\">1) Answer</summary>\n",
    "  <div style=\"padding: 10px; border:1px solid blue; font-size: 20px;\">\n",
    "      \n",
    "<code> Nb.ward <- NbClust(\n",
    "                      <span style=\"color:blue;\">spe</span>,                 # Input data matrix\n",
    "                      diss = <span style=\"color:blue;\">spe.ch</span>,       # Chord distance matrix for 'spe'\n",
    "                      distance = NULL,                                      # Distance metric is NULL \n",
    "                      min.nc = <span style=\"color:blue;\">2</span>,          # Minimum number of clusters to test\n",
    "                      max.nc = <span style=\"color:blue;\">24</span>,         # Maximum number of clusters to test \n",
    "                      method = \"<span style=\"color:blue;\">ward.D2</span>\",  # Clustering linkage method: Ward's  linkage here\n",
    "                      index = \"<span style=\"color:blue;\">ch</span>\"         # Evaluation criterion: Calinski-Harabasz index ()\n",
    "      ) </code>\n",
    "\n",
    "\n"
   ]
  },
  {
   "cell_type": "code",
   "execution_count": null,
   "id": "8cdabc27-c94c-49e0-b864-ec63fe073414",
   "metadata": {},
   "outputs": [],
   "source": [
    "# Q2 Based on the results, report the following:\n",
    "\n",
    "# The optimal number of clusters\n",
    "Nb.ward"
   ]
  },
  {
   "cell_type": "markdown",
   "id": "f54f0f07-5cda-47ab-b27a-b7865b8e8dea",
   "metadata": {},
   "source": [
    "<details style=\"font-size: 18px;\">\n",
    "  <summary style=\"font-size: 20px; font-weight: bold; text-decoration: underline;\">2) Answer</summary>\n",
    "  <div style=\"padding: 10px; border:1px solid blue; font-size: 20px;\">\n",
    "      \n",
    "<strong>$All.index</strong><br/>\n",
    "<strong>2:</strong> 20.5008 &nbsp;\n",
    "  <strong>3:</strong> 14.3605 &nbsp;\n",
    "  <strong>4:</strong> 20.3359 &nbsp;\n",
    "  <strong>5:</strong> 16.0146 &nbsp;\n",
    "  <strong>6:</strong> 15.0341 &nbsp;\n",
    "  <strong>7:</strong> 13.5033 &nbsp;\n",
    "  <strong>8:</strong> 13.6405 &nbsp;\n",
    "  <strong>9:</strong> 13.3736 &nbsp;\n",
    "  <strong>10:</strong> 12.0871 &nbsp;\n",
    "  <strong>11:</strong> 10.4986 &nbsp;\n",
    "  <strong>12:</strong> 10.0238 &nbsp;\n",
    "  <strong>13:</strong> 9.1067 &nbsp;\n",
    "  <strong>14:</strong> 8.5711 &nbsp;\n",
    "  <strong>15:</strong> 8.9764 &nbsp;\n",
    "  <strong>16:</strong> 8.4798 &nbsp;\n",
    "  <strong>17:</strong> 12.0083 &nbsp;\n",
    "  <strong>18:</strong> 11.3656 &nbsp;\n",
    "  <strong>19:</strong> 10.5599 &nbsp;\n",
    "  <strong>20:</strong> 10.8874 &nbsp;\n",
    "  <strong>21:</strong> 12.5799 &nbsp;\n",
    "  <strong>22:</strong> 11.2628 &nbsp;\n",
    "  <strong>23:</strong> 10.3651 &nbsp;\n",
    "  <strong>24:</strong> 9.3219\n",
    "  <br/><br/>\n",
    "\n",
    "  <strong>$Best.nc</strong><br/>\n",
    "  <span style=\"color: blue;\" >Number_clusters 2</span><br/>\n",
    "  Value_Index: 20.5008<br/><br/>\n",
    "\n",
    "  <strong>$Best.partition</strong><br/>\n",
    "<strong>1:</strong> 1 &nbsp;\n",
    "<strong>2:</strong> 1 &nbsp;\n",
    "<strong>3:</strong> 1 &nbsp;\n",
    "<strong>4:</strong> 1 &nbsp;\n",
    "<strong>5:</strong> 1 &nbsp;\n",
    "<strong>6:</strong> 1 &nbsp;\n",
    "<strong>7:</strong> 1 &nbsp;\n",
    "<strong>9:</strong> 1 &nbsp;\n",
    "<strong>10:</strong> 1 &nbsp;\n",
    "<strong>11:</strong> 1 &nbsp;\n",
    "<strong>12:</strong> 1 &nbsp;\n",
    "<strong>13:</strong> 1 &nbsp;\n",
    "<strong>14:</strong> 1 &nbsp;\n",
    "<strong>15:</strong> 1 &nbsp;\n",
    "<strong>16:</strong> 1 &nbsp;\n",
    "<strong>17:</strong> 1 &nbsp;\n",
    "<strong>18:</strong> 1 &nbsp;\n",
    "<strong>19:</strong> 2 &nbsp;\n",
    "<strong>20:</strong> 2 &nbsp;\n",
    "<strong>21:</strong> 2 &nbsp;\n",
    "<strong>22:</strong> 2 &nbsp;\n",
    "<strong>23:</strong> 2 &nbsp;\n",
    "<strong>24:</strong> 2 &nbsp;\n",
    "<strong>25:</strong> 2 &nbsp;\n",
    "<strong>26:</strong> 2 &nbsp;\n",
    "<strong>27:</strong> 2 &nbsp;\n",
    "<strong>28:</strong> 2 &nbsp;\n",
    "<strong>29:</strong> 2 &nbsp;\n",
    "<strong>30:</strong> 2 &nbsp;\n",
    "\n",
    "</details>\n"
   ]
  },
  {
   "cell_type": "code",
   "execution_count": null,
   "id": "fffb7c6b-f33c-40d5-8c6e-f5a23eeaad2d",
   "metadata": {},
   "outputs": [],
   "source": [
    "# Q3 Based on the results, report the following:\n",
    "\n",
    "# The Calinski-Harabasz index value at the optimal number of clusters\n",
    "Nb.ward"
   ]
  },
  {
   "cell_type": "markdown",
   "id": "42040568-3d48-40f7-845f-5941f3a67857",
   "metadata": {},
   "source": [
    "<details style=\"font-size: 18px;\">\n",
    "  <summary style=\"font-size: 20px; font-weight: bold; text-decoration: underline;\">3) Answer</summary>\n",
    "  <div style=\"padding: 10px; border:1px solid blue; font-size: 20px;\">\n",
    "      \n",
    "<strong>$All.index</strong><br/>\n",
    "<strong>2:</strong> 20.5008 &nbsp;\n",
    "  <strong>3:</strong> 14.3605 &nbsp;\n",
    "  <strong>4:</strong> 20.3359 &nbsp;\n",
    "  <strong>5:</strong> 16.0146 &nbsp;\n",
    "  <strong>6:</strong> 15.0341 &nbsp;\n",
    "  <strong>7:</strong> 13.5033 &nbsp;\n",
    "  <strong>8:</strong> 13.6405 &nbsp;\n",
    "  <strong>9:</strong> 13.3736 &nbsp;\n",
    "  <strong>10:</strong> 12.0871 &nbsp;\n",
    "  <strong>11:</strong> 10.4986 &nbsp;\n",
    "  <strong>12:</strong> 10.0238 &nbsp;\n",
    "  <strong>13:</strong> 9.1067 &nbsp;\n",
    "  <strong>14:</strong> 8.5711 &nbsp;\n",
    "  <strong>15:</strong> 8.9764 &nbsp;\n",
    "  <strong>16:</strong> 8.4798 &nbsp;\n",
    "  <strong>17:</strong> 12.0083 &nbsp;\n",
    "  <strong>18:</strong> 11.3656 &nbsp;\n",
    "  <strong>19:</strong> 10.5599 &nbsp;\n",
    "  <strong>20:</strong> 10.8874 &nbsp;\n",
    "  <strong>21:</strong> 12.5799 &nbsp;\n",
    "  <strong>22:</strong> 11.2628 &nbsp;\n",
    "  <strong>23:</strong> 10.3651 &nbsp;\n",
    "  <strong>24:</strong> 9.3219\n",
    "  <br/><br/>\n",
    "\n",
    "  <strong>$Best.nc</strong><br/>\n",
    "  Number_clusters 2<br/>\n",
    "  <span style=\"color: blue;\" >Value_Index: 20.5008</span><br/><br/>\n",
    "\n",
    "  <strong>$Best.partition</strong><br/>\n",
    "<strong>1:</strong> 1 &nbsp;\n",
    "<strong>2:</strong> 1 &nbsp;\n",
    "<strong>3:</strong> 1 &nbsp;\n",
    "<strong>4:</strong> 1 &nbsp;\n",
    "<strong>5:</strong> 1 &nbsp;\n",
    "<strong>6:</strong> 1 &nbsp;\n",
    "<strong>7:</strong> 1 &nbsp;\n",
    "<strong>9:</strong> 1 &nbsp;\n",
    "<strong>10:</strong> 1 &nbsp;\n",
    "<strong>11:</strong> 1 &nbsp;\n",
    "<strong>12:</strong> 1 &nbsp;\n",
    "<strong>13:</strong> 1 &nbsp;\n",
    "<strong>14:</strong> 1 &nbsp;\n",
    "<strong>15:</strong> 1 &nbsp;\n",
    "<strong>16:</strong> 1 &nbsp;\n",
    "<strong>17:</strong> 1 &nbsp;\n",
    "<strong>18:</strong> 1 &nbsp;\n",
    "<strong>19:</strong> 2 &nbsp;\n",
    "<strong>20:</strong> 2 &nbsp;\n",
    "<strong>21:</strong> 2 &nbsp;\n",
    "<strong>22:</strong> 2 &nbsp;\n",
    "<strong>23:</strong> 2 &nbsp;\n",
    "<strong>24:</strong> 2 &nbsp;\n",
    "<strong>25:</strong> 2 &nbsp;\n",
    "<strong>26:</strong> 2 &nbsp;\n",
    "<strong>27:</strong> 2 &nbsp;\n",
    "<strong>28:</strong> 2 &nbsp;\n",
    "<strong>29:</strong> 2 &nbsp;\n",
    "<strong>30:</strong> 2 &nbsp;\n",
    "\n",
    "</details>\n"
   ]
  },
  {
   "cell_type": "code",
   "execution_count": null,
   "id": "681f77e4-fb37-4917-88b7-122302be1a5b",
   "metadata": {},
   "outputs": [],
   "source": [
    "# Q4 Based on the results, report the following:\n",
    "\n",
    "# The cluster assignment for sample 21\n",
    "Nb.ward\n"
   ]
  },
  {
   "cell_type": "markdown",
   "id": "3e250c79-3986-460b-9e6a-27a757c0f8d4",
   "metadata": {},
   "source": [
    "<details style=\"font-size: 18px;\">\n",
    "  <summary style=\"font-size: 20px; font-weight: bold; text-decoration: underline;\">4) Answer</summary>\n",
    "  <div style=\"padding: 10px; border:1px solid blue; font-size: 20px;\">\n",
    "      \n",
    "<strong>$All.index</strong><br/>\n",
    "<strong>2:</strong> 20.5008 &nbsp;\n",
    "  <strong>3:</strong> 14.3605 &nbsp;\n",
    "  <strong>4:</strong> 20.3359 &nbsp;\n",
    "  <strong>5:</strong> 16.0146 &nbsp;\n",
    "  <strong>6:</strong> 15.0341 &nbsp;\n",
    "  <strong>7:</strong> 13.5033 &nbsp;\n",
    "  <strong>8:</strong> 13.6405 &nbsp;\n",
    "  <strong>9:</strong> 13.3736 &nbsp;\n",
    "  <strong>10:</strong> 12.0871 &nbsp;\n",
    "  <strong>11:</strong> 10.4986 &nbsp;\n",
    "  <strong>12:</strong> 10.0238 &nbsp;\n",
    "  <strong>13:</strong> 9.1067 &nbsp;\n",
    "  <strong>14:</strong> 8.5711 &nbsp;\n",
    "  <strong>15:</strong> 8.9764 &nbsp;\n",
    "  <strong>16:</strong> 8.4798 &nbsp;\n",
    "  <strong>17:</strong> 12.0083 &nbsp;\n",
    "  <strong>18:</strong> 11.3656 &nbsp;\n",
    "  <strong>19:</strong> 10.5599 &nbsp;\n",
    "  <strong>20:</strong> 10.8874 &nbsp;\n",
    "  <strong>21:</strong> 12.5799 &nbsp;\n",
    "  <strong>22:</strong> 11.2628 &nbsp;\n",
    "  <strong>23:</strong> 10.3651 &nbsp;\n",
    "  <strong>24:</strong> 9.3219\n",
    "  <br/><br/>\n",
    "\n",
    "  <strong>$Best.nc</strong><br/>\n",
    "  Number_clusters 2<br/>\n",
    "  Value_Index: 20.5008<br/><br/>\n",
    "\n",
    "  <strong>$Best.partition</strong><br/>\n",
    "<strong>1:</strong> 1 &nbsp;\n",
    "<strong>2:</strong> 1 &nbsp;\n",
    "<strong>3:</strong> 1 &nbsp;\n",
    "<strong>4:</strong> 1 &nbsp;\n",
    "<strong>5:</strong> 1 &nbsp;\n",
    "<strong>6:</strong> 1 &nbsp;\n",
    "<strong>7:</strong> 1 &nbsp;\n",
    "<strong>9:</strong> 1 &nbsp;\n",
    "<strong>10:</strong> 1 &nbsp;\n",
    "<strong>11:</strong> 1 &nbsp;\n",
    "<strong>12:</strong> 1 &nbsp;\n",
    "<strong>13:</strong> 1 &nbsp;\n",
    "<strong>14:</strong> 1 &nbsp;\n",
    "<strong>15:</strong> 1 &nbsp;\n",
    "<strong>16:</strong> 1 &nbsp;\n",
    "<strong>17:</strong> 1 &nbsp;\n",
    "<strong>18:</strong> 1 &nbsp;\n",
    "<strong>19:</strong> 2 &nbsp;\n",
    "<strong>20:</strong> 2 &nbsp;\n",
    "<span style=\"color: blue;\" ><strong>21: 2</strong></span> &nbsp;\n",
    "<strong>22:</strong> 2 &nbsp;\n",
    "<strong>23:</strong> 2 &nbsp;\n",
    "<strong>24:</strong> 2 &nbsp;\n",
    "<strong>25:</strong> 2 &nbsp;\n",
    "<strong>26:</strong> 2 &nbsp;\n",
    "<strong>27:</strong> 2 &nbsp;\n",
    "<strong>28:</strong> 2 &nbsp;\n",
    "<strong>29:</strong> 2 &nbsp;\n",
    "<strong>30:</strong> 2 &nbsp;\n",
    "\n",
    "\n",
    "</details>\n"
   ]
  },
  {
   "cell_type": "markdown",
   "id": "54e36c6d-5c37-4c75-a55f-1d091b51516e",
   "metadata": {
    "execution": {
     "iopub.execute_input": "2025-07-03T14:51:34.467535Z",
     "iopub.status.busy": "2025-07-03T14:51:34.457768Z",
     "iopub.status.idle": "2025-07-03T14:51:34.526738Z",
     "shell.execute_reply": "2025-07-03T14:51:34.522669Z"
    }
   },
   "source": [
    "## 3.2 Plot the optimal number of clusters -> *plot(`x`,`Nb.clust$\\$$All.index`)*, *abline(v = `Nb.clust$\\$$Best.nc[1]`)*\n",
    "\n",
    "- **x** : *Range of cluster numbers to test (min to max)*  \n",
    "- **Nb.clust$\\$$All.index** : *Evaluation index values (y)*\n",
    "- **Nb.clust$\\$$Best.nc[1]** : *Optimal number of clusters*  "
   ]
  },
  {
   "cell_type": "code",
   "execution_count": null,
   "id": "fe9be7be-847a-4c40-b150-7aa753a0bd1c",
   "metadata": {},
   "outputs": [],
   "source": [
    "# Set plot size in Jupyter Notebook (9 x 9 inches)\n",
    "options(repr.plot.width = 9, repr.plot.height = 9)\n",
    "# Plot Index values (y) vs. number of clusters (x from 2 to 16)\n",
    "\n",
    "plot(2:16,                                    # x : Range of cluster numbers to test (min to max)\n",
    "     Nb.single$All.index,                     # Index values (y) for each number of clusters\n",
    "     xlab = \"number of clusters\",             # Label for x-axis\n",
    "     ylab = \"Calinski and Harabasz index\")    # Label for y-axis\n",
    "\n",
    "abline(v = Nb.single$Best.nc[1],              # Add a vertical dashed line at optimal number of clusters\n",
    "       col = \"red\",                           # Color of the line\n",
    "       lty = 2,                               # Line type 2 = dashed\n",
    "       lwd = 2)                               # Line width thicker for visibility\n"
   ]
  },
  {
   "cell_type": "markdown",
   "id": "37e091a3-c59e-4418-9cd9-b1d0aaa04130",
   "metadata": {},
   "source": [
    "# 4 Cophenetic correlation "
   ]
  },
  {
   "cell_type": "markdown",
   "id": "8ad5c48a-a1f8-4e28-872c-c73998f7174e",
   "metadata": {},
   "source": [
    "> The **cophenetic correlation** coefficient (or simply cophenetic correlation) is a measure used in  **assess** how well a **dendrogram** **preserves** the **original pairwise distances** between **data points**. It essentially **quantifies** the **similarity** between the **original distances** used to create the dendrogram and the \"cophenetic **distances\" derived from the dendrogram.**"
   ]
  },
  {
   "cell_type": "markdown",
   "id": "d0402912-dc47-46ef-a871-0c8d9eab6f23",
   "metadata": {
    "execution": {
     "iopub.execute_input": "2025-06-26T10:33:02.546135Z",
     "iopub.status.busy": "2025-06-26T10:33:02.541529Z",
     "iopub.status.idle": "2025-06-26T10:33:02.568688Z",
     "shell.execute_reply": "2025-06-26T10:33:02.566192Z"
    }
   },
   "source": [
    "<div style=\"padding: 10px; border:5px solid green; font-size: 10px; text-align: center;\">\n",
    "    <img src=\"images/Script3_Cophenetic.png\" width=\"95%\">\n",
    "</div>\n"
   ]
  },
  {
   "cell_type": "markdown",
   "id": "9d456246-bcf8-46ec-9275-b626643b03be",
   "metadata": {},
   "source": [
    "## 4.0 Cophenetic Distance and correlation Computation → *cophenetic(`hc`), cor(`df_dist`,`cophenetic_dist`)*\n",
    "\n",
    "Used to evaluate how well the hierarchical clustering preserves the original pairwise distances.\n",
    "\n",
    "- **hc** : *hierarchical clustering object from a distance matrix*\n",
    "- **df_dist** : *distance matrix*\n",
    "- **cophenetic_dist** : *cophenetic distance*"
   ]
  },
  {
   "cell_type": "markdown",
   "id": "5a088620-4d95-4046-8b44-872eac1c3cb0",
   "metadata": {},
   "source": [
    "### 4.0.1 Compute the cophenetic distance matrix -> *cophenetic(`hc`)*\n",
    "\n",
    "- **cophenetic_dist <- cophenetic(hc)** : *Compute the cophenetic distance matrix (ultrametric distances from the dendrogram)*"
   ]
  },
  {
   "cell_type": "markdown",
   "id": "9f43acec-f3d9-43a9-85b3-aafc59a469af",
   "metadata": {},
   "source": [
    "### 4.0.2 Compute the correlation between the cophenetic distance matrix and the distance matrix -> *cor(`df_dist`,`cophenetic_dist`)*\n",
    "\n",
    "- **cor(copehenetic_dist,df_dist)** : *Compute the correlation between the original and cophenetic distances*"
   ]
  },
  {
   "cell_type": "markdown",
   "id": "9f922b0b-c597-4a8a-bcd8-2ed5aad10063",
   "metadata": {},
   "source": [
    "## 4.1 Single linkage clustering Cophenetic Correlation"
   ]
  },
  {
   "cell_type": "code",
   "execution_count": 16,
   "id": "3682ee50-e261-43a3-9829-831ecb987729",
   "metadata": {
    "execution": {
     "iopub.execute_input": "2025-09-19T15:35:56.014462Z",
     "iopub.status.busy": "2025-09-19T15:35:56.012886Z",
     "iopub.status.idle": "2025-09-19T15:35:56.032555Z",
     "shell.execute_reply": "2025-09-19T15:35:56.030669Z"
    }
   },
   "outputs": [
    {
     "data": {
      "text/html": [
       "0.599192957534406"
      ],
      "text/latex": [
       "0.599192957534406"
      ],
      "text/markdown": [
       "0.599192957534406"
      ],
      "text/plain": [
       "[1] 0.599193"
      ]
     },
     "metadata": {},
     "output_type": "display_data"
    }
   ],
   "source": [
    "# Compute the cophenetic distance matrix from the dendrogram obtained with single linkage clustering\n",
    "spe.ch.single.coph <- cophenetic(spe.ch.single)\n",
    "\n",
    "# Compute the cophenetic correlation between the original dissimilarities and the dendrogram\n",
    "cor(spe.ch, spe.ch.single.coph)"
   ]
  },
  {
   "cell_type": "markdown",
   "id": "7576d40b-12d9-4cbb-b66e-c7c3df6fb8e2",
   "metadata": {},
   "source": [
    "## 4.2 Complete linkage clustering Cophenetic Correlation"
   ]
  },
  {
   "cell_type": "code",
   "execution_count": 12,
   "id": "8187871c-02d0-4953-90a5-43ec5b72b1e4",
   "metadata": {
    "execution": {
     "iopub.execute_input": "2025-09-19T15:35:24.415674Z",
     "iopub.status.busy": "2025-09-19T15:35:24.414076Z",
     "iopub.status.idle": "2025-09-19T15:35:24.435778Z",
     "shell.execute_reply": "2025-09-19T15:35:24.434046Z"
    }
   },
   "outputs": [
    {
     "data": {
      "text/html": [
       "0.765562801324477"
      ],
      "text/latex": [
       "0.765562801324477"
      ],
      "text/markdown": [
       "0.765562801324477"
      ],
      "text/plain": [
       "[1] 0.7655628"
      ]
     },
     "metadata": {},
     "output_type": "display_data"
    }
   ],
   "source": [
    "# Compute the cophenetic distance matrix from the dendrogram obtained with complete linkage clustering\n",
    "spe.ch.comp.coph <- cophenetic(spe.ch.complete)\n",
    "\n",
    "# Compute the cophenetic correlation for complete linkage\n",
    "cor(spe.ch, spe.ch.comp.coph)"
   ]
  },
  {
   "cell_type": "markdown",
   "id": "5fcf7b89-339c-4841-b15e-9364f22cd6d7",
   "metadata": {},
   "source": [
    "## 4.3 UPGMA clustering Cophenetic Correlation"
   ]
  },
  {
   "cell_type": "code",
   "execution_count": 13,
   "id": "400e43aa-6fbf-4391-8617-4a845b74e5cc",
   "metadata": {
    "execution": {
     "iopub.execute_input": "2025-09-19T15:35:26.108130Z",
     "iopub.status.busy": "2025-09-19T15:35:26.106584Z",
     "iopub.status.idle": "2025-09-19T15:35:26.126127Z",
     "shell.execute_reply": "2025-09-19T15:35:26.124348Z"
    }
   },
   "outputs": [
    {
     "data": {
      "text/html": [
       "0.860832629864453"
      ],
      "text/latex": [
       "0.860832629864453"
      ],
      "text/markdown": [
       "0.860832629864453"
      ],
      "text/plain": [
       "[1] 0.8608326"
      ]
     },
     "metadata": {},
     "output_type": "display_data"
    }
   ],
   "source": [
    "# Compute the cophenetic distance matrix from the dendrogram obtained with Average clustering\n",
    "spe.ch.UPGMA.coph <- cophenetic(spe.ch.UPGMA)\n",
    "\n",
    "# Compute the cophenetic correlation for Average clustering\n",
    "cor(spe.ch, spe.ch.UPGMA.coph)"
   ]
  },
  {
   "cell_type": "markdown",
   "id": "cc981976-4fdf-40e8-8b7b-e47796e1a0da",
   "metadata": {
    "execution": {
     "iopub.execute_input": "2025-06-26T10:17:53.964870Z",
     "iopub.status.busy": "2025-06-26T10:17:53.960687Z",
     "iopub.status.idle": "2025-06-26T10:17:53.984592Z",
     "shell.execute_reply": "2025-06-26T10:17:53.981988Z"
    }
   },
   "source": [
    "## 4.4 Ward's minimum variance clustering Cophenetic Correlation"
   ]
  },
  {
   "cell_type": "code",
   "execution_count": 14,
   "id": "cf538144-6c6b-4189-bd33-5d5fd3ef50bb",
   "metadata": {
    "execution": {
     "iopub.execute_input": "2025-09-19T15:35:27.884930Z",
     "iopub.status.busy": "2025-09-19T15:35:27.883032Z",
     "iopub.status.idle": "2025-09-19T15:35:27.911418Z",
     "shell.execute_reply": "2025-09-19T15:35:27.909617Z"
    }
   },
   "outputs": [
    {
     "data": {
      "text/html": [
       "0.79985164123977"
      ],
      "text/latex": [
       "0.79985164123977"
      ],
      "text/markdown": [
       "0.79985164123977"
      ],
      "text/plain": [
       "[1] 0.7998516"
      ]
     },
     "metadata": {},
     "output_type": "display_data"
    }
   ],
   "source": [
    "# Compute the cophenetic distance matrix from the dendrogram obtained with Ward clustering\n",
    "spe.ch.ward.coph <- cophenetic(spe.ch.ward)\n",
    "\n",
    "# Compute the cophenetic correlation for Ward clustering\n",
    "cor(spe.ch, spe.ch.ward.coph)"
   ]
  },
  {
   "cell_type": "markdown",
   "id": "f89e1dce-b76a-4425-b421-84d461a9b77d",
   "metadata": {},
   "source": [
    "<div style=\"padding: 10px; border:1px solid red; font-size: 18px; position: relative;\">\n",
    "  <span style=\"text-decoration: underline; font-weight: bold; font-size: 22px;\">Question 4</span><br/>\n",
    "\n",
    "\n",
    "  <div style=\"margin-top: 10px; margin-bottom: 20px; line-height: 1.5;\">\n",
    "    After applying 5 different unsupervised clustering methods on a distance matrix, we obtain the following cophenetic correlations.<br/><br/>\n",
    "    <img src=\"images/Script3_Q3.png\" alt=\"Cophenetic Correlations\" style=\"max-width: 40%; height: auto; margin-bottom: 15px;\"> <br/>\n",
    "    <strong>Which of the following statements are correct?</strong>\n",
    "  </div>\n",
    "\n",
    "<form>\n",
    "  <label><input type=\"radio\" name=\"q5\" value=\"1\"> 1) The UPGMA clustering method best preserves the original distances from the distance matrix.</label><br/>\n",
    "  <label><input type=\"radio\" name=\"q5\" value=\"1\"> 2) The Complete Linkage clustering method best preserves the original distances from the distance matrix.</label><br/>\n",
    "  <label><input type=\"radio\" name=\"q5\" value=\"2\"> 3) The Ward method is the least accurate.</label><br/>\n",
    "  <label><input type=\"radio\" name=\"q5\" value=\"3\"> 4) A cophenetic correlation of zero for the UPGMC method means there is no difference between the dendrogram distances and the original distance matrix.</label><br/>\n",
    "  <label><input type=\"radio\" name=\"q5\" value=\"3\"> 5) The dendrogram produced by the UPGMC method shows distances that are completely different from the original distance matrix values.</label><br/>\n",
    "</form>\n",
    "\n",
    "\n",
    "<details style=\"font-size: 18px; margin-top: 15px;\">\n",
    "  <summary style=\"font-size: 20px; font-weight: bold; text-decoration: underline; cursor: pointer;\">Answer</summary>\n",
    "  <div style=\"padding: 10px; border:1px solid blue; font-size: 20px; margin-top: 10px;\">\n",
    "<form>\n",
    "  <label><input type=\"radio\" name=\"q5\" value=\"1\"> 1) The UPGMA clustering method best preserves the original distances from the distance matrix.</label><br/>\n",
    "  <label style=\"color: blue;\"><input type=\"radio\" name=\"q5\" value=\"squaring\">  2) The Complete Linkage clustering method best preserves the original distances from the distance matrix.</label><br/>\n",
    "  <label><input type=\"radio\" name=\"q5\" value=\"2\"> 3) The Ward method is the least accurate.</label><br/>\n",
    "  <label><input type=\"radio\" name=\"q5\" value=\"3\"> 4) A cophenetic correlation of zero for the UPGMC method means there is no difference between the dendrogram distances and the original distance matrix.</label><br/>\n",
    "  <label style=\"color: blue;\"><input type=\"radio\" name=\"q5\" value=\"squaring\">  5) The dendrogram produced by the UPGMC method shows distances that are completely different from the original distance matrix values.</label><br/>\n",
    "</form>\n",
    "  </div>\n",
    "</details>\n"
   ]
  },
  {
   "cell_type": "markdown",
   "id": "01d3eaf6-4f40-4e96-8b11-233fe76f1759",
   "metadata": {},
   "source": [
    "# Homework : Task 1"
   ]
  },
  {
   "cell_type": "markdown",
   "id": "0cfd691b-433a-492c-be92-8bbcbd5379b0",
   "metadata": {},
   "source": [
    "<div style=\"padding: 10px; border:1px solid red; font-size: 18px;\">\n",
    "  <span style=\"text-decoration:underline; font-weight: bold; font-size: 22px;\">HOMEWORK : TASK 1</span><br/>\n",
    "  Use the oribatide mite dataset, calculate a similarity measure and perform clustering analysis.<br/>\n",
    "  <ol>\n",
    "    <li> Use the oribatide mite dataset, import it in the environnement and calculate chord distance among samples </li>\n",
    "    <li> Show dendogram using single linkage, complete linkage, UPGMA, UPGMC and Ward (no code writing needed)</li>\n",
    "    <li> Based on visual inspection of the dendrogram - which clustering algorithm produces the \"best\" results?</li>\n",
    "    <li> How many groups of sites - based on mite community similarity are there ? </li>\n",
    "    <li> Log transform the data and then the calculate simlarity measure again </li>\n",
    "    <li>  Show dendogram using single linkage, complete linkage, UPGMA, UPGMC and Ward and explore the impact of log-transformation of mite abundances on the cluster analysis (no code writing needed) </li>\n",
    "      \n",
    "  </ol>\n",
    "  <p style=\"text-align: right; margin-bottom: 0px; font-style: italic;\">\n",
    "    Answer these questions based on your analysis.\n",
    "  </p>\n",
    "</div>\n"
   ]
  },
  {
   "cell_type": "code",
   "execution_count": null,
   "id": "5ba1b864-8e44-4ef5-8f2e-a4f08a6600ea",
   "metadata": {},
   "outputs": [],
   "source": [
    "## Q1 Use the oribatide mite dataset, import it in the environnement and calculate chord distance among samples\n",
    "\n",
    "# Read the CSV file \n",
    "oribatide_mite <- _____(\"oribatide_mite.csv\", row.names = 1)\n",
    "\n",
    "# Normalize the data so that each sample vector length equals 1 (unit length),\n",
    "# which is necessary for calculating chord distance (hint : use decostand() )\n",
    "oribatide_mite.norm <- _____(oribatide_mite, method = \"normalize\")\n",
    "\n",
    "# Compute the chord distance matrix between samples based on normalized data.\n",
    "# Chord distance is the Euclidean distance between normalized vectors (unit length) (hint : use vegdist())\n",
    "oribatide_mite.ch <- _____(oribatide_mite.norm, method = \"euclidean\")"
   ]
  },
  {
   "cell_type": "markdown",
   "id": "810f1409-201e-45ff-89db-0fa9060a8d54",
   "metadata": {},
   "source": [
    "\n",
    "<details style=\"font-size: 18px;\">\n",
    "  <summary style=\"font-size: 20px; font-weight: bold; text-decoration: underline;\">1) Answer</summary>\n",
    "  <div style=\"padding: 10px; border:1px solid blue; font-size: 20px;\">\n",
    "    <code> oribatide_mite <- <span style=\"color:blue;\">read.csv</span>(\"oribatide_mite.csv\", row.names = 1)</code><br/>\n",
    "    <code> oribatide_mite.norm <- <span style=\"color:blue;\">decostand</span>(oribatide_mite, method = \"normalize\")</code><br/>\n",
    "    <code> oribatide_mite.ch <- <span style=\"color:blue;\">vegdist</span>(oribatide_mite.norm, method = \"euclidean\")</code><br/>\n",
    "  </div>\n",
    "</details>\n"
   ]
  },
  {
   "cell_type": "code",
   "execution_count": null,
   "id": "f8b30c8a-4f40-4626-8dd5-8a7507957133",
   "metadata": {},
   "outputs": [],
   "source": [
    "## Q2 Show dendogram using single linkage, complete linkage, UPGMA, UPGMC and Ward\n",
    "\n",
    "## (You don't have to change anaything here)\n",
    "\n",
    "# Set plot size in Jupyter Notebook (20 x 14 inches)\n",
    "options(repr.plot.width = 20, repr.plot.height = 14)\n",
    "par(mfrow = c(3, 2), mar = c(4, 4, 2, 1))  # 3 rwos, 2 columns\n",
    "\n",
    "# Compute single linkage agglomerative clustering\n",
    "oribatide_mite.ch.single <- hclust(oribatide_mite.ch, method = \"single\")\n",
    "plot(oribatide_mite.ch.single, main = \"Chord - Single linkage\", xlab=\"\")\n",
    "\n",
    "# Compute and plot complete-linkage agglomerative clustering\n",
    "oribatide_mite.ch.complete <- hclust(oribatide_mite.ch, method = \"complete\")\n",
    "plot(oribatide_mite.ch.complete, main = \"Chord - Complete linkage\", xlab=\"\")\n",
    "\n",
    "# Compute and plot UPGMA agglomerative clustering (average linkage)\n",
    "oribatide_mite.ch.UPGMA <- hclust(oribatide_mite.ch, method = \"average\")\n",
    "plot(oribatide_mite.ch.UPGMA, main = \"Chord - UPGMA\", xlab=\"\")\n",
    "\n",
    "# Compute and plot UPGMC agglomerative clustering (centroid linkage)\n",
    "oribatide_mite.ch.centroid <- hclust(oribatide_mite.ch, method = \"centroid\")\n",
    "plot(oribatide_mite.ch.centroid, main = \"Chord - Centroid (UPGMC)\", xlab=\"\")\n",
    "\n",
    "# Compute and plot Ward's minimum variance agglomerative clustering\n",
    "oribatide_mite.ch.ward <- hclust(oribatide_mite.ch, method = \"ward.D2\")\n",
    "plot(oribatide_mite.ch.ward, main = \"Chord - Ward\", xlab=\"\")\n"
   ]
  },
  {
   "cell_type": "markdown",
   "id": "61636075-ecbb-4ad7-a804-4f49a7ecefd5",
   "metadata": {},
   "source": [
    "<details style=\"font-size: 18px;\">\n",
    "  <summary style=\"font-size: 20px; font-weight: bold; text-decoration: underline;\">2) Answer</summary>\n",
    "  <div style=\"padding: 10px; border:1px solid blue; font-size: 20px;\">\n",
    "    <img src=\"images/Script3_HW_Plots.png\" alt=\"Dendrogram plots\" style=\"max-width: 100%;\">\n",
    "  </div>\n",
    "</details>\n"
   ]
  },
  {
   "cell_type": "markdown",
   "id": "bac34838-591e-4b67-a333-e1a2fd0398cc",
   "metadata": {},
   "source": [
    "<p style=\"font-size: 25px;\">\n",
    "  3. Based on visual inspection of the dendrogram – which clustering algorithm produces the \"best\" results?\n",
    "</p>\n",
    "\n",
    "<details style=\"font-size: 18px;\">\n",
    "  <summary style=\"font-size: 20px; font-weight: bold; text-decoration: underline;\">3) Answer</summary>\n",
    "  <div style=\"padding: 10px; border:1px solid blue; font-size: 20px;\">\n",
    "    <img src=\"images/Script3_HomeWork.png\" alt=\"Dendrogram plots\" style=\"max-width: 100%; margin-bottom: 15px;\"> <br>\n",
    "    The <strong>Ward clustering</strong> algorithm visually provides the <strong>clearest</strong> and most interpretable <strong>structure</strong>: <br>\n",
    "    The <strong>heights</strong> between clusters are relatively <strong>large</strong>, indicating <strong>well-defined group separation</strong>. <br>\n",
    "    Unlike other methods, there is <strong>no entanglement or overlapping branches</strong>. <br>\n",
    "    All clusters are clearly separated, balanced, and biologically coherent.\n",
    "  </div>\n",
    "</details>\n",
    "\n",
    "\n"
   ]
  },
  {
   "cell_type": "markdown",
   "id": "9d146381-2840-4c9a-8079-d5bf69085405",
   "metadata": {
    "execution": {
     "iopub.execute_input": "2025-06-26T10:25:54.942504Z",
     "iopub.status.busy": "2025-06-26T10:25:54.936699Z",
     "iopub.status.idle": "2025-06-26T10:25:54.965604Z",
     "shell.execute_reply": "2025-06-26T10:25:54.963615Z"
    }
   },
   "source": [
    "<p style=\"font-size: 25px;\">\n",
    "  4. How many groups of sites - based on mite community similarity are there ?\n",
    "</p>\n",
    "\n",
    "<details style=\"font-size: 18px;\">\n",
    "  <summary style=\"font-size: 20px; font-weight: bold; text-decoration: underline;\">4) Answer</summary>\n",
    "  <div style=\"padding: 10px; border:1px solid blue; font-size: 20px;\">\n",
    "    5\n",
    "    <br><br>\n",
    "    <img src=\"images/Script3_HomeWork_4.png\" alt=\"Cluster groups from dendrogram\" style=\"max-width: 100%;\">\n",
    "  </div>\n",
    "</details>\n"
   ]
  },
  {
   "cell_type": "code",
   "execution_count": null,
   "id": "04c4f62b-4d3f-4fc4-bb2c-598d12e561b1",
   "metadata": {},
   "outputs": [],
   "source": [
    "## Q5 Log transform the data and then the calculate simlarity measure again\n",
    "\n",
    "# Apply log(x + 1) transformation to handle zeros and reduce skewness (hint : use log1p())\n",
    "oribatide_mite.log <- ____(oribatide_mite)\n",
    "\n",
    "# Normalize the log-transformed data (unit length per sample) (hint : use decostand())\n",
    "oribatide_mite.log.norm <- ____(oribatide_mite.log, method = \"normalize\")\n",
    "\n",
    "# Compute the chord distance matrix (Euclidean on normalized vectors) (hint : use vegdist)\n",
    "oribatide_mite.log.ch <- ___(oribatide_mite.log.norm, method = \"euclidean\")"
   ]
  },
  {
   "cell_type": "markdown",
   "id": "7333fcd7-99ad-4495-b037-03617abde82d",
   "metadata": {},
   "source": [
    "\n",
    "<details style=\"font-size: 18px;\">\n",
    "  <summary style=\"font-size: 20px; font-weight: bold; text-decoration: underline;\">5) Answer</summary>\n",
    "  <div style=\"padding: 10px; border:1px solid blue; font-size: 20px;\">\n",
    "    <code> oribatide_mite.log <- <span style=\"color:blue;\">log1p</span>(oribatide_mite)</code><br/>\n",
    "    <code> oribatide_mite.log.norm <- <span style=\"color:blue;\">decostand</span>(oribatide_mite.log, method = \"normalize\")</code><br/>\n",
    "    <code>  oribatide_mite.log.ch <- <span style=\"color:blue;\">vegdist</span>(oribatide_mite.log.norm, method = \"euclidean\")</code><br/>\n",
    "  </div>\n",
    "</details>\n"
   ]
  },
  {
   "cell_type": "code",
   "execution_count": null,
   "id": "fe334f13-654b-45df-9cbf-9109589ba18a",
   "metadata": {},
   "outputs": [],
   "source": [
    "## Q6 Show dendogram using single linkage, complete linkage, UPGMA, UPGMC and Ward and explore the impact of log-transformation of mite abundances on the cluster analysis\n",
    "\n",
    "# Set plot size in Jupyter Notebook (20 x 14 inches)\n",
    "options(repr.plot.width = 20, repr.plot.height = 14)\n",
    "par(mfrow = c(3, 2), mar = c(4, 4, 2, 1))  # 3 rows, 2 columns\n",
    "\n",
    "# --- Clustering on chord distances (log-transformed data) ---\n",
    "\n",
    "# Single linkage\n",
    "oribatide_mite.log.ch.single <- hclust(oribatide_mite.log.ch, method = \"single\")\n",
    "plot(oribatide_mite.log.ch.single, main = \"Log(Chord) - Single linkage\", xlab=\"\")\n",
    "\n",
    "# Complete linkage\n",
    "oribatide_mite.log.ch.complete <- hclust(oribatide_mite.log.ch, method = \"complete\")\n",
    "plot(oribatide_mite.log.ch.complete, main = \"Log(Chord) - Complete linkage\", xlab=\"\")\n",
    "\n",
    "# UPGMA (average linkage)\n",
    "oribatide_mite.log.ch.UPGMA <- hclust(oribatide_mite.log.ch, method = \"average\")\n",
    "plot(oribatide_mite.log.ch.UPGMA, main = \"Log(Chord) - UPGMA\", xlab=\"\")\n",
    "\n",
    "# UPGMC (centroid linkage)\n",
    "oribatide_mite.log.ch.centroid <- hclust(oribatide_mite.log.ch, method = \"centroid\")\n",
    "plot(oribatide_mite.log.ch.centroid, main = \"Log(Chord) - Centroid (UPGMC)\", xlab=\"\")\n",
    "\n",
    "# Ward's method\n",
    "oribatide_mite.log.ch.ward <- hclust(oribatide_mite.log.ch, method = \"ward.D2\")\n",
    "plot(oribatide_mite.log.ch.ward, main = \"Log(Chord) - Ward\", xlab=\"\")\n"
   ]
  },
  {
   "cell_type": "markdown",
   "id": "7debb48a-8ab3-4061-8c6e-9136276e56e0",
   "metadata": {},
   "source": [
    "# 5 Shepard Diagrams"
   ]
  },
  {
   "cell_type": "markdown",
   "id": "e6d7ef8a-c2c1-4ff8-b5e0-ee2d885f42dc",
   "metadata": {},
   "source": [
    "> *A Shepard diagram **compares** **original** **dissimilarities** against **cophenetic distances from hierarchical clustering**. The **tighter the points align around the 1:1 reference line**, the **better the clustering preserves** the **original distance** structure. Deviations reveal distortions introduced by the clustering algorithm.*"
   ]
  },
  {
   "cell_type": "markdown",
   "id": "496291da-c898-41d1-b1af-c5e4cc469ca1",
   "metadata": {},
   "source": [
    "<div style=\"padding: 10px; border:5px solid green; font-size: 10px; text-align: left;\">\n",
    "    <img src=\"images/Script3_Shepard_Diagram.png\" width=\"55%\">\n",
    "</div>\n"
   ]
  },
  {
   "cell_type": "markdown",
   "id": "02dbb048-9c84-4520-b340-3e746a543ee8",
   "metadata": {},
   "source": [
    "## 5.0 Shepard Diagram visualization \n",
    "\n",
    "→ *plot(`df_dist`,`cophenetic_dist`)*\n",
    "\n",
    "→ *lines(lowess(`df_dist`, `cophenetic_dist`), col = \"red\", lwd = 3)*\n",
    "\n",
    "The Shepard diagram visualizes the relationship between the original distance matrix and the cophenetic distances from a hierarchical clustering.\n",
    "\n",
    "- **df_dist** : *distance matrix*\n",
    "- **cophenetic_dist** : *copehenetic distance matrix*\n",
    "- **abline(0,1)** : *Add a 1:1 reference line (ideal match between distances)*\n",
    "- **lines(lowess(df_dist, cophenetic_dist), col = \"red\", lwd = 3)** : *Add a LOWESS (locally weighted scatterplot smoothing) curve to visualize the trend*\n"
   ]
  },
  {
   "cell_type": "markdown",
   "id": "a52dd28f-17ff-42b9-bf1b-c7480d30a5c2",
   "metadata": {},
   "source": [
    "## 5.1 Shepard Diagaram for Single linkage clustering"
   ]
  },
  {
   "cell_type": "code",
   "execution_count": 22,
   "id": "2fee57a7-29ed-4ecb-b1f4-fa88f75f75ff",
   "metadata": {
    "execution": {
     "iopub.execute_input": "2025-09-19T15:40:17.047179Z",
     "iopub.status.busy": "2025-09-19T15:40:17.045103Z",
     "iopub.status.idle": "2025-09-19T15:40:17.174603Z",
     "shell.execute_reply": "2025-09-19T15:40:17.172615Z"
    }
   },
   "outputs": [
    {
     "data": {
      "image/png": "[encoded data removed]",
      "text/plain": [
       "Plot with title “Single linkage”",
       "Plot with title “Cophenetic correlation = 0.599”"
      ]
     },
     "metadata": {
      "image/png": {
       "height": 480,
       "width": 600
      }
     },
     "output_type": "display_data"
    }
   ],
   "source": [
    "# Set plot size in Jupyter Notebook (10 x 8 inches)\n",
    "options(repr.plot.width = 10, repr.plot.height = 8)\n",
    "\n",
    "# Shepard diagram ---------------------------------------------------------\n",
    "par(mfrow=c(1,1), mar=c(4,5,3,1))\n",
    "\n",
    "plot(spe.ch, spe.ch.single.coph, #initial chord distance against cophenetic distance from single linkage clustering\n",
    "  xlab = \"Chord distance\",\n",
    "  ylab = \"Cophenetic distance\",\n",
    "  asp = 1, xlim = c(0, sqrt(2)),\n",
    "  ylim = c(0, sqrt(2)),\n",
    "  main = c(\"Single linkage\", paste(\"Cophenetic correlation =\", round(cor(spe.ch, spe.ch.single.coph), 3))))\n",
    "abline(0, 1)  # Add a 1:1 reference line (ideal match between distances)\n",
    "lines(lowess(spe.ch, spe.ch.single.coph), col = \"red\", lwd=3) # Add a LOWESS (locally weighted scatterplot smoothing) curve to visualize the trend"
   ]
  },
  {
   "cell_type": "markdown",
   "id": "e40fbf3b-587a-4b50-a285-f2e3abb83a1a",
   "metadata": {
    "execution": {
     "iopub.execute_input": "2025-07-13T23:07:55.352328Z",
     "iopub.status.busy": "2025-07-13T23:07:55.347864Z",
     "iopub.status.idle": "2025-07-13T23:07:55.381634Z",
     "shell.execute_reply": "2025-07-13T23:07:55.371800Z"
    }
   },
   "source": [
    "<div style=\"padding: 12px; border: 2px solid red; font-size: 18px;\">\n",
    "  <span style=\"text-decoration: underline; font-weight: bold; font-size: 22px;\">Question 5</span><br/><br/>\n",
    "\n",
    "  1) Load the <code>orbatide_mite.csv</code> file and store it in a variable named <code>orbatide_mite</code>. and compute the Chord distances between all samples .<br/>\n",
    "\n",
    "\n",
    "  2) Perform the 5 unsupervised clustering methods based on the distance matrix: Single Linkage, Complete Linkage, UPGMA, UPGMC, and Ward's method.\n",
    "\n",
    "  3) Based on the clustering result, report:<br/>\n",
    "  - The correlations between the cophenetic distance and the actual distance <br/>\n",
    "\n",
    "  4) Based on the clustering result, report:<br/>\n",
    "  - The Shepard diagrams<br/><br/>\n",
    "</div>\n"
   ]
  },
  {
   "cell_type": "code",
   "execution_count": null,
   "id": "77f40e94-6139-40ef-8eb5-cd87aa6e02f2",
   "metadata": {},
   "outputs": [],
   "source": [
    "## Q1 Use the oribatide mite dataset, import it in the environnement and calculate chord distance among samples\n",
    "\n",
    "# Read the CSV file \n",
    "oribatide_mite <- _____(\"oribatide_mite.csv\", row.names = 1)\n",
    "\n",
    "# Normalize the data so that each sample vector length equals 1 (unit length),\n",
    "# which is necessary for calculating chord distance (hint : use decostand() )\n",
    "oribatide_mite.norm <- _____(oribatide_mite, method = \"normalize\")\n",
    "\n",
    "# Compute the chord distance matrix between samples based on normalized data.\n",
    "# Chord distance is the Euclidean distance between normalized vectors (unit length) (hint : use vegdist())\n",
    "oribatide_mite.ch <- _____(oribatide_mite.norm, method = \"euclidean\")"
   ]
  },
  {
   "cell_type": "markdown",
   "id": "b21fda6a-d3a3-4dbe-af8f-af4f028d247d",
   "metadata": {},
   "source": [
    "\n",
    "<details style=\"font-size: 18px;\">\n",
    "  <summary style=\"font-size: 20px; font-weight: bold; text-decoration: underline;\">1) Answer</summary>\n",
    "  <div style=\"padding: 10px; border:1px solid blue; font-size: 20px;\">\n",
    "    <code> oribatide_mite <- <span style=\"color:blue;\">read.csv</span>(\"oribatide_mite.csv\", row.names = 1)</code><br/>\n",
    "    <code> oribatide_mite.norm <- <span style=\"color:blue;\">decostand</span>(oribatide_mite, method = \"normalize\")</code><br/>\n",
    "    <code> oribatide_mite.ch <- <span style=\"color:blue;\">vegdist</span>(oribatide_mite.norm, method = \"euclidean\")</code><br/>\n",
    "  </div>\n",
    "</details>\n"
   ]
  },
  {
   "cell_type": "code",
   "execution_count": null,
   "id": "9b50353c-79f4-4cbe-a822-53f392df6634",
   "metadata": {},
   "outputs": [],
   "source": [
    "## Q2 Perform the 5 unsupervised clustering methods based on the distance matrix: Single Linkage, Complete Linkage, UPGMA, UPGMC, and Ward's method.\n",
    "\n",
    "# Compute single linkage agglomerative clustering \n",
    "oribatide_mite.ch.single <- hclust(oribatide_mite.ch, method = \"____\") # fill the blank\n",
    "\n",
    "# Compute and plot complete-linkage agglomerative clustering\n",
    "oribatide_mite.ch.complete <- hclust(oribatide_mite.ch, method = \"____\") # fill the blank\n",
    "\n",
    "# Compute and plot UPGMA agglomerative clustering (average linkage)\n",
    "oribatide_mite.ch.UPGMA <- hclust(oribatide_mite.ch, method = \"____\") # fill the blank\n",
    "\n",
    "# Compute and plot UPGMC agglomerative clustering (centroid linkage)\n",
    "oribatide_mite.ch.centroid <- hclust(oribatide_mite.ch, method = \"____\") # fill the blank\n",
    "\n",
    "# Compute and plot Ward's minimum variance agglomerative clustering (hint Ward's minimum variance is called with \"ward.D2\" )\n",
    "oribatide_mite.ch.ward <- hclust(oribatide_mite.ch, method = \"____\") # fill the blank"
   ]
  },
  {
   "cell_type": "markdown",
   "id": "53ca9d54-2ca1-48bd-b47f-17004e679e16",
   "metadata": {
    "execution": {
     "iopub.execute_input": "2025-07-14T18:02:52.739733Z",
     "iopub.status.busy": "2025-07-14T18:02:52.731219Z",
     "iopub.status.idle": "2025-07-14T18:02:52.803075Z",
     "shell.execute_reply": "2025-07-14T18:02:52.800858Z"
    }
   },
   "source": [
    "\n",
    "<details style=\"font-size: 18px;\">\n",
    "  <summary style=\"font-size: 20px; font-weight: bold; text-decoration: underline;\">2) Answer</summary>\n",
    "  <div style=\"padding: 10px; border:1px solid blue; font-size: 20px;\">\n",
    "    <code> oribatide_mite.ch.single <- hclust(oribatide_mite.ch, method = <span style=\"color:blue;\">\"Single\"</span>)</code><br/>\n",
    "    <code> oribatide_mite.ch.complete <- hclust(oribatide_mite.ch, method = <span style=\"color:blue;\">\"Complete\"</span>)</code><br/>\n",
    "    <code> oribatide_mite.ch.UPGMA <- hclust(oribatide_mite.ch, method = <span style=\"color:blue;\">\"Average\"</span>)</code><br/>\n",
    "    <code> oribatide_mite.ch.centroid <- hclust(oribatide_mite.ch, method = <span style=\"color:blue;\">\"Centroid\"</span>)</code><br/>\n",
    "    <code> oribatide_mite.ch.ward <- hclust(oribatide_mite.ch, method = <span style=\"color:blue;\">\"ward.D2\"</span>)</code><br/>\n",
    "  </div>\n",
    "</details>\n"
   ]
  },
  {
   "cell_type": "code",
   "execution_count": null,
   "id": "c0c0c4d1-897f-4092-bbdd-af6e228dd975",
   "metadata": {},
   "outputs": [],
   "source": [
    "## Q3 Based on the clustering result, report:\n",
    "\n",
    "# -> The correlation between the cophenetic distance and the actual distance\n",
    "\n",
    "# Create a list containing different clustering objects\n",
    "clustering_list <- list(\n",
    "  oribatide_mite.ch.single,\n",
    "  oribatide_mite.ch.complete,\n",
    "  oribatide_mite.ch.UPGMA,\n",
    "  oribatide_mite.ch.centroid,\n",
    "  oribatide_mite.ch.ward\n",
    ")\n",
    "\n",
    "# Create a list containing different clustering mehtod's name\n",
    "clustering_name <- list(\n",
    "  \"single\",\n",
    "  \"complete\",\n",
    "  \"Average\",\n",
    "  \"Centroid\",\n",
    "  \"Ward\"\n",
    ")\n",
    "\n",
    "\n",
    "# Loop over indices from 1 to the length of clustering_list\n",
    "for (i in 1:length(clustering_list)) {\n",
    "\n",
    "   # Get the clustering object at position i in the list \n",
    "  clustering_obj <- clustering_list[[i]]\n",
    "\n",
    "   # Compute the cophenetic distance matrix for this clustering object \n",
    "  cophenetic_dist <- ___(clustering_obj) # (hint : use cophenetic() )\n",
    "\n",
    "  # Calculate the correlation between the cophenetic distances and the reference distance matrix  \n",
    "  cophenetic_cor <- ___(cophenetic_dist, oribatide_mite.ch) # (hint : use cor() )\n",
    "\n",
    "   # Print the clustering method name and its corresponding correlation value \n",
    "  cat(clustering_name[[i]], \": \", cophenetic_cor, \"\\n\")\n",
    "}"
   ]
  },
  {
   "cell_type": "markdown",
   "id": "0db084b9-f85b-4c8d-8127-b964a7039006",
   "metadata": {},
   "source": [
    "<details style=\"font-size: 18px;\">\n",
    "  <summary style=\"font-size: 20px; font-weight: bold; text-decoration: underline;\">3) Answer</summary>\n",
    "  <div style=\"padding: 10px; border:1px solid blue; font-size: 20px;\">\n",
    "    <code> cophenetic_dist <-<span style=\"color:blue;\">cophenetic</span>(clustering_obj)</code><br/>\n",
    "    <code> cophenetic_cor <-<span style=\"color:blue;\">cor</span>(cophenetic_dist, oribatide_mite.ch)</code><br/>\n",
    "  </div>\n",
    "        <pre style=\"font-family: monospace;\">\n",
    "single   : <span style=\"color: blue;\">0.980991</span>\n",
    "complete : <span style=\"color: blue;\">0.9690431</span>\n",
    "Average  : <span style=\"color: blue;\">0.9828183</span>\n",
    "Centroid : <span style=\"color: blue;\">0.9754404</span>\n",
    "Ward     : <span style=\"color: blue;\">0.9473048</span>\n",
    "</pre>\n",
    "</details>\n",
    "\n",
    "\n",
    "\n"
   ]
  },
  {
   "cell_type": "code",
   "execution_count": null,
   "id": "03d0310f-65b7-4838-bff7-db91eb4d06f7",
   "metadata": {},
   "outputs": [],
   "source": [
    "## Q4 Based on the clustering result, report:\n",
    "\n",
    "# -> The The Shepard diagrams\n",
    "\n",
    "# Set plot size in Jupyter Notebook (17 x 10 inches)\n",
    "options(repr.plot.width = 17, repr.plot.height = 10)\n",
    "\n",
    "# Prepare the graphics window with 3 rows and 2 columns\n",
    "par(mfrow = c(3, 2), mar = c(4, 5, 3, 1))\n",
    "\n",
    "# keep reference chord initial  distance\n",
    "dist_ref <- oribatide_mite.ch\n",
    "\n",
    "# Loop over indices from 1 to the length of clustering_list\n",
    "for (i in 1:length(clustering_list)) {\n",
    "    \n",
    "   # Get the clustering object at position i in the list \n",
    "  clustering_obj <- clustering_list[[i]]\n",
    "\n",
    "   # Compute the cophenetic distance matrix for this clustering object \n",
    "  cophenetic_dist <- ___(clustering_obj) # (hint : use cophenetic() )\n",
    "\n",
    "  # Calculate the correlation between the cophenetic distances and the reference distance matrix  \n",
    "  cophenetic_cor <- ___(cophenetic_dist, oribatide_mite.ch) # (hint : use cor() )\n",
    "    \n",
    "  \n",
    "  # Round the cophenetic correlation with maximum of 3 digits after comma\n",
    "  cophenetic_cor <- round(cophenetic_cor, 3)\n",
    "\n",
    "  # Retrieve the method name\n",
    "    method <- clustering_name[[i]]\n",
    "\n",
    "  # Plot Shepard diagram with larger text\n",
    "  plot(dist_ref, cophenetic_dist,\n",
    "       xlab = \"Chord distance\",\n",
    "       ylab = \"Cophenetic distance\",\n",
    "       asp = 1, xlim = c(0, sqrt(2)),\n",
    "       ylim = c(0, sqrt(2)),\n",
    "       main = paste(method, \"\\nCophenetic correlation =\", cophenetic_cor),\n",
    "       cex.main = 1.6,   # title size\n",
    "       cex.lab = 1.4,    # label size\n",
    "       cex.axis = 1.2    # axis ticks size\n",
    "  )\n",
    "  abline(0, 1)  # 1:1 reference line\n",
    "  lines(lowess(dist_ref, cophenetic_dist), col = \"red\", lwd = 3)\n",
    "    \n",
    "}\n"
   ]
  },
  {
   "cell_type": "markdown",
   "id": "6d153fc8-08b1-4b52-8a8e-495ef6b478fd",
   "metadata": {},
   "source": [
    "<details style=\"font-size: 18px;\">\n",
    "  <summary style=\"font-size: 20px; font-weight: bold; text-decoration: underline;\">3) Answer</summary>\n",
    "  <div style=\"padding: 10px; border:1px solid blue; font-size: 20px;\">\n",
    "    <code> cophenetic_dist <-<span style=\"color:blue;\">cophenetic</span>(clustering_obj)</code><br/>\n",
    "    <code> cophenetic_cor <-<span style=\"color:blue;\">cor</span>(cophenetic_dist, oribatide_mite.ch)</code><br/>\n",
    "    <br/>\n",
    "    <img src=\"images/Script3_Q4.png\" alt=\"Script3 Q4\" style=\"margin-top: 15px; max-width: 100%; border: 1px solid #ccc;\"/>\n",
    "  </div>\n",
    "</details>\n"
   ]
  },
  {
   "cell_type": "markdown",
   "id": "e86053dc-576d-47c1-b506-4337cd365bcf",
   "metadata": {},
   "source": [
    "# 6 Advanced dendogram plotting "
   ]
  },
  {
   "cell_type": "markdown",
   "id": "65beef9f-d1b9-4630-b047-213e1ba19026",
   "metadata": {},
   "source": [
    "## 6.1 Advanced dendogram plotting -> *as.dendogram(`hc`)*, *plot (`hc.dend`)*\n",
    "\n",
    "- **hc** : *hierarchical clustering object from a distance matrix*\n",
    "- **hc.dend** :  *Dendogram objected from the hierarchical clustering object*\n",
    "- **plot(hc.dend)** : *Plot the dendrogram*"
   ]
  },
  {
   "cell_type": "markdown",
   "id": "69318afa-f94f-45d7-a0a5-cfad4b43fc8f",
   "metadata": {
    "execution": {
     "iopub.execute_input": "2025-06-26T11:47:36.768112Z",
     "iopub.status.busy": "2025-06-26T11:47:36.763753Z",
     "iopub.status.idle": "2025-06-26T11:47:36.791011Z",
     "shell.execute_reply": "2025-06-26T11:47:36.788551Z"
    }
   },
   "source": [
    "### 6.1.1 UPGMA clustering dendogram plotting"
   ]
  },
  {
   "cell_type": "code",
   "execution_count": null,
   "id": "1fa9621d-f796-4b7c-9251-3f5c5c37840d",
   "metadata": {},
   "outputs": [],
   "source": [
    "# Set plot size in Jupyter Notebook (9 x 9 inches)\n",
    "options(repr.plot.width = 9, repr.plot.height = 9)\n",
    "\n",
    "#convert from hclust object to dendrogram\n",
    "UPGMA.dend <- as.dendrogram(spe.ch.UPGMA) \n",
    "#plot dendrogram\n",
    "plot(UPGMA.dend)                            "
   ]
  },
  {
   "cell_type": "markdown",
   "id": "f71f5494-46fd-4889-8c9b-3b4d6c051692",
   "metadata": {},
   "source": [
    "<div style=\"padding: 12px; border: 2px solid red; font-size: 18px;\">\n",
    "  <span style=\"text-decoration: underline; font-weight: bold; font-size: 22px;\">Question 6</span><br/><br/>\n",
    "\n",
    "<ol>\n",
    "  <li>Use the chord distance matrix <code>spe.ch</code> to perform hierarchical clustering with the complete linkage method, and store the result in <code>spe.ch.complete</code>.</li>\n",
    "  <li>Convert the resulting <code>hclust</code> object into a <code>dendrogram</code> object and plot the resulting dendrogram.</li>\n",
    "</ol>\n",
    "\n",
    "</div>\n"
   ]
  },
  {
   "cell_type": "code",
   "execution_count": null,
   "id": "fe5ed338-91de-4bbc-b3f8-6fe6116816e6",
   "metadata": {},
   "outputs": [],
   "source": [
    "# Q1 Use the chord distance matrix spe.ch to perform hierarchical clustering with the complete linkage method, and store the result in spe.ch.complete\n",
    "\n",
    "# Compute complete-linkage agglomerative clustering\n",
    "spe.ch.complete <- ____(spe.ch, method = \"____\") # (hint : use hclust() )"
   ]
  },
  {
   "cell_type": "markdown",
   "id": "9f261234-1e5f-49ce-a392-07c9ab82482f",
   "metadata": {},
   "source": [
    "\n",
    "<details style=\"font-size: 18px;\">\n",
    "  <summary style=\"font-size: 20px; font-weight: bold; text-decoration: underline;\">1) Answer</summary>\n",
    "  <div style=\"padding: 10px; border:1px solid blue; font-size: 20px;\">\n",
    "    <code> spe.ch.complete <- <span style=\"color:blue;\">hclust</span>(spe.ch, method = \"<span style=\"color:blue;\">complete</span>\") </code><br/>\n",
    "  </div>\n",
    "</details>\n"
   ]
  },
  {
   "cell_type": "code",
   "execution_count": null,
   "id": "7e5e895e-e973-417b-b8a7-d9e192bb80e7",
   "metadata": {},
   "outputs": [],
   "source": [
    "#convert from hclust object to dendrogram\n",
    "spe.ch.complete.dend <- _____(spe.ch.complete) # (hint : use as.dendogram() )\n",
    "\n",
    "# Set plot size in Jupyter Notebook (9 x 9 inches)\n",
    "options(repr.plot.width = 9, repr.plot.height = 9)\n",
    "\n",
    "#plot the dendrogram\n",
    "plot(spe.ch.complete.dend,main = \"Dendrogram - Complete Linkage Clustering\")                            "
   ]
  },
  {
   "cell_type": "markdown",
   "id": "8263e396-b1a1-4f96-8f5e-ee23306ace65",
   "metadata": {},
   "source": [
    "<details style=\"font-size: 18px;\">\n",
    "  <summary style=\"font-size: 20px; font-weight: bold; text-decoration: underline;\">2) Answer</summary>\n",
    "  <div style=\"padding: 10px; border:1px solid blue; font-size: 20px;\">\n",
    "    <code>spe.ch.complete.dend &lt;- <span style=\"color:blue;\">as.dendrogram</span>(spe.ch.complete)</code><br/><br/>\n",
    "    <img src=\"images/Script3_Q6.png\" alt=\"Dendrogram Image\" style=\"margin-top:10px; max-width:100%; border:1px solid #ccc;\">\n",
    "  </div>\n",
    "</details>\n"
   ]
  },
  {
   "cell_type": "markdown",
   "id": "50de7c20-b9dd-4d8c-bf6d-963fc93a4da1",
   "metadata": {},
   "source": [
    "## 6.2 Advanced dendogram plotting -> Adding colours (with k-means) (needs dendextend library)"
   ]
  },
  {
   "cell_type": "markdown",
   "id": "3b751b71-e1c9-4853-a44e-d83395cc1d12",
   "metadata": {
    "execution": {
     "iopub.execute_input": "2025-06-26T11:55:08.534281Z",
     "iopub.status.busy": "2025-06-26T11:55:08.529093Z",
     "iopub.status.idle": "2025-06-26T11:55:08.560013Z",
     "shell.execute_reply": "2025-06-26T11:55:08.556855Z"
    }
   },
   "source": [
    "**Use the following structure**\n",
    "\n",
    "```r\n",
    "\n",
    "# Convert hierarchical clustering result into a dendrogram object\n",
    "hc.dend <- as.dendrogram(hc)\n",
    "\n",
    "# Run NbClust to determine the optimal number of clusters\n",
    "Nb.hc <- NbClust(df, diss = df_dist, min.nc = <min_k>, max.nc = <max_k>, method = \"<method>\", index = \"<index>\")\n",
    "\n",
    "# Extract the best partition (cluster assignments) from NbClust result\n",
    "colors_to_use <- Nb.hc$Best.partition      \n",
    "\n",
    "# Reorder the cluster assignments to match the order of the dendrogram leaves\n",
    "colors_to_use <- colors_to_use[order.dendrogram(hc.dend)]\n",
    "\n",
    "# Set the tip (leaf) label colors according to the cluster assignments\n",
    "labels_colors(hc.dend) <- colors_to_use   \n",
    "\n",
    "\n",
    "# Color the branches of the dendrogram according to the number of clusters found\n",
    "labels_colors(hc.dend)<-1\n",
    "\n",
    "k_optimal <- length(unique(colors_to_use))\n",
    "\n",
    "hc.dend <- hc.dend %>% color_branches(k = k_optimal)\n",
    "\n",
    "# Plot the colored dendrogram\n",
    "plot(hc.dend)\n",
    "\n",
    "```\n"
   ]
  },
  {
   "cell_type": "markdown",
   "id": "f977f21d-c1d6-4740-b6ee-8f27d891a4f2",
   "metadata": {},
   "source": [
    "### 6.2.1 Advanced plotting with UPMGA "
   ]
  },
  {
   "cell_type": "code",
   "execution_count": null,
   "id": "65d0f156-b14d-471d-8b88-e620c1d9c7f0",
   "metadata": {},
   "outputs": [],
   "source": [
    "library(dendextend)"
   ]
  },
  {
   "cell_type": "code",
   "execution_count": null,
   "id": "49721bed-0ae4-4ae8-a2ef-d81d1ff5ec9d",
   "metadata": {},
   "outputs": [],
   "source": [
    "# Convert the hierarchical clustering result into a dendrogram object\n",
    "UPGMA.dend <- as.dendrogram(spe.ch.UPGMA)\n",
    "\n",
    "# Run NbClust to determine the optimal number of clusters\n",
    "Nb.UPGMA <- NbClust(spe, diss = spe.ch, distance = NULL, min.nc = 2, max.nc = 16, \n",
    "                    method = \"average\", index = \"ch\")\n",
    "\n",
    "# Extract the best partition (cluster assignments)\n",
    "colors_to_use <- Nb.UPGMA$Best.partition\n",
    "\n",
    "# Reorder the cluster assignments to match the order of dendrogram leaves\n",
    "colors_to_use <- colors_to_use[order.dendrogram(UPGMA.dend)]\n",
    "\n",
    "# Set the tip label colors according to the best partition\n",
    "labels_colors(UPGMA.dend) <- colors_to_use\n",
    "\n",
    "labels_colors(UPGMA.dend)<-1\n",
    "\n",
    "\n",
    "# Color the branches of the dendrogram according to the number of clusters found\n",
    "k_optimal <- length(unique(colors_to_use))\n",
    "UPGMA.dend <- UPGMA.dend %>% color_branches(k = k_optimal)\n",
    "\n",
    "# Plot the final colored dendrogram\n",
    "plot(UPGMA.dend)\n"
   ]
  }
 ],
 "metadata": {
  "kernelspec": {
   "display_name": "R",
   "language": "R",
   "name": "ir"
  },
  "language_info": {
   "codemirror_mode": "r",
   "file_extension": ".r",
   "mimetype": "text/x-r-source",
   "name": "R",
   "pygments_lexer": "r",
   "version": "4.5.1"
  }
 },
 "nbformat": 4,
 "nbformat_minor": 5
}
