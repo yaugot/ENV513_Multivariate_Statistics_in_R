{
 "cells": [
  {
   "cell_type": "markdown",
   "id": "ecc4bce9-11c7-4608-800e-11daedf1bb86",
   "metadata": {
    "editable": true,
    "slideshow": {
     "slide_type": ""
    },
    "tags": []
   },
   "source": [
    "# Script 1 - Exploring Datasets"
   ]
  },
  {
   "cell_type": "markdown",
   "id": "214174dc-d028-4cf2-b70b-664a5f514acc",
   "metadata": {},
   "source": [
    "## Acknowledgements"
   ]
  },
  {
   "cell_type": "markdown",
   "id": "e67d6f4e-3cc3-46a3-a738-a9b0668c9a66",
   "metadata": {},
   "source": [
    "*code largely based on SI material for*  **Borcard D., Gillet F. & Legendre P. 2018.**\n",
    "\n",
    "**Numerical Ecology with R, 2nd edition. Springer International Publishing AG.and course material generously provided by A. Buttler (EPFL Numerical Ecology Class)**"
   ]
  },
  {
   "cell_type": "markdown",
   "id": "2fb08e7b-3db1-4880-b8ea-aff4f8a9d594",
   "metadata": {
    "editable": true,
    "execution": {
     "iopub.execute_input": "2025-06-18T11:42:41.130641Z",
     "iopub.status.busy": "2025-06-18T11:42:41.126276Z",
     "iopub.status.idle": "2025-06-18T11:42:41.150069Z",
     "shell.execute_reply": "2025-06-18T11:42:41.147157Z"
    },
    "slideshow": {
     "slide_type": ""
    },
    "tags": []
   },
   "source": [
    "# 1 Packages  -> *(install.packages(), library(), help(), ?package, ??package)*"
   ]
  },
  {
   "cell_type": "markdown",
   "id": "ba736953-3fb4-400e-9096-9605411b205e",
   "metadata": {},
   "source": [
    "## 1.1 Install packages -> *install.packages()*"
   ]
  },
  {
   "cell_type": "code",
   "execution_count": null,
   "id": "8c233433-d602-4689-9d42-dab481d4934a",
   "metadata": {},
   "outputs": [],
   "source": [
    "install.packages(\"vegan\")"
   ]
  },
  {
   "cell_type": "code",
   "execution_count": null,
   "id": "fbf2e715-eb28-4044-9570-4dde07a831b5",
   "metadata": {},
   "outputs": [],
   "source": [
    "install.packages(\"ade4\")"
   ]
  },
  {
   "cell_type": "code",
   "execution_count": null,
   "id": "8f6c3e40-727d-470b-bd78-b7422d0988e6",
   "metadata": {},
   "outputs": [],
   "source": [
    "install.packages(\"pastecs\")"
   ]
  },
  {
   "cell_type": "code",
   "execution_count": null,
   "id": "3afd51b0-a1f6-4c3d-abdf-9b62bbe50167",
   "metadata": {},
   "outputs": [],
   "source": [
    "install.packages(\"psych\")"
   ]
  },
  {
   "cell_type": "code",
   "execution_count": null,
   "id": "d9a628b1-3b33-4db4-aead-3cf7ad97113f",
   "metadata": {},
   "outputs": [],
   "source": [
    "install.packages(\"fmsb\")"
   ]
  },
  {
   "cell_type": "markdown",
   "id": "53e5f05b-8cc9-4bcc-9067-9daacd954da4",
   "metadata": {
    "execution": {
     "iopub.execute_input": "2025-06-18T11:42:12.604651Z",
     "iopub.status.busy": "2025-06-18T11:42:12.600140Z",
     "iopub.status.idle": "2025-06-18T11:42:12.633144Z",
     "shell.execute_reply": "2025-06-18T11:42:12.629558Z"
    }
   },
   "source": [
    "## 1.2 Loading the needed packages -> *library()*"
   ]
  },
  {
   "cell_type": "code",
   "execution_count": null,
   "id": "8d65e260-9ff9-4c05-a790-93223af4d317",
   "metadata": {},
   "outputs": [],
   "source": [
    "library(vegan)\n",
    "library(ade4)\n",
    "library(pastecs) \n",
    "library(psych)\n",
    "library(gplots)\n",
    "library(fmsb)"
   ]
  },
  {
   "cell_type": "markdown",
   "id": "e6c3c2c6-b2b3-420a-85f6-2554f915e600",
   "metadata": {},
   "source": [
    "## 1.3 Displaying the help page for a package"
   ]
  },
  {
   "cell_type": "markdown",
   "id": "af4ec9bc-a3cd-40aa-bec8-d96e287650e5",
   "metadata": {},
   "source": [
    "### 1.3.1 Displays the help page -> *?package*"
   ]
  },
  {
   "cell_type": "code",
   "execution_count": null,
   "id": "e65f94c6-4fbe-4deb-afc8-d9b37f432cc9",
   "metadata": {},
   "outputs": [],
   "source": [
    "# Displays the help page for the package\n",
    "help(vegan)\n",
    "?vegan"
   ]
  },
  {
   "cell_type": "markdown",
   "id": "e2c19cc5-3ec5-4df8-b703-b734da8a38fe",
   "metadata": {},
   "source": [
    "### 1.3.2 Perform a broader keyword search in all installed documentation. -> *??package*"
   ]
  },
  {
   "cell_type": "code",
   "execution_count": null,
   "id": "9a87e56d-bccc-40fd-b093-a3c32e9ed102",
   "metadata": {},
   "outputs": [],
   "source": [
    "# broader keyword search in all installed documentation.\n",
    "??vegan"
   ]
  },
  {
   "cell_type": "markdown",
   "id": "4fa0dae9-9130-4af4-add3-1b8996e419f6",
   "metadata": {},
   "source": [
    "# 2 Working Directory (*getwd(), setwd(),setwd(choose.dir()*)"
   ]
  },
  {
   "cell_type": "markdown",
   "id": "cfb46b60-f95e-4073-86a4-b9cee6d5a3e0",
   "metadata": {},
   "source": [
    "## 2.1 Returns the current working directory -> *getwd()*"
   ]
  },
  {
   "cell_type": "code",
   "execution_count": null,
   "id": "7d38e210-58fd-47ac-bdfc-c100c8cb5a50",
   "metadata": {},
   "outputs": [],
   "source": [
    "getwd()"
   ]
  },
  {
   "cell_type": "markdown",
   "id": "3b79a603-e2e9-4e5e-a9a8-1f90592c183b",
   "metadata": {},
   "source": [
    "## 2.2 Sets the working directory to the specified path -> *setwd()*"
   ]
  },
  {
   "cell_type": "code",
   "execution_count": null,
   "id": "3422dd83-d4d0-4102-a5ff-19b8e5987f08",
   "metadata": {},
   "outputs": [],
   "source": [
    "setwd('/multivariate_statistics_env-513/')"
   ]
  },
  {
   "cell_type": "markdown",
   "id": "677cd592-7c1e-423f-8701-34e26a65e284",
   "metadata": {},
   "source": [
    "## 2.3 Opens a dialog to choose the working directory (Windows only) -> *setwd(choose.dir())*"
   ]
  },
  {
   "cell_type": "code",
   "execution_count": null,
   "id": "124826f7-3726-4a07-976f-4232602aab25",
   "metadata": {},
   "outputs": [],
   "source": [
    "setwd(choose.dir())"
   ]
  },
  {
   "cell_type": "markdown",
   "id": "1877e90e-1680-4e19-a02b-9ac958e99fe6",
   "metadata": {},
   "source": [
    "# 3 Read data from file *(read.csv())*"
   ]
  },
  {
   "cell_type": "markdown",
   "id": "5f9504e8-3571-44e2-aa96-d92b00040d60",
   "metadata": {},
   "source": [
    "## 3.1 import CSV files as dataframes -> *read.csv()*"
   ]
  },
  {
   "cell_type": "markdown",
   "id": "493e7739-8694-45e5-ae54-900119477152",
   "metadata": {},
   "source": [
    "**read.csv(file, header = TRUE, sep = \",\", row.names = NULL)** \n",
    "\n",
    "- **file** : -> *path to the CSV file.*\n",
    "\n",
    "- **header** : -> *indicates if the first line contains column names (`TURE` by default).*\n",
    "\n",
    "- **sep** : -> *field separator (`,` by default for read.csv).*\n",
    "\n",
    "- **row.names** : -> *column to use as row names., if = `1` then the first colomn will be used to name the rows in the dataframe*"
   ]
  },
  {
   "cell_type": "code",
   "execution_count": null,
   "id": "e7b8b87b-f0b4-4eb3-9d1b-e63e7fa7d435",
   "metadata": {},
   "outputs": [],
   "source": [
    "ex1 <- read.csv(\"example.csv\", head=TRUE, sep=\",\", row.names = 1)\n",
    "ex1"
   ]
  },
  {
   "cell_type": "markdown",
   "id": "f6ec89b9-d26f-4206-9c26-7bb9c5469e57",
   "metadata": {},
   "source": [
    "## 3.2  import CSV file chosen via dialog -> *read.csv(file.choose())*"
   ]
  },
  {
   "cell_type": "code",
   "execution_count": null,
   "id": "3acab9c6-3312-479b-b03c-2f7ba415b377",
   "metadata": {},
   "outputs": [],
   "source": [
    "ex2<-read.csv(file.choose())\n",
    "ex2"
   ]
  },
  {
   "cell_type": "markdown",
   "id": "9c50c1f5-c13f-4650-abbd-3e803cdf2845",
   "metadata": {},
   "source": [
    "# 4 Data Definition (*declare variable, create vectors*)"
   ]
  },
  {
   "cell_type": "markdown",
   "id": "424a0b00-d172-4e1d-b796-464b8dc54150",
   "metadata": {},
   "source": [
    "## 4.1 Create variables, adding data etc.."
   ]
  },
  {
   "cell_type": "code",
   "execution_count": null,
   "id": "6cb7087b-57cc-4a36-b4fa-40feadb34f23",
   "metadata": {},
   "outputs": [],
   "source": [
    "a = 12       # Create a variable 'a' with value 12\n",
    "b = 34       # Create a variable 'b' with value 34\n",
    "c = a + b    # Add 'a' and 'b', store the result in 'c' \n",
    "print(a)\n",
    "print(b)\n",
    "print(c)"
   ]
  },
  {
   "cell_type": "markdown",
   "id": "20dddc87-1633-4975-9ed8-a041fc60cbde",
   "metadata": {},
   "source": [
    "## 4.2 Create vectors -> *vec <- c(x1,x2,x3,x4)*"
   ]
  },
  {
   "cell_type": "code",
   "execution_count": null,
   "id": "158bb2c9-3784-49c0-8a35-bacaa13fa995",
   "metadata": {},
   "outputs": [],
   "source": [
    "a <-c(1,4,6)\n",
    "a<-a*3 + 2\n",
    "a"
   ]
  },
  {
   "cell_type": "code",
   "execution_count": null,
   "id": "8617f67d-d2fa-4821-896d-35a26de7a973",
   "metadata": {},
   "outputs": [],
   "source": [
    "dat1 <- c(2, 3, 5)  # Create a vector 'dat1' with values 2, 3, and 5\n",
    "print(dat1)\n",
    "\n",
    "dat1 <- dat1 * 2            # Multiply each element of 'dat1' by 2 (result: 4, 6, 10)\n",
    "print(dat1)"
   ]
  },
  {
   "cell_type": "markdown",
   "id": "d198c4ec-73cc-492c-b7a9-852f985bf4af",
   "metadata": {},
   "source": [
    "<div style=\"padding: 10px; border:1px solid red; font-size: 18px;\">\n",
    "  <span style=\"text-decoration:underline; font-weight: bold; font-size: 22px;\">Question 1</span><br/>\n",
    "  What is the output of the following line of code ?<br/>\n",
    "  <pre style=\"font-size: 20px; margin: 5px 0;\"><code>a <- c(1, 4, 6)\n",
    "a <- 2 + a * 3</code></pre>\n",
    "  <p style=\"text-align: right; margin-bottom: 0px; font-style: italic;\">\n",
    "    You can check your answer by clicking on the \"Answer\" below.\n",
    "  </p>\n",
    "</div>\n",
    "\n",
    "<details style=\"font-size: 18px;\">\n",
    "  <summary style=\"font-size: 20px; font-weight: bold; text-decoration: underline;\">Answer</summary>\n",
    "  <div style=\"padding: 10px; border:1px solid blue; font-size: 20px;\">\n",
    "    <code> c(5,14,20)</code>.\n",
    "  </div>\n",
    "</details>\n"
   ]
  },
  {
   "cell_type": "markdown",
   "id": "45241b7b-df34-4e58-9777-e6d830ed87ad",
   "metadata": {},
   "source": [
    "# 5 Exploring datasets (*Load(),head(),tail(),nrow(),ncol(),dim(),colnames(),rownames(),range(),apply(),sum(),mean(),median(),sd(),var(),summary(),str()*)"
   ]
  },
  {
   "cell_type": "markdown",
   "id": "6931539d-faf3-4f94-bab0-04df170b6575",
   "metadata": {},
   "source": [
    "## 5.1 Load data -> *load()*"
   ]
  },
  {
   "cell_type": "code",
   "execution_count": null,
   "id": "7ac430b6-1949-4044-95c9-5ed80c472ad2",
   "metadata": {},
   "outputs": [],
   "source": [
    "# load data ---------------------------------------------------------------\n",
    "load(\"Doubs.RData\") # Load the saved R workspace file \"Doubs.RData\" into the environment\n",
    "data(doubs) # Load the built-in dataset named \"doubs\" (if available in attached packages)"
   ]
  },
  {
   "cell_type": "markdown",
   "id": "77a71ea2-7095-4c16-aeb4-418eee855235",
   "metadata": {},
   "source": [
    "## 5.2 Display the whole data frame in the console -> *df*"
   ]
  },
  {
   "cell_type": "code",
   "execution_count": null,
   "id": "f5d3a878-1efc-47e3-939c-fdbe7671bf91",
   "metadata": {},
   "outputs": [],
   "source": [
    "spe"
   ]
  },
  {
   "cell_type": "markdown",
   "id": "a2406bbf-7809-40c7-bece-b0c230dc0d14",
   "metadata": {},
   "source": [
    "## 5.3 Display only first or last rows -> *head(df)*, *tail(df)*\n",
    "\n",
    "- **head(df)** : *shows 6 first rows*\n",
    "\n",
    "- **tail(df)** : *shows 6 last rows*)"
   ]
  },
  {
   "cell_type": "code",
   "execution_count": null,
   "id": "fd60419b-50df-4d23-9d07-4ac41c495a7b",
   "metadata": {},
   "outputs": [],
   "source": [
    "head(spe)                 # Display only the first 6 rows\n",
    "tail(spe)                 # Display only the last 6 rows"
   ]
  },
  {
   "cell_type": "markdown",
   "id": "db67b25d-8263-4f2e-ac98-5ea603e8afbe",
   "metadata": {},
   "source": [
    "## 5.4 Display only selected rows and columns -> *df[]*\n",
    "\n",
    "- **c()** = *selected rows/columns*\n",
    "\n",
    "- **n:n+k** = *nth row/column to the n+k th row/column*\n",
    "\n",
    "- **df[c(),c()]**\n",
    "\n",
    "- **df[n:n+k,n:n+k]**\n",
    "\n",
    "- **df[c(),n:n+k]**\n",
    "\n",
    "- **df[n:n+k,c()]** "
   ]
  },
  {
   "cell_type": "code",
   "execution_count": null,
   "id": "b4104404-33da-40ab-9cca-9392496bd538",
   "metadata": {},
   "outputs": [],
   "source": [
    "X <- spe[c(2, 5, 7), 8:12]  # Select rows 2, 5, and 7 and columns 8 to 12 from 'spe'\n",
    "X"
   ]
  },
  {
   "cell_type": "markdown",
   "id": "4fd8d833-5d7c-472d-9d93-fd46d4ce0d6c",
   "metadata": {},
   "source": [
    "## 5.5 Display the number of rows/columns or the dimension of a dataframe -> *nrow(df)*, *ncol(df)*, *dim(df)*\n",
    "\n",
    " - **nrow(df)** : *Number of rows*\n",
    " \n",
    " - **ncol(df)** : *Number of columns*\n",
    "\n",
    " - **dim(df)** : *Dimension of the dataframe (`rows x columns`)*"
   ]
  },
  {
   "cell_type": "code",
   "execution_count": null,
   "id": "36e20f10-6ac2-4990-ad76-80ab57b0450f",
   "metadata": {},
   "outputs": [],
   "source": [
    "nrow(spe)                 # Number of rows (sites)\n",
    "ncol(spe)                 # Number of columns (species)\n",
    "dim(spe)                  # Dimension of the spe (rowsxcolumns)"
   ]
  },
  {
   "cell_type": "markdown",
   "id": "c9948f77-f751-46f5-9350-8fe8c68475a6",
   "metadata": {},
   "source": [
    "## 5.6 Display Columns and row labels -> *colnames(df)*, *rownames(df)*\n",
    "\n",
    "- **colnames(df)** : *Columns labels*\n",
    "\n",
    "- **rownames(df)** : *Row names*"
   ]
  },
  {
   "cell_type": "code",
   "execution_count": null,
   "id": "3a3c22ab-2a0c-4865-84a8-9b34e5db4cba",
   "metadata": {},
   "outputs": [],
   "source": [
    "colnames(spe)             # Column labels (descriptors = species)\n",
    "rownames(spe)             # Row labels (objects = sites)"
   ]
  },
  {
   "cell_type": "markdown",
   "id": "280e3841-eb69-468b-9c51-e4017b0d23df",
   "metadata": {},
   "source": [
    "## 5.7 Display Minimum and Maximum values found in a dataframe -> *range(df)*, *range(df$col)*, *apply(df,1/2,range)*\n",
    "\n",
    "- **range(df)**: *returns the minimum and maximum values across the entire data frame `df` (all numeric values combined)*\n"
   ]
  },
  {
   "cell_type": "code",
   "execution_count": null,
   "id": "faf8fe4e-bc4d-4fef-bb28-db1f3296a37f",
   "metadata": {},
   "outputs": [],
   "source": [
    "range(spe) # Minimum and maximum of abundance values in the whole data set"
   ]
  },
  {
   "cell_type": "markdown",
   "id": "06f4c86a-c6d1-4b70-8c6e-ee1d372e145e",
   "metadata": {},
   "source": [
    "- **range(df$col)**: *returns the minimum and maximum values of the column `col` in the data frame `df`*\n"
   ]
  },
  {
   "cell_type": "code",
   "execution_count": null,
   "id": "d647ecff-45cc-4d05-bb6a-43f4bd5541d8",
   "metadata": {},
   "outputs": [],
   "source": [
    "range(spe$Cogo) # Minimum and maximum in the column Cogo"
   ]
  },
  {
   "cell_type": "markdown",
   "id": "487a0f69-1407-422e-81e3-fcce5aaddab3",
   "metadata": {},
   "source": [
    "- **apply(df, 2, range)**: *applies the `range` function to each column of the data frame `df`, returning the minimum and maximum for each column*\n",
    "\n",
    "- **apply(df, 1, range)**: *applies the `range` function to each row of the data frame `df`, returning the minimum and maximum for each row*\n"
   ]
  },
  {
   "cell_type": "code",
   "execution_count": null,
   "id": "eb6b2665-9da3-4b37-893a-b11477760f84",
   "metadata": {},
   "outputs": [],
   "source": [
    "apply(spe,1,range)  # returns the min and max for each row (i.e., for each sample)\n",
    "\n",
    "apply(spe, 2, range)  # returns the min and max for each column (i.e., for each species)\n"
   ]
  },
  {
   "cell_type": "markdown",
   "id": "238e2453-d8b3-495d-9504-c74c31bdd095",
   "metadata": {},
   "source": [
    "## 5.8 Display the sum of all values in column -> *sum(df$col)*"
   ]
  },
  {
   "cell_type": "code",
   "execution_count": null,
   "id": "26dd38b3-bf6b-43b8-93c8-f0d2b57aed7e",
   "metadata": {},
   "outputs": [],
   "source": [
    "sum(spe$Cogo)  # Calculate the total sum of values in the 'Cogo' column of the 'spe' data frame"
   ]
  },
  {
   "cell_type": "markdown",
   "id": "4ff7fd98-6335-40a9-9fb5-ae8df09cdc35",
   "metadata": {},
   "source": [
    "## 5.9 Display mean, median, standard deviation, variance for a column -> *mean(df\\$col)* *median(df\\$col)*, *sd(df\\$col)*, *var(df\\$col)*\n",
    "\n",
    "- **mean(df$col)**: *returns the average of the values in column `col` of data frame `df`*  \n",
    "\n",
    "- **median(df$col)**: *returns the median (middle value) of column `col` in `df`*  \n",
    "\n",
    "- **sd(df$col)**: *returns the standard deviation of values in column `col` (spread around the mean)* \n",
    "\n",
    "- **var(df$col)**: *returns the variance (average squared deviation) of values in column `col`*\n",
    "\n"
   ]
  },
  {
   "cell_type": "code",
   "execution_count": null,
   "id": "0284ec70-527f-4db5-b5b5-db273b0b9332",
   "metadata": {},
   "outputs": [],
   "source": [
    "mean(spe$Cogo)       # Computes the average of the Cogo column in the spe dataframe  \n",
    "median(spe$Cogo)     # Returns the median value of the Cogo column in spe  \n",
    "sd(spe$Cogo)         # Calculates the standard deviation of the Cogo column in spe  \n",
    "var(spe$Cogo)        # Computes the variance of the Cogo column in spe  "
   ]
  },
  {
   "cell_type": "markdown",
   "id": "b7162a57-4406-4af0-bf34-7230f1ba0d14",
   "metadata": {},
   "source": [
    "## 5.10 Display descriptive statistics of a dataframe -> *summary(df), stat.desc(df), describeBy(df,group =)*"
   ]
  },
  {
   "cell_type": "markdown",
   "id": "0c47434d-f74a-43b5-9794-c92585ba384a",
   "metadata": {},
   "source": [
    "<div style=\"padding: 10px; border:3px solid green; font-size: 10px; text-align: left;\">\n",
    "    <img src=\"boxplot.png\" width=\"35%\">\n",
    "</div>"
   ]
  },
  {
   "cell_type": "markdown",
   "id": "b8e386d0-794b-46b8-9a18-bf15c8da95a6",
   "metadata": {},
   "source": [
    "### 5.10.1 Display **descriptive statistics** for **each column** -> *summary(df)*\n",
    "\n",
    "- **Min**: *minimum value*\n",
    "\n",
    "- **1st Qu.**: *first quartile (25%)*\n",
    "\n",
    "- **Median**: *median (50%)*\n",
    "\n",
    "- **Mean**: *average*\n",
    "\n",
    "- **3rd Qu.**: *third quartile (75%)*\n",
    "\n",
    "- **Max.**: *maximum value*\n"
   ]
  },
  {
   "cell_type": "code",
   "execution_count": null,
   "id": "7659e854-799e-4890-947c-b3422403b41e",
   "metadata": {},
   "outputs": [],
   "source": [
    "summary(spe)              # Descriptive statistics for columns"
   ]
  },
  {
   "cell_type": "markdown",
   "id": "af422ea9-439b-47bc-a484-7ee7d47ee1f9",
   "metadata": {
    "execution": {
     "iopub.execute_input": "2025-06-18T17:32:25.057650Z",
     "iopub.status.busy": "2025-06-18T17:32:25.052207Z",
     "iopub.status.idle": "2025-06-18T17:32:25.106502Z",
     "shell.execute_reply": "2025-06-18T17:32:25.095118Z"
    }
   },
   "source": [
    "### 5.10.2 Display statistics for each column (using pastecs library) -> *stat.desc(df)*\n",
    "\n",
    "- **nbr.val** : *number of values (non-missing data points)*  \n",
    "- **nbr.null** : *number of null values (usually zero in numeric data)*  \n",
    "- **nbr.na** : *number of missing values (`NA`)*  \n",
    "- **min** : *minimum value*  \n",
    "- **max** : *maximum value*  \n",
    "- **range** : *difference between max and min*  \n",
    "- **sum** : *sum of all values*  \n",
    "- **median** : *median value (50th percentile)*  \n",
    "- **mean** : *average value*  \n",
    "- **SE.mean** : *standard error of the mean*  \n",
    "- **CI.mean.0.95** : *95% confidence interval for the mean*  \n",
    "- **var** : *variance*  \n",
    "- **std.dev** : *standard deviation*  \n",
    "- **coef.var** : *coefficient of variation (std.dev divided by mean)*  "
   ]
  },
  {
   "cell_type": "code",
   "execution_count": null,
   "id": "5b6def3c-0d68-460c-b8e6-b41dbe335777",
   "metadata": {},
   "outputs": [],
   "source": [
    "stat.desc(spe) # Descriptive statistics for columns"
   ]
  },
  {
   "cell_type": "markdown",
   "id": "7d16394d-18c0-400e-b3c2-a824fe0ff8db",
   "metadata": {},
   "source": [
    "### 5.10.3 Display descriptive statistics by group for a dataframe -> *describeBy(df, group = df$GroupColumn)*\n",
    "\n",
    "- **vars** : *variable index in the dataset*  \n",
    "- **n** : *number of observations*  \n",
    "- **mean** : *average*  \n",
    "- **sd** : *standard deviation*  \n",
    "- **median** : *median (50% percentile)*  \n",
    "- **trimmed** : *mean after trimming outliers*  \n",
    "- **mad** : *median absolute deviation*  \n",
    "- **min** : *minimum value*  \n",
    "- **max** : *maximum value*  \n",
    "- **range** : *max - min*  \n",
    "- **skew** : *skewness (asymmetry of the distribution)*  \n",
    "- **kurtosis** : *kurtosis (tailedness of the distribution)*  \n",
    "- **se** : *standard error*  \n",
    "\n",
    "\n"
   ]
  },
  {
   "cell_type": "code",
   "execution_count": null,
   "id": "7fbd0fbf-4501-4a0a-9375-6fa6c4629d97",
   "metadata": {},
   "outputs": [],
   "source": [
    "describeBy(iris, group = iris$Species)"
   ]
  },
  {
   "cell_type": "markdown",
   "id": "a6663c5a-366a-4597-96ae-c95b6a566b63",
   "metadata": {},
   "source": [
    "## 5.11 Structure of the dataset -> *str(df)*       \n",
    "\n",
    "- **Type**: *type of the object (e.g., data.frame, matrix, etc.)*  \n",
    "- **Dimensions**: *number of rows and columns*  \n",
    "- **Column types**: *data type of each column (e.g., numeric, factor, etc.)*  \n",
    "- **Preview**: *first few values in each column*\n"
   ]
  },
  {
   "cell_type": "code",
   "execution_count": null,
   "id": "f212b8cb-38ac-4b05-b908-eb8f021eacc4",
   "metadata": {},
   "outputs": [],
   "source": [
    "str(spe)                  # Structure of the dataset"
   ]
  },
  {
   "cell_type": "markdown",
   "id": "ab30fb67-e69b-4f3a-afae-f884ed50716a",
   "metadata": {
    "execution": {
     "iopub.execute_input": "2025-07-04T11:31:43.216689Z",
     "iopub.status.busy": "2025-07-04T11:31:43.214486Z",
     "iopub.status.idle": "2025-07-04T11:31:43.234498Z",
     "shell.execute_reply": "2025-07-04T11:31:43.232114Z"
    }
   },
   "source": [
    "## 5.12 Adding a data frame (or list) to the search path, to refer to its columns directly by name without using the $ operator\n",
    "\n",
    "- **Attach(df)** : *attach a specific df*"
   ]
  },
  {
   "cell_type": "code",
   "execution_count": null,
   "id": "42b789db-70c8-47da-9057-d574a1b0f9b1",
   "metadata": {},
   "outputs": [],
   "source": [
    "attach(iris) # Attach iris dataset to search path (to access columns directly)"
   ]
  },
  {
   "cell_type": "code",
   "execution_count": null,
   "id": "ddf6ca6c-78d3-40c4-8d59-1e250a5f3899",
   "metadata": {},
   "outputs": [],
   "source": [
    "mean(Sepal.Length) # Calculate mean of Sepal.Length (after attach)"
   ]
  },
  {
   "cell_type": "markdown",
   "id": "28167fdf-fcee-4d5a-b9c3-19041f0ef6b3",
   "metadata": {},
   "source": [
    "## 5.13 Remove a dataframe (or list) to the search path  \n",
    "\n",
    "- **detach(df)** : *detach a specific df*\n",
    "\n",
    "- **detach()** : *detach the last attached package/object*"
   ]
  },
  {
   "cell_type": "code",
   "execution_count": null,
   "id": "1519e0ff-12da-4588-b02a-fd147f6d6758",
   "metadata": {},
   "outputs": [],
   "source": [
    "detach(iris)                                 # Detach iris dataset to remove it from search path\n",
    "detach()                                     # Detach the last attached package/object (generally not recommended)"
   ]
  },
  {
   "cell_type": "markdown",
   "id": "5384939e-3263-425d-b306-92d7ecce3954",
   "metadata": {},
   "source": [
    "<div style=\"padding: 10px; border:1px solid red; font-size: 18px;\">\n",
    "  <span style=\"text-decoration:underline; font-weight: bold; font-size: 22px;\">Question 3</span><br/>\n",
    "  What does the function <code>head()</code> display in R?<br/>\n",
    "  <p style=\"text-align: right; margin-bottom: 0px; font-style: italic;\">\n",
    "    You can check the answer by clicking on the \"Answer\" below.\n",
    "  </p>\n",
    "</div>\n",
    "\n",
    "<details style=\"font-size: 18px;\">\n",
    "  <summary style=\"font-size: 20px; font-weight: bold; text-decoration: underline;\">Answer</summary>\n",
    "  <div style=\"padding: 10px; border:1px solid blue; font-size: 20px;\">\n",
    "    <code>It displays the first 6 rows of a dataframe or vector by default.</code>\n",
    "  </div>\n",
    "</details>\n",
    "\n",
    "<br/>\n",
    "\n",
    "<div style=\"padding: 10px; border:1px solid red; font-size: 18px;\">\n",
    "  <span style=\"text-decoration:underline; font-weight: bold; font-size: 22px;\">Question 4</span><br/>\n",
    "  I have an output of <code>30 25</code> when using <code>dim(df)</code>, what does that mean?<br/>\n",
    "  <p style=\"text-align: right; margin-bottom: 0px; font-style: italic;\">\n",
    "    You can check the answer by clicking on the \"Answer\" below.\n",
    "  </p>\n",
    "</div>\n",
    "\n",
    "<details style=\"font-size: 18px;\">\n",
    "  <summary style=\"font-size: 20px; font-weight: bold; text-decoration: underline;\">Answer</summary>\n",
    "  <div style=\"padding: 10px; border:1px solid blue; font-size: 20px;\">\n",
    "    <code>The dataframe <code>df</code> has 30 rows and 25 columns.</code>\n",
    "  </div>\n",
    "</details>\n",
    "\n",
    "<br/>\n",
    "\n",
    "<div style=\"padding: 10px; border:1px solid red; font-size: 18px;\">\n",
    "  <span style=\"text-decoration:underline; font-weight: bold; font-size: 22px;\">Question 5</span><br/>\n",
    "  I have a dataframe and I only want to select the <strong>first</strong>, <strong>second</strong> and <strong>third</strong> rows and only the <strong>fifth</strong> and <strong>sixth</strong> columns, what code should I use?<br/>\n",
    "  <p style=\"text-align: right; margin-bottom: 0px; font-style: italic;\">\n",
    "    You can check the answer by clicking on the \"Answer\" below.\n",
    "  </p>\n",
    "</div>\n",
    "\n",
    "\n",
    "<details style=\"font-size: 18px;\">\n",
    "  <summary style=\"font-size: 20px; font-weight: bold; text-decoration: underline;\">Answer</summary>\n",
    "  <div style=\"padding: 10px; border:1px solid blue; font-size: 20px;\">\n",
    "    <code>df[c(1,2,3), c(5,6)]</code>\n",
    "  </div>\n",
    "</details>\n",
    "\n",
    "<div style=\"padding: 10px; border:1px solid red; font-size: 18px;\">\n",
    "  <span style=\"text-decoration:underline; font-weight: bold; font-size: 22px;\">Question 6</span><br/>\n",
    "  How do you get the names of the <strong>rows</strong> and <strong>columns</strong> of a dataframe df?<br/>\n",
    "  <p style=\"text-align: right; margin-bottom: 0px; font-style: italic;\">\n",
    "    You can check the answer by clicking on the \"Answer\" below.\n",
    "  </p>\n",
    "</div>\n",
    "\n",
    "<details style=\"font-size: 18px;\">\n",
    "  <summary style=\"font-size: 20px; font-weight: bold; text-decoration: underline;\">Answer</summary>\n",
    "  <div style=\"padding: 10px; border:1px solid blue; font-size: 20px;\">\n",
    "    <code>rownames(df)</code><br/>\n",
    "    <code>colnames(df)</code><br/>\n",
    "      \n",
    "  </div>\n",
    "</details>\n",
    "\n",
    "\n",
    "<div style=\"padding: 10px; border:1px solid red; font-size: 18px;\">\n",
    "  <span style=\"text-decoration:underline; font-weight: bold; font-size: 22px;\">Question 7</span><br/>\n",
    "  How do you find the <strong>minimum</strong> and <strong>maximum</strong> values of the entire dataframe?<br/>\n",
    "  <p style=\"text-align: right; margin-bottom: 0px; font-style: italic;\">\n",
    "    You can check the answer by clicking on the \"Answer\" below.\n",
    "  </p>\n",
    "</div>\n",
    "\n",
    "<details style=\"font-size: 18px;\">\n",
    "  <summary style=\"font-size: 20px; font-weight: bold; text-decoration: underline;\">Answer</summary>\n",
    "  <div style=\"padding: 10px; border:1px solid blue; font-size: 20px;\">\n",
    "    <code>range(df)</code><br/>\n",
    "  </div>\n",
    "\n",
    "</details>\n",
    "\n",
    "<div style=\"padding: 10px; border:1px solid red; font-size: 18px;\">\n",
    "  <span style=\"text-decoration:underline; font-weight: bold; font-size: 22px;\">Question 8</span><br/>\n",
    "  Does <code>apply(df, 1, range)</code> return the range of each row or each column?<br/>\n",
    "  <p style=\"text-align: right; margin-bottom: 0px; font-style: italic;\">\n",
    "    You can check the answer by clicking on the \"Answer\" below.\n",
    "  </p>\n",
    "</div>\n",
    "\n",
    "<details style=\"font-size: 18px;\">\n",
    "  <summary style=\"font-size: 20px; font-weight: bold; text-decoration: underline;\">Answer</summary>\n",
    "  <div style=\"padding: 10px; border:1px solid blue; font-size: 20px;\">\n",
    "   <code>apply(df, 1, range)</code> calculates the range (min and max) for each row (because 1 = row, 2 = column).<br/>\n",
    "  </div>\n",
    "\n",
    "    \n",
    "</details>\n",
    "\n",
    "\n",
    "<div style=\"padding: 10px; border:1px solid red; font-size: 18px;\">\n",
    "  <span style=\"text-decoration:underline; font-weight: bold; font-size: 22px;\">Question 9</span><br/>\n",
    " If I have<code>df$col</code>, how do I calculate its <strong>mean</strong>? <br/>\n",
    "  <p style=\"text-align: right; margin-bottom: 0px; font-style: italic;\">\n",
    "    You can check the answer by clicking on the \"Answer\" below.\n",
    "  </p>\n",
    "</div>\n",
    "\n",
    "<details style=\"font-size: 18px;\">\n",
    "  <summary style=\"font-size: 20px; font-weight: bold; text-decoration: underline;\">Answer</summary>\n",
    "  <div style=\"padding: 10px; border:1px solid blue; font-size: 20px;\">\n",
    "   <code>mean(df$col)</code><br/>\n",
    "  </div>\n",
    "</details>\n",
    "\n",
    "<div style=\"padding: 10px; border:1px solid red; font-size: 18px;\">\n",
    "  <span style=\"text-decoration:underline; font-weight: bold; font-size: 22px;\">Question 10</span><br/>\n",
    " When using <code>str(df)</code>, I see <code>Cogo: int 0 0 0 0 0 0 0 0 0 0</code>. What does the \"int\" mean? <br/>\n",
    "  <p style=\"text-align: right; margin-bottom: 0px; font-style: italic;\">\n",
    "    You can check the answer by clicking on the \"Answer\" below.\n",
    "  </p>\n",
    "</div>\n",
    "\n",
    "<details style=\"font-size: 18px;\">\n",
    "  <summary style=\"font-size: 20px; font-weight: bold; text-decoration: underline;\">Answer</summary>\n",
    "  <div style=\"padding: 10px; border:1px solid blue; font-size: 20px;\">\n",
    "   <code>\"int\"</code> means the column is of type integer (whole number)<br/>\n",
    "  </div>\n",
    "</details>\n",
    "\n",
    "\n",
    "\n"
   ]
  },
  {
   "cell_type": "markdown",
   "id": "335400be-6db8-4490-8176-c66108860430",
   "metadata": {},
   "source": [
    "# 6 Subsetting dataframes"
   ]
  },
  {
   "cell_type": "markdown",
   "id": "bb49eae6-6c37-41dd-911c-1fec782f045a",
   "metadata": {},
   "source": [
    "## 6.1 Extract rows with specific condition"
   ]
  },
  {
   "cell_type": "code",
   "execution_count": null,
   "id": "5a8c5b72-9931-48af-972b-5e85377e88a4",
   "metadata": {},
   "outputs": [],
   "source": [
    "ablette<-fishtraits[fishtraits$EnglishName==\"Bleak\",] # Select rows where EnglishName is \"Bleak\""
   ]
  },
  {
   "cell_type": "markdown",
   "id": "21bf010d-0ff3-42be-af20-39dbdc183c97",
   "metadata": {},
   "source": [
    "## 6.2 Extract specific column depending on its name"
   ]
  },
  {
   "cell_type": "code",
   "execution_count": null,
   "id": "7395484f-ea02-4714-8af1-4be0b2254c48",
   "metadata": {},
   "outputs": [],
   "source": [
    "body_length2<-fishtraits$BodyLength # Extract the 'BodyLength' column as a vector"
   ]
  },
  {
   "cell_type": "markdown",
   "id": "928543e1-40e7-4b7c-bfa2-9e880d8d6b28",
   "metadata": {},
   "source": [
    "## 6.3 Extract specific column depending on its index"
   ]
  },
  {
   "cell_type": "code",
   "execution_count": null,
   "id": "40e9260f-39ea-4936-ac4c-207d963e9800",
   "metadata": {},
   "outputs": [],
   "source": [
    "body_length=fishtraits[,6] # Extract the 6th column of the dataframe"
   ]
  },
  {
   "cell_type": "markdown",
   "id": "9ce2edf7-839d-4120-a78b-94b24a47727f",
   "metadata": {},
   "source": [
    "## 6.4 Combining exctraction of specific rows and columns"
   ]
  },
  {
   "cell_type": "code",
   "execution_count": null,
   "id": "5c11fe86-a3e4-4f2e-bffd-aa9f9decfd43",
   "metadata": {},
   "outputs": [],
   "source": [
    "body_length_ablette=fishtraits[fishtraits$EnglishName==\"Bleak\",6] # Extract 6th column for rows where EnglishName is \"Bleak\"\n",
    "body_length_ablette # Display the result"
   ]
  },
  {
   "cell_type": "markdown",
   "id": "ce8655f9-cbc6-48fa-9f01-b49211e8c81f",
   "metadata": {
    "execution": {
     "iopub.execute_input": "2025-07-04T10:02:50.253033Z",
     "iopub.status.busy": "2025-07-04T10:02:50.248176Z",
     "iopub.status.idle": "2025-07-04T10:02:50.281917Z",
     "shell.execute_reply": "2025-07-04T10:02:50.277952Z"
    }
   },
   "source": [
    "<div style=\"padding: 10px; border:1px solid green; font-size: 10px;\">\n",
    "  <span style=\"font-size: 15px;\"> <i>Please run this cell below to avoid having UTF-8 troubles</i> </span><br/>\n",
    "</div>\n"
   ]
  },
  {
   "cell_type": "code",
   "execution_count": null,
   "id": "b6f0f2ba-45f6-4a35-9bc2-52465b947f20",
   "metadata": {},
   "outputs": [],
   "source": [
    "# Apply this function to each column of the dataframe\n",
    "fishtraits[] <- lapply(fishtraits, function(col) {\n",
    "  if (is.factor(col)) {\n",
    "    # If the column is a factor, convert it to character and fix encoding from latin1 to UTF-8\n",
    "    iconv(as.character(col), from = \"latin1\", to = \"UTF-8\")\n",
    "  } else if (is.character(col)) {\n",
    "    # If the column is already character, just fix the encoding from latin1 to UTF-8\n",
    "    iconv(col, from = \"latin1\", to = \"UTF-8\")\n",
    "  } else {\n",
    "    # If the column is neither factor nor character, keep it unchanged\n",
    "    col\n",
    "  }\n",
    "})"
   ]
  },
  {
   "cell_type": "markdown",
   "id": "7d9bb170-77aa-4bd0-a7e8-0b752c06654e",
   "metadata": {},
   "source": [
    "<div style=\"padding: 10px; border:1px solid red; font-size: 18px;\">\n",
    "  <span style=\"text-decoration:underline; font-weight: bold; font-size: 22px;\">Question 11</span><br/>\n",
    "  Complete the code below to:<br/>\n",
    "    1) Extract the rows from the <code>fishtraits</code> dataframe where the family is <strong>Cyprinidae</strong><br/>\n",
    "    2) Extract the <strong>mean</strong> of the <code>BodyLength</code> where family is <strong>Cyprinidae</strong><br/>\n",
    "    3) Use <code>describeBy(df, group = df$GroupColumn)</code> to describe each family in the dataframe<br/>\n",
    "</div>\n"
   ]
  },
  {
   "cell_type": "code",
   "execution_count": null,
   "id": "3e321215-51d4-401e-b480-ee40e89f80b9",
   "metadata": {},
   "outputs": [],
   "source": [
    "# 1) Extract rows where the Family is Cyprinidae\n",
    "\n",
    "# Replace the blanks with the correct syntax to filter the rows\n",
    "cyprinidae_data <- fishtraits[fishtraits$Family == \"____\",]\n",
    "cyprinidae_data"
   ]
  },
  {
   "cell_type": "markdown",
   "id": "65a50aac-29e9-4e4b-be2c-c66570ac8999",
   "metadata": {},
   "source": [
    "<details style=\"font-size: 18px;\">\n",
    "  <summary style=\"font-size: 20px; font-weight: bold; text-decoration: underline;\">1) Answer</summary>\n",
    "  <div style=\"padding: 10px; border:1px solid blue; font-size: 20px;\">\n",
    "    <code>fishtraits[fishtraits$Family == <span style=\"color:blue;\">\"Cyprinidae\"</span>,]</code><br/>\n",
    "  </div>\n",
    "</details>"
   ]
  },
  {
   "cell_type": "code",
   "execution_count": null,
   "id": "414d5b95-aa78-4940-b5a0-84a84b757bbe",
   "metadata": {},
   "outputs": [],
   "source": [
    "# 2) Calculate the mean BodyLength for Cyprinidae only\n",
    "# Use the filtered table above\n",
    "#Complete the two blanks\n",
    "mean_length <- ____(fishtraits[fishtraits$Family == \"Cyprinidae\",]$____)\n",
    "mean_length"
   ]
  },
  {
   "cell_type": "markdown",
   "id": "b78e6b58-8ca5-4b0e-ad31-a8f01307e1cc",
   "metadata": {},
   "source": [
    "<details style=\"font-size: 18px;\">\n",
    "  <summary style=\"font-size: 20px; font-weight: bold; text-decoration: underline;\">2) Answer</summary>\n",
    "  <div style=\"padding: 10px; border:1px solid blue; font-size: 20px;\">\n",
    "    <code><span style=\"color:blue;\">mean</span>(fishtraits[fishtraits$Family == <span style=\"color:blue;\">\"Cyprinidae\"</span>,]$<span style=\"color:blue;\">BodyLength</span>)</code><br/>\n",
    "  </div>\n",
    "</details>"
   ]
  },
  {
   "cell_type": "code",
   "execution_count": null,
   "id": "be4e117c-af53-43e3-adf1-96e5f605ac06",
   "metadata": {},
   "outputs": [],
   "source": [
    "# 3) Describe each family using describeBy()\n",
    "\n",
    "# Replace the blanks with the correct dataframe and grouping column\n",
    "library(psych)\n",
    "describeBy(fishtraits, group = fishtraits$_____)"
   ]
  },
  {
   "cell_type": "markdown",
   "id": "88bb270c-f22d-4e2f-80b4-8c8bc97e9fad",
   "metadata": {},
   "source": [
    "<details style=\"font-size: 18px;\">\n",
    "  <summary style=\"font-size: 20px; font-weight: bold; text-decoration: underline;\">3) Answer</summary>\n",
    "  <div style=\"padding: 10px; border:1px solid blue; font-size: 20px;\">\n",
    "    <code>describeBy(fishtraits, group = fishtraits$<span style=\"color:blue;\">Family</span>)</code>\n",
    "  </div>\n",
    "</details>"
   ]
  },
  {
   "cell_type": "markdown",
   "id": "8a114be3-4cb9-4db3-b47a-9aabbbec6f16",
   "metadata": {
    "execution": {
     "iopub.execute_input": "2025-06-18T19:23:53.380130Z",
     "iopub.status.busy": "2025-06-18T19:23:53.375273Z",
     "iopub.status.idle": "2025-06-18T19:23:53.402130Z",
     "shell.execute_reply": "2025-06-18T19:23:53.399502Z"
    }
   },
   "source": [
    "# 7 Data visualisation (*hist(),barplot(),heatmap.2(),plot(),radarchart(),pairs(),par(mfrow = c(nrows, ncols))*)"
   ]
  },
  {
   "cell_type": "markdown",
   "id": "3c3145d9-db57-44ca-b5cb-27efd8ba7c13",
   "metadata": {},
   "source": [
    "## 7.1 Displaying histogram of a column -> *hist(df$col)*"
   ]
  },
  {
   "cell_type": "code",
   "execution_count": null,
   "id": "b36d7809-334d-40f5-8eb7-ba9e8897ec65",
   "metadata": {},
   "outputs": [],
   "source": [
    "hist(spe$Pato)"
   ]
  },
  {
   "cell_type": "markdown",
   "id": "58fec7fe-c60a-4148-a8b0-83b87f7f7755",
   "metadata": {},
   "source": [
    "## 7.2 Display barplot -> *barplot(freq, xlab, ylab, col, las, main)*\n",
    "\n",
    "**freq <- table(df$col)**: *creates a frequency table of the values in column `col` of the data frame `df`*\n",
    "\n",
    "**barplot(freq, xlab, ylab, col, las, main)**: *creates a barplot using a frequency table with customizable axis labels, colors, orientation, and title*\n",
    "\n",
    "- **xlab**: *label on the x-axis*\n",
    "- **ylab**: *label on the y-axis*\n",
    "- **col**: *color of the bars*\n",
    "- **las**: *orientation of axis labels (1 = horizontal)*\n",
    "- **main**: *title of the plot*\n"
   ]
  },
  {
   "cell_type": "code",
   "execution_count": null,
   "id": "ec29c82d-d46c-4f98-b716-a550176223aa",
   "metadata": {},
   "outputs": [],
   "source": [
    "# Create a frequency table of abundance values for species Pato\n",
    "freq <- table(spe$Pato)\n",
    "\n",
    "# Barplot of the abundance distribution\n",
    "barplot(freq,\n",
    "        xlab = \"Abundance class\",\n",
    "        ylab = \"Frequency\",\n",
    "        col = \"lightblue\",\n",
    "        las = 1,\n",
    "        main = \"Abundance distribution of species Pato\")\n"
   ]
  },
  {
   "cell_type": "markdown",
   "id": "fcdf5f89-6e67-4bfa-9392-c09555a45d19",
   "metadata": {
    "execution": {
     "iopub.execute_input": "2025-06-18T19:42:16.662044Z",
     "iopub.status.busy": "2025-06-18T19:42:16.656878Z",
     "iopub.status.idle": "2025-06-18T19:42:16.687858Z",
     "shell.execute_reply": "2025-06-18T19:42:16.685577Z"
    }
   },
   "source": [
    "## 7.3 Display heatmap -> *heatmap.2(as.matrix(df), dendrogram, trace)*\n",
    "\n",
    "**heatmap.2(as.matrix(df), dendrogram, trace,col,main)**: *creates a heatmap from the data frame `df` converted into a matrix, with options to control clustering and cell display*\n",
    "\n",
    "- **as.matrix(df)**: *converts the data frame `df` into a matrix suitable for heatmap plotting*  \n",
    "- **dendrogram**: *controls whether row/column dendrograms are shown (`\"both\"`, `\"row\"`, `\"column\"`, or `\"none\"`)*  \n",
    "- **trace**: *adds or removes trace lines inside the cells (`\"row\"`, `\"column\"`, or `\"none\"`)*  \n",
    "- **col** *(optional)*: *customizes the color palette of the heatmap*\n",
    "- **main** *(optional)*: *Add title*\n"
   ]
  },
  {
   "cell_type": "code",
   "execution_count": null,
   "id": "b4e739ac-a5c8-4877-9b59-e9c65fc11509",
   "metadata": {},
   "outputs": [],
   "source": [
    "# Plot heatmap for the spe dataset\n",
    "heatmap.2(as.matrix(spe),         # Convert spe to matrix\n",
    "          dendrogram = \"none\",    # No dendrogram\n",
    "          trace = \"none\",         # No trace lines\n",
    "          col = heat.colors(20),  # Color gradient\n",
    "          main = \"Species Abundance Heatmap\")  # Title"
   ]
  },
  {
   "cell_type": "markdown",
   "id": "092cbf6b-e11f-4f2b-b43c-f939d075a670",
   "metadata": {},
   "source": [
    "## 7.4 Display a scatter plot -> *plot(x, y, main, xlab, ylab, pch, col)*\n",
    "\n",
    "**plot(x, y, main, xlab, ylab, pch, col)**: *creates a scatter plot with customizable title, axis labels, point style, and color*\n",
    "\n",
    "- **x**: *x coordinates*\n",
    "-  **y**: *y coordinates*\n",
    "- **main**: *title of the plot*\n",
    "\n",
    "- **xlab**: *label on the x-axis*\n",
    "\n",
    "- **ylab**: *label on the y-axis*\n",
    "\n",
    "- **pch**: *plotting symbol type (e.g., 19 for solid circles)*\n",
    "\n",
    "- **col**: *color of the points*"
   ]
  },
  {
   "cell_type": "code",
   "execution_count": null,
   "id": "fe5d1192-09f2-4382-b75c-dfbf849e2f15",
   "metadata": {},
   "outputs": [],
   "source": [
    "x <- c(1, 2, 3, 4, 5)            # Create a numeric vector x with values 1 to 5\n",
    "y <- c(3, 7, 4, 6, 8)            # Create a numeric vector y with corresponding values\n",
    "\n",
    "plot(x, y,                       # Plot y versus x as points\n",
    "     main = \"Simple Scatter Plot\",  # Title of the plot\n",
    "     xlab = \"X values\",              # Label for the x-axis\n",
    "     ylab = \"Y values\",              # Label for the y-axis\n",
    "     pch = 19,                      # Plotting character: filled circles\n",
    "     col = \"blue\")                  # Color of the points: blue"
   ]
  },
  {
   "cell_type": "markdown",
   "id": "dc9983ca-4277-45e6-aff6-61a822538787",
   "metadata": {
    "execution": {
     "iopub.execute_input": "2025-06-18T21:17:45.130053Z",
     "iopub.status.busy": "2025-06-18T21:17:45.125466Z",
     "iopub.status.idle": "2025-06-18T21:17:45.156158Z",
     "shell.execute_reply": "2025-06-18T21:17:45.152774Z"
    }
   },
   "source": [
    "### 7.4.1 Display a scatter plot with advanced parameters -> *plot(x, y, main, xlab, ylab, pch, col, asp, cex, cex.axis)*\n",
    "\n",
    "**plot(x, y, main, xlab, ylab, pch, col, asp, cex, cex.axis)**: *creates a scatter plot with customizable title, axis labels, point style, color, aspect ratio, point size, and axis label size*\n",
    "\n",
    "- **x**: *x coordinates*\n",
    "- **y**: *y coordinates*\n",
    "- **main**: *title of the plot*\n",
    "- **xlab**: *label on the x-axis*\n",
    "- **ylab**: *label on the y-axis*\n",
    "- **pch**: *plotting symbol type (e.g., 19 for solid circles)*\n",
    "- **col**: *color of the points*\n",
    "- **asp**: *aspect ratio of the plot (e.g., 1 for equal scaling on x and y axes)*\n",
    "- **cex**: *scaling factor for the size of the points*\n",
    "- **cex.axis**: *scaling factor for the size of axis tick labels*\n"
   ]
  },
  {
   "cell_type": "code",
   "execution_count": null,
   "id": "d4bb39dd-f110-4148-90b0-4f4b72037c7a",
   "metadata": {},
   "outputs": [],
   "source": [
    "# Example of scatter plot with advanced options\n",
    "x <- c(1, 2, 3, 4, 5)           # x vector\n",
    "y <- c(3, 7, 4, 6, 8)           # y vector\n",
    "sizes <- c(1, 3, 2, 4, 5)       # point sizes (example variable like spe$Satr)\n",
    "\n",
    "plot(x, y,\n",
    "     main = \"Enhanced Scatter Plot\",  # Plot title\n",
    "     xlab = \"X values\",                # X axis label\n",
    "     ylab = \"Y values\",                # Y axis label\n",
    "     pch = 19,                        # Solid circle points\n",
    "     col = \"blue\",                    # Point color\n",
    "     asp = 1,                        # Aspect ratio 1:1 (equal scaling on x and y)\n",
    "     cex.axis = 0.8,                 # Axis label size\n",
    "     cex = sizes                     # Variable point sizes\n",
    ")"
   ]
  },
  {
   "cell_type": "markdown",
   "id": "cc9c21a5-aef4-4bb6-b95a-8e8e105cbadd",
   "metadata": {},
   "source": [
    "### 7.4.2 Adding lines to a plot -> *lines(x, y, col, lwd)*\n",
    "\n",
    "**lines(x, y, col, lwd)**: *adds connected line segments to an existing plot with customizable color and line width*\n",
    "\n",
    "- **x**: *x coordinates of the points to connect*\n",
    "- **y**: *y coordinates of the points to connect*\n",
    "- **col**: *color of the line*\n",
    "- **lwd**: *line width (thickness)*\n"
   ]
  },
  {
   "cell_type": "code",
   "execution_count": null,
   "id": "a6e96bfb-f40f-4e39-99c2-03dd6c6e33ed",
   "metadata": {},
   "outputs": [],
   "source": [
    "# Example of scatter plot with advanced options and added line\n",
    "x <- c(1, 2, 3, 4, 5)           # x vector\n",
    "y <- c(3, 7, 4, 6, 8)           # y vector\n",
    "sizes <- c(1, 3, 2, 4, 5)       # point sizes\n",
    "\n",
    "plot(x, y,\n",
    "     main = \"Enhanced Scatter Plot with Line\",  # Plot title\n",
    "     xlab = \"X values\",                          # Label for x-axis\n",
    "     ylab = \"Y values\",                          # Label for y-axis\n",
    "     pch = 19,                                  # Solid circle points\n",
    "     col = \"blue\",                              # Points color\n",
    "     asp = 1,                                   # Aspect ratio 1:1 (equal scaling)\n",
    "     cex.axis = 0.8,                            # Axis label size\n",
    "     cex = sizes                                # Variable point sizes\n",
    ")\n",
    "\n",
    "lines(x, y, col = \"lightblue\", lwd = 3)         # Adds a light blue line connecting points with line width 3"
   ]
  },
  {
   "cell_type": "markdown",
   "id": "efcf55b0-3a4d-4280-bfe0-43df40eb007a",
   "metadata": {},
   "source": [
    "## 7.5 Display a radarchart -> *radarchart(data, axistype, pcol, pfcol, plwd, cglcol, cglty, axislabcol, vlcex)*\n",
    "\n",
    "**radarchart(data, axistype, pcol, pfcol, plwd, cglcol, cglty, axislabcol, vlcex)**: *creates a customizable radar chart with options for colors, line styles, and labels*\n",
    "\n",
    "- **data**: *data frame where the first two rows contain the max and min values of the variables, and the following rows contain the data to plot*\n",
    "\n",
    "- **axistype**: *axis type (1 to 4), changes the appearance of the concentric circles*\n",
    "\n",
    "- **pcol**: *color of the lines connecting the points*\n",
    "\n",
    "- **pfcol**: *fill color under the lines, can include transparency*\n",
    "\n",
    "- **plwd**: *line width*\n",
    "\n",
    "- **cglcol**: *color of the concentric grid lines*\n",
    "\n",
    "- **cglty**: *line type for the grid (e.g., 1 = solid, 2 = dashed)*\n",
    "\n",
    "- **axislabcol**: *color of the axis labels*\n",
    "\n",
    "- **vlcex**: *size of the variable labels*\n"
   ]
  },
  {
   "cell_type": "code",
   "execution_count": null,
   "id": "0e2afb29-0f0c-4db9-8dcd-1cc289498084",
   "metadata": {},
   "outputs": [],
   "source": [
    "# Example data: first 2 rows are max and min for each variable\n",
    "data <- data.frame(\n",
    "  Speed = c(10, 0, 7, 8),\n",
    "  Strength = c(10, 0, 9, 6),\n",
    "  Agility = c(10, 0, 6, 7),\n",
    "  Endurance = c(10, 0, 8, 9),\n",
    "  Flexibility = c(10, 0, 7, 5)\n",
    ")\n",
    "\n",
    "# Radar chart with customized colors and styles\n",
    "radarchart(\n",
    "  data,     # data frame where the first two rows contain the max and min values\n",
    "  axistype = 1, # changes the appearance of the concentric circles\n",
    "  pcol = c(\"red\", \"blue\"),               # Line colors for each observation\n",
    "  pfcol = c(rgb(1,0,0,0.3), rgb(0,0,1,0.3)), # Transparent fill colors\n",
    "  plwd = 1,                             # Line width\n",
    "  cglcol = \"grey\",                      # Color of concentric grid lines\n",
    "  cglty = 1,                           # Grid line type (1 = solid)\n",
    "  axislabcol = \"darkgrey\",             # Axis label color\n",
    "  vlcex = 1.2                          # Variable label size\n",
    ")"
   ]
  },
  {
   "cell_type": "markdown",
   "id": "c9ddf506-5d18-4784-9c48-d258ce0f44ff",
   "metadata": {},
   "source": [
    "## 7.6 Display a scatterplot matrix -> *pairs(x, labels, main, pch, col, bg)*\n",
    "\n",
    "**pairs(x, labels, main, pch, col, bg)**: *creates a scatterplot matrix to visualize pairwise relationships between variables*\n",
    "\n",
    "- **x**: *a data frame or matrix containing the variables to plot*\n",
    "\n",
    "- **labels**: *optional character vector for labeling the variables (axes titles)*\n",
    "\n",
    "- **main**: *main title of the entire plot*\n",
    "\n",
    "- **pch**: *plotting symbol type for points (e.g., 19 for solid circles)*\n",
    "\n",
    "- **col**: *color of the plotting symbols*\n",
    "\n",
    "- **bg**: *background (fill) color for plotting symbols (used if pch allows filling)*  \n"
   ]
  },
  {
   "cell_type": "code",
   "execution_count": null,
   "id": "d65b3337-9018-4553-ba1a-cc7a47a4eed6",
   "metadata": {},
   "outputs": [],
   "source": [
    "# Sample data: first 4 columns of iris dataset\n",
    "data <- iris[1:4]\n",
    "\n",
    "# Scatterplot matrix with customization\n",
    "pairs(\n",
    "  data,\n",
    "  labels = colnames(data),      # Labels for each variable (axis titles)\n",
    "  main = \"Scatterplot Matrix\",  # Main title for the plot\n",
    "  pch = 19,                     # Plotting symbol (solid circle)\n",
    "  col = \"darkgreen\",            # Color of the points\n",
    "  bg = \"lightgreen\"             # Background (fill) color of points (only used for some symbols)\n",
    ")\n"
   ]
  },
  {
   "cell_type": "markdown",
   "id": "8ad68f76-33af-46a7-90fe-ee957aa7dc0a",
   "metadata": {},
   "source": [
    "## 7.7 Fit a linear regression model predicting a variable from another -> lm( df`$`col1, df`$`col2)\n",
    "\n",
    "- `mod`: model created from the linear regression, predicting `col1` based on `col2`  \n",
    "- `df$col1`: dependent variable (response)  \n",
    "- `df$col2`: independent variable (predictor)  \n",
    "- Use `summary(mod)` to view model details (coefficients, R², p-values, etc.)  \n",
    "- Use `plot(df$col2, df$col1)` and `abline(mod, col = \"red\")` to visualize the regression line."
   ]
  },
  {
   "cell_type": "code",
   "execution_count": null,
   "id": "5d355c7c-05cd-4958-8aff-3da8e12681ae",
   "metadata": {},
   "outputs": [],
   "source": [
    "# Linear regression: predicting Sepal.Length from Petal.Length in the Iris dataset\n",
    "mod <- lm(iris$Sepal.Length ~ iris$Petal.Length)\n",
    "\n",
    "# Display a summary of the linear regression model\n",
    "summary(mod)"
   ]
  },
  {
   "cell_type": "markdown",
   "id": "65c688fc-f868-492a-935a-c9d96d48b814",
   "metadata": {},
   "source": [
    "\n",
    "- **Residuals:** Show the distribution of errors between observed and predicted values; ideally centered around zero.  \n",
    "- **Coefficients:** Represent the intercept and slope of the regression line, indicating the relationship strength between variables. Significance codes(Pr(>t)) show if predictors meaningfully explain the response.  \n",
    "- **Residual standard error:** Measures the average size of the prediction errors.  \n",
    "- **Multiple R-squared:** Indicates how much of the response variable's variability is explained by the model.  \n",
    "- **F-statistic:** Tests if the model as a whole is statistically significant, i.e., if the predictors explain the response variable better than a model with no predictors.\n"
   ]
  },
  {
   "cell_type": "code",
   "execution_count": null,
   "id": "e2734eba-1472-46a4-8c8b-950be2af08a1",
   "metadata": {},
   "outputs": [],
   "source": [
    "# Plot Petal.Length (x-axis) vs Sepal.Length (y-axis)\n",
    "plot(iris$Petal.Length, iris$Sepal.Length, \n",
    "     main = \"Linear Regression: Sepal.Length vs Petal.Length\", \n",
    "     xlab = \"Petal Length\", \n",
    "     ylab = \"Sepal Length\")\n",
    "\n",
    "# Add the regression line in red\n",
    "abline(mod, col = \"red\")"
   ]
  },
  {
   "cell_type": "markdown",
   "id": "7b75f8fd-3a14-4d6f-93e4-8664f82b3f39",
   "metadata": {},
   "source": [
    "## 7.8 Dividing the plot window into multiple frames -> *par(mfrow = c(nrows, ncols))*\n",
    "\n",
    "**par(mfrow = c(nrows, ncols))**: *splits the plotting area into a grid with `nrows` rows and `ncols` columns, allowing multiple plots to be displayed in the same window.*\n",
    "\n",
    "- **nrows**: *number of rows in the grid*\n",
    "- **ncols**: *number of columns in the grid*\n",
    "\n",
    "After calling this, subsequent plots are filled row-wise in the grid.\n"
   ]
  },
  {
   "cell_type": "code",
   "execution_count": null,
   "id": "901a1f50-f0c3-48ef-b9d7-c65b653ca0ac",
   "metadata": {},
   "outputs": [],
   "source": [
    "# Complete example with 4 plots in a 2x2 layout\n",
    "par(mfrow = c(2, 2))  # Divide the plot window into 2 rows and 2 columns\n",
    "\n",
    "# Example data: first 2 rows are max and min for each variable\n",
    "data <- data.frame(\n",
    "  Speed = c(10, 0, 7, 8),\n",
    "  Strength = c(10, 0, 9, 6),\n",
    "  Agility = c(10, 0, 6, 7),\n",
    "  Endurance = c(10, 0, 8, 9),\n",
    "  Flexibility = c(10, 0, 7, 5)\n",
    ")\n",
    "\n",
    "# 1) Enhanced scatter plot\n",
    "x <- c(1, 2, 3, 4, 5)          # Define x coordinates\n",
    "y <- c(3, 7, 4, 6, 8)          # Define y coordinates\n",
    "sizes <- c(1, 3, 2, 4, 5)      # Define point sizes\n",
    "\n",
    "plot(x, y,\n",
    "     main = \"Enhanced Scatter Plot\",  # Plot title\n",
    "     xlab = \"X values\",                # Label for x-axis\n",
    "     ylab = \"Y values\",                # Label for y-axis\n",
    "     pch = 19,                        # Plotting symbol (solid circles)\n",
    "     col = \"blue\",                    # Color of points\n",
    "     asp = 1,                        # Aspect ratio 1:1\n",
    "     cex.axis = 0.8,                 # Size of axis annotation\n",
    "     cex = sizes                     # Size of points varies\n",
    ")\n",
    "\n",
    "# 2) Barplot of abundance distribution for spe$Pato (example)\n",
    "freq <- table(spe$Pato)          # Frequency table of species abundance\n",
    "\n",
    "barplot(freq,\n",
    "        xlab = \"Abundance class\",    # Label for x-axis\n",
    "        ylab = \"Frequency\",          # Label for y-axis\n",
    "        col = \"lightblue\",           # Bar color\n",
    "        las = 1,                    # Rotate axis labels horizontally\n",
    "        main = \"Abundance distribution of species Pato\"  # Plot title\n",
    ")\n",
    "\n",
    "# 3) Enhanced scatter plot with a connecting line\n",
    "plot(x, y,\n",
    "     main = \"Enhanced Scatter Plot with Line\",  # Title\n",
    "     xlab = \"X values\",\n",
    "     ylab = \"Y values\",\n",
    "     pch = 19,\n",
    "     col = \"blue\",\n",
    "     asp = 1,\n",
    "     cex.axis = 0.8,\n",
    "     cex = sizes\n",
    ")\n",
    "\n",
    "lines(x, y, col = \"lightblue\", lwd = 3)   # Add light blue line connecting points, width=3\n",
    "\n",
    "# 4) Radar chart with customized colors and styles\n",
    "radarchart(\n",
    "  data,\n",
    "  axistype = 1,\n",
    "  pcol = c(\"red\", \"blue\"),               # Line colors for each observation\n",
    "  pfcol = c(rgb(1,0,0,0.3), rgb(0,0,1,0.3)), # Transparent fill colors\n",
    "  plwd = 2,                             # Line width\n",
    "  cglcol = \"grey\",                      # Color of concentric grid lines\n",
    "  cglty = 1,                           # Grid line type (1 = solid)\n",
    "  axislabcol = \"darkgrey\",             # Axis label color\n",
    "  vlcex = 1.2                          # Variable label size\n",
    ")\n",
    "\n",
    "par(mfrow = c(1, 1))  # Reset plot window to single plot layout\n"
   ]
  },
  {
   "cell_type": "markdown",
   "id": "7abc73b1-6197-4ea5-87ce-9341f044149e",
   "metadata": {
    "execution": {
     "iopub.execute_input": "2025-07-04T10:44:42.337290Z",
     "iopub.status.busy": "2025-07-04T10:44:42.330652Z",
     "iopub.status.idle": "2025-07-04T10:44:42.369992Z",
     "shell.execute_reply": "2025-07-04T10:44:42.366056Z"
    }
   },
   "source": [
    "<div style=\"padding: 10px; border:1px solid red; font-size: 18px;\">\n",
    "  <span style=\"text-decoration:underline; font-weight: bold; font-size: 22px;\">Question 12</span><br/>\n",
    "  Complete the code below to:<br/>\n",
    "  1) Calculate the total number of species per sample using <code>rowSums()</code><br/>\n",
    "  2) Plot the sampling points using the <code>Spa</code> coordinates<br/>\n",
    "  3) Set the point size according to the total number of species in each sample<br/>\n",
    "  4) Add a red line that connect every points <br/>\n",
    "</div>\n"
   ]
  },
  {
   "cell_type": "code",
   "execution_count": null,
   "id": "e62f6c5f-d02f-4280-afde-574d44fb2266",
   "metadata": {},
   "outputs": [],
   "source": [
    "# 1. Compute the total number of species per sample for the dataframe Spe\n",
    "total_species <- ____ (____) # hint : rowSums(df)"
   ]
  },
  {
   "cell_type": "markdown",
   "id": "2d016c34-ea70-4f26-9eaa-c3e8dc346920",
   "metadata": {},
   "source": [
    "<details style=\"font-size: 18px;\">\n",
    "  <summary style=\"font-size: 20px; font-weight: bold; text-decoration: underline;\">1) Answer</summary>\n",
    "  <div style=\"padding: 10px; border:1px solid blue; font-size: 20px;\">\n",
    "    <code>total_species &lt;- <span style=\"color:blue;\">rowSums</span>(<span style=\"color:blue;\">spe</span>)</code>\n",
    "  </div>\n",
    "</details>"
   ]
  },
  {
   "cell_type": "code",
   "execution_count": null,
   "id": "b5a64dec-e70a-450f-8afe-07426c1635ed",
   "metadata": {},
   "outputs": [],
   "source": [
    "# 2. Plot the sample locations using Spa coordinates\n",
    "plot(____, pch = 21, bg = \"lightblue\", main = \"Sample Locations\") #hint : if a dataframe already has only two columns (X and Y), you can just use plot(df)\n"
   ]
  },
  {
   "cell_type": "markdown",
   "id": "fa7f58a1-71b3-4b6f-9bc5-546d5f7fda25",
   "metadata": {},
   "source": [
    "<details style=\"font-size: 18px;\">\n",
    "  <summary style=\"font-size: 20px; font-weight: bold; text-decoration: underline;\">2) Answer</summary>\n",
    "  <div style=\"padding: 10px; border:1px solid blue; font-size: 20px;\">\n",
    "    <code>plot(<span style=\"color:blue;\">spa</span>,  pch = 21, bg = \"lightblue\", main = \"Sample Locations\" )</code>\n",
    "  </div>\n",
    "</details>"
   ]
  },
  {
   "cell_type": "code",
   "execution_count": null,
   "id": "546f4b40-fdf8-4327-a783-2798570cf5eb",
   "metadata": {},
   "outputs": [],
   "source": [
    "# 3. Add point sizes corresponding to species richness\n",
    "plot(___, pch = 21, bg = \"blue\", cex = ____/10,main =\"Total number of species per samples location\" )\n",
    "\n",
    "# Hint: cex : sizes corresponding to the total species per sample divided by 10\n"
   ]
  },
  {
   "cell_type": "markdown",
   "id": "ac28966d-7455-4877-ab51-311d4262f6ef",
   "metadata": {},
   "source": [
    "<details style=\"font-size: 18px;\">\n",
    "  <summary style=\"font-size: 20px; font-weight: bold; text-decoration: underline;\">3) Answer</summary>\n",
    "  <div style=\"padding: 10px; border:1px solid blue; font-size: 20px;\">\n",
    "    <code>\n",
    "      plot( <span style=\"color:blue;\">spa</span>, pch = 21, bg = \"blue\", cex = <span style=\"color:blue;\">total_species /10</span>, main =>\"Total number of species per samples location\")\n",
    "    </code><br/>\n",
    "  </div>\n",
    "</details>\n"
   ]
  },
  {
   "cell_type": "code",
   "execution_count": null,
   "id": "5f906389-1c82-4e26-835e-c8a9b61d6753",
   "metadata": {},
   "outputs": [],
   "source": [
    "plot(___, pch = 21, bg = \"blue\", cex = ___/10,main =\"Total number of species per samples location\" )\n",
    "# 4. Draw a red line connecting all sample points\n",
    "lines(____, col = ___, lwd = 5)\n"
   ]
  },
  {
   "cell_type": "markdown",
   "id": "ba0e37b1-d0b0-4324-9569-671b33b5f76a",
   "metadata": {},
   "source": [
    "<details style=\"font-size: 18px;\"> <summary style=\"font-size: 20px; font-weight: bold; text-decoration: underline;\">4) Answer</summary> <div style=\"padding: 10px; border:1px solid blue; font-size: 20px;\"> <code>plot(<span style=\"color:blue;\">spa</span>, pch = 21, bg = \"blue\", cex = <span style=\"color:blue;\">total_species</span>/10, main =\"Total number of species per samples location\" )</code><br/> <code>lines(<span style=\"color:blue;\">spa</span>, col = <span style=\"color:blue;\">\"red\"</span>, lwd = 5)</code> </div> </details>"
   ]
  },
  {
   "cell_type": "markdown",
   "id": "dd761b57-825a-488b-82a2-5d0ffbaea795",
   "metadata": {},
   "source": [
    "<div style=\"padding: 10px; border:1px solid red; font-size: 18px;\"> <span style=\"text-decoration:underline; font-weight: bold; font-size: 22px;\">Question 13</span><br/> Complete the code below to:<br/> 1) Create a frequency table of the abundance values for the variable <code>iris$Sepal.Length</code>.<br/> 2) Plot a barplot of this frequency table with labels and a title. </div>"
   ]
  },
  {
   "cell_type": "code",
   "execution_count": null,
   "id": "2da605c0-e612-4e87-92a7-a3196a3c9b04",
   "metadata": {},
   "outputs": [],
   "source": [
    "# 1) Create a frequency table of Sepal.Length\n",
    "freq <- table(____)\n",
    "\n",
    "# 2) Create a barplot of the frequency table\n",
    "barplot(freq,\n",
    "        xlab = \"____\",\n",
    "        ylab = \"____\",\n",
    "        col = \"lightblue\",\n",
    "        las = 1,\n",
    "        main = \"Abundance distribution of Sepal Length\")\n"
   ]
  },
  {
   "cell_type": "markdown",
   "id": "90f76b08-8a10-41d2-9793-f281f769110f",
   "metadata": {},
   "source": [
    "<details style=\"font-size: 18px;\"> <summary style=\"font-size: 20px; font-weight: bold; text-decoration: underline;\"> Answer</summary> <div style=\"padding: 10px; border:1px solid blue; font-size: 20px;\"> <code>freq <- table(<span style=\"color:blue;\">iris$Sepal.Length</span>)</code><br/> <code>barplot(freq,</code><br/> <code>&nbsp;&nbsp;&nbsp;&nbsp;xlab = <span style=\"color:blue;\">\"Sepal Length classes\"</span>,</code><br/> <code>&nbsp;&nbsp;&nbsp;&nbsp;ylab = <span style=\"color:blue;\">\"Frequency\"</span>,</code><br/> <code>&nbsp;&nbsp;&nbsp;&nbsp;col = \"lightblue\",</code><br/> <code>&nbsp;&nbsp;&nbsp;&nbsp;las = 1,</code><br/> <code>&nbsp;&nbsp;&nbsp;&nbsp;main = <span style=\"color:blue;\">\"Abundance distribution of Sepal Length\"</span>)</code> </div> </details>"
   ]
  },
  {
   "cell_type": "markdown",
   "id": "97f69053-fedf-461d-ab8f-bdf9aa367356",
   "metadata": {},
   "source": [
    "<div style=\"padding: 10px; border:1px solid red; font-size: 18px;\">\n",
    "  <span style=\"text-decoration:underline; font-weight: bold; font-size: 22px;\">Question 14</span><br/>\n",
    "  Using the <code>iris</code> dataset, complete the following tasks:<br/>\n",
    "  1) Fit a linear regression model predicting <code>Petal.Width</code> from <code>Petal.Length</code>. <br/>\n",
    "  2) Display the summary of the linear regression model.<br/>\n",
    "  3) From the summary, extract and report:<br/>\n",
    "     - The intercept value<br/>\n",
    "     - The slope value<br/>\n",
    "     - Whether both coefficients are statistically significant (based on p-values).<br/>\n",
    "     - How much variance is explained by the model (R-squared).<br/>\n",
    "  4) Create a scatter plot of <code>Petal.Length</code> (x-axis) vs <code>Petal.Width</code> (y-axis).<br/>\n",
    "  5) Add the regression line to the plot in blue color with a dashed line style.<br/>\n",
    "</div>\n"
   ]
  },
  {
   "cell_type": "code",
   "execution_count": null,
   "id": "3ee516a6-c237-4488-80ed-8f8c8cb595f6",
   "metadata": {},
   "outputs": [],
   "source": [
    "# 1) Fit a linear regression model predicting Petal.Width from Petal.Length\n",
    "mod <- lm(_________ ~ _________, data = iris)  # Fill in response ~ predictor"
   ]
  },
  {
   "cell_type": "markdown",
   "id": "705a1389-774b-4e39-899a-bef724e729c2",
   "metadata": {},
   "source": [
    "<details style=\"font-size: 18px;\">\n",
    "  <summary style=\"font-size: 20px; font-weight: bold; text-decoration: underline;\">1) Answer</summary>\n",
    "  <div style=\"padding: 10px; border:1px solid blue; font-size: 20px;\">\n",
    "    <code>mod &lt;- lm(<span style=\"color:blue;\">Petal.Width ~ Petal.Length</span>, data = iris)</code>\n",
    "  </div>\n",
    "</details>\n"
   ]
  },
  {
   "cell_type": "code",
   "execution_count": null,
   "id": "d8b947cf-2421-4506-b35a-bad77f801a41",
   "metadata": {},
   "outputs": [],
   "source": [
    "# 2) Display the summary of the model\n",
    "summary(________)  # Fill in the model object"
   ]
  },
  {
   "cell_type": "markdown",
   "id": "401205e5-1d3e-4d9d-9205-ce7fccfc8203",
   "metadata": {
    "execution": {
     "iopub.execute_input": "2025-07-04T12:24:24.016541Z",
     "iopub.status.busy": "2025-07-04T12:24:24.010652Z",
     "iopub.status.idle": "2025-07-04T12:24:24.042096Z",
     "shell.execute_reply": "2025-07-04T12:24:24.039152Z"
    }
   },
   "source": [
    "<details style=\"font-size: 18px;\">\n",
    "  <summary style=\"font-size: 20px; font-weight: bold; text-decoration: underline;\">2) Answer</summary>\n",
    "  <div style=\"padding: 10px; border:1px solid blue; font-size: 20px;\">\n",
    "    <code>summary(<span style=\"color:blue;\">mod</span>)</code>\n",
    "  </div>\n",
    "</details>\n"
   ]
  },
  {
   "cell_type": "raw",
   "id": "42e87cba-9915-4383-941f-1c05e0e371b7",
   "metadata": {},
   "source": [
    "# 3) Extract and report from the summary:\n",
    "# (Answer in writing, no code needed)\n",
    "\n",
    "-----------------------------\n",
    "\n",
    "\n",
    "\n",
    "Intercept value :                                                <------------ YOUR ANSWER\n",
    "Slope value :                                                    <------------ YOUR ANSWER\n",
    "Statistical significance of both coefficients :                  <------------ YOUR ANSWER\n",
    "Variance explained :                                             <------------ YOUR ANSWER\n",
    "\n",
    "\n",
    "\n",
    "\n",
    "-----------------------------"
   ]
  },
  {
   "cell_type": "markdown",
   "id": "3f6b54f6-3b8f-4f00-a9d9-0f5ecaa796ff",
   "metadata": {},
   "source": [
    "<details style=\"font-size: 18px;\">\n",
    "  <summary style=\"font-size: 20px; font-weight: bold; text-decoration: underline;\">3) Answer</summary>\n",
    "  <div style=\"padding: 10px; border:1px solid blue; font-size: 20px;\">\n",
    "    Intercept value : (<span style=\"color:blue;\"> -0.363076</span>) </br>\n",
    "    Slope value : (<span style=\"color:blue;\">0.415755 </span>) </br>\n",
    "    Statistical significance of both coefficients : (<span style=\"color:blue;\">4.7e-16, < 2e-16</span>) </br>\n",
    "    Variance explained  : (<span style=\"color:blue;\">R-squared : 0.9271</span>) </br>\n",
    "  </div>\n",
    "</details>"
   ]
  },
  {
   "cell_type": "code",
   "execution_count": null,
   "id": "96212075-c39b-4d29-9246-205eba459ed9",
   "metadata": {},
   "outputs": [],
   "source": [
    "# 4) Scatter plot Petal.Length vs Petal.Width\n",
    "plot(iris$________, iris$________, main=\"Scatter plot\", xlab=\"Petal Length\", ylab=\"Petal Width\")\n"
   ]
  },
  {
   "cell_type": "markdown",
   "id": "a9009bdd-0452-450a-8826-aaa0d8e07982",
   "metadata": {},
   "source": [
    "<details style=\"font-size: 18px;\">\n",
    "  <summary style=\"font-size: 20px; font-weight: bold; text-decoration: underline;\">4) Answer</summary>\n",
    "  <div style=\"padding: 10px; border:1px solid blue; font-size: 20px;\">\n",
    "    <code>\n",
    "      plot(<span style=\"color:blue;\">iris$Petal.Length, iris$>Petal.Length </span>, main = \"Scatter plot\",xlab=\"Petal Length\",ylab = \"Peta Width\")\n",
    "    </code><br/>\n",
    "  </div>\n",
    "</details>\n"
   ]
  },
  {
   "cell_type": "code",
   "execution_count": null,
   "id": "70726653-ba5e-451a-abfc-3e204f4c10d1",
   "metadata": {},
   "outputs": [],
   "source": [
    "# 5) Scatter plot Petal.Length vs Petal.Width and regression line in blue, dashed\n",
    "plot(iris$_____, iris$_______, \n",
    "     main = \"Scatter plot of Petal Length vs Width\", \n",
    "     xlab = \"Petal Length\", ylab = \"Petal Width\")\n",
    "\n",
    "# Add regression line in blue, dashed\n",
    "abline(____, col = \"blue\", lty = ___) #hint : to add a dashed line lty =2 "
   ]
  },
  {
   "cell_type": "markdown",
   "id": "307bf6c2-9890-4a04-bac0-fd21c130b9bc",
   "metadata": {},
   "source": [
    "<details style=\"font-size: 18px;\">\n",
    "  <summary style=\"font-size: 20px; font-weight: bold; text-decoration: underline;\">5) Answer</summary>\n",
    "  <div style=\"padding: 10px; border:1px solid blue; font-size: 20px;\">\n",
    "    <code>\n",
    "      plot(<span style=\"color:blue;\">iris$Petal.Length, iris$>Petal.Length </span>, main = \"Scatter plot\",xlab=\"Petal Length\",ylab = \"Peta Width\")\n",
    "    </code><br/>\n",
    "          <code>\n",
    "      abline(<span style=\"color:blue;\">mod </span>, col = \"blue\", <span style=\"color:blue;\">lty = 2 </span>)\n",
    "    </code><br/>\n",
    "  </div>\n",
    "</details>\n"
   ]
  },
  {
   "cell_type": "markdown",
   "id": "681237a3-7f4d-4a2b-b295-27c33c203062",
   "metadata": {},
   "source": [
    "# Exploring Iris Dataset"
   ]
  },
  {
   "cell_type": "markdown",
   "id": "ee3e391e-6207-4876-a2ec-1e7a9189f95d",
   "metadata": {},
   "source": [
    "## 1.1 Load and display first Iris rows "
   ]
  },
  {
   "cell_type": "code",
   "execution_count": null,
   "id": "6b1c3b9c-4a11-472b-8e84-35b9629d6d77",
   "metadata": {},
   "outputs": [],
   "source": [
    "# Descriptive statistics using the iris dataset --------------------------------------------------\n",
    "data(iris)                                  # Load the iris dataset\n",
    "head(iris)                                  # Display the first rows of the dataset"
   ]
  },
  {
   "cell_type": "markdown",
   "id": "f88a5ae7-8aed-4e2d-ad17-0313662f4aa7",
   "metadata": {},
   "source": [
    "## 1.2 Summary statistics for versicolor species"
   ]
  },
  {
   "cell_type": "code",
   "execution_count": null,
   "id": "2ac42185-779f-42ac-bcab-30ad05577a9c",
   "metadata": {},
   "outputs": [],
   "source": [
    "head(iris[iris$Species == \"versicolor\", ])"
   ]
  },
  {
   "cell_type": "code",
   "execution_count": null,
   "id": "a49b873d-a99f-4dca-8965-4d6ff428a620",
   "metadata": {},
   "outputs": [],
   "source": [
    "summary(iris[iris$Species == \"versicolor\", ])  # Summary statistics for versicolor species"
   ]
  },
  {
   "cell_type": "markdown",
   "id": "871de0e7-db54-4529-a4d4-d4af4b5885dc",
   "metadata": {},
   "source": [
    "## 1.3 Mean, standard deviation, median of specific columns (for all species)"
   ]
  },
  {
   "cell_type": "code",
   "execution_count": null,
   "id": "aa0bbb89-ee41-47a3-8cb8-c948204a5648",
   "metadata": {},
   "outputs": [],
   "source": [
    "mean(iris$Sepal.Length)                      # Calculate mean of Sepal.Length (all species)\n",
    "sd(iris$Sepal.Length)                        # Calculate standard deviation of Sepal.Length (all species)\n",
    "median(iris$Petal.Width)                     # Calculate median of Petal.Width (all species)"
   ]
  },
  {
   "cell_type": "markdown",
   "id": "2b2a46f5-2f1f-4fa6-b64c-84ef7fb23b4f",
   "metadata": {},
   "source": [
    "## 1.4 Mean, median, variance of specific columns for a specific species"
   ]
  },
  {
   "cell_type": "code",
   "execution_count": null,
   "id": "3d8d63e8-e390-4d87-b526-514c2a22a98b",
   "metadata": {},
   "outputs": [],
   "source": [
    "mean(iris$Sepal.Length[iris$Species == \"virginica\"])     # Mean of Sepal.Length for virginica\n",
    "median(iris$Sepal.Length[iris$Species == \"virginica\"]) # Median of Sepal.Length for virginica\n",
    "var(iris$Sepal.Length[iris$Species == \"virginica\"])       # Variance of Sepal.Length for virginica"
   ]
  },
  {
   "cell_type": "markdown",
   "id": "13abe2f4-a158-40ca-8f8c-72608fba925c",
   "metadata": {},
   "source": [
    "## 1.5 Display statistics for the Iris dataframe"
   ]
  },
  {
   "cell_type": "code",
   "execution_count": null,
   "id": "840a3424-684a-47de-8ec4-6a1bd3997727",
   "metadata": {},
   "outputs": [],
   "source": [
    "# Compute descriptive statistics for the iris dataset\n",
    "stat.desc(iris)"
   ]
  },
  {
   "cell_type": "markdown",
   "id": "76f6005d-73d2-41d1-a274-92defccbc8d2",
   "metadata": {},
   "source": [
    "## 1.6 Display descriptive statistics by species\n"
   ]
  },
  {
   "cell_type": "code",
   "execution_count": null,
   "id": "64f22fda-5433-4e22-be6c-58a31c979b87",
   "metadata": {},
   "outputs": [],
   "source": [
    "attach(iris) # Attach the iris dataset to access columns directly by name\n",
    "describeBy(iris, group=Species) # Compute descriptive statistics for each species group in the iris dataset\n",
    "describeBy(iris, group=Species)[3] # Computes descriptive statistics for each group defined by the Species variable in the iris data frame, then extracts the 3rd element of the resulting list (corresponding to the stats for the 3rd group, \"virginica\").\n",
    "detach(iris)\n"
   ]
  },
  {
   "cell_type": "markdown",
   "id": "03bcc016-da08-4071-b6f0-d01673918a59",
   "metadata": {
    "jp-MarkdownHeadingCollapsed": true
   },
   "source": [
    "# Distribution of abundance (doubs) "
   ]
  },
  {
   "cell_type": "code",
   "execution_count": null,
   "id": "940e3cce-779b-494b-bf70-373950ac4b25",
   "metadata": {},
   "outputs": [],
   "source": [
    "  load(\"Doubs.RData\")  "
   ]
  },
  {
   "cell_type": "markdown",
   "id": "81afd2f4-9aef-4d69-b8b4-19f38db4a34b",
   "metadata": {},
   "source": [
    "## 1.1 Get the overall minimum and maximum abundance values in the dataset `spe`"
   ]
  },
  {
   "cell_type": "code",
   "execution_count": null,
   "id": "aa2c8b63-dccc-4f8e-8f29-cb8bf6647352",
   "metadata": {},
   "outputs": [],
   "source": [
    "# Minimum and maximum of abundance values in the whole data set\n",
    "range(spe)"
   ]
  },
  {
   "cell_type": "markdown",
   "id": "5f287c58-493b-4433-9d23-a3635378a02f",
   "metadata": {},
   "source": [
    "## 1.2 Get the Minimum and maximum abundance for each species (by column) in the dataset `spe`"
   ]
  },
  {
   "cell_type": "code",
   "execution_count": null,
   "id": "addeabb5-09e1-40d6-ae8e-0d6ccdfa047b",
   "metadata": {},
   "outputs": [],
   "source": [
    "# Apply the function `range` to each column (species) of the dataset `spe`.\n",
    "apply(spe, 2, range)"
   ]
  },
  {
   "cell_type": "markdown",
   "id": "f093279c-31a6-4ee7-b0d2-f421a52965ab",
   "metadata": {},
   "source": [
    "## 1.3 Count the frequency of each abundance value in the whole dataset `spe`"
   ]
  },
  {
   "cell_type": "markdown",
   "id": "189c42d5-189a-43b6-b312-fe89e0a252b8",
   "metadata": {},
   "source": [
    "- *`unlist(spe)` converts the data frame `spe` into a single vector of all abundance values.*  \n",
    "- *`table()` then counts how many times each unique abundance value appears.*  \n",
    "- *`freq` stores the frequency table showing the number of occurrences per abundance class.*"
   ]
  },
  {
   "cell_type": "code",
   "execution_count": null,
   "id": "9a7e7f08-f99a-489c-868b-88962f9d42df",
   "metadata": {},
   "outputs": [],
   "source": [
    "# unlist(spe) converts the data frame spe into a single vector of all abundance values.\n",
    "# table() then counts how many times each unique abundance value appears.\n",
    "freq <- table(unlist(spe))\n",
    "\n",
    "# Display the frequency table showing how many times each abundance value occurs\n",
    "freq\n"
   ]
  },
  {
   "cell_type": "markdown",
   "id": "b940fbec-20c7-4d9a-89db-f3d3b597d4fa",
   "metadata": {
    "execution": {
     "iopub.execute_input": "2025-06-18T20:04:05.020481Z",
     "iopub.status.busy": "2025-06-18T20:04:05.016145Z",
     "iopub.status.idle": "2025-06-18T20:04:05.041752Z",
     "shell.execute_reply": "2025-06-18T20:04:05.038553Z"
    }
   },
   "source": [
    "## 1.4 Barplot of the frequency of abundance"
   ]
  },
  {
   "cell_type": "code",
   "execution_count": null,
   "id": "a3614680-3391-47eb-a163-7f822a464905",
   "metadata": {},
   "outputs": [],
   "source": [
    "# Create a barplot showing the frequency of each abundance\n",
    "barplot(freq, \n",
    "        las = 1,                     # Horizontal axis labels\n",
    "        xlab = \"Abundance class\",   # Label for x-axis\n",
    "        ylab = \"Frequency\",         # Label for y-axis\n",
    "        col = gray(5 : 0 / 5),      # Shades of gray for bars\n",
    "        horiz = FALSE               # Vertical bars\n",
    ")"
   ]
  },
  {
   "cell_type": "markdown",
   "id": "33aad7db-3367-4d8f-9f21-cc527bab75b7",
   "metadata": {
    "execution": {
     "iopub.execute_input": "2025-06-18T20:05:29.785338Z",
     "iopub.status.busy": "2025-06-18T20:05:29.781361Z",
     "iopub.status.idle": "2025-06-18T20:05:29.806339Z",
     "shell.execute_reply": "2025-06-18T20:05:29.804211Z"
    }
   },
   "source": [
    "## 1.5 Number of absences (zero values) in the data frame"
   ]
  },
  {
   "cell_type": "code",
   "execution_count": null,
   "id": "a2ccfcd8-c1d4-494f-b403-135fdae36257",
   "metadata": {},
   "outputs": [],
   "source": [
    "# Number of absences\n",
    "head(spe==0)\n",
    "sum(spe == 0)"
   ]
  },
  {
   "cell_type": "markdown",
   "id": "e047a356-3416-401e-b524-2ebbd347f33f",
   "metadata": {},
   "source": [
    "## 1.6 Calculates the ratio of zero values to the total number of elements in the spe data frame"
   ]
  },
  {
   "cell_type": "code",
   "execution_count": null,
   "id": "8d6f1721-de4a-4f45-8774-1cf82b9ccf0b",
   "metadata": {},
   "outputs": [],
   "source": [
    "# Proportion of zeros in the community data set\n",
    "sum(spe == 0) / (nrow(spe) * ncol(spe))"
   ]
  },
  {
   "cell_type": "markdown",
   "id": "68ae2e13-87b0-458c-8fdd-a44e4537bcdd",
   "metadata": {},
   "source": [
    "## 1.7 Matrix visualization of species abundance"
   ]
  },
  {
   "cell_type": "code",
   "execution_count": null,
   "id": "48d04713-4794-4820-8e8b-4582dec76cf9",
   "metadata": {},
   "outputs": [],
   "source": [
    "# matrix visualization\n",
    "heatmap.2(as.matrix(spe), dendrogram = \"none\", trace=\"none\")"
   ]
  },
  {
   "cell_type": "markdown",
   "id": "40b439b2-7ff8-44a6-8782-ddbe898435cd",
   "metadata": {
    "jp-MarkdownHeadingCollapsed": true
   },
   "source": [
    "# Map of the locations of the site"
   ]
  },
  {
   "cell_type": "code",
   "execution_count": null,
   "id": "dad7d7a1-ff69-469c-be57-5c6192501e38",
   "metadata": {},
   "outputs": [],
   "source": [
    "# Geographic coordinates x and y from the spa data frame\n",
    "plot(spa, \n",
    "     asp = 1,            # Set aspect ratio to 1 for equal scaling of axes\n",
    "     type = \"n\",         # Create an empty plot frame without plotting points\n",
    "     main = \"Site Locations\",  # Main title of the plot\n",
    "     xlab = \"x coordinate (km)\",  # Label for x-axis\n",
    "     ylab = \"y coordinate (km)\"   # Label for y-axis\n",
    ")\n",
    "# Add a blue line connecting the sites along the Doubs River\n",
    "lines(spa, col = \"blue\", lwd=3)  # Draw line connecting points in spa, blue color, line width 3\n",
    "\n",
    "# Add the site labels at the corresponding coordinates\n",
    "text(spa, row.names(spa), cex = 1, col = \"red\")  # Add red text labels using row names of spa, text size 1\n",
    "\n",
    "# Add text blocks as annotations at fixed coordinates\n",
    "text(68, 20, \"Upstream\", cex = 1.2, col = \"red\")   # Place \"Upstream\" label at coordinates (68, 20), bigger red text\n",
    "text(15, 35, \"Downstream\", cex = 1.2, col = \"red\") # Place \"Downstream\" label at coordinates (15, 35), bigger red text"
   ]
  },
  {
   "cell_type": "markdown",
   "id": "4d0673c0-fb8d-4d27-8e88-d6470cb77eb2",
   "metadata": {
    "jp-MarkdownHeadingCollapsed": true
   },
   "source": [
    "# Maps of some fish species "
   ]
  },
  {
   "cell_type": "code",
   "execution_count": null,
   "id": "c04e79c1-c095-4fdc-a994-4574ddf34a24",
   "metadata": {},
   "outputs": [],
   "source": [
    "# Divide the plot window into 4 frames, 2 per row\n",
    "par(mfrow = c(2,2))\n",
    "\n",
    "# Plot 1: Brown trout\n",
    "plot(spa, \n",
    "     asp = 1,            # Set aspect ratio to 1 (equal scaling on x and y axes)\n",
    "     cex.axis = 0.8,     # Scale axis annotation size to 80%\n",
    "     col = \"brown\",      # Points colored brown\n",
    "     cex = spe$Satr,     # Size of points proportional to spe$Satr values (Brown trout abundance)\n",
    "     main = \"Brown trout\",  # Main title of the plot\n",
    "     xlab = \"x coordinate (km)\",  # Label for x-axis\n",
    "     ylab = \"y coordinate (km)\"   # Label for y-axis\n",
    ")\n",
    "lines(spa, col = \"light blue\", lwd=3)  # Add light blue line connecting points, width=3\n",
    "\n",
    "# Plot 2: Grayling\n",
    "plot(spa, \n",
    "     asp = 1, \n",
    "     cex.axis = 0.8, \n",
    "     col = \"brown\", \n",
    "     cex = spe$Thth,     # Size proportional to spe$Thth (Grayling abundance)\n",
    "     main = \"Grayling\", \n",
    "     xlab = \"x coordinate (km)\", \n",
    "     ylab = \"y coordinate (km)\"\n",
    ")\n",
    "lines(spa, col = \"light blue\", lwd=3)\n",
    "\n",
    "# Plot 3: Barbel\n",
    "plot(spa, \n",
    "     asp = 1, \n",
    "     cex.axis = 0.8, \n",
    "     col = \"brown\", \n",
    "     cex = spe$Baba,     # Size proportional to spe$Baba (Barbel abundance)\n",
    "     main = \"Barbel\", \n",
    "     xlab = \"x coordinate (km)\", \n",
    "     ylab = \"y coordinate (km)\"\n",
    ")\n",
    "lines(spa, col = \"light blue\", lwd=3)\n",
    "\n",
    "# Plot 4: Common bream\n",
    "plot(spa, \n",
    "     asp = 1, \n",
    "     cex.axis = 0.8, \n",
    "     col = \"brown\", \n",
    "     cex = spe$Abbr,     # Size proportional to spe$Abbr (Common bream abundance)\n",
    "     main = \"Common bream\", \n",
    "     xlab = \"x coordinate (km)\", \n",
    "     ylab = \"y coordinate (km)\"\n",
    ")\n",
    "lines(spa, col = \"light blue\", lwd=3)\n"
   ]
  },
  {
   "cell_type": "markdown",
   "id": "de63152b-b6c5-4f57-992e-8ab1da7ef73b",
   "metadata": {
    "jp-MarkdownHeadingCollapsed": true
   },
   "source": [
    "# Compare species: number of occurrences"
   ]
  },
  {
   "cell_type": "markdown",
   "id": "36f09095-9922-4b5f-b6b6-04781e1c9545",
   "metadata": {},
   "source": [
    "## 1.1 Count number of sites where each species are present"
   ]
  },
  {
   "cell_type": "code",
   "execution_count": null,
   "id": "e7da1a8f-c985-419a-acbb-da02401fea1b",
   "metadata": {},
   "outputs": [],
   "source": [
    "# Compute the number of sites where each species is present\n",
    "# for each species (columns) and each site (rows)\n",
    "spe.pres <- apply(spe > 0,   # Logical matrix: TRUE if abundance > 0, FALSE otherwise\n",
    "                  2,         # Apply function over columns (species)\n",
    "                  sum)       # Count number of TRUE values (sites where species is present)\n",
    "\n",
    "# Sort the vector 'spe.pres' in increasing order\n",
    "# This arranges species by the number of sites where they are present, from fewest to most\n",
    "sort(spe.pres)"
   ]
  },
  {
   "cell_type": "markdown",
   "id": "60191080-e39c-4ef1-8f9f-a7eb26f87e28",
   "metadata": {
    "execution": {
     "iopub.execute_input": "2025-06-18T21:49:47.865516Z",
     "iopub.status.busy": "2025-06-18T21:49:47.859805Z",
     "iopub.status.idle": "2025-06-18T21:49:47.883591Z",
     "shell.execute_reply": "2025-06-18T21:49:47.881206Z"
    }
   },
   "source": [
    "## 1.2 Calculate the percentage of sites where each species is present"
   ]
  },
  {
   "cell_type": "code",
   "execution_count": null,
   "id": "a576edc1-76d0-4e72-9d07-ccb88474a18a",
   "metadata": {},
   "outputs": [],
   "source": [
    "# Calculate the percentage of sites where each species is present\n",
    "# spe.pres = number of sites with presence for each species\n",
    "# nrow(spe) = total number of sites (rows)\n",
    "# Multiply by 100 to get percentage values\n",
    "spe.relf <- 100 * spe.pres / nrow(spe)\n",
    "# Round the sorted output to 1 digit\n",
    "round(sort(spe.relf), 1)"
   ]
  },
  {
   "cell_type": "markdown",
   "id": "c687a13b-8eb3-413a-83bb-232b8a6baec7",
   "metadata": {
    "execution": {
     "iopub.execute_input": "2025-06-18T21:35:38.023648Z",
     "iopub.status.busy": "2025-06-18T21:35:38.019208Z",
     "iopub.status.idle": "2025-06-18T21:35:38.043703Z",
     "shell.execute_reply": "2025-06-18T21:35:38.041332Z"
    }
   },
   "source": [
    "## 1.3 Plot histograms"
   ]
  },
  {
   "cell_type": "code",
   "execution_count": null,
   "id": "5ff95aa6-79b5-40f3-95c1-4225bb862c35",
   "metadata": {},
   "outputs": [],
   "source": [
    "# Set the plotting window to have 1 row and 2 columns (side-by-side plots)\n",
    "par(mfrow = c(1, 2)) \n",
    "\n",
    "# Histogram of the absolute number of sites each species occurs in\n",
    "hist(spe.pres, \n",
    "     main = \"Species Occurrences\",        # Title of the histogram\n",
    "     right = FALSE,                       # Intervals are left-closed, right-open\n",
    "     las = 1,                            # Make axis labels horizontal\n",
    "     xlab = \"Number of occurrences\",     # Label for x-axis\n",
    "     ylab = \"Number of species\",         # Label for y-axis\n",
    "     breaks = seq(0, 30, by = 5),        # Define breakpoints for histogram bins\n",
    "     col = \"bisque\"                      # Color of the bars\n",
    ")\n",
    "\n",
    "# Histogram of the percentage frequency of occurrences per species\n",
    "hist(spe.relf, \n",
    "     main = \"Species Relative Frequencies\", # Title of the histogram\n",
    "     right = FALSE,                          # Intervals are left-closed, right-open\n",
    "     las = 1,                               # Make axis labels horizontal\n",
    "     xlab = \"Frequency of occurrences (%)\",# Label for x-axis\n",
    "     ylab = \"Number of species\",            # Label for y-axis\n",
    "     breaks = seq(0, 100, by = 10),         # Define breakpoints for histogram bins\n",
    "     col = \"bisque\"                         # Color of the bars\n",
    ")\n"
   ]
  },
  {
   "cell_type": "markdown",
   "id": "065c8d75-7a82-4e45-ade1-2a06c83b0d02",
   "metadata": {
    "jp-MarkdownHeadingCollapsed": true
   },
   "source": [
    "# Compare sites: species richness"
   ]
  },
  {
   "cell_type": "markdown",
   "id": "7eceb8a8-227f-4268-b62a-98b56d9f2a82",
   "metadata": {},
   "source": [
    "## 1.1 Compute the number of species at each site"
   ]
  },
  {
   "cell_type": "code",
   "execution_count": null,
   "id": "acf553e8-a5a2-4a6e-aa03-55629f6a25ca",
   "metadata": {},
   "outputs": [],
   "source": [
    "# Compute the number of species present at each site\n",
    "# For each site (rows), count how many species (columns) have abundance > 0\n",
    "sit.pres <- apply(spe > 0,    # Logical matrix: TRUE if abundance > 0, FALSE otherwise\n",
    "                  1,          # Apply function over rows (sites)\n",
    "                  sum)        # Count number of TRUE values (species present at the site)\n",
    "\n",
    "# Sort the vector 'sit.pres' in increasing order\n",
    "# This arranges sites by the number of species present, from fewest to most\n",
    "sort(sit.pres)\n"
   ]
  },
  {
   "cell_type": "markdown",
   "id": "48c09ad4-aed6-4f4f-9348-8aa7b442852c",
   "metadata": {},
   "source": [
    "## 1.2 Species Richness Visualization: Step Plot Along Gradient and Geographic Bubble Map"
   ]
  },
  {
   "cell_type": "code",
   "execution_count": null,
   "id": "bd469619-983b-4a44-ba0c-12a029bbd474",
   "metadata": {},
   "outputs": [],
   "source": [
    "par(mfrow = c(1, 2)) \n",
    "# Divide the plotting window into 1 row and 2 columns (2 plots side by side)\n",
    "\n",
    "# Plot species richness (number of species per site) versus site number\n",
    "plot(sit.pres, type = \"s\",           # type=\"s\" draws a step plot (stairs)\n",
    "     las = 1,                       # axis labels are horizontal\n",
    "     col = \"blue\",                  # line color is blue\n",
    "     main = \"Species Richness vs. \\n Upstream-Downstream Gradient\",  # plot title with line break\n",
    "     xlab = \"Site numbers\",         # x-axis label\n",
    "     ylab = \"Species richness\"      # y-axis label\n",
    ")\n",
    "text(sit.pres, row.names(spe), cex = .8, col = \"red\")  \n",
    "# Add site labels at points, in red color and smaller size\n",
    "\n",
    "# Plot a bubble map of species richness using geographic coordinates\n",
    "plot(spa, \n",
    "     asp = 1,                       # aspect ratio 1:1 so distances are proportional\n",
    "     main = \"Map of Species Richness\", \n",
    "     pch = 21,                     # plotting symbol: filled circle with border\n",
    "     col = \"white\",                # border color white\n",
    "     bg = \"brown\",                 # fill color brown\n",
    "     cex = 5 * sit.pres / max(sit.pres),  # size of bubbles proportional to species richness scaled by max value\n",
    "     xlab = \"x coordinate (km)\", \n",
    "     ylab = \"y coordinate (km)\"\n",
    ")\n",
    "lines(spa, col = \"light blue\", lwd=3)  \n",
    "# Draw a light blue line connecting the points in spa with thickness 3\n"
   ]
  },
  {
   "cell_type": "markdown",
   "id": "c00c592d-3225-4c31-9c4b-13de6ea46a66",
   "metadata": {
    "jp-MarkdownHeadingCollapsed": true
   },
   "source": [
    "# Calculate and display different alpha-diversity indices using the vegan R package!"
   ]
  },
  {
   "cell_type": "markdown",
   "id": "c3de5397-2821-4cac-b3ae-b0112e532692",
   "metadata": {},
   "source": [
    "## 1.1 Environmental Data "
   ]
  },
  {
   "cell_type": "code",
   "execution_count": null,
   "id": "953d0659-41f5-4499-90aa-b8e2e9bcd673",
   "metadata": {},
   "outputs": [],
   "source": [
    "# Divide the plotting window into a 2 by 2 grid (4 plots)\n",
    "par(mfrow = c(2, 2))  \n",
    "\n",
    "\n",
    "# Scatter plot of elevation vs. distance from the source\n",
    "plot(env$dfs, env$ele,\n",
    "     xlab = \"Distance from the source (km)\",  # Label x-axis\n",
    "     ylab = \"Elevation (m)\",                   # Label y-axis\n",
    "     pch = 16,                                # Use solid circles as plotting symbols\n",
    "     col = \"red\",                             # Color points red\n",
    "     main = \"Elevation\"                       # Title of the plot\n",
    ")\n",
    "\n",
    "# Line plot of water discharge vs. distance from the source\n",
    "plot(env$dfs, env$dis, \n",
    "     type = \"l\",                             # Line plot\n",
    "     xlab = \"Distance from the source (km)\",# Label x-axis\n",
    "     ylab = \"Discharge (m3/s)\",              # Label y-axis\n",
    "     col = \"blue\",                           # Line color blue\n",
    "     main = \"Discharge\",                     # Title of the plot\n",
    "     lwd = 2                                # Line width set to 2 for thickness\n",
    ")\n",
    "\n",
    "\n",
    "# Plot nitrate concentration vs. distance with points and lines\n",
    "plot(env$dfs, env$nit, \n",
    "     type = \"o\",                             # Overplotted points and lines\n",
    "     xlab = \"Distance from the source (km)\",# Label x-axis\n",
    "     ylab = \"Nitrate (mg/L)\",                # Label y-axis\n",
    "     col = \"brown\",                         # Color brown\n",
    "     main = \"Nitrate\"                       # Title of the plot\n",
    ")\n",
    "\n",
    "\n",
    "# Plot oxygen concentration vs. distance with point size proportional to nitrate concentration\n",
    "plot(env$dfs, env$oxy, \n",
    "     type = \"b\",                            # Both points and lines, connected\n",
    "     xlab = \"Distance from the source (km)\",# Label x-axis\n",
    "     ylab = \"Oxygen (mg/L)\",                # Label y-axis\n",
    "     col = \"green3\",                       # Color green3 for points and lines\n",
    "     main = \"Oxygen\",                      # Title of the plot\n",
    "     cex = env$nit                        # Size of points scaled by nitrate concentration\n",
    ")"
   ]
  },
  {
   "cell_type": "markdown",
   "id": "3ebeea02-95ce-4b4a-99f8-e80d24c1dbc1",
   "metadata": {},
   "source": [
    "## 1.2 relationship between Nitrate and Oxygen"
   ]
  },
  {
   "cell_type": "code",
   "execution_count": null,
   "id": "9601b620-c40c-4752-a8a0-444d0d92001c",
   "metadata": {},
   "outputs": [],
   "source": [
    "# Reset plotting window to a single plot (1 row, 1 column)\n",
    "par(mfrow=c(1,1))  \n",
    "\n",
    "\n",
    "# Scatter plot of oxygen concentration vs. nitrate concentration\n",
    "plot(env$oxy ~ env$nit,  \n",
    "     pch = 16,                        # Use solid circles for points\n",
    "     xlab = \"Nitrate (mg/L)\",         # Label x-axis\n",
    "     ylab = \"Oxygen (mg/L)\"           # Label y-axis\n",
    ")"
   ]
  },
  {
   "cell_type": "markdown",
   "id": "8d242be2-5e2e-4c50-b0e1-da7d947a6b3c",
   "metadata": {
    "execution": {
     "iopub.execute_input": "2025-06-18T22:13:42.254265Z",
     "iopub.status.busy": "2025-06-18T22:13:42.249618Z",
     "iopub.status.idle": "2025-06-18T22:13:42.277685Z",
     "shell.execute_reply": "2025-06-18T22:13:42.274786Z"
    }
   },
   "source": [
    "## 1.3 Fit a linear regression model predicting oxygen from nitrate"
   ]
  },
  {
   "cell_type": "code",
   "execution_count": null,
   "id": "673f33bd-bf07-4156-b944-aaf8c0cc1846",
   "metadata": {},
   "outputs": [],
   "source": [
    "# Fit a linear regression model predicting oxygen from nitrate\n",
    "mod <- lm(env$oxy ~ env$nit)  \n",
    "\n",
    "# Display summary statistics of the linear model (coefficients, R², p-values, etc.)\n",
    "summary(mod)  "
   ]
  },
  {
   "cell_type": "markdown",
   "id": "88943b81-b4c9-4842-8b32-7006a6c051df",
   "metadata": {
    "execution": {
     "iopub.execute_input": "2025-06-18T22:14:48.889708Z",
     "iopub.status.busy": "2025-06-18T22:14:48.884127Z",
     "iopub.status.idle": "2025-06-18T22:14:48.921998Z",
     "shell.execute_reply": "2025-06-18T22:14:48.917527Z"
    }
   },
   "source": [
    "## 1.4 Add the linear regression model to the graph"
   ]
  },
  {
   "cell_type": "code",
   "execution_count": null,
   "id": "b374f823-edf1-437f-a9d5-bb5dbccb37b0",
   "metadata": {},
   "outputs": [],
   "source": [
    "# Reset plotting window to a single plot (1 row, 1 column)\n",
    "par(mfrow=c(1,1))  \n",
    "\n",
    "\n",
    "# Scatter plot of oxygen concentration vs. nitrate concentration\n",
    "plot(env$oxy ~ env$nit,  \n",
    "     pch = 16,                        # Use solid circles for points\n",
    "     xlab = \"Nitrate (mg/L)\",         # Label x-axis\n",
    "     ylab = \"Oxygen (mg/L)\"           # Label y-axis\n",
    ")\n",
    "\n",
    "# Add the regression line to the plot with line width 2 and dashed line style (type 3)\n",
    "abline(mod, # Add the regression line from the model to the plot\n",
    "       lwd = 2,   # Line width = 2 (thicker line for visibility)\n",
    "       lty = 3)   # Line type = 3 (dashed line to distinguish it from data points)\n"
   ]
  },
  {
   "cell_type": "markdown",
   "id": "19d64375-190b-40ec-99ea-1cbc07ff3840",
   "metadata": {},
   "source": [
    "## 1.5 radar plots"
   ]
  },
  {
   "cell_type": "markdown",
   "id": "f2354dcc-2dfe-448e-9d13-64d5c5d198fc",
   "metadata": {},
   "source": [
    "### 1.5.1 Setting Fixed Min/Max Reference for Environmental Radar Charts"
   ]
  },
  {
   "cell_type": "code",
   "execution_count": null,
   "id": "9e881cb8-cc72-410d-912a-9660c589ae6f",
   "metadata": {},
   "outputs": [],
   "source": [
    "# Create a data frame with max and min values for environmental variables\n",
    "max_min <- data.frame(\n",
    "  dfs = c(450, 0),      # Distance from source (max, min)\n",
    "  ele = c(1000, 150),   # Elevation\n",
    "  slo = c(50, 0),       # Slope\n",
    "  dis = c(70, 0),       # Discharge\n",
    "  pH  = c(9, 6),        # pH\n",
    "  har = c(120, 20))     # Hardness\n",
    "rownames(max_min) <- c(\"Max\", \"Min\")\n",
    "max_min"
   ]
  },
  {
   "cell_type": "markdown",
   "id": "de8ba388-90db-4619-8e91-68475e7c0e13",
   "metadata": {},
   "source": [
    "### 1.5.2 Overview of the Environmental Data (`env`)"
   ]
  },
  {
   "cell_type": "code",
   "execution_count": null,
   "id": "5f205e58-1619-4803-b9f8-06591351fa9a",
   "metadata": {},
   "outputs": [],
   "source": [
    "head(env)"
   ]
  },
  {
   "cell_type": "markdown",
   "id": "538ae754-8c10-4016-8d70-d2fd5cfbc70e",
   "metadata": {
    "execution": {
     "iopub.execute_input": "2025-06-18T22:34:34.339378Z",
     "iopub.status.busy": "2025-06-18T22:34:34.334455Z",
     "iopub.status.idle": "2025-06-18T22:34:34.360494Z",
     "shell.execute_reply": "2025-06-18T22:34:34.357984Z"
    }
   },
   "source": [
    "## 1.5.3 Adding dataframe of min and max values above the real environmental data (`env`) -> *(`env2`)*"
   ]
  },
  {
   "cell_type": "code",
   "execution_count": null,
   "id": "9ded980c-9de7-416b-b416-18a5ea188f43",
   "metadata": {},
   "outputs": [],
   "source": [
    "# Add the real environmental data (first 6 columns) below max/min\n",
    "env2 <- rbind(max_min, env[, 1:6])\n",
    "head(env2)  # Show the new data frame with max, min, and actual data"
   ]
  },
  {
   "cell_type": "markdown",
   "id": "2c82a015-bdfb-45f0-a970-334b1dc87359",
   "metadata": {},
   "source": [
    "### 1.5.4 Prepare Data for Radar Chart of a Single Site"
   ]
  },
  {
   "cell_type": "code",
   "execution_count": null,
   "id": "7d8725bb-a3a3-4d3e-89a1-000f5e1c712d",
   "metadata": {},
   "outputs": [],
   "source": [
    "# Select 3 rows: Max, Min, and site 4 (site 4 is in row 6 of env2)\n",
    "sample4 <- env2[c(1, 2, 6),]\n",
    "sample4"
   ]
  },
  {
   "cell_type": "markdown",
   "id": "cf2bfbbc-6929-4731-8630-3cafbbff7749",
   "metadata": {},
   "source": [
    "### 1.5.5 Plot radar chart for a single site (site 4) with Max and Min as scale"
   ]
  },
  {
   "cell_type": "code",
   "execution_count": null,
   "id": "68eb9957-ecfb-4cc2-8272-4d18b26fc856",
   "metadata": {},
   "outputs": [],
   "source": [
    "library(fmsb)"
   ]
  },
  {
   "cell_type": "code",
   "execution_count": null,
   "id": "b3213453-419e-494f-bbdf-2fc9578edaac",
   "metadata": {},
   "outputs": [],
   "source": [
    "# Plot radar chart for a single site (site 4) with Max and Min as scale\n",
    "radarchart(sample4)"
   ]
  },
  {
   "cell_type": "markdown",
   "id": "fb69240d-8cd8-49ea-9de8-6c200d246684",
   "metadata": {},
   "source": [
    "### 1.5.6 Plot radar chart for 4 sites with Max and Min as scale"
   ]
  },
  {
   "cell_type": "code",
   "execution_count": null,
   "id": "0ecae1c1-476b-4a34-b9fe-d8849d94a90e",
   "metadata": {},
   "outputs": [],
   "source": [
    "# Adjust plot margins for next radar chart (bottom = 1, left=2, top=2, right=2)\n",
    "par(mar = c(1, 2, 2, 2))\n",
    "\n",
    "# Radar chart for the first 4 sites, scaled by Max/Min\n",
    "# env2[1:6,] includes rows for Max, Min, and the first 4 sites (rows 3 to 6)\n",
    "radarchart(env2[1:6,]) \n",
    "\n",
    "# Add legend for the 4 sites (excluding Max and Min)\n",
    "legend(x = \"bottomright\", # Position the legend at the bottom right corner\n",
    "       legend = rownames(env2[3:6,]),  # Site names\n",
    "       horiz = TRUE,                   # Arrange legend items horizontally\n",
    "       bty = \"n\",                      # No box around legend\n",
    "       pch = 20,                       # Solid circle symbol\n",
    "       col = 1:4,                      # Colors for the 4 sites\n",
    "       title = \"sites\")                # Add the title \"sites\" above the legend"
   ]
  },
  {
   "cell_type": "markdown",
   "id": "5e3a3d9b-ea0e-4386-8890-11902f9fb6f1",
   "metadata": {},
   "source": [
    "## 2 Scatter plots for all pairs of environmental variables"
   ]
  },
  {
   "cell_type": "markdown",
   "id": "ca831518-746c-48fc-88e6-33afce4410b3",
   "metadata": {},
   "source": [
    "### 2.1 scatterplot matrix for all variables in `env`"
   ]
  },
  {
   "cell_type": "code",
   "execution_count": null,
   "id": "f1dc1849-d5df-4db2-88e7-1a25e067c0ef",
   "metadata": {},
   "outputs": [],
   "source": [
    "# Creates a scatterplot matrix for all variables in 'env' (data frame or matrix).\n",
    "# Each panel shows a scatterplot between two different variables in 'env'.\n",
    "pairs(env)"
   ]
  },
  {
   "cell_type": "markdown",
   "id": "3751457d-d4fc-4bed-ae04-600b62e93982",
   "metadata": {},
   "source": [
    "## 2.2 scatterplot matrix for only the first 5 variables in `env`"
   ]
  },
  {
   "cell_type": "code",
   "execution_count": null,
   "id": "3d73a841-c130-4c52-b59c-5a9fc1f3b6cd",
   "metadata": {},
   "outputs": [],
   "source": [
    "# Creates a scatterplot matrix for only the first 5 columns (variables) of 'env'.\n",
    "# Useful to limit the display when there are many variables.\n",
    "pairs(env[1:5])\n"
   ]
  },
  {
   "cell_type": "markdown",
   "id": "339fec3f-3c39-463b-9da9-e2d3d3c51394",
   "metadata": {},
   "source": [
    "## 2.3 Custom Histogram Panel Function for Pairs Plot\n",
    "\n",
    "This function `panel.hist` is designed to draw a small histogram within a plot panel, typically used as the diagonal panel in pairs plots.\n",
    "\n",
    "- It saves the current plotting parameters to restore them later.\n",
    "- It adjusts the y-axis limits to fit the normalized histogram heights.\n",
    "- It computes the histogram of the given data without plotting it directly.\n",
    "- It normalizes the histogram counts to scale between 0 and 1.\n",
    "- It draws cyan-colored rectangles representing histogram bars in the current plotting area.\n",
    "\n",
    "This allows displaying compact histograms as part of larger multi-plot visualizations.\n"
   ]
  },
  {
   "cell_type": "code",
   "execution_count": null,
   "id": "64c518c6-0bb8-4eed-81b1-c7072b9702e0",
   "metadata": {},
   "outputs": [],
   "source": [
    "panel.hist <- function(x, ...) {\n",
    "  usr <- par(\"usr\")             # Save current plotting parameters (user coordinates)\n",
    "  on.exit(par(usr))             # Ensure to restore these parameters when function exits\n",
    "  \n",
    "  par(usr = c(usr[1:2], 0, 1.5)) # Set new y-axis limits from 0 to 1.5, keep x-axis limits unchanged\n",
    "  \n",
    "  h <- hist(x, plot = FALSE)    # Compute histogram data for x without plotting\n",
    "  \n",
    "  breaks <- h$breaks            # Extract histogram bin boundaries\n",
    "  nB <- length(breaks)          # Get number of bin boundaries\n",
    "  \n",
    "  y <- h$counts                 # Extract counts for each bin\n",
    "  y <- y / max(y)               # Normalize counts to max = 1 for scaling\n",
    "  \n",
    "  rect(breaks[-nB], 0,         # Draw rectangles (bars) for histogram:\n",
    "       breaks[-1],             # from each bin start (except last) ...\n",
    "       y,                     # ... up to the normalized count height ...\n",
    "       col = \"cyan\", ...)      # ... fill color cyan, plus other graphical args\n",
    "}\n"
   ]
  },
  {
   "cell_type": "markdown",
   "id": "fc2e5276-5d26-4ff8-8472-191cc9b3a785",
   "metadata": {},
   "source": [
    "## 2.4 Custom Correlation Panel Function for Pairs Plot\n",
    "\n",
    "The `panel.cor` function displays the correlation coefficient between two variables in a plot panel, often used in the upper or lower panels of pairs plots.\n",
    "\n",
    "- It saves the current plotting parameters to restore them after execution.\n",
    "- It sets the coordinate system to a fixed 0-to-1 scale for both axes to position the text easily.\n",
    "- It computes the Pearson correlation coefficient between `x` and `y`, rounded to two decimals.\n",
    "- It creates a label text showing the correlation, e.g., \"R = 0.85\".\n",
    "- It adjusts the text size inversely proportional to the label width, scaled by the correlation value.\n",
    "- It draws the correlation text centered in the panel with the calculated size.\n",
    "\n",
    "This function helps visualize correlation strength compactly within scatterplot matrices.\n"
   ]
  },
  {
   "cell_type": "code",
   "execution_count": null,
   "id": "fc1f4df7-5930-4d02-860d-c55aa9fa6ee6",
   "metadata": {},
   "outputs": [],
   "source": [
    "panel.cor <- function(x, y) {\n",
    "  usr <- par(\"usr\")          # Save current plotting parameters (user coordinates)\n",
    "  on.exit(par(usr))          # Restore plotting parameters when function exits\n",
    "  \n",
    "  par(usr = c(0, 1, 0, 1))  # Set coordinate system to [0,1] for both axes for easy text placement\n",
    "  \n",
    "  r <- round(cor(x, y), 2)  # Calculate Pearson correlation coefficient, rounded to 2 decimals\n",
    "  \n",
    "  txt <- paste0(\"R = \", r)  # Create text label showing correlation, e.g., \"R = 0.85\"\n",
    "  \n",
    "  cex.cor <- 0.8 / strwidth(txt)  # Calculate character expansion factor based on text width to fit nicely\n",
    "  \n",
    "  text(0.5, 0.5, txt, cex = cex.cor * r)  # Draw text centered in plot panel, size scaled by correlation\n",
    "}\n"
   ]
  },
  {
   "cell_type": "markdown",
   "id": "10114982-806c-4d56-b6d5-b7072f63ab79",
   "metadata": {},
   "source": [
    "## 2.5 Custom Correlation Panel Function (Simplified) for Pairs Plot\n",
    "\n",
    "The `panel.cor2` function displays the Pearson correlation coefficient between two variables inside a plot panel, designed for use in pairs plots.\n",
    "\n",
    "- It saves the current graphical parameters to restore them after the function finishes.\n",
    "- It sets the coordinate system to a fixed range from 0 to 1 on both axes, allowing precise text placement.\n",
    "- It calculates the Pearson correlation coefficient between `x` and `y`, rounded to two decimal places.\n",
    "- It creates a text label showing the correlation coefficient, e.g., \"R = 0.92\".\n",
    "- It places this label at the center of the panel (0.5, 0.5) with a fixed large font size (`cex = 2`).\n",
    "\n",
    "This simplified function provides a clear and readable way to display correlation values within the upper or lower panels of scatterplot matrices.\n"
   ]
  },
  {
   "cell_type": "code",
   "execution_count": null,
   "id": "0cc1df3f-53aa-475c-91c1-2340dfd95b7e",
   "metadata": {},
   "outputs": [],
   "source": [
    "panel.cor2 <- function(x, y){\n",
    "  usr <- par(\"usr\")            # Save current plotting parameters (user coordinates)\n",
    "  on.exit(par(usr))            # Restore plotting parameters when function exits\n",
    "  par(usr = c(0, 1, 0, 1))    # Set user coordinates to [0,1] for x and y axes (normalized plot region)\n",
    "  \n",
    "  r <- round(cor(x, y), digits=2)        # Calculate correlation between x and y, rounded to 2 decimals\n",
    "  txt <- paste0(\"R = \", r)                # Create text string to display correlation coefficient\n",
    "  \n",
    "  text(0.5, 0.5, txt, cex = 2)           # Add the correlation text at center (0.5, 0.5) with font size 2\n",
    "}\n"
   ]
  },
  {
   "cell_type": "markdown",
   "id": "a93f1a9a-df8c-45c6-8595-fb11b8af8b97",
   "metadata": {},
   "source": [
    "## 2.6 Bivariate Plots with Histograms and Smooth Curves with correlation fontsize depending on its value"
   ]
  },
  {
   "cell_type": "code",
   "execution_count": null,
   "id": "7a001a69-cdc7-46c3-8418-66bf80b49e4a",
   "metadata": {},
   "outputs": [],
   "source": [
    "pairs(env[1:5],                    # Create pairwise scatterplots for the first 5 variables in 'env'\n",
    "      panel = panel.smooth,       # Use a smoothing curve (loess) in the lower panels\n",
    "      diag.panel = panel.hist,    # Use the custom histogram function on the diagonal panels\n",
    "      upper.panel = panel.cor,    # Use the custom correlation display function on the upper panels\n",
    "      cex.labels = 3,             # Set label size for variable names to 3 (larger)\n",
    "      main = \"Bivariate Plots with Histograms and Smooth Curves\"  # Title of the whole plot matrix\n",
    ")\n"
   ]
  },
  {
   "cell_type": "markdown",
   "id": "f22a608a-29d6-4f58-9e4f-d1bf9bbd03a7",
   "metadata": {},
   "source": [
    "## 2.7 Bivariate Plots with Histograms and Smooth Curves with correlation fontsize not depending on its value"
   ]
  },
  {
   "cell_type": "code",
   "execution_count": null,
   "id": "9e7804d6-2193-45cb-aefa-2be0453813fd",
   "metadata": {},
   "outputs": [],
   "source": [
    "pairs(env[1:5],                     # Create a pairs plot for the first 5 columns of the data frame 'env'\n",
    "      panel = panel.smooth,        # Use 'panel.smooth' function to draw scatter plots with smooth curves in the lower panels\n",
    "      diag.panel = panel.hist,     # Use 'panel.hist' function to draw histograms on the diagonal panels\n",
    "      upper.panel = panel.cor2,    # Use 'panel.cor2' function to display correlation coefficients in the upper panels\n",
    "      cex.labels = 3,              # Set the size of the variable labels (axis labels) to 3 (larger text)\n",
    "      main = \"Bivariate Plots with Histograms and Smooth Curves\"  # Set the main title of the plot\n",
    ")\n"
   ]
  },
  {
   "cell_type": "code",
   "execution_count": null,
   "id": "d3f6ce59-fdf8-4d2a-bd20-09c44a0dbf16",
   "metadata": {},
   "outputs": [],
   "source": []
  }
 ],
 "metadata": {
  "kernelspec": {
   "display_name": "R",
   "language": "R",
   "name": "ir"
  },
  "language_info": {
   "codemirror_mode": "r",
   "file_extension": ".r",
   "mimetype": "text/x-r-source",
   "name": "R",
   "pygments_lexer": "r",
   "version": "4.4.1"
  }
 },
 "nbformat": 4,
 "nbformat_minor": 5
}
